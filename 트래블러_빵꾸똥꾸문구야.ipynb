{
 "cells": [
  {
   "cell_type": "code",
   "execution_count": null,
   "id": "a7be3217-e5fe-47cd-a133-072c0dba96da",
   "metadata": {},
   "outputs": [
    {
     "name": "stdout",
     "output_type": "stream",
     "text": [
      "\n",
      "        .================ooooooo\n",
      " ___   ,'    \\_________________________________\n",
      "/   /-/       /                   ////////////  ''--..._\n",
      "\\___\\-\\       \\                   \\\\\\\\\\\\\\\\\\\\\\\\  __..--'\n",
      "       `--------------------------''''''''''''''\n",
      "\n",
      "╔════════════════════════════════════════╗\n",
      "             빵꾸똥꾸 문구야             \n",
      "         에 오신 것을 환영합니다!💥          \n",
      "╚════════════════════════════════════════╝\n",
      "번호\t\t제품명\t\t가격\n",
      "--------------------------------------------\n",
      "1\t\t샤프\t\t6,000원\n",
      "2\t\t볼펜\t\t3,000원\n",
      "3\t\t지우개\t\t1,000원\n",
      "4\t\t화이트\t\t3,000원\n",
      "5\t\t공책\t\t3,500원\n",
      "--------------------------------------------\n"
     ]
    },
    {
     "name": "stdin",
     "output_type": "stream",
     "text": [
      "주문하실 제품 번호를 선택하세요:  2\n"
     ]
    },
    {
     "name": "stdout",
     "output_type": "stream",
     "text": [
      "============================================\n",
      "          고객님이 선택하신 제품은          \n",
      "             볼펜 입니다.             \n",
      "           몇 개를 드릴까요?            \n"
     ]
    },
    {
     "name": "stdin",
     "output_type": "stream",
     "text": [
      "\t수량을 입력하세요(취소: x):  3\n",
      "더 주문하시겠습니까?(y/n): ㅛ\n"
     ]
    },
    {
     "name": "stdout",
     "output_type": "stream",
     "text": [
      "============================================\n",
      "         [알림]❌ 잘못된 입력입니다.          \n",
      "         [알림]✅ 다시 입력해주세요.          \n",
      "============================================\n"
     ]
    },
    {
     "name": "stdin",
     "output_type": "stream",
     "text": [
      "더 주문하시겠습니까?(y/n): 5\n"
     ]
    },
    {
     "name": "stdout",
     "output_type": "stream",
     "text": [
      "============================================\n",
      "         [알림]❌ 잘못된 입력입니다.          \n",
      "         [알림]✅ 다시 입력해주세요.          \n",
      "============================================\n"
     ]
    },
    {
     "name": "stdin",
     "output_type": "stream",
     "text": [
      "더 주문하시겠습니까?(y/n): y\n"
     ]
    },
    {
     "name": "stdout",
     "output_type": "stream",
     "text": [
      "--------------------------------------------\n"
     ]
    },
    {
     "name": "stdin",
     "output_type": "stream",
     "text": [
      "주문하실 제품 번호를 선택하세요:  3\n"
     ]
    },
    {
     "name": "stdout",
     "output_type": "stream",
     "text": [
      "============================================\n",
      "          고객님이 선택하신 제품은          \n",
      "            지우개 입니다.             \n",
      "           몇 개를 드릴까요?            \n"
     ]
    },
    {
     "name": "stdin",
     "output_type": "stream",
     "text": [
      "\t수량을 입력하세요(취소: x):  4\n",
      "더 주문하시겠습니까?(y/n): n\n"
     ]
    },
    {
     "name": "stdout",
     "output_type": "stream",
     "text": [
      "============================================\n",
      "\t\t주문 내역\n",
      "--------------------------------------------\n",
      "볼펜\t3개\t-\t9,000원\n",
      "지우개\t4개\t-\t4,000원\n",
      "--------------------------------------------\n",
      "총 결제 금액: 13,000원\n",
      "============================================\n"
     ]
    },
    {
     "name": "stdin",
     "output_type": "stream",
     "text": [
      "포인트를 적립하시겠습니까? (y/n):  y\n",
      "전화번호를 입력해 주세요:  01025474563\n"
     ]
    },
    {
     "name": "stdout",
     "output_type": "stream",
     "text": [
      "============================================\n",
      "🎁user_4563고객님, 650점 적립 되었습니다!🎁\n",
      " 고객님의 총 적립포인트는 650점 입니다!\n",
      "============================================\n",
      "            결제가 완료되었습니다.             \n",
      "            잠시만 기다려주세요. 😊            \n",
      "============================================\n",
      "       3초 뒤에 시작화면으로 돌아갑니다.        \n",
      "============================================\n",
      "       2초 뒤에 시작화면으로 돌아갑니다.        \n",
      "============================================\n",
      "       1초 뒤에 시작화면으로 돌아갑니다.        \n",
      "╔════════════════════════════════════════╗\n",
      "             빵꾸똥꾸 문구야             \n",
      "         에 오신 것을 환영합니다!💥          \n",
      "╚════════════════════════════════════════╝\n",
      "번호\t\t제품명\t\t가격\n",
      "--------------------------------------------\n",
      "1\t\t샤프\t\t6,000원\n",
      "2\t\t볼펜\t\t3,000원\n",
      "3\t\t지우개\t\t1,000원\n",
      "4\t\t화이트\t\t3,000원\n",
      "5\t\t공책\t\t3,500원\n",
      "--------------------------------------------\n"
     ]
    }
   ],
   "source": [
    "import time\n",
    "points = {}\n",
    "# # 메뉴 저장 리스트 -> 메뉴 추가 시 여기서.\n",
    "menu = [\n",
    "    {'name':'샤프', 'price': 6000},\n",
    "    {'name':'볼펜', 'price': 3000},\n",
    "    {'name':'지우개', 'price': 1000},\n",
    "    {'name':'화이트', 'price': 3000},\n",
    "    {'name':'공책', 'price': 3500}\n",
    "]\n",
    "\n",
    "def prt_menu(menu):\n",
    "    print('╔' + '═' * 40 + '╗')\n",
    "    print(f'빵꾸똥꾸 문구야'.center(34))\n",
    "    print(f\"에 오신 것을 환영합니다!💥\".center(34))\n",
    "    print('╚' + '═' * 40 + '╝') \n",
    "    print(f'{\"번호\"}\\t\\t{\"제품명\"}\\t\\t{\"가격\"}')\n",
    "    print('-'*44)\n",
    "\n",
    "    for i, m in enumerate(menu):\n",
    "        print(f'{i+1}\\t\\t{m[\"name\"]}\\t\\t{m[\"price\"]:,}원')\n",
    "    print('-'*44)\n",
    "\n",
    "def prt_alarm():\n",
    "    print('='*44)\n",
    "    print(f'{\"[알림]❌ 잘못된 입력입니다.\":^35}')\n",
    "    print(f'{\"[알림]✅ 다시 입력해주세요.\":^35}')\n",
    "    print('='*44)\n",
    "\n",
    "def prt_time():\n",
    "    for i in range(3, 0, -1):\n",
    "        print('=' * 44)\n",
    "        print(f'{i}초 뒤에 시작화면으로 돌아갑니다.'.center(34))\n",
    "        time.sleep(1)\n",
    "        \n",
    "def add_ord():\n",
    "    while True:        \n",
    "        try:\n",
    "            ord_num = int(input('주문하실 제품 번호를 선택하세요: ')) -1\n",
    "            if not (0 <= ord_num < len(menu)):\n",
    "                prt_alarm()\n",
    "                continue\n",
    "            return ord_num\n",
    "        except ValueError:\n",
    "            prt_alarm()\n",
    "            continue\n",
    "        \n",
    "def add_qty():\n",
    "    while True:\n",
    "        qty = input('\\t수량을 입력하세요(취소: x): ')\n",
    "        if qty.lower() ==\"x\":\n",
    "            return qty\n",
    "        try:\n",
    "            qty = int(qty)\n",
    "            if qty > 0:\n",
    "                return qty\n",
    "            prt_alarm()\n",
    "        except ValueError:\n",
    "            prt_alarm()\n",
    "\n",
    "def add_lst(order_list, ord_num, qty):\n",
    "    item = menu[ord_num]\n",
    "    for i in order_list:\n",
    "        if i['name'] == item['name']:\n",
    "            i['qty'] += qty\n",
    "            return order_list \n",
    "    order_list.append({\n",
    "        'name': item['name'],\n",
    "        'qty': qty,\n",
    "        'price': item['price']\n",
    "    })\n",
    "    return order_list\n",
    "    \n",
    "def yesno():\n",
    "    while True:\n",
    "        a=input('더 주문하시겠습니까?(y/n):')\n",
    "        if a.lower() not in ['y','n']:\n",
    "            prt_alarm()\n",
    "            continue\n",
    "        else:\n",
    "            return a\n",
    "            \n",
    "def calc_cost():\n",
    "    total = 0   \n",
    "    print('='*44)\n",
    "    print(f'\\t\\t{\"주문 내역\"}')\n",
    "    print('-'*44)\n",
    "\n",
    "    for order in order_list:\n",
    "        item_total = order['qty'] * order['price']\n",
    "        total += item_total\n",
    "\n",
    "        print(f'{order[\"name\"]}\\t{order[\"qty\"]}개\\t-\\t{item_total:,}원')\n",
    "\n",
    "    print('-'*44)\n",
    "    print(f'총 결제 금액: {total:,}원')\n",
    "    print('='*44)\n",
    "    return total\n",
    "\n",
    "def prt_points():\n",
    "    while True:\n",
    "        ab = input('포인트를 적립하시겠습니까? (y/n): ')\n",
    "        if ab.lower() not in ['y', 'n']:\n",
    "            prt_alarm()\n",
    "            continue\n",
    "        elif ab.lower()=='n':\n",
    "            return        \n",
    "        else:\n",
    "            while True:\n",
    "                phone = input('전화번호를 입력해 주세요: ')\n",
    "                if not phone.isdigit() or len(phone) < 11 or phone == \"x\":\n",
    "                    prt_alarm()\n",
    "                    continue                       \n",
    "                user_id = f'user_{phone[-4:]}'\n",
    "                point = int(total * 0.05)                 \n",
    "                if user_id in points :\n",
    "                    points[user_id] += point\n",
    "                else :\n",
    "                    points[user_id] = point\n",
    "                print('='*44)\n",
    "                print(f'🎁{user_id}고객님, {point}점 적립 되었습니다!🎁')\n",
    "                print(f' 고객님의 총 적립포인트는 {points[user_id]:,}점 입니다!')\n",
    "                print('='*44)\n",
    "                return\n",
    "     \n",
    "######################################################################################################################################################\n",
    "\n",
    "\n",
    "def draw_pencil_ascii():\n",
    "    pencil_art = r\"\"\"\n",
    "        .================ooooooo\n",
    " ___   ,'    \\_________________________________\n",
    "/   /-/       /                   ////////////  ''--..._\n",
    "\\___\\-\\       \\                   \\\\\\\\\\\\\\\\\\\\\\\\  __..--'\n",
    "       `--------------------------''''''''''''''\n",
    "\"\"\"\n",
    "    print(pencil_art)\n",
    "\n",
    "draw_pencil_ascii()\n",
    "while True:\n",
    "    prt_menu(menu)\n",
    "    # 다중 주문 저장 리스트\n",
    "    order_list = []\n",
    "\n",
    "    while True: \n",
    "        \n",
    "        ord_num = add_ord()         \n",
    "        menut = menu[ord_num]['name']\n",
    "        \n",
    "        print('='*44)\n",
    "        print(f'{\"고객님이 선택하신 제품은\":^33}')\n",
    "        print(f'{menut + \" 입니다.\":^33}')\n",
    "        print(f'{\"몇 개를 드릴까요?\":^33}')\n",
    "        \n",
    "        \n",
    "        qty = add_qty()\n",
    "        if qty in ('x','X'):\n",
    "            break\n",
    "             \n",
    "        add_lst(order_list, ord_num, qty)\n",
    "        \n",
    "        answer = yesno()\n",
    "        if answer == 'n':\n",
    "            break\n",
    "        print('-'*44)\n",
    "\n",
    "    if qty not in ('x','X'):\n",
    "        \n",
    "        total = calc_cost()\n",
    "        \n",
    "        prt_points()\n",
    "        \n",
    "        print(f'{\"결제가 완료되었습니다.\":^37}')\n",
    "        print(f'{\"잠시만 기다려주세요. 😊\":^37}')\n",
    "\n",
    "        prt_time()"
   ]
  }
 ],
 "metadata": {
  "kernelspec": {
   "display_name": "Python 3 (ipykernel)",
   "language": "python",
   "name": "python3"
  },
  "language_info": {
   "codemirror_mode": {
    "name": "ipython",
    "version": 3
   },
   "file_extension": ".py",
   "mimetype": "text/x-python",
   "name": "python",
   "nbconvert_exporter": "python",
   "pygments_lexer": "ipython3",
   "version": "3.12.9"
  }
 },
 "nbformat": 4,
 "nbformat_minor": 5
}
