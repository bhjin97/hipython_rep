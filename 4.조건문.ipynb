{
 "cells": [
  {
   "cell_type": "markdown",
   "id": "88813b05-18c2-4abc-83ec-45b4a6d577f6",
   "metadata": {},
   "source": [
    "# 조건문\n",
    ": 비교연산자를 이용한 부울값이 출력되야한다\n",
    "\n",
    ": 이후 영역표시는 들여쓰기로 함"
   ]
  },
  {
   "cell_type": "code",
   "execution_count": 9,
   "id": "21176047-fc5e-4db1-82b4-22072a654218",
   "metadata": {},
   "outputs": [
    {
     "name": "stdout",
     "output_type": "stream",
     "text": [
      "pass\n"
     ]
    }
   ],
   "source": [
    "kscore=95\n",
    "if kscore >= 90:\n",
    "    print ('pass')"
   ]
  },
  {
   "cell_type": "code",
   "execution_count": 11,
   "id": "1f83c369-d7cd-4781-8658-1ed1e7f9a005",
   "metadata": {},
   "outputs": [
    {
     "name": "stdout",
     "output_type": "stream",
     "text": [
      "pass\n"
     ]
    }
   ],
   "source": [
    "# 한줄작성\n",
    "if kscore >= 90: print ('pass')"
   ]
  },
  {
   "cell_type": "code",
   "execution_count": 13,
   "id": "c6200dd9-68b8-4b1d-8aae-53cb41b4a37d",
   "metadata": {},
   "outputs": [
    {
     "name": "stdout",
     "output_type": "stream",
     "text": [
      "1\n",
      "1\n",
      "1\n",
      "1\n"
     ]
    }
   ],
   "source": [
    "k = [1,2,3,4]\n",
    "for i in range(len(k)): print('1')"
   ]
  },
  {
   "cell_type": "code",
   "execution_count": 15,
   "id": "170fc15a-ff5f-4043-b832-3b66ea3c6ce0",
   "metadata": {},
   "outputs": [
    {
     "name": "stdout",
     "output_type": "stream",
     "text": [
      "fail\n"
     ]
    }
   ],
   "source": [
    "if kscore >= 90:\n",
    "    print ('pass')\n",
    "else:\n",
    "    print('fail')"
   ]
  },
  {
   "cell_type": "code",
   "execution_count": 19,
   "id": "962212ac-3897-4819-abf2-c1a455b4534a",
   "metadata": {},
   "outputs": [
    {
     "name": "stdout",
     "output_type": "stream",
     "text": [
      "fail\n"
     ]
    }
   ],
   "source": [
    "# 한줄작성\n",
    "# 'True일때 실행문' if 조건식 else 'False일때 실행문'\n",
    "print ('pass') if kscore >= 90 else print('fail')"
   ]
  },
  {
   "cell_type": "code",
   "execution_count": null,
   "id": "3613e56e-779a-417d-a9e8-fceb49537936",
   "metadata": {},
   "outputs": [],
   "source": [
    "print ('pass') if kscore >= 90 else print('fail')"
   ]
  },
  {
   "cell_type": "code",
   "execution_count": null,
   "id": "d3d505d8-20a1-4135-9ec4-10103dd00efb",
   "metadata": {},
   "outputs": [],
   "source": [
    "#수우미양가\n",
    ">= 90\n"
   ]
  },
  {
   "cell_type": "code",
   "execution_count": 25,
   "id": "72a518db-9e42-4343-881a-6d0435324d54",
   "metadata": {},
   "outputs": [
    {
     "name": "stdin",
     "output_type": "stream",
     "text": [
      "점수를 입력하세요 10\n"
     ]
    },
    {
     "name": "stdout",
     "output_type": "stream",
     "text": [
      "가\n"
     ]
    }
   ],
   "source": [
    "score=int(input('점수를 입력하세요'))\n",
    "# 중첩 if - nested if\n",
    "if score >= 90:\n",
    "    print('수')\n",
    "else:\n",
    "    if score >=80:\n",
    "        print('우')\n",
    "    else:\n",
    "        if score >=70:\n",
    "            print('미')\n",
    "        else:\n",
    "            if score >=60:\n",
    "                print('양')\n",
    "            else:\n",
    "                print('가')"
   ]
  },
  {
   "cell_type": "code",
   "execution_count": 29,
   "id": "b3eb5e81-3466-4a65-b9d2-0a8e9ec22bca",
   "metadata": {},
   "outputs": [
    {
     "name": "stdin",
     "output_type": "stream",
     "text": [
      "점수를 입력하세요 99\n"
     ]
    },
    {
     "name": "stdout",
     "output_type": "stream",
     "text": [
      "수\n"
     ]
    }
   ],
   "source": [
    "score=int(input('점수를 입력하세요'))\n",
    "if score >= 90:\n",
    "    print('수')\n",
    "elif score >= 80:\n",
    "    print('우')\n",
    "elif score >=70:\n",
    "    print('미')\n",
    "elif score >= 60:\n",
    "    print('양')\n",
    "else:\n",
    "    print('가')"
   ]
  },
  {
   "cell_type": "markdown",
   "id": "2d93d254-918f-40bb-a21e-52bffd8ad747",
   "metadata": {},
   "source": [
    "i =input('수식을 입력하세요')\n",
    "num1, opr, num2 = i.split()\n",
    "num1, opr, num2\n"
   ]
  },
  {
   "cell_type": "code",
   "execution_count": 31,
   "id": "512a2028-961f-4673-9691-3a02b362bd25",
   "metadata": {},
   "outputs": [
    {
     "name": "stdin",
     "output_type": "stream",
     "text": [
      "수식을 입력하세요 20 * 9\n"
     ]
    },
    {
     "name": "stdout",
     "output_type": "stream",
     "text": [
      "20.0 * 9.0 = 180.0\n"
     ]
    }
   ],
   "source": [
    "i =input('수식을 입력하세요')\n",
    "num1, opr, num2 = i.split()\n",
    "num1, opr, num2\n",
    "\n",
    "num1 = float(num1)\n",
    "num2 = float(num2)\n",
    "\n",
    "opr_list=['+','-','*']\n",
    "\n",
    "if opr == '+':\n",
    "    result = num1+num2\n",
    "elif opr == '-':\n",
    "    result = num1-num2\n",
    "else:\n",
    "    result = num1*num2\n",
    "\n",
    "print(f'{num1} {opr} {num2} = {result}')"
   ]
  },
  {
   "cell_type": "code",
   "execution_count": 39,
   "id": "489ced44-aca7-43c3-9c11-ffe8ddc64689",
   "metadata": {},
   "outputs": [
    {
     "name": "stdin",
     "output_type": "stream",
     "text": [
      "수식을 입력하세요 10 = 4\n"
     ]
    },
    {
     "name": "stdout",
     "output_type": "stream",
     "text": [
      "지원하지 않는 연산자 입니다.\n"
     ]
    }
   ],
   "source": [
    "# 지원하지않는 연산입니다. ver1\n",
    "i =input('수식을 입력하세요')\n",
    "num1, opr, num2 = i.split() # 요소를 자르고 반환\n",
    "num1, opr, num2\n",
    "\n",
    "num1 = float(num1)\n",
    "num2 = float(num2)\n",
    "\n",
    "opr_list=['+','-','*','/']\n",
    "\n",
    "if opr == '+':\n",
    "    result = num1+num2\n",
    "    print(f'{num1} {opr} {num2} = {result}')\n",
    "elif opr == '-':\n",
    "    result = num1-num2\n",
    "    print(f'{num1} {opr} {num2} = {result}')\n",
    "elif opr == '*':\n",
    "    result = num1*num2\n",
    "    print(f'{num1} {opr} {num2} = {result}')\n",
    "elif opr == '/':\n",
    "    result = num1/num2\n",
    "    print(f'{num1} {opr} {num2} = {result}')\n",
    "else:\n",
    "    print('지원하지 않는 연산자 입니다.')\n",
    "\n"
   ]
  },
  {
   "cell_type": "code",
   "execution_count": 41,
   "id": "1d4dd102-03e6-477a-8038-82d50a7f5a18",
   "metadata": {},
   "outputs": [
    {
     "name": "stdin",
     "output_type": "stream",
     "text": [
      "수식을 입력하세요 20 + 10\n"
     ]
    },
    {
     "name": "stdout",
     "output_type": "stream",
     "text": [
      "20.0 + 10.0 = 30.0\n"
     ]
    }
   ],
   "source": [
    "# 지원하지않는 연산입니다.ver2\n",
    "i =input('수식을 입력하세요')\n",
    "num1, opr, num2 = i.split() # 요소를 자르고 반환\n",
    "num1, opr, num2\n",
    "\n",
    "num1 = float(num1)\n",
    "num2 = float(num2)\n",
    "\n",
    "opr_list=['+','-','*','/']\n",
    "\n",
    "if opr == '+':\n",
    "    result = num1+num2\n",
    "elif opr == '-':\n",
    "    result = num1-num2\n",
    "elif opr == '*':\n",
    "    result = num1*num2\n",
    "elif opr == '/':\n",
    "    result = num1/num2\n",
    "else:\n",
    "    result = None\n",
    "\n",
    "if result == None:\n",
    "    print('지원하지 않는 연산자 입니다.')\n",
    "else:\n",
    "    print(f'{num1} {opr} {num2} = {result}')"
   ]
  },
  {
   "cell_type": "code",
   "execution_count": 45,
   "id": "c6b1a54e-caa0-4579-83a9-e0d7abc44f0c",
   "metadata": {},
   "outputs": [
    {
     "name": "stdin",
     "output_type": "stream",
     "text": [
      "수식을 입력하세요 20 = 33\n"
     ]
    },
    {
     "name": "stdout",
     "output_type": "stream",
     "text": [
      "지원하지 않는 연산자입니다\n"
     ]
    }
   ],
   "source": [
    "# 지원하지않는 연산입니다.ver3\n",
    "i =input('수식을 입력하세요')\n",
    "num1, opr, num2 = i.split() # 요소를 자르고 반환\n",
    "num1, opr, num2\n",
    "\n",
    "num1 = float(num1)\n",
    "num2 = float(num2)\n",
    "\n",
    "opr_list=['+','-','*','/']\n",
    "\n",
    "if opr not in opr_list:\n",
    "    print('지원하지 않는 연산자입니다')\n",
    "\n",
    "else:\n",
    "    if opr == '+':\n",
    "        result = num1+num2\n",
    "    elif opr == '-':\n",
    "        result = num1-num2\n",
    "    elif opr == '*':\n",
    "        result = num1*num2\n",
    "    elif opr == '/':\n",
    "        result = num1/num2\n",
    "    print(f'{num1} {opr} {num2} = {result}')\n",
    "\n",
    "    "
   ]
  },
  {
   "cell_type": "code",
   "execution_count": null,
   "id": "19e73312-033a-4e46-9495-29cf9b147c9f",
   "metadata": {},
   "outputs": [],
   "source": [
    "# 1줄로 쓰기\n",
    "num = 7\n",
    "#if num % 2 : print('짝수') else print('홀수')\n",
    "print('짝수' if num % 2 == 0 else '홀수')\n"
   ]
  },
  {
   "cell_type": "code",
   "execution_count": 46,
   "id": "3c13a941-c226-4a0e-9e03-7ceec5aece98",
   "metadata": {},
   "outputs": [
    {
     "name": "stdout",
     "output_type": "stream",
     "text": [
      "화이팅\n"
     ]
    }
   ],
   "source": [
    "졸려 = False \n",
    "action = '쉽시다' if 졸려 == True else '화이팅'\n",
    "print(action)"
   ]
  },
  {
   "cell_type": "code",
   "execution_count": 47,
   "id": "e4fc6102-fd9b-4051-a14b-0fe6c78387b5",
   "metadata": {},
   "outputs": [
    {
     "data": {
      "text/plain": [
       "'패'"
      ]
     },
     "execution_count": 47,
     "metadata": {},
     "output_type": "execute_result"
    }
   ],
   "source": [
    "player = '가위'\n",
    "computer = '바위'\n",
    "result = '승','패','무승부'\n",
    "\n",
    "'승' if player == '가위' and computer == '보' else '무승부' if  player == computer else '패'"
   ]
  },
  {
   "cell_type": "code",
   "execution_count": 52,
   "id": "bf3687a2-56a0-4639-8ee1-e6c14dae3a4e",
   "metadata": {},
   "outputs": [
    {
     "name": "stdin",
     "output_type": "stream",
     "text": [
      "점수입력 10\n"
     ]
    },
    {
     "data": {
      "text/plain": [
       "'D'"
      ]
     },
     "execution_count": 52,
     "metadata": {},
     "output_type": "execute_result"
    }
   ],
   "source": [
    "# A,B,C,D 출력\n",
    "score=int(input('점수입력'))\n",
    "'A' if score >= 90 else 'B' if  score >= 80 else 'C' if  score >= 70 else 'D'"
   ]
  },
  {
   "cell_type": "code",
   "execution_count": 53,
   "id": "e533337d-581e-43ac-a84d-940cd120663e",
   "metadata": {},
   "outputs": [
    {
     "name": "stdout",
     "output_type": "stream",
     "text": [
      "현재 검사 중인 숫자: 1\n",
      "현재 검사 중인 숫자: 3\n",
      "현재 검사 중인 숫자: 5\n",
      "현재 검사 중인 숫자: 7\n",
      "9를 찾았습니다!\n"
     ]
    }
   ],
   "source": [
    "numbers = [1, 3, 5, 7, 9, 11, 13, 15]\n",
    "search_number = 9\n",
    "\n",
    "for num in numbers:\n",
    "    if num == search_number:\n",
    "        print(f\"{search_number}를 찾았습니다!\")\n",
    "        break\n",
    "    print(f\"현재 검사 중인 숫자: {num}\")\n"
   ]
  },
  {
   "cell_type": "code",
   "execution_count": 54,
   "id": "53030e0f-641e-474a-bd11-3529c1fa228a",
   "metadata": {},
   "outputs": [
    {
     "name": "stdout",
     "output_type": "stream",
     "text": [
      "2\n",
      "4\n",
      "6\n",
      "8\n",
      "10\n"
     ]
    }
   ],
   "source": [
    "for i in range(1, 11):\n",
    "    if i % 2 != 0:  # 홀수인 경우\n",
    "        continue\n",
    "    print(i)  # 짝수만 출력"
   ]
  },
  {
   "cell_type": "code",
   "execution_count": 55,
   "id": "b246cd65-c561-4901-be5c-58f1d002d14f",
   "metadata": {},
   "outputs": [
    {
     "name": "stdout",
     "output_type": "stream",
     "text": [
      "1\n",
      "2\n",
      "3\n",
      "4\n",
      "5\n",
      "6\n",
      "7\n",
      "8\n",
      "9\n",
      "10\n"
     ]
    }
   ],
   "source": [
    "for i in range(1, 11):\n",
    "    print(i)"
   ]
  },
  {
   "cell_type": "code",
   "execution_count": 62,
   "id": "f4ae2522-9751-436a-a4b4-80e120c6174f",
   "metadata": {},
   "outputs": [],
   "source": [
    "condition = 5\n",
    "if condition:\n",
    "    pass  # 나중에 구현할 예정\n",
    "else:\n",
    "    print(\"else 구문 실행\")"
   ]
  },
  {
   "cell_type": "code",
   "execution_count": null,
   "id": "e28a5332-abae-4cea-bfc3-7c45bcdc0706",
   "metadata": {},
   "outputs": [],
   "source": []
  },
  {
   "cell_type": "code",
   "execution_count": null,
   "id": "93d2f81a-e904-4366-bdb0-3d3106958553",
   "metadata": {},
   "outputs": [],
   "source": []
  },
  {
   "cell_type": "code",
   "execution_count": null,
   "id": "bfd1b7b7-415d-4e2a-945a-d2fae1d6478d",
   "metadata": {},
   "outputs": [],
   "source": []
  },
  {
   "cell_type": "code",
   "execution_count": null,
   "id": "6723167f-3216-4a8c-be6c-3f092d18f98b",
   "metadata": {},
   "outputs": [],
   "source": []
  },
  {
   "cell_type": "code",
   "execution_count": null,
   "id": "9112b496-7884-4801-80ba-6a6573af40b1",
   "metadata": {},
   "outputs": [],
   "source": []
  },
  {
   "cell_type": "code",
   "execution_count": null,
   "id": "999e6b28-ad1d-4cf2-a7ff-d60182eaacfd",
   "metadata": {},
   "outputs": [],
   "source": []
  },
  {
   "cell_type": "code",
   "execution_count": null,
   "id": "5bd708f8-c7f2-4481-b2d8-689cc561fb3c",
   "metadata": {},
   "outputs": [],
   "source": []
  }
 ],
 "metadata": {
  "kernelspec": {
   "display_name": "Python 3 (ipykernel)",
   "language": "python",
   "name": "python3"
  },
  "language_info": {
   "codemirror_mode": {
    "name": "ipython",
    "version": 3
   },
   "file_extension": ".py",
   "mimetype": "text/x-python",
   "name": "python",
   "nbconvert_exporter": "python",
   "pygments_lexer": "ipython3",
   "version": "3.12.9"
  }
 },
 "nbformat": 4,
 "nbformat_minor": 5
}
