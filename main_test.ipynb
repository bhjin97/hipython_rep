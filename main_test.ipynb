{
 "cells": [
  {
   "cell_type": "code",
   "execution_count": 1,
   "id": "aaa7e3e5-14ef-4c00-a730-37030890cc9f",
   "metadata": {},
   "outputs": [
    {
     "name": "stdout",
     "output_type": "stream",
     "text": [
      "\n",
      "        .================ooooooo\n",
      " ___   ,'    \\_________________________________\n",
      "/   /-/       /                   ////////////  ''--..._\n",
      "\\___\\-\\       \\                   \\\\\\\\\\\\\\\\\\\\\\\\  __..--'\n",
      "       `--------------------------''''''''''''''\n",
      "\n"
     ]
    },
    {
     "ename": "NameError",
     "evalue": "name 'prt_menu' is not defined",
     "output_type": "error",
     "traceback": [
      "\u001b[31m---------------------------------------------------------------------------\u001b[39m",
      "\u001b[31mNameError\u001b[39m                                 Traceback (most recent call last)",
      "\u001b[36mCell\u001b[39m\u001b[36m \u001b[39m\u001b[32mIn[1]\u001b[39m\u001b[32m, line 1\u001b[39m\n\u001b[32m----> \u001b[39m\u001b[32m1\u001b[39m \u001b[38;5;28;01mimport\u001b[39;00m\u001b[38;5;250m \u001b[39m\u001b[34;01mkiosk\u001b[39;00m\n\u001b[32m      3\u001b[39m kiosk.kiosk_func\n",
      "\u001b[36mFile \u001b[39m\u001b[32mc:\\mysrc\\start\\my_first_package\\kiosk\\__init__.py:2\u001b[39m\n\u001b[32m      1\u001b[39m \u001b[38;5;28;01mfrom\u001b[39;00m\u001b[38;5;250m \u001b[39m\u001b[34;01m.\u001b[39;00m\u001b[38;5;250m \u001b[39m\u001b[38;5;28;01mimport\u001b[39;00m kiosk_func\n\u001b[32m----> \u001b[39m\u001b[32m2\u001b[39m \u001b[38;5;28;01mfrom\u001b[39;00m\u001b[38;5;250m \u001b[39m\u001b[34;01m.\u001b[39;00m\u001b[38;5;250m \u001b[39m\u001b[38;5;28;01mimport\u001b[39;00m main_func\n",
      "\u001b[36mFile \u001b[39m\u001b[32mc:\\mysrc\\start\\my_first_package\\kiosk\\main_func.py:13\u001b[39m\n\u001b[32m     11\u001b[39m draw_pencil_ascii()\n\u001b[32m     12\u001b[39m \u001b[38;5;28;01mwhile\u001b[39;00m \u001b[38;5;28;01mTrue\u001b[39;00m:\n\u001b[32m---> \u001b[39m\u001b[32m13\u001b[39m     prt_menu(menu)\n\u001b[32m     14\u001b[39m     \u001b[38;5;66;03m# 다중 주문 저장 리스트\u001b[39;00m\n\u001b[32m     15\u001b[39m     order_list = []\n",
      "\u001b[31mNameError\u001b[39m: name 'prt_menu' is not defined"
     ]
    }
   ],
   "source": [
    "import kiosk\n",
    "\n",
    "kiosk.kiosk_func"
   ]
  }
 ],
 "metadata": {
  "kernelspec": {
   "display_name": "Python 3 (ipykernel)",
   "language": "python",
   "name": "python3"
  },
  "language_info": {
   "codemirror_mode": {
    "name": "ipython",
    "version": 3
   },
   "file_extension": ".py",
   "mimetype": "text/x-python",
   "name": "python",
   "nbconvert_exporter": "python",
   "pygments_lexer": "ipython3",
   "version": "3.12.9"
  }
 },
 "nbformat": 4,
 "nbformat_minor": 5
}
