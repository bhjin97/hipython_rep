{
 "cells": [
  {
   "cell_type": "markdown",
   "id": "fff4c273-1f66-4d10-b608-3c84d35ae835",
   "metadata": {},
   "source": [
    "리스트는 1variable에 있음"
   ]
  },
  {
   "cell_type": "markdown",
   "id": "9bef1cfa-2514-4350-aee3-8bb9a98c8bde",
   "metadata": {},
   "source": [
    "# 연산자\n",
    "\n",
    "-비식별 연산자\n",
    "1. 대입연산: assign, 할당 '='\n",
    "   변수 = 값\n",
    "   자기자신에게 대입하는 연산 > +=, *= 등 > ()가 자동으로 적용\n",
    "\n",
    "3. 수치연산: 사칙연산\n",
    "   add() ->특별메소드를 정의하고 객체에서 쓸 수 있다\n",
    "   숫자일때는 기본연산\n",
    "   형변환이 자동으로 일어난다 int+float > float, int/int > float\n",
    "\n",
    "4. 비교연산\n",
    "\n",
    "   '='와 '=='는 다르다 (=는 대입연산 ==는 비교연산)\n",
    "   '!=', '>=', '<='\n",
    "   리스트의 비교 '==' -> 내용이 같은가?\n",
    "   리스트 주소의 비교 'is' -> 주소가 같은가?\n",
    "   리스트의 주소 id()가 같은가? -> 메모리 영역이 같은가?\n",
    "   \n",
    "6. 논리연산\n",
    "\n",
    "   and, or, not\n",
    "   &, &&, |, !\n",
    "\n",
    "-식별 연산자\n",
    "1. is, is not\n",
    "2. \n"
   ]
  },
  {
   "cell_type": "code",
   "execution_count": 2,
   "id": "4adccbe5-8c3c-4f1d-8ea3-1a7a342c82c4",
   "metadata": {},
   "outputs": [
    {
     "data": {
      "text/plain": [
       "10"
      ]
     },
     "execution_count": 2,
     "metadata": {},
     "output_type": "execute_result"
    }
   ],
   "source": [
    "a=5\n",
    "a += 5\n",
    "a"
   ]
  },
  {
   "cell_type": "code",
   "execution_count": 3,
   "id": "33c10059-a788-4b65-a18f-7bc5c6b0580c",
   "metadata": {},
   "outputs": [
    {
     "data": {
      "text/plain": [
       "40"
      ]
     },
     "execution_count": 3,
     "metadata": {},
     "output_type": "execute_result"
    }
   ],
   "source": [
    "b=2\n",
    "a *= 2+b\n"
   ]
  },
  {
   "cell_type": "code",
   "execution_count": 9,
   "id": "4746d2a0-d432-462a-aa6a-58d16e160b70",
   "metadata": {},
   "outputs": [
    {
     "data": {
      "text/plain": [
       "(255, 85.0)"
      ]
     },
     "execution_count": 9,
     "metadata": {},
     "output_type": "execute_result"
    }
   ],
   "source": [
    "students = [\n",
    "               {'num':'1','name':'김철수','kor':90,'eng':80,'math':85,'total':0,'avg':0.0,'order':0 },\n",
    "               {'num':'2','name':'박제동','kor':90,'eng':85,'math':90,'total':0,'avg':0.0,'order':0 },\n",
    "               {'num':'3','name':'홍길동','kor':80,'eng':80,'math':80,'total':0,'avg':0.0,'order':0 }\n",
    "           ]\n",
    "\n",
    "students[0]['total'] = students[0]['kor']+students[0]['eng']+students[0]['math']\n",
    "students[0]['avg'] = students[0]['total'] / 3\n",
    "students[0]['total'], students[0]['avg'] "
   ]
  },
  {
   "cell_type": "code",
   "execution_count": 8,
   "id": "761a3491-b3a1-43b6-b2e4-31d9e5e5eb72",
   "metadata": {},
   "outputs": [
    {
     "data": {
      "text/plain": [
       "(265, 88.33333333333333)"
      ]
     },
     "execution_count": 8,
     "metadata": {},
     "output_type": "execute_result"
    }
   ],
   "source": [
    "students[1]['total'] = students[1]['kor']+students[1]['eng']+students[1]['math']\n",
    "students[1]['avg'] = students[1]['total'] / 3\n",
    "students[1]['total'], students[1]['avg'] "
   ]
  },
  {
   "cell_type": "code",
   "execution_count": 10,
   "id": "fef68148-6c41-49f9-88c9-9ff84fce5a5a",
   "metadata": {},
   "outputs": [
    {
     "data": {
      "text/plain": [
       "(240, 80.0)"
      ]
     },
     "execution_count": 10,
     "metadata": {},
     "output_type": "execute_result"
    }
   ],
   "source": [
    "students[2]['total'] = students[2]['kor']+students[2]['eng']+students[2]['math']\n",
    "students[2]['avg'] = students[2]['total'] / 3\n",
    "students[2]['total'], students[2]['avg'] "
   ]
  },
  {
   "cell_type": "code",
   "execution_count": 17,
   "id": "43c19471-a651-42df-a9df-963cb7c42c12",
   "metadata": {},
   "outputs": [
    {
     "name": "stdout",
     "output_type": "stream",
     "text": [
      "255 85.0\n",
      "265 88.33333333333333\n",
      "240 80.0\n"
     ]
    }
   ],
   "source": [
    "#for 문에서는 리스트의 요소들을 하나씩 꺼낼 수 있다\n",
    "for i in students:\n",
    "    i['total'] = i['kor']+i['eng']+i['math']\n",
    "    i['total']\n",
    "    i['avg'] = i['total'] / 3\n",
    "    print(i['total'], i['avg'])"
   ]
  },
  {
   "cell_type": "code",
   "execution_count": 20,
   "id": "91b96226-410a-4f51-9439-707644e0b4ca",
   "metadata": {},
   "outputs": [
    {
     "name": "stdout",
     "output_type": "stream",
     "text": [
      "김철수 2\n",
      "박제동 1\n",
      "홍길동 3\n"
     ]
    }
   ],
   "source": [
    "#students order\n",
    "for i in students: #students[0]의 자료를 꺼내고 끝날때까지(students[2]) 반복\n",
    "    rank = 1\n",
    "    for v in students:\n",
    "        if v['total'] > i['total']: \n",
    "            rank += 1\n",
    "    i['order'] = rank\n",
    "    print(i['name'], i['order'])"
   ]
  },
  {
   "cell_type": "code",
   "execution_count": 21,
   "id": "c1d1bfd1-4280-4279-a3f7-fc38f1868393",
   "metadata": {},
   "outputs": [
    {
     "name": "stdout",
     "output_type": "stream",
     "text": [
      "김철수 255 85.0 2\n",
      "박제동 265 88.33333333333333 1\n",
      "홍길동 240 80.0 3\n"
     ]
    }
   ],
   "source": [
    "for i in students:\n",
    "    print(i['name'],i['total'],i['avg'], i['order'])"
   ]
  },
  {
   "cell_type": "code",
   "execution_count": 22,
   "id": "43974d5f-7186-40c4-9800-2e92dfb3b134",
   "metadata": {},
   "outputs": [
    {
     "data": {
      "text/plain": [
       "True"
      ]
     },
     "execution_count": 22,
     "metadata": {},
     "output_type": "execute_result"
    }
   ],
   "source": [
    "lunch1 = ['주먹밥']\n",
    "lunch2 = ['주먹밥']\n",
    "lunch1==lunch2 #값의 비교"
   ]
  },
  {
   "cell_type": "code",
   "execution_count": 23,
   "id": "39fce3e2-9691-497f-b993-0fd0b722a4e6",
   "metadata": {},
   "outputs": [
    {
     "data": {
      "text/plain": [
       "False"
      ]
     },
     "execution_count": 23,
     "metadata": {},
     "output_type": "execute_result"
    }
   ],
   "source": [
    "id(lunch2)==id(lunch1)"
   ]
  },
  {
   "cell_type": "code",
   "execution_count": 25,
   "id": "afb8ab28-3f44-457a-9b37-ccfc126121ac",
   "metadata": {},
   "outputs": [
    {
     "data": {
      "text/plain": [
       "False"
      ]
     },
     "execution_count": 25,
     "metadata": {},
     "output_type": "execute_result"
    }
   ],
   "source": [
    "lunch1 is lunch2 #주소를 비교"
   ]
  },
  {
   "cell_type": "markdown",
   "id": "b7d93f96-60cc-4dd3-914d-3d4e9df3990f",
   "metadata": {},
   "source": [
    "type(),\n",
    "sorted(),\n",
    "dir(),\n",
    "id(),\n",
    "len(),\n",
    "sum(), max(), min()"
   ]
  },
  {
   "cell_type": "code",
   "execution_count": 26,
   "id": "9624472b-7f2d-4743-b2cd-79f83de30e1b",
   "metadata": {},
   "outputs": [
    {
     "data": {
      "text/plain": [
       "list"
      ]
     },
     "execution_count": 26,
     "metadata": {},
     "output_type": "execute_result"
    }
   ],
   "source": [
    "type(lunch1)"
   ]
  },
  {
   "cell_type": "code",
   "execution_count": 32,
   "id": "39f478d1-1086-422d-9de3-9c0488fd65b1",
   "metadata": {},
   "outputs": [
    {
     "data": {
      "text/plain": [
       "[{'num': '2',\n",
       "  'name': '박제동',\n",
       "  'kor': 90,\n",
       "  'eng': 85,\n",
       "  'math': 90,\n",
       "  'total': 265,\n",
       "  'avg': 88.33333333333333,\n",
       "  'order': 1},\n",
       " {'num': '1',\n",
       "  'name': '김철수',\n",
       "  'kor': 90,\n",
       "  'eng': 80,\n",
       "  'math': 85,\n",
       "  'total': 255,\n",
       "  'avg': 85.0,\n",
       "  'order': 2},\n",
       " {'num': '3',\n",
       "  'name': '홍길동',\n",
       "  'kor': 80,\n",
       "  'eng': 80,\n",
       "  'math': 80,\n",
       "  'total': 240,\n",
       "  'avg': 80.0,\n",
       "  'order': 3}]"
      ]
     },
     "execution_count": 32,
     "metadata": {},
     "output_type": "execute_result"
    }
   ],
   "source": [
    "sorted(students, key=lambda x: x['avg'], reverse=True)"
   ]
  },
  {
   "cell_type": "code",
   "execution_count": 40,
   "id": "6c824524-afa7-41a1-8dbe-fc4b373e506a",
   "metadata": {},
   "outputs": [
    {
     "data": {
      "text/plain": [
       "55"
      ]
     },
     "execution_count": 40,
     "metadata": {},
     "output_type": "execute_result"
    }
   ],
   "source": [
    "lista=[1,2,3,4,5,6,7,8,9,10]\n",
    "sum(lista,start=0)"
   ]
  },
  {
   "cell_type": "code",
   "execution_count": 41,
   "id": "d5a89e9e-cb07-49c1-a3c2-fc012d9c717c",
   "metadata": {},
   "outputs": [
    {
     "data": {
      "text/plain": [
       "10"
      ]
     },
     "execution_count": 41,
     "metadata": {},
     "output_type": "execute_result"
    }
   ],
   "source": [
    "max(lista)"
   ]
  },
  {
   "cell_type": "code",
   "execution_count": 44,
   "id": "72e554a9-aa61-4e20-b85c-24f852b10c71",
   "metadata": {},
   "outputs": [
    {
     "data": {
      "text/plain": [
       "[1, 2, 3, 4, 5]"
      ]
     },
     "execution_count": 44,
     "metadata": {},
     "output_type": "execute_result"
    }
   ],
   "source": [
    "a = [1,3,5,4,2]\n",
    "sorted(a)"
   ]
  },
  {
   "cell_type": "code",
   "execution_count": 54,
   "id": "ebe40222-8d4a-4d63-b2dd-8115a994edd5",
   "metadata": {},
   "outputs": [
    {
     "data": {
      "text/plain": [
       "[3, 5, 7, 9, 1]"
      ]
     },
     "execution_count": 54,
     "metadata": {},
     "output_type": "execute_result"
    }
   ],
   "source": [
    "b =[1,3,5,7,9]\n",
    "c = b.pop(0)\n",
    "b.append(c)\n",
    "b"
   ]
  },
  {
   "cell_type": "code",
   "execution_count": 55,
   "id": "f40bf6ed-6c1a-4bda-8b28-98ee784f5ce5",
   "metadata": {},
   "outputs": [
    {
     "name": "stdout",
     "output_type": "stream",
     "text": [
      "Life is too short\n"
     ]
    }
   ],
   "source": [
    "d = ['Life','is','too','short']\n",
    "q = ' '.join(d)\n",
    "print(q)"
   ]
  },
  {
   "cell_type": "code",
   "execution_count": null,
   "id": "35ffa47a-204c-4ee1-a17c-214bf7d35f95",
   "metadata": {},
   "outputs": [],
   "source": [
    "리스트의 메소드\n",
    "메서드\t사용 예시\t설명\n",
    "append(x)\tlst.append(4)\t맨 뒤에 x 추가\n",
    "insert(i, x)\tlst.insert(1, \"a\")\ti 위치에 x 삽입\n",
    "extend(iter)\tlst.extend([4, 5])\t리스트에 여러 값 추가\n",
    "remove(x)\tlst.remove(\"a\")\tx와 일치하는 첫 항목 삭제\n",
    "pop()\tlst.pop()\t마지막 항목 제거하고 반환\n",
    "pop(i)\tlst.pop(0)\ti번째 항목 제거하고 반환\n",
    "clear()\tlst.clear()\t리스트 전체 비우기\n",
    "index(x)\tlst.index(\"a\")\tx의 위치(인덱스) 반환\n",
    "count(x)\tlst.count(\"a\")\tx의 개수 세기\n",
    "sort()\tlst.sort()\t오름차순 정렬 (원본 변경)\n",
    "sort(reverse=True)\tlst.sort(reverse=True)\t내림차순 정렬\n",
    "reverse()\tlst.reverse()\t항목 순서 뒤집기\n",
    "copy()\tlst2 = lst.copy()\t리스트 복사"
   ]
  },
  {
   "cell_type": "markdown",
   "id": "f8b75744-01cb-40f7-8660-9b7255f31b83",
   "metadata": {},
   "source": [
    "# 딕셔너리\n",
    "\n",
    "{키:값, 키:값}"
   ]
  },
  {
   "cell_type": "code",
   "execution_count": 56,
   "id": "6da66ef6-712a-4a39-89da-70fab8e44c6c",
   "metadata": {},
   "outputs": [
    {
     "data": {
      "text/plain": [
       "{'name': 'alice', 'age': 25, 'city': 'seoul'}"
      ]
     },
     "execution_count": 56,
     "metadata": {},
     "output_type": "execute_result"
    }
   ],
   "source": [
    "person = {'name':'alice', 'age':25, 'city':'seoul'}"
   ]
  },
  {
   "cell_type": "code",
   "execution_count": 58,
   "id": "bb79dbeb-5667-47c5-9487-fc1f66e829b5",
   "metadata": {},
   "outputs": [
    {
     "data": {
      "text/plain": [
       "{'name': 'hj', 'age': 29, 'city': 'Py'}"
      ]
     },
     "execution_count": 58,
     "metadata": {},
     "output_type": "execute_result"
    }
   ],
   "source": [
    "person2 = {'name':'hj', 'age':29, 'city':'Py'}\n",
    "person2"
   ]
  },
  {
   "cell_type": "code",
   "execution_count": 59,
   "id": "b78fee6e-de15-4a80-befc-f44efd99d012",
   "metadata": {},
   "outputs": [
    {
     "data": {
      "text/plain": [
       "{'name': 'bob', 'age': 25, 'city': 'seoul'}"
      ]
     },
     "execution_count": 59,
     "metadata": {},
     "output_type": "execute_result"
    }
   ],
   "source": [
    "person['name'] = 'bob'\n",
    "person"
   ]
  },
  {
   "cell_type": "code",
   "execution_count": null,
   "id": "0561c800-d5a3-41c8-b36b-b96352a52ed4",
   "metadata": {},
   "outputs": [],
   "source": [
    "person = {'name':'', 'age':, 'city':''}\n",
    "person"
   ]
  },
  {
   "cell_type": "code",
   "execution_count": 60,
   "id": "9880c214-88a9-4433-82b9-b500c4c4bb02",
   "metadata": {},
   "outputs": [
    {
     "data": {
      "text/plain": [
       "dict"
      ]
     },
     "execution_count": 60,
     "metadata": {},
     "output_type": "execute_result"
    }
   ],
   "source": [
    "type(person)"
   ]
  },
  {
   "cell_type": "code",
   "execution_count": 61,
   "id": "7df1c5a4-5a18-482b-b63c-fb0ca7a97f10",
   "metadata": {
    "collapsed": true,
    "jupyter": {
     "outputs_hidden": true
    }
   },
   "outputs": [
    {
     "data": {
      "text/plain": [
       "['__class__',\n",
       " '__class_getitem__',\n",
       " '__contains__',\n",
       " '__delattr__',\n",
       " '__delitem__',\n",
       " '__dir__',\n",
       " '__doc__',\n",
       " '__eq__',\n",
       " '__format__',\n",
       " '__ge__',\n",
       " '__getattribute__',\n",
       " '__getitem__',\n",
       " '__getstate__',\n",
       " '__gt__',\n",
       " '__hash__',\n",
       " '__init__',\n",
       " '__init_subclass__',\n",
       " '__ior__',\n",
       " '__iter__',\n",
       " '__le__',\n",
       " '__len__',\n",
       " '__lt__',\n",
       " '__ne__',\n",
       " '__new__',\n",
       " '__or__',\n",
       " '__reduce__',\n",
       " '__reduce_ex__',\n",
       " '__repr__',\n",
       " '__reversed__',\n",
       " '__ror__',\n",
       " '__setattr__',\n",
       " '__setitem__',\n",
       " '__sizeof__',\n",
       " '__str__',\n",
       " '__subclasshook__',\n",
       " 'clear',\n",
       " 'copy',\n",
       " 'fromkeys',\n",
       " 'get',\n",
       " 'items',\n",
       " 'keys',\n",
       " 'pop',\n",
       " 'popitem',\n",
       " 'setdefault',\n",
       " 'update',\n",
       " 'values']"
      ]
     },
     "execution_count": 61,
     "metadata": {},
     "output_type": "execute_result"
    }
   ],
   "source": [
    "dir(person)"
   ]
  },
  {
   "cell_type": "code",
   "execution_count": 64,
   "id": "ede2a5cc-4fe9-4e2d-839a-e5c728a8e9ed",
   "metadata": {},
   "outputs": [
    {
     "name": "stdout",
     "output_type": "stream",
     "text": [
      "name\n",
      "age\n",
      "city\n"
     ]
    }
   ],
   "source": [
    "keys = person.keys()\n",
    "for k in keys:\n",
    "    print(k)"
   ]
  },
  {
   "cell_type": "code",
   "execution_count": 66,
   "id": "aac11730-15e1-451c-a7fe-a5904033df89",
   "metadata": {},
   "outputs": [
    {
     "name": "stdout",
     "output_type": "stream",
     "text": [
      "('name', 'bob')\n",
      "('age', 25)\n",
      "('city', 'seoul')\n"
     ]
    }
   ],
   "source": [
    "items = person.items()\n",
    "for i in items:\n",
    "    print(i)"
   ]
  },
  {
   "cell_type": "code",
   "execution_count": 67,
   "id": "48caef7c-683f-47c8-9f89-ff50771490a8",
   "metadata": {},
   "outputs": [
    {
     "name": "stdout",
     "output_type": "stream",
     "text": [
      "bob\n",
      "25\n",
      "seoul\n"
     ]
    }
   ],
   "source": [
    "values = person.values()\n",
    "for v in values:\n",
    "    print(v)"
   ]
  },
  {
   "cell_type": "code",
   "execution_count": 68,
   "id": "16a899c1-b41c-472a-9436-748f7fc8be2f",
   "metadata": {},
   "outputs": [
    {
     "data": {
      "text/plain": [
       "{'name': 'hj', 'age': 29, 'city': 'Py'}"
      ]
     },
     "execution_count": 68,
     "metadata": {},
     "output_type": "execute_result"
    }
   ],
   "source": [
    "# update는 사전에 사전을 업데이트한다 // 키가 다르면 더해짐\n",
    "person.update(person2)\n",
    "person"
   ]
  },
  {
   "cell_type": "code",
   "execution_count": null,
   "id": "8e5d6e36-aa0d-418e-8d4f-5bd6125ba4e5",
   "metadata": {},
   "outputs": [],
   "source": [
    "#person3를 추가한다면 키가 같으므로 값이 업데이트"
   ]
  },
  {
   "cell_type": "code",
   "execution_count": 69,
   "id": "8c308dfb-d165-41f1-9481-f902a34db900",
   "metadata": {},
   "outputs": [
    {
     "data": {
      "text/plain": [
       "{1: 2, 2: 3, 3: 4, 'name': 'hj', 'age': 29, 'city': 'Py'}"
      ]
     },
     "execution_count": 69,
     "metadata": {},
     "output_type": "execute_result"
    }
   ],
   "source": [
    "dic={1:2, 2:3,3:4}\n",
    "dic.update(person2)\n",
    "dic"
   ]
  },
  {
   "cell_type": "code",
   "execution_count": 70,
   "id": "2332a87d-83f9-471c-8c1a-7443df4548af",
   "metadata": {},
   "outputs": [
    {
     "data": {
      "text/plain": [
       "{}"
      ]
     },
     "execution_count": 70,
     "metadata": {},
     "output_type": "execute_result"
    }
   ],
   "source": [
    "dic.clear()\n",
    "dic"
   ]
  },
  {
   "cell_type": "markdown",
   "id": "8e08184d-1a42-4d1b-bb01-6df5c1170f3e",
   "metadata": {},
   "source": [
    "# 리스트 버전"
   ]
  },
  {
   "cell_type": "code",
   "execution_count": 86,
   "id": "21fb5190-89f6-4f34-9952-2b6780d65543",
   "metadata": {},
   "outputs": [
    {
     "name": "stdout",
     "output_type": "stream",
     "text": [
      "--------------------------------------------\n",
      "어서오세요 천억커피에 온 것을 환영\n",
      "1.에스프레소:3000\n",
      "2.라떼:5000\n",
      "3.아메리카노:4000\n"
     ]
    },
    {
     "name": "stdin",
     "output_type": "stream",
     "text": [
      "주문할 메뉴번호 입력:  1\n",
      "주문할 수량 입력:  2\n"
     ]
    },
    {
     "name": "stdout",
     "output_type": "stream",
     "text": [
      "주문하신 메뉴는 에스프레소입니다. 결제하실 금액은 6,000원\n",
      "--------------------------------------------\n"
     ]
    }
   ],
   "source": [
    "store_name = '천억커피'\n",
    "menu = ['에스프레소', '라떼', '아메리카노']\n",
    "price = [3000, 5000, 4000]\n",
    "\n",
    "print('-'*44)\n",
    "print(f'어서오세요 {store_name}에 온 것을 환영')\n",
    "\n",
    "for i in range(len(menu)):\n",
    "    print(f'{i+1}.{menu[i]}:{price[i]}')\n",
    "    \n",
    "ord_num = int(input('주문할 메뉴번호 입력: '))\n",
    "qty = int(input('주문할 수량 입력: '))\n",
    "total = qty*price[ord_num-1]\n",
    "menut = menu[ord_num-1]\n",
    "\n",
    "print(f'주문하신 메뉴는 {menut}입니다. 결제하실 금액은 {total:,}원')\n",
    "print('-'*44)"
   ]
  },
  {
   "cell_type": "markdown",
   "id": "bd312d98-6092-4e2d-9640-aaaa9dadb0ba",
   "metadata": {},
   "source": [
    "# 사전형 버전\n"
   ]
  },
  {
   "cell_type": "code",
   "execution_count": 95,
   "id": "cb33d55b-dd48-4cbe-9a76-5ecc2f56b2bb",
   "metadata": {},
   "outputs": [
    {
     "name": "stdout",
     "output_type": "stream",
     "text": [
      "1.에스프레소,3000\n",
      "2.아메리카노,4000\n",
      "3.라떼,5000\n",
      "4.말차,7000\n"
     ]
    },
    {
     "name": "stdin",
     "output_type": "stream",
     "text": [
      "주문할 메뉴번호 입력:  1\n",
      "주문할 수량 입력:  2\n"
     ]
    },
    {
     "name": "stdout",
     "output_type": "stream",
     "text": [
      "주문하신 메뉴는 에스프레소입니다. 결제하실 금액은 6,000원\n",
      "--------------------------------------------\n"
     ]
    }
   ],
   "source": [
    "store_name = '천억커피'\n",
    "menu = [\n",
    "    {'name':'에스프레소', 'price': 3000},\n",
    "    {'name':'아메리카노', 'price': 4000 },\n",
    "    {'name':'라떼', 'price': 5000},\n",
    "    {'name':'말차', 'price': 7000}\n",
    "]\n",
    "\n",
    "for i, m in enumerate(menu):\n",
    "    #print(i+1,m)\n",
    "    print(f'{i+1}.{m['name']},{m['price']}')\n",
    "    \n",
    "ord_num = int(input('주문할 메뉴번호 입력: '))-1\n",
    "qty = int(input('주문할 수량 입력: '))\n",
    "total = qty*menu[ord_num]['price']\n",
    "menut = menu[ord_num]['name']\n",
    "\n",
    "\n",
    "print(f'주문하신 메뉴는 {menut}입니다. 결제하실 금액은 {total:,}원')\n",
    "print('-'*44)"
   ]
  },
  {
   "cell_type": "code",
   "execution_count": 117,
   "id": "5b87844d-5098-4fb4-8e96-9ea54190732a",
   "metadata": {},
   "outputs": [
    {
     "name": "stdout",
     "output_type": "stream",
     "text": [
      "============================================\n",
      "\t빵꾸똥꾸 문구야\n",
      "\t에 오신 것을 환영합니다!\n",
      "============================================\n",
      "번호    제품명            가격\n",
      "--------------------------------------------\n",
      "1     샤프          6,000원\n",
      "2     볼펜          3,000원\n",
      "3     지우개         1,000원\n",
      "4     화이트         3,000원\n",
      "5     공책          3,500원\n",
      "--------------------------------------------\n"
     ]
    },
    {
     "name": "stdin",
     "output_type": "stream",
     "text": [
      "주문하실 제품 번호를 선택하세요 2\n",
      "주문할 수량 입력:  2\n"
     ]
    },
    {
     "name": "stdout",
     "output_type": "stream",
     "text": [
      "주문하신 메뉴는 볼펜입니다. 결제하실 금액은 6,000원\n",
      "--------------------------------------------\n"
     ]
    }
   ],
   "source": [
    "print('='*44)\n",
    "store_name = '빵꾸똥꾸 문구야'\n",
    "print(f'\\t{store_name}\\n\\t에 오신 것을 환영합니다!')\n",
    "print('='*44)\n",
    "\n",
    "print(f'{\"번호\":<5} {\"제품명\":<10} {\"가격\":>6}')\n",
    "print('-'*44)\n",
    "\n",
    "menu = [\n",
    "    {'name':'샤프', 'price': 6000},\n",
    "    {'name':'볼펜', 'price': 3000 },\n",
    "    {'name':'지우개', 'price': 1000},\n",
    "    {'name':'화이트', 'price': 3000},\n",
    "    {'name':'공책', 'price': 3500}\n",
    "]\n",
    "\n",
    "# 내용출력\n",
    "for i, m in enumerate(menu):\n",
    "    print(f'{i+1:<5} {m[\"name\"]:<10} {m[\"price\"]:>6,}원')\n",
    "\n",
    "print('-'*44)\n",
    "\n",
    "ord_num = int(input('주문하실 제품 번호를 선택하세요'))-1\n",
    "qty = int(input('주문할 수량 입력: '))\n",
    "total = qty*menu[ord_num]['price']\n",
    "menut = menu[ord_num]['name']\n",
    "\n",
    "print(f'주문하신 메뉴는 {menut}입니다. 결제하실 금액은 {total:,}원')\n",
    "print('-'*44)"
   ]
  },
  {
   "cell_type": "code",
   "execution_count": 133,
   "id": "99c290f8-4697-40ef-a22a-a8714877c375",
   "metadata": {},
   "outputs": [
    {
     "name": "stdout",
     "output_type": "stream",
     "text": [
      "\n",
      "============================================\n",
      "      고객님이 선택하신 제품은      \n",
      "\t볼펜2개입니다\n"
     ]
    },
    {
     "name": "stdin",
     "output_type": "stream",
     "text": [
      "더 주문하시겠습니다? (y/n) n\n"
     ]
    },
    {
     "name": "stdout",
     "output_type": "stream",
     "text": [
      "주문하신 금액은 6000입니다\n"
     ]
    },
    {
     "name": "stdin",
     "output_type": "stream",
     "text": [
      "포인트를 적립하시겠습니까? (y/n) n\n"
     ]
    },
    {
     "name": "stdout",
     "output_type": "stream",
     "text": [
      "============================================\n"
     ]
    }
   ],
   "source": [
    "print('\\n' + '=' * 44)\n",
    "print(f'{\"고객님이 선택하신 제품은\":^25}')\n",
    "\n",
    "print(f'\\t{menut}{qty}개입니다')\n",
    "\n",
    "\n",
    "a = input('더 주문하시겠습니다? (y/n)')\n",
    "if a =='n':\n",
    "    print(f'주문하신 금액은 {total}입니다')\n",
    "    input('포인트를 적립하시겠습니까? (y/n)')\n",
    "    \n",
    "print('=' * 44)"
   ]
  },
  {
   "cell_type": "code",
   "execution_count": 134,
   "id": "d92f8cfe-cc79-4ef2-8be1-34920385dc48",
   "metadata": {},
   "outputs": [
    {
     "name": "stdout",
     "output_type": "stream",
     "text": [
      "============================================\n",
      "\t고객님이 선택하신 제품은\n",
      "\t볼펜입니다. \n",
      "\t몇 개를 드릴까요?\n",
      "\n"
     ]
    },
    {
     "name": "stdin",
     "output_type": "stream",
     "text": [
      "\t수량을 숫자로 입력하세요:  2\n"
     ]
    },
    {
     "name": "stdout",
     "output_type": "stream",
     "text": [
      "============================================\n"
     ]
    }
   ],
   "source": [
    "print('='*44)\n",
    "print(f'\\t고객님이 선택하신 제품은\\n\\t{menut}입니다. \\n\\t몇 개를 드릴까요?\\n')\n",
    "qty = int(input('\\t수량을 숫자로 입력하세요: '))\n",
    "print('='*44)"
   ]
  },
  {
   "cell_type": "code",
   "execution_count": 138,
   "id": "257eb67a-ccd0-41c3-a973-0875ab2e3103",
   "metadata": {},
   "outputs": [
    {
     "name": "stdout",
     "output_type": "stream",
     "text": [
      "============================================\n",
      "\t빵꾸똥꾸 문구야\n",
      "\t에 오신 것을 환영합니다!\n",
      "============================================\n",
      "번호    제품명            가격\n",
      "--------------------------------------------\n",
      "1     샤프          6,000원\n",
      "2     볼펜          3,000원\n",
      "3     지우개         1,000원\n",
      "4     화이트         3,000원\n",
      "5     공책          3,500원\n",
      "--------------------------------------------\n"
     ]
    },
    {
     "name": "stdin",
     "output_type": "stream",
     "text": [
      "주문하실 제품 번호를 선택하세요 4\n",
      "주문할 수량 입력:  5\n"
     ]
    },
    {
     "name": "stdout",
     "output_type": "stream",
     "text": [
      "주문하신 메뉴는 화이트입니다. 결제하실 금액은 15,000원\n",
      "--------------------------------------------\n",
      "============================================\n",
      "\t고객님이 선택하신 제품은\n",
      "\t화이트입니다. \n",
      "\t몇 개를 드릴까요?\n",
      "\n"
     ]
    },
    {
     "name": "stdin",
     "output_type": "stream",
     "text": [
      "\t수량을 숫자로 입력하세요:  5\n"
     ]
    },
    {
     "name": "stdout",
     "output_type": "stream",
     "text": [
      "============================================\n",
      "\n",
      "============================================\n",
      "      고객님이 선택하신 제품은      \n",
      "\t화이트5개입니다\n"
     ]
    },
    {
     "name": "stdin",
     "output_type": "stream",
     "text": [
      "더 주문하시겠습니까? (y/n) n\n"
     ]
    },
    {
     "name": "stdout",
     "output_type": "stream",
     "text": [
      "주문하신 금액은 15000입니다\n"
     ]
    },
    {
     "name": "stdin",
     "output_type": "stream",
     "text": [
      "포인트를 적립하시겠습니까? (y/n) y\n"
     ]
    },
    {
     "name": "stdout",
     "output_type": "stream",
     "text": [
      "============================================\n",
      "============================================\n"
     ]
    },
    {
     "name": "stdin",
     "output_type": "stream",
     "text": [
      "전화번호를 입력해 주세요: 1997\n"
     ]
    },
    {
     "name": "stdout",
     "output_type": "stream",
     "text": [
      "============================================\n",
      "user_1997 고객님의 적립포인트는 500점 입니다.\n",
      "============================================\n",
      "============================================\n",
      "            결제가 완료되었습니다.             \n",
      "             잠시만 기다려주세요.             \n",
      "                 감사합니다.                 \n",
      "============================================\n"
     ]
    }
   ],
   "source": [
    "print('='*44)\n",
    "store_name = '빵꾸똥꾸 문구야'\n",
    "print(f'\\t{store_name}\\n\\t에 오신 것을 환영합니다!')\n",
    "print('='*44)\n",
    "\n",
    "print(f'{\"번호\":<5} {\"제품명\":<10} {\"가격\":>6}')\n",
    "print('-'*44)\n",
    "\n",
    "menu = [\n",
    "    {'name':'샤프', 'price': 6000},\n",
    "    {'name':'볼펜', 'price': 3000 },\n",
    "    {'name':'지우개', 'price': 1000},\n",
    "    {'name':'화이트', 'price': 3000},\n",
    "    {'name':'공책', 'price': 3500}\n",
    "]\n",
    "\n",
    "# 내용출력\n",
    "for i, m in enumerate(menu):\n",
    "    print(f'{i+1:<5} {m[\"name\"]:<10} {m[\"price\"]:>6,}원')\n",
    "\n",
    "print('-'*44)\n",
    "\n",
    "ord_num = int(input('주문하실 제품 번호를 선택하세요'))-1\n",
    "qty = int(input('주문할 수량 입력: '))\n",
    "total = qty*menu[ord_num]['price']\n",
    "menut = menu[ord_num]['name']\n",
    "\n",
    "print(f'주문하신 메뉴는 {menut}입니다. 결제하실 금액은 {total:,}원')\n",
    "print('-'*44)\n",
    "\n",
    "\n",
    "\n",
    "print('='*44)\n",
    "print(f'\\t고객님이 선택하신 제품은\\n\\t{menut}입니다. \\n\\t몇 개를 드릴까요?\\n')\n",
    "qty = int(input('\\t수량을 숫자로 입력하세요: '))\n",
    "print('='*44)\n",
    "\n",
    "\n",
    "\n",
    "print('\\n' + '=' * 44)\n",
    "print(f'{\"고객님이 선택하신 제품은\":^25}')\n",
    "\n",
    "print(f'\\t{menut}{qty}개입니다')\n",
    "\n",
    "\n",
    "a = input('더 주문하시겠습니까? (y/n)')\n",
    "if a =='n':\n",
    "    print(f'주문하신 금액은 {total}입니다')\n",
    "    input('포인트를 적립하시겠습니까? (y/n)')\n",
    "    \n",
    "print('=' * 44)\n",
    "\n",
    "\n",
    "\n",
    "print('='*44)\n",
    "phone=input('전화번호를 입력해 주세요:')\n",
    "\n",
    "user_id=f'user_{phone[-4:]}'\n",
    "\n",
    "point=500\n",
    "\n",
    "print('='*44)\n",
    "print(f'{user_id} 고객님의 적립포인트는 {point:,}점 입니다.')\n",
    "print('='*44)\n",
    "\n",
    "\n",
    "\n",
    "print('='*44)\n",
    "print(f'{\"결제가 완료되었습니다.\":^37}')\n",
    "print(f'{\"잠시만 기다려주세요.\":^37}')\n",
    "print(f'{\"감사합니다.\":^40}')\n",
    "print('='*44)"
   ]
  },
  {
   "cell_type": "code",
   "execution_count": 138,
   "id": "e16e7cda-19a3-43be-96b5-af474177b832",
   "metadata": {},
   "outputs": [
    {
     "name": "stdout",
     "output_type": "stream",
     "text": [
      "============================================\n",
      "\t빵꾸똥꾸 문구야\n",
      "\t에 오신 것을 환영합니다!\n",
      "============================================\n",
      "번호    제품명            가격\n",
      "--------------------------------------------\n",
      "1     샤프          6,000원\n",
      "2     볼펜          3,000원\n",
      "3     지우개         1,000원\n",
      "4     화이트         3,000원\n",
      "5     공책          3,500원\n",
      "--------------------------------------------\n"
     ]
    },
    {
     "name": "stdin",
     "output_type": "stream",
     "text": [
      "주문하실 제품 번호를 선택하세요 4\n",
      "주문할 수량 입력:  5\n"
     ]
    },
    {
     "name": "stdout",
     "output_type": "stream",
     "text": [
      "주문하신 메뉴는 화이트입니다. 결제하실 금액은 15,000원\n",
      "--------------------------------------------\n",
      "============================================\n",
      "\t고객님이 선택하신 제품은\n",
      "\t화이트입니다. \n",
      "\t몇 개를 드릴까요?\n",
      "\n"
     ]
    },
    {
     "name": "stdin",
     "output_type": "stream",
     "text": [
      "\t수량을 숫자로 입력하세요:  5\n"
     ]
    },
    {
     "name": "stdout",
     "output_type": "stream",
     "text": [
      "============================================\n",
      "\n",
      "============================================\n",
      "      고객님이 선택하신 제품은      \n",
      "\t화이트5개입니다\n"
     ]
    },
    {
     "name": "stdin",
     "output_type": "stream",
     "text": [
      "더 주문하시겠습니까? (y/n) n\n"
     ]
    },
    {
     "name": "stdout",
     "output_type": "stream",
     "text": [
      "주문하신 금액은 15000입니다\n"
     ]
    },
    {
     "name": "stdin",
     "output_type": "stream",
     "text": [
      "포인트를 적립하시겠습니까? (y/n) y\n"
     ]
    },
    {
     "name": "stdout",
     "output_type": "stream",
     "text": [
      "============================================\n",
      "============================================\n"
     ]
    },
    {
     "name": "stdin",
     "output_type": "stream",
     "text": [
      "전화번호를 입력해 주세요: 1997\n"
     ]
    },
    {
     "name": "stdout",
     "output_type": "stream",
     "text": [
      "============================================\n",
      "user_1997 고객님의 적립포인트는 500점 입니다.\n",
      "============================================\n",
      "============================================\n",
      "            결제가 완료되었습니다.             \n",
      "             잠시만 기다려주세요.             \n",
      "                 감사합니다.                 \n",
      "============================================\n"
     ]
    }
   ],
   "source": [
    "print('='*44)\n",
    "store_name = '빵꾸똥꾸 문구야'\n",
    "print(f'\\t{store_name}\\n\\t에 오신 것을 환영합니다!')\n",
    "print('='*44)\n",
    "\n",
    "print(f'{\"번호\":<5} {\"제품명\":<10} {\"가격\":>6}')\n",
    "print('-'*44)\n",
    "\n",
    "menu = [\n",
    "    {'name':'샤프', 'price': 6000},\n",
    "    {'name':'볼펜', 'price': 3000 },\n",
    "    {'name':'지우개', 'price': 1000},\n",
    "    {'name':'화이트', 'price': 3000},\n",
    "    {'name':'공책', 'price': 3500}\n",
    "]\n",
    "\n",
    "# 내용출력\n",
    "for i, m in enumerate(menu):\n",
    "    print(f'{i+1:<5} {m[\"name\"]:<10} {m[\"price\"]:>6,}원')\n",
    "\n",
    "print('-'*44)\n",
    "\n",
    "ord_num = int(input('주문하실 제품 번호를 선택하세요'))-1\n",
    "qty = int(input('주문할 수량 입력: '))\n",
    "total = qty*menu[ord_num]['price']\n",
    "menut = menu[ord_num]['name']\n",
    "\n",
    "print(f'주문하신 메뉴는 {menut}입니다. 결제하실 금액은 {total:,}원')\n",
    "print('-'*44)\n",
    "\n",
    "\n",
    "\n",
    "print('='*44)\n",
    "print(f'\\t고객님이 선택하신 제품은\\n\\t{menut}입니다. \\n\\t몇 개를 드릴까요?\\n')\n",
    "qty = int(input('\\t수량을 숫자로 입력하세요: '))\n",
    "print('='*44)\n",
    "\n",
    "\n",
    "\n",
    "print('\\n' + '=' * 44)\n",
    "print(f'{\"고객님이 선택하신 제품은\":^25}')\n",
    "\n",
    "print(f'\\t{menut}{qty}개입니다')\n",
    "\n",
    "\n",
    "a = input('더 주문하시겠습니까? (y/n)')\n",
    "if a =='n':\n",
    "    print(f'주문하신 금액은 {total}입니다')\n",
    "    input('포인트를 적립하시겠습니까? (y/n)')\n",
    "    \n",
    "print('=' * 44)\n",
    "\n",
    "\n",
    "\n",
    "print('='*44)\n",
    "phone=input('전화번호를 입력해 주세요:')\n",
    "\n",
    "user_id=f'user_{phone[-4:]}'\n",
    "\n",
    "point=500\n",
    "\n",
    "print('='*44)\n",
    "print(f'{user_id} 고객님의 적립포인트는 {point:,}점 입니다.')\n",
    "print('='*44)\n",
    "\n",
    "\n",
    "\n",
    "print('='*44)\n",
    "print(f'{\"결제가 완료되었습니다.\":^37}')\n",
    "print(f'{\"잠시만 기다려주세요.\":^37}')\n",
    "print(f'{\"감사합니다.\":^40}')\n",
    "print('='*44)"
   ]
  },
  {
   "cell_type": "code",
   "execution_count": 138,
   "id": "5dbd895d-fed8-4dd1-a35c-b7ca765086c3",
   "metadata": {},
   "outputs": [
    {
     "name": "stdout",
     "output_type": "stream",
     "text": [
      "============================================\n",
      "\t빵꾸똥꾸 문구야\n",
      "\t에 오신 것을 환영합니다!\n",
      "============================================\n",
      "번호    제품명            가격\n",
      "--------------------------------------------\n",
      "1     샤프          6,000원\n",
      "2     볼펜          3,000원\n",
      "3     지우개         1,000원\n",
      "4     화이트         3,000원\n",
      "5     공책          3,500원\n",
      "--------------------------------------------\n"
     ]
    },
    {
     "name": "stdin",
     "output_type": "stream",
     "text": [
      "주문하실 제품 번호를 선택하세요 4\n",
      "주문할 수량 입력:  5\n"
     ]
    },
    {
     "name": "stdout",
     "output_type": "stream",
     "text": [
      "주문하신 메뉴는 화이트입니다. 결제하실 금액은 15,000원\n",
      "--------------------------------------------\n",
      "============================================\n",
      "\t고객님이 선택하신 제품은\n",
      "\t화이트입니다. \n",
      "\t몇 개를 드릴까요?\n",
      "\n"
     ]
    },
    {
     "name": "stdin",
     "output_type": "stream",
     "text": [
      "\t수량을 숫자로 입력하세요:  5\n"
     ]
    },
    {
     "name": "stdout",
     "output_type": "stream",
     "text": [
      "============================================\n",
      "\n",
      "============================================\n",
      "      고객님이 선택하신 제품은      \n",
      "\t화이트5개입니다\n"
     ]
    },
    {
     "name": "stdin",
     "output_type": "stream",
     "text": [
      "더 주문하시겠습니까? (y/n) n\n"
     ]
    },
    {
     "name": "stdout",
     "output_type": "stream",
     "text": [
      "주문하신 금액은 15000입니다\n"
     ]
    },
    {
     "name": "stdin",
     "output_type": "stream",
     "text": [
      "포인트를 적립하시겠습니까? (y/n) y\n"
     ]
    },
    {
     "name": "stdout",
     "output_type": "stream",
     "text": [
      "============================================\n",
      "============================================\n"
     ]
    },
    {
     "name": "stdin",
     "output_type": "stream",
     "text": [
      "전화번호를 입력해 주세요: 1997\n"
     ]
    },
    {
     "name": "stdout",
     "output_type": "stream",
     "text": [
      "============================================\n",
      "user_1997 고객님의 적립포인트는 500점 입니다.\n",
      "============================================\n",
      "============================================\n",
      "            결제가 완료되었습니다.             \n",
      "             잠시만 기다려주세요.             \n",
      "                 감사합니다.                 \n",
      "============================================\n"
     ]
    }
   ],
   "source": [
    "print('='*44)\n",
    "store_name = '빵꾸똥꾸 문구야'\n",
    "print(f'\\t{store_name}\\n\\t에 오신 것을 환영합니다!')\n",
    "print('='*44)\n",
    "\n",
    "print(f'{\"번호\":<5} {\"제품명\":<10} {\"가격\":>6}')\n",
    "print('-'*44)\n",
    "\n",
    "menu = [\n",
    "    {'name':'샤프', 'price': 6000},\n",
    "    {'name':'볼펜', 'price': 3000 },\n",
    "    {'name':'지우개', 'price': 1000},\n",
    "    {'name':'화이트', 'price': 3000},\n",
    "    {'name':'공책', 'price': 3500}\n",
    "]\n",
    "\n",
    "# 내용출력\n",
    "for i, m in enumerate(menu):\n",
    "    print(f'{i+1:<5} {m[\"name\"]:<10} {m[\"price\"]:>6,}원')\n",
    "\n",
    "print('-'*44)\n",
    "\n",
    "ord_num = int(input('주문하실 제품 번호를 선택하세요'))-1\n",
    "qty = int(input('주문할 수량 입력: '))\n",
    "total = qty*menu[ord_num]['price']\n",
    "menut = menu[ord_num]['name']\n",
    "\n",
    "print(f'주문하신 메뉴는 {menut}입니다. 결제하실 금액은 {total:,}원')\n",
    "print('-'*44)\n",
    "\n",
    "\n",
    "\n",
    "print('='*44)\n",
    "print(f'\\t고객님이 선택하신 제품은\\n\\t{menut}입니다. \\n\\t몇 개를 드릴까요?\\n')\n",
    "qty = int(input('\\t수량을 숫자로 입력하세요: '))\n",
    "print('='*44)\n",
    "\n",
    "\n",
    "\n",
    "print('\\n' + '=' * 44)\n",
    "print(f'{\"고객님이 선택하신 제품은\":^25}')\n",
    "\n",
    "print(f'\\t{menut}{qty}개입니다')\n",
    "\n",
    "\n",
    "a = input('더 주문하시겠습니까? (y/n)')\n",
    "if a =='n':\n",
    "    print(f'주문하신 금액은 {total}입니다')\n",
    "    input('포인트를 적립하시겠습니까? (y/n)')\n",
    "    \n",
    "print('=' * 44)\n",
    "\n",
    "\n",
    "\n",
    "print('='*44)\n",
    "phone=input('전화번호를 입력해 주세요:')\n",
    "\n",
    "user_id=f'user_{phone[-4:]}'\n",
    "\n",
    "point=500\n",
    "\n",
    "print('='*44)\n",
    "print(f'{user_id} 고객님의 적립포인트는 {point:,}점 입니다.')\n",
    "print('='*44)\n",
    "\n",
    "\n",
    "\n",
    "print('='*44)\n",
    "print(f'{\"결제가 완료되었습니다.\":^37}')\n",
    "print(f'{\"잠시만 기다려주세요.\":^37}')\n",
    "print(f'{\"감사합니다.\":^40}')\n",
    "print('='*44)"
   ]
  },
  {
   "cell_type": "code",
   "execution_count": 140,
   "id": "0992ce8b-9b64-4815-8fca-78c47a57eccc",
   "metadata": {},
   "outputs": [
    {
     "name": "stdout",
     "output_type": "stream",
     "text": [
      "============================================\n",
      "\t       빵꾸똥꾸 문구야\n",
      "           에 오신 것을 환영합니다!\n",
      "============================================\n",
      "번호    제품명            가격\n",
      "--------------------------------------------\n",
      "1     샤프          6,000원\n",
      "2     볼펜          3,000원\n",
      "3     지우개         1,000원\n",
      "4     화이트         3,000원\n",
      "5     공책          3,500원\n",
      "--------------------------------------------\n"
     ]
    },
    {
     "name": "stdin",
     "output_type": "stream",
     "text": [
      "주문하실 제품 번호를 선택하세요:  5\n"
     ]
    },
    {
     "name": "stdout",
     "output_type": "stream",
     "text": [
      "============================================\n",
      "\t고객님이 선택하신 제품은\n",
      "\t공책입니다. \n",
      "\t몇 개를 드릴까요?\n",
      "\n"
     ]
    },
    {
     "name": "stdin",
     "output_type": "stream",
     "text": [
      "\t수량을 숫자로 입력하세요:  1\n"
     ]
    },
    {
     "name": "stdout",
     "output_type": "stream",
     "text": [
      "============================================\n",
      "            고객님이 선택하신 제품은            \n",
      "\t\t공책 1개입니다\n"
     ]
    },
    {
     "name": "stdin",
     "output_type": "stream",
     "text": [
      "더 주문하시겠습니까? (y/n):  n\n"
     ]
    },
    {
     "name": "stdout",
     "output_type": "stream",
     "text": [
      "\n",
      "주문하신 금액은 3,500원입니다\n",
      "============================================\n"
     ]
    },
    {
     "name": "stdin",
     "output_type": "stream",
     "text": [
      "포인트를 적립하시겠습니까? (y/n):  y\n"
     ]
    },
    {
     "name": "stdout",
     "output_type": "stream",
     "text": [
      "============================================\n"
     ]
    },
    {
     "name": "stdin",
     "output_type": "stream",
     "text": [
      "전화번호를 입력해 주세요:  ert\n"
     ]
    },
    {
     "name": "stdout",
     "output_type": "stream",
     "text": [
      "============================================\n",
      "user_ert 고객님의 적립포인트는 500점 입니다.\n",
      "============================================\n",
      "            결제가 완료되었습니다.             \n",
      "             잠시만 기다려주세요.             \n",
      "                 감사합니다.                 \n",
      "============================================\n"
     ]
    }
   ],
   "source": [
    "print('='*44)\n",
    "space=' '*7\n",
    "store_name = '빵꾸똥꾸 문구야'\n",
    "print(f'\\t{space}{store_name}')\n",
    "print(f'{\"에 오신 것을 환영합니다!\":>25}')\n",
    "print('='*44)\n",
    "\n",
    "print(f'{\"번호\":<5} {\"제품명\":<10} {\"가격\":>6}')\n",
    "print('-'*44)\n",
    "\n",
    "menu = [\n",
    "    {'name':'샤프', 'price': 6000},\n",
    "    {'name':'볼펜', 'price': 3000 },\n",
    "    {'name':'지우개', 'price': 1000},\n",
    "    {'name':'화이트', 'price': 3000},\n",
    "    {'name':'공책', 'price': 3500}\n",
    "]\n",
    "\n",
    "# 메뉴 출력\n",
    "for i, m in enumerate(menu):\n",
    "    print(f'{i+1:<5} {m[\"name\"]:<10} {m[\"price\"]:>6,}원')\n",
    "\n",
    "print('-'*44)\n",
    "\n",
    "# 주문 입력\n",
    "ord_num = int(input('주문하실 제품 번호를 선택하세요: ')) - 1\n",
    "menut = menu[ord_num]['name']\n",
    "\n",
    "print('='*44)\n",
    "print(f'\\t고객님이 선택하신 제품은\\n\\t{menut}입니다. \\n\\t몇 개를 드릴까요?\\n')\n",
    "qty = int(input('\\t수량을 숫자로 입력하세요: '))\n",
    "total = qty * menu[ord_num]['price']\n",
    "\n",
    "# 확인 및 추가 주문 여부\n",
    "print('='*44)\n",
    "print(f'{\"고객님이 선택하신 제품은\":^37}')\n",
    "print(f'\\t\\t{menut} {qty}개입니다')\n",
    "\n",
    "a = input('더 주문하시겠습니까? (y/n): ')\n",
    "\n",
    "if a.lower() == 'n':\n",
    "    print(f'\\n주문하신 금액은 {total:,}원입니다')\n",
    "    print('='*44)\n",
    "    input('포인트를 적립하시겠습니까? (y/n): ')\n",
    "\n",
    "# 고객정보 및 포인트\n",
    "print('='*44)\n",
    "phone = input('전화번호를 입력해 주세요: ')\n",
    "user_id = f'user_{phone[-4:]}'\n",
    "point = 500\n",
    "print('='*44)\n",
    "print(f'{user_id} 고객님의 적립포인트는 {point:,}점 입니다.')\n",
    "print('='*44)\n",
    "\n",
    "# 결제 완료 화면\n",
    "print(f'{\"결제가 완료되었습니다.\":^37}')\n",
    "print(f'{\"잠시만 기다려주세요.\":^37}')\n",
    "print(f'{\"감사합니다.\":^40}')\n",
    "print('='*44)\n",
    "\n"
   ]
  },
  {
   "cell_type": "code",
   "execution_count": null,
   "id": "c354a7a3-fd50-40a7-8f85-060121bd632e",
   "metadata": {},
   "outputs": [],
   "source": []
  },
  {
   "cell_type": "code",
   "execution_count": null,
   "id": "4b59b7f0-c4b8-4843-ba5e-8ae81fd73c56",
   "metadata": {},
   "outputs": [],
   "source": []
  },
  {
   "cell_type": "code",
   "execution_count": null,
   "id": "210a95ae-9b85-4967-ae43-5b3548f78b4d",
   "metadata": {},
   "outputs": [],
   "source": []
  },
  {
   "cell_type": "code",
   "execution_count": null,
   "id": "52f789eb-59af-4148-ac11-a23f936d8551",
   "metadata": {},
   "outputs": [],
   "source": []
  },
  {
   "cell_type": "code",
   "execution_count": null,
   "id": "e78faf43-c51e-4244-a9ee-429beafb21e5",
   "metadata": {},
   "outputs": [],
   "source": []
  },
  {
   "cell_type": "code",
   "execution_count": null,
   "id": "7b09e880-2905-488e-af6c-d9488ef0168b",
   "metadata": {},
   "outputs": [],
   "source": []
  },
  {
   "cell_type": "code",
   "execution_count": null,
   "id": "54a083bb-96ee-4ca1-b7a4-585bd77c5b63",
   "metadata": {},
   "outputs": [],
   "source": []
  },
  {
   "cell_type": "code",
   "execution_count": null,
   "id": "c7a4dc01-4757-403c-893d-ad00b0040b32",
   "metadata": {},
   "outputs": [],
   "source": []
  },
  {
   "cell_type": "code",
   "execution_count": null,
   "id": "a1321ce5-2ad7-4de4-a18b-dd359ab20587",
   "metadata": {},
   "outputs": [],
   "source": []
  },
  {
   "cell_type": "code",
   "execution_count": null,
   "id": "ea23dbb4-9890-4442-8467-9a78dfc121c4",
   "metadata": {},
   "outputs": [],
   "source": []
  },
  {
   "cell_type": "code",
   "execution_count": null,
   "id": "98f8f9a6-4318-465b-85f6-dbdeff5ecc07",
   "metadata": {},
   "outputs": [],
   "source": []
  },
  {
   "cell_type": "code",
   "execution_count": null,
   "id": "4729309e-4e8c-4835-8114-e2d6b4257e12",
   "metadata": {},
   "outputs": [],
   "source": []
  },
  {
   "cell_type": "code",
   "execution_count": null,
   "id": "36f829f9-0cbc-423d-9160-46195deb49b7",
   "metadata": {},
   "outputs": [],
   "source": []
  },
  {
   "cell_type": "code",
   "execution_count": null,
   "id": "26e5a6ca-3aae-4b9e-8ac6-6252308dc267",
   "metadata": {},
   "outputs": [],
   "source": []
  },
  {
   "cell_type": "code",
   "execution_count": null,
   "id": "2d34fc21-2d2b-4753-a9bc-ee929c707c33",
   "metadata": {},
   "outputs": [],
   "source": []
  },
  {
   "cell_type": "code",
   "execution_count": null,
   "id": "a1e9d0d2-76d6-4b39-8943-02de638bafe9",
   "metadata": {},
   "outputs": [],
   "source": []
  },
  {
   "cell_type": "code",
   "execution_count": null,
   "id": "6735ee81-49de-4e75-9b99-072184f1d4e2",
   "metadata": {},
   "outputs": [],
   "source": []
  },
  {
   "cell_type": "code",
   "execution_count": null,
   "id": "0c383196-8937-416d-9c50-a7b2cbcc2079",
   "metadata": {},
   "outputs": [],
   "source": []
  }
 ],
 "metadata": {
  "kernelspec": {
   "display_name": "Python 3 (ipykernel)",
   "language": "python",
   "name": "python3"
  },
  "language_info": {
   "codemirror_mode": {
    "name": "ipython",
    "version": 3
   },
   "file_extension": ".py",
   "mimetype": "text/x-python",
   "name": "python",
   "nbconvert_exporter": "python",
   "pygments_lexer": "ipython3",
   "version": "3.12.9"
  }
 },
 "nbformat": 4,
 "nbformat_minor": 5
}
