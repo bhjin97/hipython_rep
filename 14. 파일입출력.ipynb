{
 "cells": [
  {
   "cell_type": "markdown",
   "id": "07fc2269",
   "metadata": {},
   "source": [
    "# 파일 읽기"
   ]
  },
  {
   "cell_type": "code",
   "execution_count": null,
   "id": "b8f94b15",
   "metadata": {},
   "outputs": [],
   "source": [
    "# abc 폴더는 만들어줘야함 -> 폴더 만드는 권한은 없음/파일과 다름\n",
    "with open(\"abc/text.txt\",'w') as f:\n",
    "    f.write('hello')\n",
    "   "
   ]
  },
  {
   "cell_type": "code",
   "execution_count": 6,
   "id": "cf51d45a",
   "metadata": {},
   "outputs": [],
   "source": [
    " f = open(\"abc/text.txt\",'r')\n",
    " f.read()\n",
    " f.close()"
   ]
  },
  {
   "cell_type": "code",
   "execution_count": 28,
   "id": "eb1d4ed6",
   "metadata": {},
   "outputs": [],
   "source": [
    "# abc 폴더는 만들어줘야함 -> 폴더 만드는 권한은 없음/파일과 다름\n",
    "with open(\"abc/text1.txt\",'w',encoding=\"utf-8\") as f:\n",
    "    f.write('하이요\\n')\n",
    "    f.write('졸리다\\n')\n",
    "   \n",
    "   "
   ]
  },
  {
   "cell_type": "code",
   "execution_count": 30,
   "id": "805610c6",
   "metadata": {},
   "outputs": [
    {
     "name": "stdout",
     "output_type": "stream",
     "text": [
      "하이요\n",
      "졸리다\n",
      "추가합니다\n",
      "야호\n"
     ]
    }
   ],
   "source": [
    "with open(\"abc/text1.txt\",'r',encoding=\"utf-8\") as f:\n",
    "    txtfile=f.read()\n",
    "    print(txtfile)\n",
    "    f.close()"
   ]
  },
  {
   "cell_type": "code",
   "execution_count": 29,
   "id": "7091d382",
   "metadata": {},
   "outputs": [],
   "source": [
    "with open(\"abc/text1.txt\",'a',encoding=\"utf-8\") as f:\n",
    "    f.write('추가합니다\\n')\n",
    "    f.write('야호')\n",
    "   "
   ]
  },
  {
   "cell_type": "code",
   "execution_count": 35,
   "id": "2be41ac8",
   "metadata": {},
   "outputs": [
    {
     "name": "stdout",
     "output_type": "stream",
     "text": [
      "하이요\n",
      "졸리다\n",
      "추가합니다\n",
      "야호\n"
     ]
    }
   ],
   "source": [
    "with open(\"abc/text1.txt\", \"r\", encoding=\"utf-8\") as file:\n",
    "    for i in range(4):\n",
    "        line = file.readline()\n",
    "        print(line.strip())"
   ]
  },
  {
   "cell_type": "code",
   "execution_count": 33,
   "id": "e4479d31",
   "metadata": {},
   "outputs": [
    {
     "name": "stdout",
     "output_type": "stream",
     "text": [
      "하이요\n",
      "졸리다\n",
      "추가합니다\n",
      "야호\n"
     ]
    }
   ],
   "source": [
    "with open(\"abc/text1.txt\", \"r\", encoding=\"utf-8\") as file:\n",
    "    while True:\n",
    "        line = file.readline()\n",
    "        if not line:\n",
    "            break\n",
    "        print(line.strip())\n"
   ]
  },
  {
   "cell_type": "code",
   "execution_count": 38,
   "id": "5f1b80f0",
   "metadata": {},
   "outputs": [
    {
     "name": "stdout",
     "output_type": "stream",
     "text": [
      "하이요\n",
      "졸리다\n",
      "추가합니다\n",
      "야호\n"
     ]
    }
   ],
   "source": [
    "with open(\"abc/text1.txt\", \"r\", encoding=\"utf-8\") as file:\n",
    "    lines = file.readlines()\n",
    "\n",
    "for line in lines:\n",
    "    print(line.strip())"
   ]
  },
  {
   "cell_type": "markdown",
   "id": "989c2a93",
   "metadata": {},
   "source": [
    "# 피클, 직렬화 /  역직렬화"
   ]
  },
  {
   "cell_type": "code",
   "execution_count": 40,
   "id": "a1050390",
   "metadata": {},
   "outputs": [
    {
     "name": "stdout",
     "output_type": "stream",
     "text": [
      "{'name': '홍길동', 'age': 30, 'scores': [90, 85, 88]}\n"
     ]
    }
   ],
   "source": [
    "import pickle\n",
    "\n",
    "# 직렬화할 데이터\n",
    "data = {\n",
    "    'name': '홍길동',\n",
    "    'age': 30,\n",
    "    'scores': [90, 85, 88]\n",
    "}\n",
    "\n",
    "# 직렬화하여 파일에 저장\n",
    "with open('abc/data.pickle', 'wb') as f:\n",
    "    pickle.dump(data, f)\n",
    "\n",
    "# 파일에서 역직렬화하여 읽기\n",
    "with open('abc/data.pickle', 'rb') as f:\n",
    "    loaded_data = pickle.load(f)\n",
    "\n",
    "print(loaded_data)  # 원본 데이터가 그대로 복원됨"
   ]
  },
  {
   "cell_type": "code",
   "execution_count": 41,
   "id": "547e1d77",
   "metadata": {},
   "outputs": [],
   "source": [
    "import json"
   ]
  },
  {
   "cell_type": "code",
   "execution_count": 60,
   "id": "5b170d67",
   "metadata": {},
   "outputs": [],
   "source": [
    "with open('abc/data.json', 'w') as f:\n",
    "    json.dump(data, f, ensure_ascii=False)"
   ]
  },
  {
   "cell_type": "code",
   "execution_count": 61,
   "id": "d2110f89",
   "metadata": {},
   "outputs": [
    {
     "name": "stdout",
     "output_type": "stream",
     "text": [
      "{'name': '홍길동', 'age': 30, 'scores': [90, 85, 88]}\n"
     ]
    }
   ],
   "source": [
    "with open('abc/data.json', 'r') as f:\n",
    "    loaded_txt = json.load(f)\n",
    "\n",
    "print(loaded_txt)"
   ]
  },
  {
   "cell_type": "code",
   "execution_count": null,
   "id": "a25fb22e",
   "metadata": {},
   "outputs": [
    {
     "data": {
      "text/plain": [
       "{'name': ['bob', 'alice'], 'age': [20, 15]}"
      ]
     },
     "execution_count": 74,
     "metadata": {},
     "output_type": "execute_result"
    }
   ],
   "source": [
    "import csv\n",
    "data = ({'name':['bob', 'alice'], 'age':[20, 15]})\n",
    "# data = [['name','age'], ['bob', 20], ['alice', 15]]\n",
    "data"
   ]
  },
  {
   "cell_type": "code",
   "execution_count": null,
   "id": "76bc41ec",
   "metadata": {},
   "outputs": [],
   "source": [
    "# 직렬화하여 파일에 저장\n",
    "with open('abc/data.csv', 'w') as f:\n",
    "    wrt = csv.writer(f)\n",
    "    wrt.writerows(data)\n",
    "import pandas as pd\n",
    "\n",
    "df = pd.DataFrame(data)\n",
    "# df = pd.DataFrame(data[1:], columns=data[0]) # data[1:]\n",
    "df.to_csv('abc/data_df.csv')"
   ]
  },
  {
   "cell_type": "code",
   "execution_count": 76,
   "id": "551afd6f",
   "metadata": {},
   "outputs": [],
   "source": [
    "import pandas as pd\n",
    "\n",
    "df = pd.DataFrame(data)\n",
    "df.to_csv('abc/data_df_csv')"
   ]
  },
  {
   "cell_type": "code",
   "execution_count": 77,
   "id": "a3251811",
   "metadata": {},
   "outputs": [
    {
     "data": {
      "text/html": [
       "<div>\n",
       "<style scoped>\n",
       "    .dataframe tbody tr th:only-of-type {\n",
       "        vertical-align: middle;\n",
       "    }\n",
       "\n",
       "    .dataframe tbody tr th {\n",
       "        vertical-align: top;\n",
       "    }\n",
       "\n",
       "    .dataframe thead th {\n",
       "        text-align: right;\n",
       "    }\n",
       "</style>\n",
       "<table border=\"1\" class=\"dataframe\">\n",
       "  <thead>\n",
       "    <tr style=\"text-align: right;\">\n",
       "      <th></th>\n",
       "      <th>Unnamed: 0</th>\n",
       "      <th>name</th>\n",
       "      <th>age</th>\n",
       "    </tr>\n",
       "  </thead>\n",
       "  <tbody>\n",
       "    <tr>\n",
       "      <th>0</th>\n",
       "      <td>0</td>\n",
       "      <td>bob</td>\n",
       "      <td>20</td>\n",
       "    </tr>\n",
       "    <tr>\n",
       "      <th>1</th>\n",
       "      <td>1</td>\n",
       "      <td>alice</td>\n",
       "      <td>15</td>\n",
       "    </tr>\n",
       "  </tbody>\n",
       "</table>\n",
       "</div>"
      ],
      "text/plain": [
       "   Unnamed: 0   name  age\n",
       "0           0    bob   20\n",
       "1           1  alice   15"
      ]
     },
     "execution_count": 77,
     "metadata": {},
     "output_type": "execute_result"
    }
   ],
   "source": [
    "pd.read_csv('abc/data_df_csv')"
   ]
  },
  {
   "cell_type": "code",
   "execution_count": null,
   "id": "12433edb",
   "metadata": {},
   "outputs": [],
   "source": []
  },
  {
   "cell_type": "code",
   "execution_count": null,
   "id": "5eca2804",
   "metadata": {},
   "outputs": [],
   "source": []
  }
 ],
 "metadata": {
  "kernelspec": {
   "display_name": "hipython",
   "language": "python",
   "name": "python3"
  },
  "language_info": {
   "codemirror_mode": {
    "name": "ipython",
    "version": 3
   },
   "file_extension": ".py",
   "mimetype": "text/x-python",
   "name": "python",
   "nbconvert_exporter": "python",
   "pygments_lexer": "ipython3",
   "version": "3.12.9"
  }
 },
 "nbformat": 4,
 "nbformat_minor": 5
}
