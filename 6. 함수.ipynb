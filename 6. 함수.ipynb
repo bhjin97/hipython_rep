{
 "cells": [
  {
   "cell_type": "markdown",
   "id": "3d758f7a-f0c8-40f7-b8e4-34fa43bda931",
   "metadata": {
    "jp-MarkdownHeadingCollapsed": true
   },
   "source": [
    "# 함수\n",
    "\n",
    "1. 인자 = 매개변수, 입력,파라미터\n",
    "2. 반환값 = 리턴값, 결과값\n",
    "3. 함수이름\n",
    "4. 함수정의 -> 호출"
   ]
  },
  {
   "cell_type": "code",
   "execution_count": 8,
   "id": "2bab937d-193b-475d-8841-05c5aa2c0357",
   "metadata": {},
   "outputs": [
    {
     "name": "stdout",
     "output_type": "stream",
     "text": [
      "hello world\n"
     ]
    },
    {
     "data": {
      "text/plain": [
       "'bye'"
      ]
     },
     "execution_count": 8,
     "metadata": {},
     "output_type": "execute_result"
    }
   ],
   "source": [
    "def my_func():\n",
    "    print('hello world')\n",
    "    return 'bye'\n",
    "my_func()"
   ]
  },
  {
   "cell_type": "code",
   "execution_count": 9,
   "id": "201a5f31-e7b1-49df-b991-173f33afd35f",
   "metadata": {},
   "outputs": [
    {
     "name": "stdout",
     "output_type": "stream",
     "text": [
      "hello world\n",
      "bye\n"
     ]
    }
   ],
   "source": [
    "my_func_var = my_func()\n",
    "print(my_func_var)"
   ]
  },
  {
   "cell_type": "code",
   "execution_count": 10,
   "id": "72dd2152-9c5b-48a5-a99e-35d60e3083fe",
   "metadata": {},
   "outputs": [
    {
     "data": {
      "text/plain": [
       "'bye'"
      ]
     },
     "execution_count": 10,
     "metadata": {},
     "output_type": "execute_result"
    }
   ],
   "source": [
    "my_func_var"
   ]
  },
  {
   "cell_type": "markdown",
   "id": "7cdb10cf-c04c-4606-b55d-e69e3ee2bc90",
   "metadata": {
    "jp-MarkdownHeadingCollapsed": true
   },
   "source": [
    "# 입력값이 있는 함수"
   ]
  },
  {
   "cell_type": "code",
   "execution_count": 13,
   "id": "3b1c21bf-c959-4912-be3e-7e5921f14248",
   "metadata": {},
   "outputs": [
    {
     "name": "stdout",
     "output_type": "stream",
     "text": [
      "10를 계산합니다.\n"
     ]
    }
   ],
   "source": [
    "def my_cal(x):\n",
    "    print(f'{x}를 계산합니다.')\n",
    "my_cal(10)"
   ]
  },
  {
   "cell_type": "code",
   "execution_count": 14,
   "id": "dfb71844-113e-4c48-a37d-1a2b0cc72b16",
   "metadata": {},
   "outputs": [
    {
     "name": "stdout",
     "output_type": "stream",
     "text": [
      "10를 계산합니다.\n"
     ]
    },
    {
     "data": {
      "text/plain": [
       "200"
      ]
     },
     "execution_count": 14,
     "metadata": {},
     "output_type": "execute_result"
    }
   ],
   "source": [
    "def my_cal1(x):\n",
    "    print(f'{x}를 계산합니다.')\n",
    "    y = x*20\n",
    "    return y\n",
    "my_cal1(10)"
   ]
  },
  {
   "cell_type": "code",
   "execution_count": 17,
   "id": "085ec3cf-feec-488e-863c-5893fc4d0f27",
   "metadata": {},
   "outputs": [
    {
     "name": "stdout",
     "output_type": "stream",
     "text": [
      "10와 5를 계산합니다.\n"
     ]
    },
    {
     "data": {
      "text/plain": [
       "(15, 50)"
      ]
     },
     "execution_count": 17,
     "metadata": {},
     "output_type": "execute_result"
    }
   ],
   "source": [
    "def my_cal2(x,y):\n",
    "    print(f'{x}와 {y}를 계산합니다.')\n",
    "    add_result= x+y\n",
    "    mul_result= x*y    \n",
    "    return add_result,mul_result\n",
    "my_cal2(10,5) #함수의 결과는 튜플"
   ]
  },
  {
   "cell_type": "code",
   "execution_count": 19,
   "id": "55b916ad-80ee-4ee0-87e4-35d086e999bb",
   "metadata": {},
   "outputs": [
    {
     "name": "stdout",
     "output_type": "stream",
     "text": [
      "10와 5를 계산합니다.\n"
     ]
    },
    {
     "data": {
      "text/plain": [
       "50"
      ]
     },
     "execution_count": 19,
     "metadata": {},
     "output_type": "execute_result"
    }
   ],
   "source": [
    "a,b=my_cal2(10,5)\n",
    "b"
   ]
  },
  {
   "cell_type": "code",
   "execution_count": null,
   "id": "57e60d55-c793-436d-91ce-d9a98193c022",
   "metadata": {},
   "outputs": [],
   "source": [
    "## 입력값의 타입: 수치형 vs (리스트) 객체형\n",
    "\n",
    "수치형: 값에 의한 전닿 call by value\n",
    "객체형: 값 (참조)의 전달 call by reference > 같은 객체를 다룬다"
   ]
  },
  {
   "cell_type": "code",
   "execution_count": 20,
   "id": "54cb330e-cacb-49c2-a3ca-63593314a258",
   "metadata": {},
   "outputs": [
    {
     "data": {
      "text/plain": [
       "11"
      ]
     },
     "execution_count": 20,
     "metadata": {},
     "output_type": "execute_result"
    }
   ],
   "source": [
    "def my_cal3(a,lst):\n",
    "    a +=1\n",
    "    lst.append(a)\n",
    "    return a\n",
    "my_cal3(10,[])"
   ]
  },
  {
   "cell_type": "code",
   "execution_count": 21,
   "id": "8cb2e612-a60c-45c3-a692-dbbb96364c58",
   "metadata": {},
   "outputs": [
    {
     "name": "stdout",
     "output_type": "stream",
     "text": [
      "before:10,[1, 2, '12']\n",
      "after:10,[1, 2, '12', 11]\n"
     ]
    }
   ],
   "source": [
    "num = 10\n",
    "lst_num = [1,2,'12']\n",
    "print(f'before:{num},{lst_num}')\n",
    "\n",
    "my_cal3(num,lst_num)\n",
    "print(f'after:{num},{lst_num}')"
   ]
  },
  {
   "cell_type": "markdown",
   "id": "7284918c-73b0-4be2-86f7-4163f416632c",
   "metadata": {},
   "source": [
    "키워드 매개변수: 함수의 매개변수 목록은 변수명이 매개변수명이다\n",
    "매개변수명을 이용한 호출은 매개변수 순서와 무관하다"
   ]
  },
  {
   "cell_type": "code",
   "execution_count": 23,
   "id": "92c4675d-4355-40ed-a59f-c388fa2ad1df",
   "metadata": {},
   "outputs": [
    {
     "data": {
      "text/plain": [
       "11"
      ]
     },
     "execution_count": 23,
     "metadata": {},
     "output_type": "execute_result"
    }
   ],
   "source": [
    "my_cal3(lst=lst_num,a=num,)"
   ]
  },
  {
   "cell_type": "code",
   "execution_count": 26,
   "id": "b7d0e5df-644f-4b49-98df-f3fe25462f96",
   "metadata": {},
   "outputs": [
    {
     "name": "stdout",
     "output_type": "stream",
     "text": [
      "alice님 good afternoon!\n"
     ]
    }
   ],
   "source": [
    "# 기본값, 기본인자\n",
    "def greeting(name,greeting='hello'): # 인삿말에 아무 입력 없으면 헬로우\n",
    "    print(f'{name}님 {greeting}!')\n",
    "\n",
    "greeting('alice','good afternoon')"
   ]
  },
  {
   "cell_type": "code",
   "execution_count": 27,
   "id": "1c6b6fe7-79cc-46fa-8cdf-ee981b2367b1",
   "metadata": {},
   "outputs": [
    {
     "data": {
      "text/plain": [
       "45"
      ]
     },
     "execution_count": 27,
     "metadata": {},
     "output_type": "execute_result"
    }
   ],
   "source": [
    "# 가변인자\n",
    "def sum_all(*args): #요소 여러개 넣어줄때 요소앞에 *\n",
    "    return sum(args)\n",
    "sum_all(1,2,3,4,5,6,7,8,9)"
   ]
  },
  {
   "cell_type": "code",
   "execution_count": 29,
   "id": "2821df58-b196-4051-8383-22d66d97d8e9",
   "metadata": {},
   "outputs": [
    {
     "data": {
      "text/plain": [
       "6"
      ]
     },
     "execution_count": 29,
     "metadata": {},
     "output_type": "execute_result"
    }
   ],
   "source": [
    "def sum_all(arg1,arg2,*args): #요소 1,2는 꼭 필요할때  #매개변수의 순서가 중요(args가 앞으로 오면 X)\n",
    "    result = arg1+arg2+sum(args) #여기서 args는 튶플\n",
    "    return result\n",
    "sum_all(1,2,3)"
   ]
  },
  {
   "cell_type": "code",
   "execution_count": 34,
   "id": "476fbb26-362a-4236-ba67-5d2df7596bfc",
   "metadata": {},
   "outputs": [
    {
     "name": "stdout",
     "output_type": "stream",
     "text": [
      "name: Hong\n",
      "age: 20\n",
      "city: Seoul\n"
     ]
    }
   ],
   "source": [
    "## **kargs\n",
    "def print_info(**kargs):\n",
    "    for k,v in kargs.items():\n",
    "        print(f'{k}: {v}')\n",
    "print_info(name='Hong', age='20', city='Seoul')"
   ]
  },
  {
   "cell_type": "markdown",
   "id": "dc7f4b5a-47fb-4198-9ce0-6c5e5dc18590",
   "metadata": {
    "jp-MarkdownHeadingCollapsed": true
   },
   "source": [
    "# 요일구하는 함수 정의\n",
    "1. 입력: year, month, day\n",
    "2. 출력: '월요일'\n",
    "3. 함수명: 요일찾기()\n"
   ]
  },
  {
   "cell_type": "code",
   "execution_count": 49,
   "id": "39a1d7e6-48d7-40da-9952-b24ace5c4fa2",
   "metadata": {
    "collapsed": true,
    "jupyter": {
     "outputs_hidden": true,
     "source_hidden": true
    }
   },
   "outputs": [
    {
     "name": "stdout",
     "output_type": "stream",
     "text": [
      "739251\n",
      "739402\n",
      "739407\n",
      "목요일\n"
     ]
    }
   ],
   "source": [
    "# 날짜 - 연,월,일  year=2025 month=06, day=05\n",
    "total_days = 0\n",
    "year=2025\n",
    "month=6\n",
    "days=5\n",
    "total_days = 0\n",
    "#년도일수 입력년도-1 * 365\n",
    "#윤년인지 체크\n",
    "#2월이 29일\n",
    "\n",
    "for i in range(1,year):\n",
    "    #윤년: 400으로 나누어 나머지가 0, 4로 나누어 나머지가 0\n",
    "    #평년: 100으로 나누어 나머지가 0\n",
    "\n",
    "    if i%400 == 0:\n",
    "        total_days += 366\n",
    "    elif i%100 == 0:\n",
    "        total_days += 365\n",
    "    elif i%4 == 0:\n",
    "        total_days += 366\n",
    "    else:\n",
    "        total_days += 365\n",
    "\n",
    "print(total_days)\n",
    "#월일수 입력한 월 -1 * 30\n",
    "#월별 일수\n",
    "month_days = [0,31,28,31,30,31,30,31,31,30,31,30,31]\n",
    "for m in range(1,month):\n",
    "    total_days += month_days[m]\n",
    "\n",
    "#올해가 윤년인지\n",
    "if month>+3 :\n",
    "    if year%400 == 0:\n",
    "        total_days += 1\n",
    "    elif year%100 == 0:\n",
    "        total_days += 0\n",
    "    elif year%4 == 0:\n",
    "        total_days += 1\n",
    "    else:\n",
    "        total_days += 0\n",
    "        \n",
    "print(total_days)\n",
    "\n",
    "#일수 입력한 일\n",
    "total_days += days\n",
    "\n",
    "print(total_days)\n",
    "rdays = total_days%7\n",
    "if rdays ==0:\n",
    "    print('일요일')\n",
    "elif rdays ==1:\n",
    "    print('월요일')\n",
    "elif rdays ==2:\n",
    "    print('화요일')\n",
    "elif rdays ==3:\n",
    "    print('수요일')\n",
    "elif rdays ==4:\n",
    "    print('목요일')\n",
    "elif rdays ==5:\n",
    "    print('금요일')\n",
    "else:\n",
    "    print('토요일')\n"
   ]
  },
  {
   "cell_type": "code",
   "execution_count": null,
   "id": "d38f4423-34d5-48b8-89cb-2c9da2758f4d",
   "metadata": {
    "jupyter": {
     "source_hidden": true
    }
   },
   "outputs": [],
   "source": [
    "\n",
    "total_days=0\n",
    "month_days = [0,31,28,31,30,31,30,31,31,30,31,30,31]\n",
    "def ycheck(year):\n",
    "    total_days=0\n",
    "    for i in range(1,year):\n",
    "        if i%400 == 0:\n",
    "             total_days += 366\n",
    "        elif i%100 == 0:\n",
    "             total_days += 365\n",
    "        elif i%4 == 0:\n",
    "             total_days += 366\n",
    "        else:\n",
    "             total_days += 365\n",
    "    return total_days\n",
    "\n",
    "def mcheck(month,total_days):\n",
    "    for m in range(1,month):\n",
    "        total_days += month_days[m]\n",
    "        if month>+3 :\n",
    "            if year%400 == 0:\n",
    "                total_days += 1\n",
    "            elif year%100 == 0:\n",
    "                total_days += 0\n",
    "            elif year%4 == 0:\n",
    "                total_days += 1\n",
    "            else:\n",
    "                total_days += 0\n",
    "    return total_days\n",
    "\n",
    "def dcheck(days,b):\n",
    "    b += days\n",
    "    rdays = b%7\n",
    "    if rdays ==0:\n",
    "        print('일요일')\n",
    "    elif rdays ==1:\n",
    "        print('월요일')\n",
    "    elif rdays ==2:\n",
    "        print('화요일')\n",
    "    elif rdays ==3:\n",
    "        print('수요일')\n",
    "    elif rdays ==4:\n",
    "        print('목요일')\n",
    "    elif rdays ==5:\n",
    "        print('금요일')\n",
    "    else:\n",
    "        print('토요일')\n",
    "\n",
    "\n",
    "# 함수정의\n",
    "year=int(input('년도 입력:'))\n",
    "month=int(input('달 입력:'))\n",
    "days=int(input('일 입력:'))\n",
    "\n",
    "a = ycheck(year)\n",
    "b = mcheck(month,a)\n",
    "dcheck(days,b)\n",
    "\n",
    "def date_cal():\n",
    "    year=int(input('년도 입력:'))\n",
    "    month=int(input('달 입력:'))\n",
    "    days=int(input('일 입력:'))\n",
    "    \n",
    "    a = ycheck(year)\n",
    "    b = mcheck(month,a)\n",
    "    dcheck(days,b)\n",
    "날짜계산 = date_cal()\n",
    "\n",
    "\n",
    "\n",
    "\n",
    "날짜계산"
   ]
  },
  {
   "cell_type": "code",
   "execution_count": null,
   "id": "9cbf635c-b1a5-457f-9f5c-8ab3080b340e",
   "metadata": {},
   "outputs": [],
   "source": [
    "def date_cal():\n",
    "    year=int(input('년도 입력:'))\n",
    "    month=int(input('달 입력:'))\n",
    "    days=int(input('일 입력:'))\n",
    "    \n",
    "    a = ycheck(year)\n",
    "    b = mcheck(month,a)\n",
    "    dcheck(days,b)\n",
    "날짜계산 = date_cal()\n",
    "\n",
    "날짜계산"
   ]
  },
  {
   "cell_type": "markdown",
   "id": "b2e87557-23a9-4f18-b00a-f37be9569bed",
   "metadata": {},
   "source": [
    "# 성적처리 시스템"
   ]
  },
  {
   "cell_type": "markdown",
   "id": "36701e6f-92c6-4563-88b9-b3f2d2282737",
   "metadata": {},
   "source": [
    "cal_total()\n",
    "cal_avg()\n",
    "cal_ord()\n",
    "print_student(students)\n",
    "print_cls() : 반평균, 각 과목별 평균"
   ]
  },
  {
   "cell_type": "code",
   "execution_count": 1,
   "id": "95202798-d9be-41a8-93a1-e6bb4f18b8db",
   "metadata": {},
   "outputs": [],
   "source": [
    "students = [\n",
    "               {'num':'1','name':'김철수','kor':90,'eng':80,'math':85,'total':0,'avg':0.0,'order':0 },\n",
    "               {'num':'2','name':'박제동','kor':90,'eng':85,'math':90,'total':0,'avg':0.0,'order':0 },\n",
    "               {'num':'3','name':'홍길동','kor':80,'eng':80,'math':80,'total':0,'avg':0.0,'order':0 }\n",
    "           ]\n",
    "\n",
    "def cal_total(stus):\n",
    "    for s in stus:\n",
    "        s['total'] = s['kor'] + s['eng'] +s['math']\n",
    "\n",
    "cal_total(students) \n",
    "\n",
    "def cal_avg(st):\n",
    "    for s in st:\n",
    "        s['avg'] = s['total']/3\n",
    "\n",
    "cal_avg(students)\n",
    "students\n",
    "\n",
    "def cal_ord(st):\n",
    "    sort_st=sorted(st, key=lambda x: x['avg'], reverse=True)\n",
    "    for i, student in enumerate(sort_st, start=1):\n",
    "        student['order'] = i\n",
    "\n",
    "def print_cls(st):\n",
    "    for i in range(len(st)):\n",
    "        pcs=st[i]['avg']\n",
    "    return pcs\n",
    "\n",
    "def print_student(st):\n",
    "    for i in range(len(st)):\n",
    "        pst = st[i]['total']\n",
    "    return pst\n",
    "\n",
    "\n"
   ]
  },
  {
   "cell_type": "code",
   "execution_count": 25,
   "id": "118b444c-020a-4f11-aa43-2b2811a9245d",
   "metadata": {},
   "outputs": [
    {
     "name": "stdout",
     "output_type": "stream",
     "text": [
      "84.4\n"
     ]
    }
   ],
   "source": [
    "students = [\n",
    "               {'num':'1','name':'김철수','kor':90,'eng':80,'math':85,'total':0,'avg':0.0,'order':0 },\n",
    "               {'num':'2','name':'박제동','kor':90,'eng':85,'math':90,'total':0,'avg':0.0,'order':0 },\n",
    "               {'num':'3','name':'홍길동','kor':80,'eng':80,'math':80,'total':0,'avg':0.0,'order':0 }\n",
    "           ]\n",
    "\n",
    "def cal_total(stus):\n",
    "    for s in stus:\n",
    "        s['total'] = s['kor'] + s['eng'] +s['math']\n",
    "        \n",
    "def print_cls1(st):\n",
    "    mtotal=0\n",
    "    for s in st:\n",
    "        mtotal += s['total']\n",
    "    return mtotal\n",
    "    \n",
    "def print_cls(t):\n",
    "    pcs = t/3 \n",
    "    return pcs\n",
    "\n",
    "cal_total(students)\n",
    "a = print_cls1(students)\n",
    "b= print_cls(a)\n",
    "c=b/3\n",
    "print(f\"{c:.1f}\")"
   ]
  },
  {
   "cell_type": "code",
   "execution_count": 29,
   "id": "55cf9a3b-5df0-45cb-9076-f291bf519e74",
   "metadata": {},
   "outputs": [
    {
     "name": "stdout",
     "output_type": "stream",
     "text": [
      "반평균: 0.0 국어: 86.66666666666667 영어: 81.66666666666667 수학: 86.66666666666667\n",
      "이름: 김철수 국어: 90 영어: 80 수학: 85 등수: 2\n",
      "이름: 박제동 국어: 90 영어: 85 수학: 90 등수: 1\n",
      "이름: 홍길동 국어: 80 영어: 80 수학: 80 등수: 3\n"
     ]
    }
   ],
   "source": [
    "students = [\n",
    "               {'num':'1','name':'김철수','kor':90,'eng':80,'math':85,'total':0,'avg':0.0,'order':0 },\n",
    "               {'num':'2','name':'박제동','kor':90,'eng':85,'math':90,'total':0,'avg':0.0,'order':0 },\n",
    "               {'num':'3','name':'홍길동','kor':80,'eng':80,'math':80,'total':0,'avg':0.0,'order':0 }\n",
    "           ]\n",
    "def calc_total(stus) :\n",
    "    for s in stus:\n",
    "        s['total'] = s['kor'] +  s['eng'] +  s['math'] \n",
    "\n",
    "def calc_average(stus):\n",
    "    for s in stus:\n",
    "        s['avg'] = (s['kor'] +  s['eng'] +  s['math'])/3 \n",
    "\n",
    "def calc_order(stus):\n",
    "    \n",
    "    for student in stus :  #students[0] 자료를 꺼낸 것이 student\n",
    "        rank = 1\n",
    "        for other in stus :\n",
    "            if other['total'] > student['total'] :\n",
    "                rank += 1\n",
    "        student['order'] = rank\n",
    "        #print(student['name'], student['order'])\n",
    "\n",
    "def print_student(stus):\n",
    "    for s in stus:\n",
    "        print(f'이름: {s['name']} 국어: {s['kor']} 영어: {s['eng']} 수학: {s['math']} 등수: { s['order']}')\n",
    "\n",
    "def print_class(stus):\n",
    "#반평균\n",
    "    class_avg =0\n",
    "\n",
    "total = sum(student['total'] for student in students)\n",
    "class_avg = total/len(students)\n",
    "\n",
    "kor_avg =sum(student['kor'] for student in students)/len(students)\n",
    "eng_avg = sum(student['eng'] for student in students)/len(students)\n",
    "math_avg = sum(student['kor'] for student in students)/len(students)\n",
    "#각 과목별 평균 출력\n",
    "print(f'반평균: {class_avg} 국어: {kor_avg} 영어: {eng_avg} 수학: {math_avg}')\n",
    "\n",
    "calc_total(students)\n",
    "calc_average(students)\n",
    "calc_order(students)\n",
    "print_student(students)\n",
    "print_class(students)"
   ]
  },
  {
   "cell_type": "markdown",
   "id": "d69a6c29-a533-4dc6-bfe2-419e63a6c9a8",
   "metadata": {
    "jp-MarkdownHeadingCollapsed": true
   },
   "source": [
    "# 람다함수\n",
    "\n",
    "선언 >> lambda <매개변수>: 코드\n",
    "호출 >> (lambda <매개변수>: 코드 )(입력값)"
   ]
  },
  {
   "cell_type": "code",
   "execution_count": null,
   "id": "30220e2c-263c-466c-b518-b2bf31c5d712",
   "metadata": {},
   "outputs": [],
   "source": [
    "def aaa():\n",
    "    result = a+1\n",
    "    return result\n",
    "lambda a :a+1"
   ]
  },
  {
   "cell_type": "code",
   "execution_count": 4,
   "id": "2050c571-a9a1-4195-b456-fa6220e18546",
   "metadata": {},
   "outputs": [
    {
     "data": {
      "text/plain": [
       "6"
      ]
     },
     "execution_count": 4,
     "metadata": {},
     "output_type": "execute_result"
    }
   ],
   "source": [
    "my_lambda = lambda a :a+1\n",
    "my_lambda(5)"
   ]
  },
  {
   "cell_type": "code",
   "execution_count": 5,
   "id": "81578496-e9ca-4d00-9a8f-96a09ed3125b",
   "metadata": {},
   "outputs": [
    {
     "data": {
      "text/plain": [
       "8"
      ]
     },
     "execution_count": 5,
     "metadata": {},
     "output_type": "execute_result"
    }
   ],
   "source": [
    "my_lambda(7)"
   ]
  },
  {
   "cell_type": "code",
   "execution_count": null,
   "id": "ff2c60dd-dab7-4f15-a844-1c652488f193",
   "metadata": {},
   "outputs": [],
   "source": [
    "def sum1(a,b):\n",
    "    return a+b\n",
    "sum1(2,3)"
   ]
  },
  {
   "cell_type": "code",
   "execution_count": 6,
   "id": "46b82ccf-2e3c-4081-963d-a3d2b6721aad",
   "metadata": {},
   "outputs": [
    {
     "data": {
      "text/plain": [
       "9"
      ]
     },
     "execution_count": 6,
     "metadata": {},
     "output_type": "execute_result"
    }
   ],
   "source": [
    "(lambda a,b: a+b) (5,4)\n"
   ]
  },
  {
   "cell_type": "code",
   "execution_count": 7,
   "id": "f0b8396b-3635-4624-9124-359b0609cdb8",
   "metadata": {},
   "outputs": [
    {
     "data": {
      "text/plain": [
       "12"
      ]
     },
     "execution_count": 7,
     "metadata": {},
     "output_type": "execute_result"
    }
   ],
   "source": [
    "def cal(a,b,func):\n",
    "    result = func(a,b)\n",
    "    return result\n",
    "\n",
    "cal(4,8,lambda x,y:x+y)"
   ]
  },
  {
   "cell_type": "code",
   "execution_count": 8,
   "id": "67b9f46b-5d5d-4d14-a31c-fb2001d396a6",
   "metadata": {},
   "outputs": [
    {
     "data": {
      "text/plain": [
       "['APPLE', 'CHERRY', 'BANANA']"
      ]
     },
     "execution_count": 8,
     "metadata": {},
     "output_type": "execute_result"
    }
   ],
   "source": [
    "# map함수\n",
    "fruits = ['apple','cherry', 'banana']\n",
    "# fruits[0].upper()\n",
    "list(map(str.upper, fruits)) # 하나씩 꺼내서 지정한 동작을 적용"
   ]
  },
  {
   "cell_type": "code",
   "execution_count": 15,
   "id": "77ba41bd-c5e5-4049-96cb-968dcd65288f",
   "metadata": {},
   "outputs": [
    {
     "data": {
      "text/plain": [
       "[1, 2, 3, 4, 5]"
      ]
     },
     "execution_count": 15,
     "metadata": {},
     "output_type": "execute_result"
    }
   ],
   "source": [
    "str_num='12345'\n",
    "list(str_num)\n",
    "numbers=list(map(int, str_num))\n",
    "numbers\n"
   ]
  },
  {
   "cell_type": "code",
   "execution_count": 16,
   "id": "8ce138b0-4c12-4cfb-8bf1-81d14e718b8d",
   "metadata": {},
   "outputs": [
    {
     "data": {
      "text/plain": [
       "[1, 4, 9, 16, 25]"
      ]
     },
     "execution_count": 16,
     "metadata": {},
     "output_type": "execute_result"
    }
   ],
   "source": [
    "list(map(lambda x: x**2,numbers))"
   ]
  },
  {
   "cell_type": "code",
   "execution_count": 17,
   "id": "a75275fc-59c0-40bb-8615-12e3b58c9769",
   "metadata": {},
   "outputs": [
    {
     "data": {
      "text/plain": [
       "[12, 15, 18]"
      ]
     },
     "execution_count": 17,
     "metadata": {},
     "output_type": "execute_result"
    }
   ],
   "source": [
    "kor_score=[1,2,3]\n",
    "eng_score=[4,5,6]\n",
    "mth_score=[7,8,9]\n",
    "list(map(lambda x,y,z: x+y+z,kor_score,eng_score,mth_score ))"
   ]
  },
  {
   "cell_type": "code",
   "execution_count": 18,
   "id": "00cbd259-f075-4207-a19d-ceb1ffffdf78",
   "metadata": {},
   "outputs": [
    {
     "data": {
      "text/plain": [
       "[4.0, 5.0, 6.0]"
      ]
     },
     "execution_count": 18,
     "metadata": {},
     "output_type": "execute_result"
    }
   ],
   "source": [
    "kor_score=[1,2,3]\n",
    "eng_score=[4,5,6]\n",
    "mth_score=[7,8,9]\n",
    "list(map(lambda x,y,z: (x+y+z)/3,kor_score,eng_score,mth_score ))"
   ]
  },
  {
   "cell_type": "code",
   "execution_count": 21,
   "id": "75f56e6b-00aa-42ca-90d3-7951f02ff91b",
   "metadata": {},
   "outputs": [
    {
     "data": {
      "text/plain": [
       "[1, 2, 3]"
      ]
     },
     "execution_count": 21,
     "metadata": {},
     "output_type": "execute_result"
    }
   ],
   "source": [
    "kor_score=[1,2,3]\n",
    "eng_score=[4,5,6]\n",
    "mth_score=[7,8,9]\n",
    "list(map(lambda x: min(x),zip(kor_score,eng_score,mth_score) ))"
   ]
  },
  {
   "cell_type": "markdown",
   "id": "171e766d-73c3-4c56-92d9-89b1c0a6562d",
   "metadata": {},
   "source": [
    "# filter"
   ]
  },
  {
   "cell_type": "code",
   "execution_count": 1,
   "id": "5b8c8348-4e4c-4a19-9a82-6069a3333960",
   "metadata": {},
   "outputs": [
    {
     "data": {
      "text/plain": [
       "[2, 4]"
      ]
     },
     "execution_count": 1,
     "metadata": {},
     "output_type": "execute_result"
    }
   ],
   "source": [
    "# 리스트 컴프리헨션의 필터 \n",
    "numbers = [1,2,3,4,5]\n",
    "\n",
    "[x for x in numbers if x%2 == 0]"
   ]
  },
  {
   "cell_type": "code",
   "execution_count": 2,
   "id": "15e5b0cb-8a7f-410e-a168-b42a812a7748",
   "metadata": {},
   "outputs": [
    {
     "data": {
      "text/plain": [
       "[2, 4]"
      ]
     },
     "execution_count": 2,
     "metadata": {},
     "output_type": "execute_result"
    }
   ],
   "source": [
    "# 필터함수\n",
    "list(filter(lambda x: x%2==0, numbers))"
   ]
  },
  {
   "cell_type": "code",
   "execution_count": 3,
   "id": "89cd146d-b56b-4822-8ada-326e1bf5a7e6",
   "metadata": {},
   "outputs": [
    {
     "data": {
      "text/plain": [
       "[2, 4, 6, 8, 10]"
      ]
     },
     "execution_count": 3,
     "metadata": {},
     "output_type": "execute_result"
    }
   ],
   "source": [
    "# numbers를 2배하고 그중에서 짝수를 리스트로 변환\n",
    "list(filter(lambda x: x%2==0, map(lambda x:x*2,numbers)))"
   ]
  },
  {
   "cell_type": "markdown",
   "id": "906b0fa6-d7b3-4828-b5c2-e8dca17cd124",
   "metadata": {},
   "source": [
    "# sorted 함수\n"
   ]
  },
  {
   "cell_type": "code",
   "execution_count": 4,
   "id": "4f0bcfe8-3fba-40d9-aeaf-84c6183f869a",
   "metadata": {},
   "outputs": [
    {
     "data": {
      "text/plain": [
       "[1, 2, 3, 4, 5, 6, 7, 8, 9]"
      ]
     },
     "execution_count": 4,
     "metadata": {},
     "output_type": "execute_result"
    }
   ],
   "source": [
    "numbers=[5,4,6,7,8,3,1,9,2]\n",
    "numbers.sort()\n",
    "numbers"
   ]
  },
  {
   "cell_type": "code",
   "execution_count": 8,
   "id": "820aeb1a-4ac8-4e3e-a0dc-28e3b56128bd",
   "metadata": {},
   "outputs": [
    {
     "data": {
      "text/plain": [
       "[5, 4, 6, 7, 8, 3, 1, 9, 2]"
      ]
     },
     "execution_count": 8,
     "metadata": {},
     "output_type": "execute_result"
    }
   ],
   "source": [
    "numbers=[5,4,6,7,8,3,1,9,2]\n",
    "sorted(numbers, reverse=True)\n",
    "numbers"
   ]
  },
  {
   "cell_type": "code",
   "execution_count": 9,
   "id": "8c0fb747-1555-41ad-baf1-d85d57874c98",
   "metadata": {},
   "outputs": [
    {
     "data": {
      "text/plain": [
       "[9, 8, 7, 6, 5, 4, 3, 2, 1]"
      ]
     },
     "execution_count": 9,
     "metadata": {},
     "output_type": "execute_result"
    }
   ],
   "source": [
    "numbers=[5,4,6,7,8,3,1,9,2]\n",
    "num=sorted(numbers, reverse=True)\n",
    "num"
   ]
  },
  {
   "cell_type": "code",
   "execution_count": 15,
   "id": "aecf8be7-a2e5-496c-8981-55c800ebdad0",
   "metadata": {},
   "outputs": [
    {
     "data": {
      "text/plain": [
       "[1, -3, 5, -6, 7, -8]"
      ]
     },
     "execution_count": 15,
     "metadata": {},
     "output_type": "execute_result"
    }
   ],
   "source": [
    "numbers1=[-3,1,5,-6,7,-8]\n",
    "sorted(numbers1,key=abs) #abs는 절댓값으로\n"
   ]
  },
  {
   "cell_type": "code",
   "execution_count": 16,
   "id": "6d6825e2-7fda-4875-831b-419507946938",
   "metadata": {},
   "outputs": [
    {
     "data": {
      "text/plain": [
       "['apple', 'banana', 'blueberry', 'cherry']"
      ]
     },
     "execution_count": 16,
     "metadata": {},
     "output_type": "execute_result"
    }
   ],
   "source": [
    "words = ['apple','cherry','blueberry','banana']\n",
    "sorted(words)"
   ]
  },
  {
   "cell_type": "code",
   "execution_count": 17,
   "id": "d8d89091-a983-4aac-9485-576efe3f9d69",
   "metadata": {},
   "outputs": [
    {
     "data": {
      "text/plain": [
       "['blueberry', 'cherry', 'banana', 'apple']"
      ]
     },
     "execution_count": 17,
     "metadata": {},
     "output_type": "execute_result"
    }
   ],
   "source": [
    "sorted(words, key=len, reverse=True)"
   ]
  },
  {
   "cell_type": "code",
   "execution_count": 18,
   "id": "806402b4-05a7-4190-ac09-3fd7c94ad7de",
   "metadata": {},
   "outputs": [
    {
     "data": {
      "text/plain": [
       "['banana', 'apple', 'cherry', 'blueberry']"
      ]
     },
     "execution_count": 18,
     "metadata": {},
     "output_type": "execute_result"
    }
   ],
   "source": [
    "#마지막 알파벳의 순서대로\n",
    "sorted(words, key=lambda w:w[-1])"
   ]
  },
  {
   "cell_type": "code",
   "execution_count": 19,
   "id": "ffef71ab-e630-4b20-8840-fcbdc80e593a",
   "metadata": {},
   "outputs": [
    {
     "data": {
      "text/plain": [
       "[(3, 2), (2, 3), (1, 4)]"
      ]
     },
     "execution_count": 19,
     "metadata": {},
     "output_type": "execute_result"
    }
   ],
   "source": [
    "# 튜플의 요소 기준 정렬\n",
    "data = [(1,4),(2,3),(3,2)]\n",
    "sorted(data, key=lambda w:w[-1])"
   ]
  },
  {
   "cell_type": "code",
   "execution_count": 23,
   "id": "b90363d4-972d-41d9-81da-1de1403f370d",
   "metadata": {},
   "outputs": [
    {
     "data": {
      "text/plain": [
       "[('Charlie', 21, 78), ('Alice', 20, 85), ('Bob', 22, 90)]"
      ]
     },
     "execution_count": 23,
     "metadata": {},
     "output_type": "execute_result"
    }
   ],
   "source": [
    "# 점수순\n",
    "students = [('Alice',20,85),('Bob',22,90),('Charlie',21,78)]\n",
    "sorted(students, key=lambda w:w[-1])"
   ]
  },
  {
   "cell_type": "code",
   "execution_count": 22,
   "id": "c323de97-3014-4d07-a78b-9e3000b4afd5",
   "metadata": {},
   "outputs": [
    {
     "data": {
      "text/plain": [
       "[('Alice', 20, 85), ('Charlie', 21, 78), ('Bob', 22, 90)]"
      ]
     },
     "execution_count": 22,
     "metadata": {},
     "output_type": "execute_result"
    }
   ],
   "source": [
    "# 나이순\n",
    "sorted(students, key=lambda w:w[-2])"
   ]
  },
  {
   "cell_type": "code",
   "execution_count": null,
   "id": "e2fe28a0-2c66-42ab-824f-192c6c176f63",
   "metadata": {},
   "outputs": [],
   "source": []
  }
 ],
 "metadata": {
  "kernelspec": {
   "display_name": "Python 3 (ipykernel)",
   "language": "python",
   "name": "python3"
  },
  "language_info": {
   "codemirror_mode": {
    "name": "ipython",
    "version": 3
   },
   "file_extension": ".py",
   "mimetype": "text/x-python",
   "name": "python",
   "nbconvert_exporter": "python",
   "pygments_lexer": "ipython3",
   "version": "3.12.9"
  }
 },
 "nbformat": 4,
 "nbformat_minor": 5
}
