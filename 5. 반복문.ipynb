{
 "cells": [
  {
   "cell_type": "markdown",
   "id": "cd784d92-c398-4ace-bbe9-f4e8342379a8",
   "metadata": {
    "jp-MarkdownHeadingCollapsed": true
   },
   "source": [
    "# 반복문 : for, while"
   ]
  },
  {
   "cell_type": "markdown",
   "id": "fbcc176c-fc34-4db3-a872-46cb0f3939a1",
   "metadata": {
    "jp-MarkdownHeadingCollapsed": true
   },
   "source": [
    "## 반복문 : for"
   ]
  },
  {
   "cell_type": "code",
   "execution_count": null,
   "id": "9f07b845-8b65-4f30-8ef1-80695e09d810",
   "metadata": {},
   "outputs": [],
   "source": [
    "# for 문\n",
    "for 변수 in 반복자:\n",
    "    "
   ]
  },
  {
   "cell_type": "code",
   "execution_count": null,
   "id": "fe314606-d253-4a32-9952-ca90c86fea58",
   "metadata": {},
   "outputs": [],
   "source": [
    "data = [1,2,3,4]\n",
    "for var in data:\n",
    "    print(var)\n",
    "    "
   ]
  },
  {
   "cell_type": "code",
   "execution_count": null,
   "id": "1009cf17-f408-438d-9619-1d94d35d0eeb",
   "metadata": {},
   "outputs": [],
   "source": [
    "data = {1:2, 2:3, 3:4}\n",
    "for i,v in enumerate(data):\n",
    "    print(f'{i} {v}')"
   ]
  },
  {
   "cell_type": "code",
   "execution_count": null,
   "id": "dd43b3dd-26af-43ad-8037-742ccc8c90d9",
   "metadata": {},
   "outputs": [],
   "source": [
    "for i in range(1,10):\n",
    "    if i%2 !=0:\n",
    "        continue\n",
    "    \n",
    "    print(i)"
   ]
  },
  {
   "cell_type": "code",
   "execution_count": null,
   "id": "35d9ef71-a03e-4228-9380-bd42f1b98bcd",
   "metadata": {},
   "outputs": [],
   "source": [
    "for i in range(1,10):\n",
    "    print(i)\n",
    "        "
   ]
  },
  {
   "cell_type": "code",
   "execution_count": null,
   "id": "6a64e3d5-676a-4e72-a735-c5ca3a376d72",
   "metadata": {},
   "outputs": [],
   "source": [
    "#3의 배수의 합\n",
    "sum = 0\n",
    "for i in range(1,101):\n",
    "    if i%3 == 0:\n",
    "        sum += i\n",
    "    \n",
    "sum"
   ]
  },
  {
   "cell_type": "code",
   "execution_count": 52,
   "id": "20fc3afe-7263-44e1-ba22-d5eb2c9a7675",
   "metadata": {},
   "outputs": [
    {
     "data": {
      "text/plain": [
       "1683"
      ]
     },
     "execution_count": 52,
     "metadata": {},
     "output_type": "execute_result"
    }
   ],
   "source": [
    "sum1 = 0\n",
    "for i in range(3,101,3): #(시작, 끝, 증가)\n",
    "     sum1 += i\n",
    "sum1"
   ]
  },
  {
   "cell_type": "code",
   "execution_count": null,
   "id": "a98c71e7-e8f7-49fa-9f7c-f0d08cf00ec8",
   "metadata": {},
   "outputs": [],
   "source": [
    "blist = [1,2,3]\n",
    "clist = ['hello','hi','gb']\n",
    "zip(clist, blist)"
   ]
  },
  {
   "cell_type": "code",
   "execution_count": 51,
   "id": "6200d889-2e2a-46bb-88fe-2e8a0360e623",
   "metadata": {},
   "outputs": [
    {
     "name": "stdout",
     "output_type": "stream",
     "text": [
      "('hello', 1)\n",
      "('hi', 2)\n",
      "('gb', 3)\n"
     ]
    }
   ],
   "source": [
    "for i in zip(clist, blist):\n",
    "    print(i)"
   ]
  },
  {
   "cell_type": "code",
   "execution_count": 50,
   "id": "72f5039d-e274-4e5b-84fd-7d1a992acb09",
   "metadata": {},
   "outputs": [
    {
     "name": "stdout",
     "output_type": "stream",
     "text": [
      "1*1=1\n",
      "2*1=2\n",
      "3*1=3\n",
      "4*1=4\n",
      "5*1=5\n",
      "6*1=6\n",
      "7*1=7\n",
      "8*1=8\n",
      "9*1=9\n",
      "1*2=2\n",
      "2*2=4\n",
      "3*2=6\n",
      "4*2=8\n",
      "5*2=10\n",
      "6*2=12\n",
      "7*2=14\n",
      "8*2=16\n",
      "9*2=18\n",
      "1*3=3\n",
      "2*3=6\n",
      "3*3=9\n",
      "4*3=12\n",
      "5*3=15\n",
      "6*3=18\n",
      "7*3=21\n",
      "8*3=24\n",
      "9*3=27\n",
      "1*4=4\n",
      "2*4=8\n",
      "3*4=12\n",
      "4*4=16\n",
      "5*4=20\n",
      "6*4=24\n",
      "7*4=28\n",
      "8*4=32\n",
      "9*4=36\n",
      "1*5=5\n",
      "2*5=10\n",
      "3*5=15\n",
      "4*5=20\n",
      "5*5=25\n",
      "6*5=30\n",
      "7*5=35\n",
      "8*5=40\n",
      "9*5=45\n",
      "1*6=6\n",
      "2*6=12\n",
      "3*6=18\n",
      "4*6=24\n",
      "5*6=30\n",
      "6*6=36\n",
      "7*6=42\n",
      "8*6=48\n",
      "9*6=54\n",
      "1*7=7\n",
      "2*7=14\n",
      "3*7=21\n",
      "4*7=28\n",
      "5*7=35\n",
      "6*7=42\n",
      "7*7=49\n",
      "8*7=56\n",
      "9*7=63\n",
      "1*8=8\n",
      "2*8=16\n",
      "3*8=24\n",
      "4*8=32\n",
      "5*8=40\n",
      "6*8=48\n",
      "7*8=56\n",
      "8*8=64\n",
      "9*8=72\n",
      "1*9=9\n",
      "2*9=18\n",
      "3*9=27\n",
      "4*9=36\n",
      "5*9=45\n",
      "6*9=54\n",
      "7*9=63\n",
      "8*9=72\n",
      "9*9=81\n"
     ]
    }
   ],
   "source": [
    "\n",
    "for i in range(1,10):\n",
    "    for v in range(1,10):\n",
    "        print(f'{v}*{i}={i*v}')\n",
    "\n"
   ]
  },
  {
   "cell_type": "code",
   "execution_count": 41,
   "id": "fb706ef6-5f8f-47a4-9b64-bdfae9e43b5f",
   "metadata": {},
   "outputs": [
    {
     "name": "stdout",
     "output_type": "stream",
     "text": [
      "미션임퍼서블 4\n",
      "미치광이 삐에로 5\n",
      "영화 3\n"
     ]
    }
   ],
   "source": [
    "movie_dict={'미션임퍼서블':4, '미치광이 삐에로':5, '영화':3}\n",
    "for i,v in movie_dict.items(): #사전의 모든 키와 값 쌍을 동시에 반복\n",
    "    print(f'{i} {v}')"
   ]
  },
  {
   "cell_type": "code",
   "execution_count": 33,
   "id": "55feaadb-9921-416e-adf6-ab02394e677b",
   "metadata": {},
   "outputs": [
    {
     "name": "stdout",
     "output_type": "stream",
     "text": [
      "💗\n",
      "💗💗\n",
      "💗💗💗\n",
      "💗💗💗💗\n",
      "💗💗💗💗💗\n"
     ]
    }
   ],
   "source": [
    "for i in range(1,6):\n",
    "    for j in range(i):\n",
    "        print('💗',end='')\n",
    "    print()"
   ]
  },
  {
   "cell_type": "code",
   "execution_count": 43,
   "id": "b62a6fcd-8d58-4ac6-9bb6-e57feabed120",
   "metadata": {},
   "outputs": [
    {
     "name": "stdout",
     "output_type": "stream",
     "text": [
      "💗\n",
      "💗💗\n",
      "💗💗💗\n",
      "💗💗💗💗\n",
      "💗💗💗💗💗\n",
      "💗💗💗💗💗💗\n",
      "💗💗💗💗💗\n",
      "💗💗💗💗\n",
      "💗💗💗\n",
      "💗💗\n",
      "💗\n"
     ]
    }
   ],
   "source": [
    "a=[1,2,3,4,5,6,5,4,3,2,1]\n",
    "for i in a:\n",
    "    for j in range(i):\n",
    "        print('💗',end='')  \n",
    "    print()\n",
    "# end는 하트 하나를 찍고 옆으로 계속 이어서 다음 하트를 찍을 준비 / 줄바꾸지 말라고\n",
    "# 프린트 공백은 명령없이 줄만 바꾸자"
   ]
  },
  {
   "cell_type": "code",
   "execution_count": 46,
   "id": "3a8f669a-0929-4488-a970-35aa650d7133",
   "metadata": {},
   "outputs": [
    {
     "name": "stdout",
     "output_type": "stream",
     "text": [
      "     💗\n",
      "    💗💗\n",
      "   💗💗💗\n",
      "  💗💗💗💗\n",
      " 💗💗💗💗💗\n",
      "💗💗💗💗💗💗\n",
      " 💗💗💗💗💗\n",
      "  💗💗💗💗\n",
      "   💗💗💗\n",
      "    💗💗\n",
      "     💗\n"
     ]
    }
   ],
   "source": [
    "a = [1, 2, 3, 4, 5, 6, 5, 4, 3, 2, 1]\n",
    "\n",
    "max_val = max(a)\n",
    "\n",
    "for i in a:\n",
    "\n",
    "    print(' ' * (max_val - i), end='')\n",
    "    \n",
    "    # 하트 출력\n",
    "    for j in range(i):\n",
    "        print('💗', end='')\n",
    "    \n",
    "    print() # 줄 바꿈"
   ]
  },
  {
   "cell_type": "code",
   "execution_count": null,
   "id": "486f21a6-35d6-4487-80ca-5e0839b3fe8a",
   "metadata": {},
   "outputs": [],
   "source": []
  },
  {
   "cell_type": "code",
   "execution_count": 49,
   "id": "bd31244e-58bd-45ec-85dd-1eec5aa94189",
   "metadata": {},
   "outputs": [
    {
     "name": "stdout",
     "output_type": "stream",
     "text": [
      "    💗\n",
      "   💗💗\n",
      "  💗💗💗\n",
      " 💗💗💗💗\n",
      "💗💗💗💗💗\n"
     ]
    }
   ],
   "source": [
    "for i in range(1, 6):\n",
    "    # 각 줄의 하트 개수를 기준으로 필요한 공백 수를 계산\n",
    "    # (최대 하트 개수 - 현재 하트 개수) 만큼 공백을 출력\n",
    "    # 여기서는 최대 하트 개수가 5이므로, (5 - i)만큼 공백을 넣습니다.\n",
    "    print(' ' * (5 - i), end='')\n",
    "    \n",
    "    # 하트 출력\n",
    "    for j in range(i):\n",
    "        print('💗', end='')\n",
    "    \n",
    "    print() # 줄 바꿈"
   ]
  },
  {
   "cell_type": "code",
   "execution_count": 1,
   "id": "a7556169-b417-4af6-91a0-af2b7435ade2",
   "metadata": {},
   "outputs": [
    {
     "name": "stdout",
     "output_type": "stream",
     "text": [
      "💗\n",
      "💗💗\n",
      "💗💗💗\n",
      "💗\n",
      "💗💗\n",
      "💗💗💗\n",
      "💗\n",
      "💗💗\n",
      "💗💗💗\n"
     ]
    }
   ],
   "source": [
    "a=[1,2,3,1,2,3,1,2,3]\n",
    "for i in a:\n",
    "    for j in range(i):\n",
    "        print('💗',end='')  \n",
    "    print()"
   ]
  },
  {
   "cell_type": "markdown",
   "id": "c42647a5-09fa-4e13-87f8-355dbb1f588c",
   "metadata": {
    "jp-MarkdownHeadingCollapsed": true
   },
   "source": [
    "## if 연습"
   ]
  },
  {
   "cell_type": "code",
   "execution_count": 10,
   "id": "3bdc454b-00c9-4f76-a421-67569cd554a0",
   "metadata": {},
   "outputs": [
    {
     "name": "stdout",
     "output_type": "stream",
     "text": [
      "음수\n"
     ]
    }
   ],
   "source": [
    "number = -10\n",
    "print('양수') if number >0 else print('음수') if number <0 else print('0')"
   ]
  },
  {
   "cell_type": "code",
   "execution_count": 14,
   "id": "809e7fdb-c100-4fe3-b14b-be844abe27c4",
   "metadata": {},
   "outputs": [
    {
     "name": "stdout",
     "output_type": "stream",
     "text": [
      "짝수\n"
     ]
    }
   ],
   "source": [
    "number = 52\n",
    "print('짝수') if number % 2 == 0 else print('홀수') "
   ]
  },
  {
   "cell_type": "code",
   "execution_count": 16,
   "id": "a710f348-8084-44d3-ac18-a2e346eede6e",
   "metadata": {},
   "outputs": [
    {
     "name": "stdin",
     "output_type": "stream",
     "text": [
      "점수입력:  90\n"
     ]
    },
    {
     "data": {
      "text/plain": [
       "'A'"
      ]
     },
     "execution_count": 16,
     "metadata": {},
     "output_type": "execute_result"
    }
   ],
   "source": [
    "score = int(input('점수입력: '))\n",
    "'A' if score >=90 else 'B' if score >=80 else 'C' if score >=70 else 'D'"
   ]
  },
  {
   "cell_type": "code",
   "execution_count": 18,
   "id": "3a8f5de6-4d1c-4110-a570-6c8fb8b7e3a7",
   "metadata": {},
   "outputs": [
    {
     "name": "stdout",
     "output_type": "stream",
     "text": [
      "90\n"
     ]
    }
   ],
   "source": [
    "price = 100\n",
    "is_discount = True\n",
    "\n",
    "print('90') if is_discount is True else print(price)"
   ]
  },
  {
   "cell_type": "code",
   "execution_count": 19,
   "id": "6af31c38-0e47-408b-81c5-9548b23a9066",
   "metadata": {},
   "outputs": [
    {
     "name": "stdout",
     "output_type": "stream",
     "text": [
      "1\n",
      "2\n",
      "3\n",
      "4\n",
      "5\n",
      "6\n",
      "7\n",
      "8\n",
      "9\n",
      "10\n"
     ]
    }
   ],
   "source": [
    "for i in range(1,11):\n",
    "    print(i)"
   ]
  },
  {
   "cell_type": "code",
   "execution_count": 22,
   "id": "322906d6-d1e8-4cfd-8b54-4bb5254924f5",
   "metadata": {},
   "outputs": [
    {
     "name": "stdout",
     "output_type": "stream",
     "text": [
      "2\n",
      "4\n",
      "6\n",
      "8\n",
      "10\n"
     ]
    }
   ],
   "source": [
    "for i in range(1,11):\n",
    "    if i % 2 == 0:\n",
    "        print(i)"
   ]
  },
  {
   "cell_type": "code",
   "execution_count": 30,
   "id": "1a3316d6-4955-487c-a861-c344552faa06",
   "metadata": {},
   "outputs": [
    {
     "data": {
      "text/plain": [
       "[2, 4, 6, 8, 10]"
      ]
     },
     "execution_count": 30,
     "metadata": {},
     "output_type": "execute_result"
    }
   ],
   "source": [
    "[i for i in range(1,11) if i%2 == 0]"
   ]
  },
  {
   "cell_type": "code",
   "execution_count": 39,
   "id": "04f54dba-fa9b-44f2-810e-78b13d756440",
   "metadata": {},
   "outputs": [
    {
     "name": "stdout",
     "output_type": "stream",
     "text": [
      "found\n"
     ]
    }
   ],
   "source": [
    "items = [\"apple\", \"banana\", \"cherry\"]\n",
    "target = \"banana\"\n",
    "\n",
    "for i in items:\n",
    "    if target == i:\n",
    "        found = True\n",
    "        break\n",
    "# found = True if [i for i in items if i==target ] else False\n",
    "# comp -> 만약 [아이템 안에 i가 if문 만족하면 i 출력] 이 리스트 안에 값 있으면 트루\n",
    "# a=[], b=[1] -> a는 false(값 없으므로), b는 true\n",
    "if found == True:\n",
    "    print('found')\n",
    "else:\n",
    "    print('not found')\n",
    "\n"
   ]
  },
  {
   "cell_type": "code",
   "execution_count": 25,
   "id": "99f8bdd4-f2e5-40eb-8c88-6cf1d658c527",
   "metadata": {},
   "outputs": [
    {
     "name": "stdout",
     "output_type": "stream",
     "text": [
      "2 * 1 = 2\n",
      "2 * 2 = 4\n",
      "2 * 3 = 6\n",
      "2 * 4 = 8\n",
      "2 * 5 = 10\n",
      "2 * 6 = 12\n",
      "2 * 7 = 14\n",
      "2 * 8 = 16\n",
      "2 * 9 = 18\n"
     ]
    }
   ],
   "source": [
    "for i in range(1,10):\n",
    "    print(f'{2} * {i} = {i*2}')"
   ]
  },
  {
   "cell_type": "code",
   "execution_count": 51,
   "id": "2cbf784d-47ac-4bf7-8c53-ce615586751d",
   "metadata": {},
   "outputs": [
    {
     "data": {
      "text/plain": [
       "'free'"
      ]
     },
     "execution_count": 51,
     "metadata": {},
     "output_type": "execute_result"
    }
   ],
   "source": [
    "age = 1\n",
    "'free' if i <= 3 else '5$' if i <= 5 else '10$' if i <= 9 else '12$' if i <= 12 else 'no'"
   ]
  },
  {
   "cell_type": "code",
   "execution_count": 31,
   "id": "839bbf6f-d067-4185-809e-55146633bf13",
   "metadata": {},
   "outputs": [
    {
     "name": "stdout",
     "output_type": "stream",
     "text": [
      "shirt\n"
     ]
    }
   ],
   "source": [
    "a = \"Life is too short, you need python\"\n",
    "\n",
    "if \"wife\" in a:\n",
    "    print(\"wife\")\n",
    "\n",
    "elif \"python\" in a and \"you\" not in a:\n",
    "    print(\"python\")\n",
    "\n",
    "elif \"shirt\" not in a:\n",
    "    print(\"shirt\")\n",
    "\n",
    "elif \"need\" in a:\n",
    "    print(\"need\")\n",
    "\n",
    "else: print(\"none\")"
   ]
  },
  {
   "cell_type": "code",
   "execution_count": 56,
   "id": "6a59d52e-27ce-4ba7-a23f-c7b961c49a74",
   "metadata": {},
   "outputs": [
    {
     "name": "stdin",
     "output_type": "stream",
     "text": [
      "phone number:? 01955555\n"
     ]
    },
    {
     "name": "stdout",
     "output_type": "stream",
     "text": [
      "Lg\n"
     ]
    }
   ],
   "source": [
    "num1 = input('phone number:?')\n",
    "num=num1[:3]\n",
    "if '011' in num:\n",
    "    print('skt')\n",
    "elif '016' in num:\n",
    "    print('kt')\n",
    "elif '019' in num:\n",
    "    print('Lg')\n",
    "else:\n",
    "    print(\"?\")"
   ]
  },
  {
   "cell_type": "code",
   "execution_count": 87,
   "id": "c9b9310f-c536-41b7-a86a-f97ed2bf5a83",
   "metadata": {},
   "outputs": [
    {
     "name": "stdin",
     "output_type": "stream",
     "text": [
      "phone number:? 016-555-555\n"
     ]
    },
    {
     "name": "stdout",
     "output_type": "stream",
     "text": [
      "you are using skt\n"
     ]
    }
   ],
   "source": [
    "num1 = input('phone number:?')\n",
    "#num=num1[:3]\n",
    "\n",
    "num==num1.split('-')[:3] if '-'in num1 else num==num1[:3]\n",
    "\n",
    "tel = {'011':'skt',\n",
    "       '016':'kt',\n",
    "       '019':'lg',\n",
    "       '010':'none'}\n",
    "\n",
    "com = tel.get(num, '못찾았음')\n",
    "print(f'you are using {com}')"
   ]
  },
  {
   "cell_type": "code",
   "execution_count": 78,
   "id": "05528f0b-8bfb-4798-8607-c596106fdd10",
   "metadata": {},
   "outputs": [
    {
     "name": "stdin",
     "output_type": "stream",
     "text": [
      "id number: 12344567891234\n"
     ]
    },
    {
     "name": "stdout",
     "output_type": "stream",
     "text": [
      "13자리 숫자를 입력하세요\n"
     ]
    },
    {
     "name": "stdin",
     "output_type": "stream",
     "text": [
      "id number: 1234567891234\n"
     ]
    },
    {
     "name": "stdout",
     "output_type": "stream",
     "text": [
      "284\n",
      "유효하지 않은 번호\n"
     ]
    }
   ],
   "source": [
    "# 자릿수 체크\n",
    "\n",
    "while True:\n",
    "    a=input('id number:')\n",
    "    if len(a) != 13 or not a.isdigit():\n",
    "        print('13자리 숫자를 입력하세요')\n",
    "    else:\n",
    "        break\n",
    "\n",
    "#가중치 리스트\n",
    "x = [2,3,4,5,6,7,8,9,2,3,4,5]\n",
    "# x = list(range(2,10))+list(range(2,6))\n",
    "total=0\n",
    "#반복\n",
    "for i in range(12):\n",
    "    total += int(a[i])*x[i] #a는 리스트로 바꾸면서 문자열 됨\n",
    "print(total)\n",
    "\n",
    "remain=11-(total%11)%10 # 0-9숫자만 가능\n",
    "\n",
    "if remain == int(a[-1]):\n",
    "    print('유효한 번호')\n",
    "else:\n",
    "    print('유효하지 않은 번호')\n",
    "    "
   ]
  },
  {
   "cell_type": "code",
   "execution_count": 2,
   "id": "575b22d0-15d3-4dcf-b345-98192cbb7694",
   "metadata": {},
   "outputs": [
    {
     "ename": "NameError",
     "evalue": "name 'max_price' is not defined",
     "output_type": "error",
     "traceback": [
      "\u001b[31m---------------------------------------------------------------------------\u001b[39m",
      "\u001b[31mNameError\u001b[39m                                 Traceback (most recent call last)",
      "\u001b[36mCell\u001b[39m\u001b[36m \u001b[39m\u001b[32mIn[2]\u001b[39m\u001b[32m, line 5\u001b[39m\n\u001b[32m      2\u001b[39m btc = requests.get(\u001b[33m\"\u001b[39m\u001b[33mhttps://api.bithumb.com/public/ticker/\u001b[39m\u001b[33m\"\u001b[39m).json()[\u001b[33m'\u001b[39m\u001b[33mdata\u001b[39m\u001b[33m'\u001b[39m]\n\u001b[32m      3\u001b[39m btc\n\u001b[32m----> \u001b[39m\u001b[32m5\u001b[39m x = max_price - min_price\n\u001b[32m      6\u001b[39m m = opening_price+x\n\u001b[32m      8\u001b[39m \u001b[38;5;28;01mif\u001b[39;00m m >= max_price:\n",
      "\u001b[31mNameError\u001b[39m: name 'max_price' is not defined"
     ]
    }
   ],
   "source": [
    "import requests\n",
    "btc = requests.get(\"https://api.bithumb.com/public/ticker/\").json()['data']\n",
    "max_price = btc\n",
    "min_price = btc\n",
    "opening_price = \n",
    "\n",
    "x = max_price - min_price\n",
    "m = opening_price+x\n",
    "\n",
    "if m >= max_price:\n",
    "    print('상승장')\n",
    "else:\n",
    "    print('하락장')"
   ]
  },
  {
   "cell_type": "code",
   "execution_count": 11,
   "id": "6114d868-8c1f-4c54-9592-b76328655ab7",
   "metadata": {},
   "outputs": [
    {
     "name": "stdout",
     "output_type": "stream",
     "text": [
      "0\n",
      "-10\n",
      "0\n",
      "총 수익은 0\n"
     ]
    }
   ],
   "source": [
    "ohlc = [[\"open\", \"high\", \"low\", \"close\"],\n",
    "        [100, 110, 70, 100],\n",
    "        [200, 210, 180, 190],\n",
    "        [300, 310, 300, 310]]\n",
    "total = 0\n",
    "for i in range(1,4):\n",
    "    a = int(ohlc[i][3])-int(ohlc[i][0])\n",
    "    total += a\n",
    "    print(total)\n",
    "print(f'총 수익은 {total}')"
   ]
  },
  {
   "cell_type": "markdown",
   "id": "75c53b61-50c8-4fee-9a13-6d1ab43a35c3",
   "metadata": {
    "jp-MarkdownHeadingCollapsed": true
   },
   "source": [
    "## 이터레이터와 제너레이터 연습"
   ]
  },
  {
   "cell_type": "code",
   "execution_count": 3,
   "id": "551565fd-9b21-49d6-8ea5-a54ceb99cc6f",
   "metadata": {},
   "outputs": [
    {
     "name": "stdout",
     "output_type": "stream",
     "text": [
      "첫 번째 값 생성!\n",
      "1\n",
      "두 번째 값 생성!\n",
      "2\n",
      "세 번째 값 생성!\n",
      "3\n"
     ]
    }
   ],
   "source": [
    "def my_generator():\n",
    "    print(\"첫 번째 값 생성!\")\n",
    "    yield 1 \n",
    "    # yield가 일반 함수의 return처럼 즉시 함수를 종료시키는 것이 아니라, \n",
    "    #값을 반환하고 잠시 실행을 멈춰놨다가 다음에 next()가 호출되면 멈췄던 \n",
    "    #그 지점부터 다시 실행\n",
    "    print(\"두 번째 값 생성!\")\n",
    "    yield 2\n",
    "    print(\"세 번째 값 생성!\")\n",
    "    yield 3\n",
    "\n",
    "gen = my_generator() # 제너레이터 객체를 생성해요. (아직 함수 실행은 안 됨!)\n",
    "\n",
    "print(next(gen)) # \"첫 번째 값 생성!\" 출력 후 1 반환\n",
    "print(next(gen)) # \"두 번째 값 생성!\" 출력 후 2 반환\n",
    "print(next(gen)) # \"세 번째 값 생성!\" 출력 후 3 반환\n",
    "# next(gen)을 한 번 더 호출하면 StopIteration 발생!"
   ]
  },
  {
   "cell_type": "code",
   "execution_count": 4,
   "id": "808815de-1024-4e12-9256-d648b5e44467",
   "metadata": {},
   "outputs": [
    {
     "name": "stdout",
     "output_type": "stream",
     "text": [
      "1\n",
      "2\n",
      "3\n",
      "\n",
      "--- for 루프 사용 ---\n",
      "1\n",
      "2\n",
      "3\n"
     ]
    }
   ],
   "source": [
    "class MyIterator:\n",
    "    def __init__(self):\n",
    "        self.current = 0 # 현재 값을 추적하는 변수\n",
    "        self.limit = 3   # 어디까지 갈지 정하는 변수\n",
    "\n",
    "    def __iter__(self):\n",
    "        # 이 메서드는 이터레이터 객체 자신을 반환해야 합니다.\n",
    "        return self\n",
    "\n",
    "    def __next__(self):\n",
    "        if self.current < self.limit:\n",
    "            self.current += 1\n",
    "            return self.current # 다음 값을 반환\n",
    "        else:\n",
    "            # 더 이상 반환할 값이 없으면 StopIteration 예외 발생\n",
    "            raise StopIteration\n",
    "\n",
    "# 사용 방법\n",
    "my_iter = MyIterator()\n",
    "\n",
    "print(next(my_iter)) # 1\n",
    "print(next(my_iter)) # 2\n",
    "print(next(my_iter)) # 3\n",
    "# print(next(my_iter)) # StopIteration 발생 (주석 처리)\n",
    "\n",
    "print(\"\\n--- for 루프 사용 ---\")\n",
    "for num in MyIterator(): # for 루프는 내부적으로 iter()와 next()를 사용합니다.\n",
    "    print(num)"
   ]
  },
  {
   "cell_type": "code",
   "execution_count": 5,
   "id": "58a18c35-4dd3-43ce-93f8-5aae5dc59763",
   "metadata": {},
   "outputs": [
    {
     "name": "stdout",
     "output_type": "stream",
     "text": [
      "1\n",
      "2\n",
      "3\n",
      "\n",
      "--- for 루프 사용 ---\n",
      "1\n",
      "2\n",
      "3\n"
     ]
    }
   ],
   "source": [
    "def my_generator():\n",
    "    current = 0\n",
    "    limit = 3\n",
    "    while current < limit:\n",
    "        current += 1\n",
    "        yield current # 값을 반환하고 잠시 실행을 멈춥니다.\n",
    "\n",
    "# 사용 방법\n",
    "my_gen = my_generator() # 제너레이터 객체를 생성합니다. (함수 실행은 아직 안 됨!)\n",
    "\n",
    "print(next(my_gen)) # 1\n",
    "print(next(my_gen)) # 2\n",
    "print(next(my_gen)) # 3\n",
    "# print(next(my_gen)) # StopIteration 발생 (주석 처리)\n",
    "\n",
    "print(\"\\n--- for 루프 사용 ---\")\n",
    "for num in my_generator(): # my_generator() 호출 시 제너레이터 객체가 반환됩니다.\n",
    "    print(num)"
   ]
  },
  {
   "cell_type": "markdown",
   "id": "5ba7a78a-9f00-4419-9418-b34f8c611447",
   "metadata": {},
   "source": [
    "## 반복문 : while "
   ]
  },
  {
   "cell_type": "code",
   "execution_count": 12,
   "id": "3ffe5237-9527-46e6-aac7-b03925e36fcb",
   "metadata": {},
   "outputs": [
    {
     "name": "stdout",
     "output_type": "stream",
     "text": [
      "1\n",
      "2\n",
      "3\n",
      "4\n",
      "5\n"
     ]
    }
   ],
   "source": [
    "a=1\n",
    "while a <=5:\n",
    "    print(a)\n",
    "    a += 1"
   ]
  },
  {
   "cell_type": "code",
   "execution_count": 15,
   "id": "5459a07e-3756-407a-8984-b0cc7bbe980a",
   "metadata": {},
   "outputs": [
    {
     "name": "stdin",
     "output_type": "stream",
     "text": [
      "exit입력하세여 exit\n"
     ]
    },
    {
     "name": "stdout",
     "output_type": "stream",
     "text": [
      "입력한 값:exit\n"
     ]
    }
   ],
   "source": [
    "up = ''\n",
    "while up != 'exit':\n",
    "    up=input('exit입력하세여')\n",
    "    print(f'입력한 값:{up}')"
   ]
  },
  {
   "cell_type": "code",
   "execution_count": 13,
   "id": "0e4f632c-43a1-4dca-8f9d-e54a17f4f806",
   "metadata": {},
   "outputs": [
    {
     "data": {
      "text/plain": [
       "21"
      ]
     },
     "execution_count": 13,
     "metadata": {},
     "output_type": "execute_result"
    }
   ],
   "source": [
    "i= 0\n",
    "sum1=0\n",
    "while True:\n",
    "    if i > 6:\n",
    "        break\n",
    "    sum1 += i\n",
    "    i+=1\n",
    "sum1"
   ]
  },
  {
   "cell_type": "markdown",
   "id": "afd42c16-5b7a-42ac-af3a-9a4db66a92f1",
   "metadata": {},
   "source": [
    "# Comprehension"
   ]
  },
  {
   "cell_type": "markdown",
   "id": "3118ab9e-2a4f-4e4e-b660-559819fe4ca5",
   "metadata": {},
   "source": [
    "## 리스트 컴프리헨션\n",
    "[리스트요소 for <1개> in <반복범위>]"
   ]
  },
  {
   "cell_type": "code",
   "execution_count": null,
   "id": "96ef9b2e-75aa-47fa-bc14-dde61d272c65",
   "metadata": {},
   "outputs": [],
   "source": [
    "squares = [x**2 for x in range(1, 11) if x % 2 == 0]\n",
    "print(squares) "
   ]
  },
  {
   "cell_type": "code",
   "execution_count": 20,
   "id": "8fed6baa-9d17-41d9-b319-9a2e00c69ed8",
   "metadata": {},
   "outputs": [
    {
     "data": {
      "text/plain": [
       "[0, 2, 4, 6, 8, 5, 6, 7, 8, 9]"
      ]
     },
     "execution_count": 20,
     "metadata": {},
     "output_type": "execute_result"
    }
   ],
   "source": [
    "### 리스트 컴프리헨션 조건식\n",
    "# test_last=[]\n",
    "# for x in range(10):\n",
    "#     if x < 5 :\n",
    "#         test_last.append(x*2)\n",
    "#     else:\n",
    "#         test_last.append(x)\n",
    "# test_last\n",
    "\n",
    "[x*2 if x<5 else x for x in range(10)]"
   ]
  },
  {
   "cell_type": "code",
   "execution_count": 21,
   "id": "816076e0-5f50-41c3-aa84-3b0e4bd8a379",
   "metadata": {},
   "outputs": [
    {
     "data": {
      "text/plain": [
       "[0, 2, 4, 6, 8]"
      ]
     },
     "execution_count": 21,
     "metadata": {},
     "output_type": "execute_result"
    }
   ],
   "source": [
    "[x*2 for x in range(10) if x<5  ]"
   ]
  },
  {
   "cell_type": "code",
   "execution_count": null,
   "id": "f74049cc-f557-43aa-bd28-c70a7cbf3200",
   "metadata": {},
   "outputs": [],
   "source": [
    "#리스트 컴프리헨션을 이용한 변환, 필터(if문의 앞 뒤 차이)"
   ]
  },
  {
   "cell_type": "code",
   "execution_count": null,
   "id": "5af4f319-be06-4a1b-bcaf-f181a13aaf5e",
   "metadata": {},
   "outputs": [],
   "source": [
    "#로또 번호 당첨 여부 확인\n",
    "my_numbers = [3, 11, 17, 23, 38, 42]\n",
    "win_numbers = [7, 14, 23, 32, 38, 45]\n",
    "\n",
    "for num in my_numbers:\n",
    "    if num in win_numbers:\n",
    "        print(f\"🎉 당첨 번호 있음! ({num})\")\n",
    "        break\n",
    "else:\n",
    "    print(\"😢 꽝입니다.\")"
   ]
  },
  {
   "cell_type": "code",
   "execution_count": 28,
   "id": "cff03894-ce48-4537-b781-191a54c08ac8",
   "metadata": {},
   "outputs": [
    {
     "name": "stdout",
     "output_type": "stream",
     "text": [
      "😢 꽝입니다.\n",
      "😢 꽝입니다.\n",
      "😢 꽝입니다.\n",
      "🎉 당첨 번호 있음! (23)\n",
      "🎉 당첨 번호 있음! (38)\n",
      "😢 꽝입니다.\n"
     ]
    },
    {
     "data": {
      "text/plain": [
       "[None, None, None, None, None, None]"
      ]
     },
     "execution_count": 28,
     "metadata": {},
     "output_type": "execute_result"
    }
   ],
   "source": [
    "my_numbers = [3, 11, 17, 23, 38, 42]\n",
    "win_numbers = [7, 14, 23, 32, 38, 45]\n",
    "[print(f\"🎉 당첨 번호 있음! ({a})\") if a in win_numbers else print(\"😢 꽝입니다.\") for a in my_numbers]\n"
   ]
  },
  {
   "cell_type": "code",
   "execution_count": 38,
   "id": "3c613a2c-004c-4986-a784-732afb6c4ada",
   "metadata": {},
   "outputs": [
    {
     "name": "stdout",
     "output_type": "stream",
     "text": [
      "🎉 당첨 번호 있음! ([23, 38])\n"
     ]
    }
   ],
   "source": [
    "my_numbers = [3, 11, 17, 23, 38, 42]\n",
    "win_numbers = [7, 14, 23, 32, 38, 45]\n",
    "a = [i for i in my_numbers if i in win_numbers]\n",
    "print(f\"🎉 당첨 번호 있음! ({a})\") if a else print(\"😢 꽝입니다.\")"
   ]
  },
  {
   "cell_type": "markdown",
   "id": "8bf54f57-b08c-408b-bbc8-897d72e36987",
   "metadata": {},
   "source": [
    "## 딕셔너리 컴프리헨션\n",
    "[요소 for <1개> in <반복범위>]"
   ]
  },
  {
   "cell_type": "code",
   "execution_count": 15,
   "id": "7eae5f4d-7663-43b4-a245-f815e8c27559",
   "metadata": {},
   "outputs": [
    {
     "name": "stdout",
     "output_type": "stream",
     "text": [
      "{1: 1, 2: 4, 3: 9, 4: 16, 5: 25}\n"
     ]
    }
   ],
   "source": [
    "squares_dict = {x: x**2 for x in range(1, 6)}\n",
    "print(squares_dict) "
   ]
  },
  {
   "cell_type": "code",
   "execution_count": 8,
   "id": "34fdce65-3787-4f49-9eb4-4a0ef0e7e9dc",
   "metadata": {},
   "outputs": [
    {
     "name": "stdout",
     "output_type": "stream",
     "text": [
      "[3, 6, 9, 12, 15, 18]\n"
     ]
    }
   ],
   "source": [
    "m = [x for x in range(1,21) if x%3 ==0]\n",
    "print(m)"
   ]
  },
  {
   "cell_type": "code",
   "execution_count": 12,
   "id": "25ce7ea1-7fec-4ced-83b7-ecc1734aee32",
   "metadata": {},
   "outputs": [
    {
     "name": "stdout",
     "output_type": "stream",
     "text": [
      "['CAT,', 'DOG', 'SHARK']\n"
     ]
    }
   ],
   "source": [
    "w = ['cat,','dog','shark','ai']\n",
    "lw = [i.upper() for i in w if len(i)>=3]\n",
    "print(lw)"
   ]
  },
  {
   "cell_type": "code",
   "execution_count": 15,
   "id": "a8b0ba08-02e8-4e3d-8b86-e47064af9342",
   "metadata": {},
   "outputs": [
    {
     "name": "stdout",
     "output_type": "stream",
     "text": [
      "[]\n"
     ]
    }
   ],
   "source": [
    "list1 = [1, 2, 3]\n",
    "list2 = [4, 5, 6]\n",
    "ev=[(x,y)for x in list1 for y in list2 if x+y%2 == 0]\n",
    "print(ev)"
   ]
  },
  {
   "cell_type": "code",
   "execution_count": null,
   "id": "8214d29e-47b9-4cd1-8514-83a6a95e1e20",
   "metadata": {},
   "outputs": [],
   "source": []
  },
  {
   "cell_type": "markdown",
   "id": "f1ca07a0-764d-424c-9176-45e3ef395326",
   "metadata": {
    "jp-MarkdownHeadingCollapsed": true
   },
   "source": [
    "# Iterater Generator"
   ]
  },
  {
   "cell_type": "markdown",
   "id": "383428dc-3167-4728-803c-ad83360403a3",
   "metadata": {},
   "source": [
    "-iterable: for의 in에 나올 수 있는 객체의 유형\n",
    "-iterator: iter(), enumerate(), for문에서 next()직접 호출\n",
    "-generator: 사용자 정의 함수 중에서 yield 사용한 패턴 - 일시정지, 메모리 효율이 높다"
   ]
  },
  {
   "cell_type": "code",
   "execution_count": 10,
   "id": "720efdfa-180f-4c9d-82b3-daf2d0bb98e4",
   "metadata": {},
   "outputs": [
    {
     "data": {
      "text/plain": [
       "True"
      ]
     },
     "execution_count": 10,
     "metadata": {},
     "output_type": "execute_result"
    }
   ],
   "source": [
    "from collections.abc import Iterable\n",
    "\n",
    "isinstance('hello',Iterable)\n"
   ]
  },
  {
   "cell_type": "code",
   "execution_count": 15,
   "id": "e35b054a-fd20-4632-98e6-0279212d8fb7",
   "metadata": {},
   "outputs": [
    {
     "data": {
      "text/plain": [
       "'h'"
      ]
     },
     "execution_count": 15,
     "metadata": {},
     "output_type": "execute_result"
    }
   ],
   "source": [
    "itr_test_str = 'hello'\n",
    "itr_obj = iter(itr_test_str)\n",
    "itr_obj.__next__()\n"
   ]
  },
  {
   "cell_type": "code",
   "execution_count": 24,
   "id": "34bba4c1-dd11-430b-ad03-698b852e2234",
   "metadata": {},
   "outputs": [
    {
     "ename": "StopIteration",
     "evalue": "",
     "output_type": "error",
     "traceback": [
      "\u001b[31m---------------------------------------------------------------------------\u001b[39m",
      "\u001b[31mStopIteration\u001b[39m                             Traceback (most recent call last)",
      "\u001b[36mCell\u001b[39m\u001b[36m \u001b[39m\u001b[32mIn[24]\u001b[39m\u001b[32m, line 1\u001b[39m\n\u001b[32m----> \u001b[39m\u001b[32m1\u001b[39m itr_obj.\u001b[34m__next__\u001b[39m()\n",
      "\u001b[31mStopIteration\u001b[39m: "
     ]
    }
   ],
   "source": [
    "itr_obj.__next__()\n"
   ]
  },
  {
   "cell_type": "code",
   "execution_count": 16,
   "id": "7783e8c8-b6dd-44a5-ae51-4049a13d049d",
   "metadata": {},
   "outputs": [
    {
     "data": {
      "text/plain": [
       "list_iterator"
      ]
     },
     "execution_count": 16,
     "metadata": {},
     "output_type": "execute_result"
    }
   ],
   "source": [
    "itr_test_lst = [10,20,30]\n",
    "itr_obj1= iter(itr_test_lst)\n",
    "type(itr_obj1)"
   ]
  },
  {
   "cell_type": "code",
   "execution_count": 25,
   "id": "f4d5ed1a-e8e3-4b69-9d33-384e25bc0091",
   "metadata": {},
   "outputs": [
    {
     "ename": "StopIteration",
     "evalue": "",
     "output_type": "error",
     "traceback": [
      "\u001b[31m---------------------------------------------------------------------------\u001b[39m",
      "\u001b[31mStopIteration\u001b[39m                             Traceback (most recent call last)",
      "\u001b[36mCell\u001b[39m\u001b[36m \u001b[39m\u001b[32mIn[25]\u001b[39m\u001b[32m, line 1\u001b[39m\n\u001b[32m----> \u001b[39m\u001b[32m1\u001b[39m itr_obj1.\u001b[34m__next__\u001b[39m()\n",
      "\u001b[31mStopIteration\u001b[39m: "
     ]
    }
   ],
   "source": [
    "itr_obj1.__next__()"
   ]
  },
  {
   "cell_type": "code",
   "execution_count": 29,
   "id": "94b9fc47-486f-44fa-a77f-a3742de1f161",
   "metadata": {},
   "outputs": [
    {
     "name": "stdout",
     "output_type": "stream",
     "text": [
      "10\n",
      "20\n",
      "30\n"
     ]
    }
   ],
   "source": [
    "itr_test_lst = [10,20,30]\n",
    "itr_obj1= iter(itr_test_lst)\n",
    "for i in itr_obj1:\n",
    "    print(i)"
   ]
  },
  {
   "cell_type": "code",
   "execution_count": 30,
   "id": "08db20f4-7b66-4977-9e8e-19e14e6b0607",
   "metadata": {},
   "outputs": [
    {
     "name": "stdout",
     "output_type": "stream",
     "text": [
      "10\n",
      "20\n",
      "30\n"
     ]
    }
   ],
   "source": [
    "itr_test_lst = [10,20,30]\n",
    "for i in itr_test_lst:\n",
    "    print(i)"
   ]
  },
  {
   "cell_type": "code",
   "execution_count": 31,
   "id": "c2d519bb-e2dd-48cd-a2f2-9ad90c0943e3",
   "metadata": {},
   "outputs": [
    {
     "name": "stdout",
     "output_type": "stream",
     "text": [
      "0 10\n",
      "1 20\n",
      "2 30\n"
     ]
    }
   ],
   "source": [
    "for i, items in enumerate(itr_test_lst):\n",
    "    print(i, items)"
   ]
  },
  {
   "cell_type": "code",
   "execution_count": 33,
   "id": "01d05932-2e7b-4e80-8c6a-1cbbcd61546e",
   "metadata": {},
   "outputs": [
    {
     "name": "stdout",
     "output_type": "stream",
     "text": [
      "0 h\n",
      "1 e\n",
      "2 l\n",
      "3 l\n",
      "4 o\n"
     ]
    }
   ],
   "source": [
    "msg = 'hello'\n",
    "for i,v in enumerate(msg):\n",
    "    print(i,v)\n"
   ]
  },
  {
   "cell_type": "code",
   "execution_count": 39,
   "id": "a40abb29-2cf6-4463-a5d4-bc00da78f369",
   "metadata": {},
   "outputs": [
    {
     "data": {
      "text/plain": [
       "'banana1'"
      ]
     },
     "execution_count": 39,
     "metadata": {},
     "output_type": "execute_result"
    }
   ],
   "source": [
    "def gen_bm():\n",
    "    yield 'banana1'\n",
    "    yield 'banana2'\n",
    "    yield 'banana3'\n",
    "\n",
    "gen_bm()\n",
    "gen = gen_bm()\n",
    "next(gen)"
   ]
  },
  {
   "cell_type": "code",
   "execution_count": 3,
   "id": "6528491f-a1ca-4774-a69b-1b4f63be4cd3",
   "metadata": {},
   "outputs": [
    {
     "name": "stdout",
     "output_type": "stream",
     "text": [
      "0\n",
      "1\n",
      "4\n",
      "9\n",
      "16\n",
      "25\n",
      "36\n",
      "49\n",
      "64\n",
      "81\n"
     ]
    }
   ],
   "source": [
    "a = [1,2,3,4,5]\n",
    "def square():\n",
    "    for x in range(10):\n",
    "        yield x**2\n",
    "s = square()\n",
    "\n",
    "for n in s:\n",
    "    print(n)"
   ]
  },
  {
   "cell_type": "code",
   "execution_count": 4,
   "id": "9be7f461-684b-40d6-93be-f99ab3581835",
   "metadata": {},
   "outputs": [
    {
     "ename": "StopIteration",
     "evalue": "",
     "output_type": "error",
     "traceback": [
      "\u001b[31m---------------------------------------------------------------------------\u001b[39m",
      "\u001b[31mStopIteration\u001b[39m                             Traceback (most recent call last)",
      "\u001b[36mCell\u001b[39m\u001b[36m \u001b[39m\u001b[32mIn[4]\u001b[39m\u001b[32m, line 1\u001b[39m\n\u001b[32m----> \u001b[39m\u001b[32m1\u001b[39m \u001b[38;5;28mnext\u001b[39m(s)\n",
      "\u001b[31mStopIteration\u001b[39m: "
     ]
    }
   ],
   "source": [
    "next(s)"
   ]
  },
  {
   "cell_type": "code",
   "execution_count": 5,
   "id": "29769cde-f64f-4170-b9ca-a3bfa57ddc91",
   "metadata": {},
   "outputs": [
    {
     "name": "stdout",
     "output_type": "stream",
     "text": [
      "0\n",
      "1\n",
      "4\n",
      "9\n",
      "16\n",
      "25\n",
      "36\n",
      "49\n",
      "64\n",
      "81\n",
      "100\n"
     ]
    }
   ],
   "source": [
    "# 리스트 컴프리헨션\n",
    "squares_list = [x**2 for x in range(1000000)]  # 메모리를 많이 사용\n",
    "\n",
    "# 제너레이터 표현식\n",
    "squares_gen = (x**2 for x in range(1000000))   # 메모리 효율적\n",
    "\n",
    "# 사용 예시\n",
    "for square in squares_gen:\n",
    "    if square > 100:\n",
    "        break\n",
    "    print(square)"
   ]
  },
  {
   "cell_type": "code",
   "execution_count": null,
   "id": "902b1770-a251-419e-abbd-98106b88d8da",
   "metadata": {},
   "outputs": [],
   "source": []
  },
  {
   "cell_type": "code",
   "execution_count": null,
   "id": "414d8d93-bc37-467b-8032-5596c7d87dc6",
   "metadata": {},
   "outputs": [],
   "source": []
  },
  {
   "cell_type": "code",
   "execution_count": null,
   "id": "3a563780-d530-4182-a9e5-315d136e8ce6",
   "metadata": {},
   "outputs": [],
   "source": []
  },
  {
   "cell_type": "code",
   "execution_count": null,
   "id": "3125187a-2014-45ce-850a-bbd185bdf24a",
   "metadata": {},
   "outputs": [],
   "source": []
  },
  {
   "cell_type": "code",
   "execution_count": null,
   "id": "4d50dfd7-ee65-4fc5-be98-3db0c73e679b",
   "metadata": {},
   "outputs": [],
   "source": []
  },
  {
   "cell_type": "code",
   "execution_count": null,
   "id": "ddef68d2-b929-4e37-a800-b63c11d015ea",
   "metadata": {},
   "outputs": [],
   "source": []
  },
  {
   "cell_type": "code",
   "execution_count": null,
   "id": "8e9d9a32-e001-43d2-a3d1-a75c29510f66",
   "metadata": {},
   "outputs": [],
   "source": []
  }
 ],
 "metadata": {
  "kernelspec": {
   "display_name": "Python 3 (ipykernel)",
   "language": "python",
   "name": "python3"
  },
  "language_info": {
   "codemirror_mode": {
    "name": "ipython",
    "version": 3
   },
   "file_extension": ".py",
   "mimetype": "text/x-python",
   "name": "python",
   "nbconvert_exporter": "python",
   "pygments_lexer": "ipython3",
   "version": "3.12.9"
  }
 },
 "nbformat": 4,
 "nbformat_minor": 5
}
