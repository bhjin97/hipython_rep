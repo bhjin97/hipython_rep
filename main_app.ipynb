{
 "cells": [
  {
   "cell_type": "code",
   "execution_count": 3,
   "id": "7cee2938-df28-4701-868d-f91ae279e025",
   "metadata": {},
   "outputs": [
    {
     "name": "stdout",
     "output_type": "stream",
     "text": [
      "15\n",
      "50\n"
     ]
    }
   ],
   "source": [
    "import magic_calc\n",
    "\n",
    "result_add = magic_calc.basic_ops.add(10,5)\n",
    "print(result_add)\n",
    "\n",
    "result_magic_multiply = magic_calc.advanced_ops.magic_multiply(10,5)\n",
    "print(result_magic_multiply)"
   ]
  },
  {
   "cell_type": "code",
   "execution_count": 2,
   "id": "ea91978f-8061-4015-9094-3e56ca4d9b38",
   "metadata": {},
   "outputs": [
    {
     "name": "stdout",
     "output_type": "stream",
     "text": [
      "70\n"
     ]
    }
   ],
   "source": [
    "from magic_calc import basic_ops,advanced_ops\n",
    "result_sub = basic_ops.subtract(100,30)\n",
    "print(result_sub)"
   ]
  },
  {
   "cell_type": "code",
   "execution_count": 4,
   "id": "20fd7d30-363b-4837-8dc0-c0dbe3c1254f",
   "metadata": {},
   "outputs": [
    {
     "name": "stdout",
     "output_type": "stream",
     "text": [
      "\n",
      "--- 방법 3: multiply, divide, power 직접 사용 ---\n",
      "3 * 4 = 12\n"
     ]
    }
   ],
   "source": [
    "from magic_calc.basic_ops import multiply, divide\n",
    "from magic_calc.advanced_ops import power\n",
    "\n",
    "print(\"\\n--- 방법 3: multiply, divide, power 직접 사용 ---\")\n",
    "result_mul = multiply(3, 4)\n",
    "print(f\"3 * 4 = {result_mul}\")"
   ]
  }
 ],
 "metadata": {
  "kernelspec": {
   "display_name": "Python 3 (ipykernel)",
   "language": "python",
   "name": "python3"
  },
  "language_info": {
   "codemirror_mode": {
    "name": "ipython",
    "version": 3
   },
   "file_extension": ".py",
   "mimetype": "text/x-python",
   "name": "python",
   "nbconvert_exporter": "python",
   "pygments_lexer": "ipython3",
   "version": "3.12.9"
  }
 },
 "nbformat": 4,
 "nbformat_minor": 5
}
