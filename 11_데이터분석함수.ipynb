{
 "cells": [
  {
   "cell_type": "code",
   "execution_count": 1,
   "id": "b87f4621",
   "metadata": {},
   "outputs": [],
   "source": [
    "from collections import defaultdict"
   ]
  },
  {
   "cell_type": "code",
   "execution_count": 4,
   "id": "8ab28225",
   "metadata": {},
   "outputs": [
    {
     "name": "stdout",
     "output_type": "stream",
     "text": [
      "defaultdict(<class 'int'>, {'a': 1, 'b': 0, 'c': 2})\n"
     ]
    }
   ],
   "source": [
    "dd = defaultdict(int)\n",
    "dd['a'] = 1\n",
    "dd['b']\n",
    "\n",
    "dd['c']=2\n",
    "print(dd)"
   ]
  },
  {
   "cell_type": "code",
   "execution_count": 7,
   "id": "8f1482cf",
   "metadata": {},
   "outputs": [
    {
     "data": {
      "text/plain": [
       "([{'Alice': 90}, {'Bob': 80}, {'Charile': 70}], {'Alice': 80})"
      ]
     },
     "execution_count": 7,
     "metadata": {},
     "output_type": "execute_result"
    }
   ],
   "source": [
    "scores = [{'Alice':90},{'Bob':80},{'Charile':70}],{'Alice':80}\n",
    "scores"
   ]
  },
  {
   "cell_type": "code",
   "execution_count": 18,
   "id": "eb820030",
   "metadata": {},
   "outputs": [
    {
     "data": {
      "text/plain": [
       "defaultdict(list, {})"
      ]
     },
     "execution_count": 18,
     "metadata": {},
     "output_type": "execute_result"
    }
   ],
   "source": [
    "scores = [{'Alice':90},{'Bob':80},{'Charile':70},{'Alice':80}]\n",
    "scores\n",
    "scores = defaultdict(list)\n",
    "for name, score in scores:\n",
    "    grouped[name].append(score)\n",
    "grouped"
   ]
  },
  {
   "cell_type": "code",
   "execution_count": 16,
   "id": "e339b8c8",
   "metadata": {},
   "outputs": [
    {
     "data": {
      "text/plain": [
       "{}"
      ]
     },
     "execution_count": 16,
     "metadata": {},
     "output_type": "execute_result"
    }
   ],
   "source": [
    "scores = [{'Alice':90},{'Bob':80},{'Charile':70},{'Alice':80}]\n",
    "scores\n",
    "grouped = defaultdict(list)\n",
    "dict(grouped)"
   ]
  },
  {
   "cell_type": "code",
   "execution_count": 14,
   "id": "e3180909",
   "metadata": {},
   "outputs": [
    {
     "data": {
      "text/plain": [
       "defaultdict(int, {'b': 1, 'a': 3, 'n': 2})"
      ]
     },
     "execution_count": 14,
     "metadata": {},
     "output_type": "execute_result"
    }
   ],
   "source": [
    "s = 'banana'\n",
    "cnt = defaultdict(int)\n",
    "\n",
    "for char in s:\n",
    "    cnt[char] +=1\n",
    "cnt"
   ]
  },
  {
   "cell_type": "code",
   "execution_count": null,
   "id": "237587a7",
   "metadata": {},
   "outputs": [],
   "source": []
  },
  {
   "cell_type": "code",
   "execution_count": null,
   "id": "ddcb78a3",
   "metadata": {},
   "outputs": [],
   "source": []
  },
  {
   "cell_type": "code",
   "execution_count": null,
   "id": "601f83d1",
   "metadata": {},
   "outputs": [],
   "source": []
  },
  {
   "cell_type": "code",
   "execution_count": null,
   "id": "d3befb53",
   "metadata": {},
   "outputs": [],
   "source": []
  },
  {
   "cell_type": "code",
   "execution_count": null,
   "id": "f441fc45",
   "metadata": {},
   "outputs": [],
   "source": []
  }
 ],
 "metadata": {
  "kernelspec": {
   "display_name": "hipython",
   "language": "python",
   "name": "python3"
  },
  "language_info": {
   "codemirror_mode": {
    "name": "ipython",
    "version": 3
   },
   "file_extension": ".py",
   "mimetype": "text/x-python",
   "name": "python",
   "nbconvert_exporter": "python",
   "pygments_lexer": "ipython3",
   "version": "3.12.9"
  }
 },
 "nbformat": 4,
 "nbformat_minor": 5
}
