{
 "cells": [
  {
   "cell_type": "markdown",
   "id": "4e01f93c-9037-4669-8599-a742e7dc6f3f",
   "metadata": {},
   "source": [
    "# 파이썬으로 객체지향 프로그래밍 OOP\n",
    "Object Oriented Programming\n",
    "\n",
    "파이썬으로 만드는 응용 프로그램\n",
    "-  변수: 전역, 지역\n",
    "-  함수: 기능을 구현하는 도구\n",
    "-  모듈: 함수의 모음, 변수의 모음 >.py\n",
    "-  CRUD의 구현: create, read, update, delete\n",
    "\n",
    "클래스: 변수+함수를 하나로 묶어주는 개념\n",
    "객체지향 프로그램: 객체를 이용하는 프로그램\n"
   ]
  },
  {
   "cell_type": "markdown",
   "id": "b8c9b71a-eaa3-450d-a9f3-1ffcfbd54695",
   "metadata": {},
   "source": [
    "## 객체를 만드는 법\n",
    "\n",
    "1. 클래스 만들기\n",
    "2. 클래스를 이용해 객체를 생성\n",
    "3. 객체의 함수: 메소드를 호출"
   ]
  },
  {
   "cell_type": "code",
   "execution_count": 42,
   "id": "2c64d8a4-2535-4fa9-8384-200a1a7c12e6",
   "metadata": {},
   "outputs": [],
   "source": [
    "class Bicycle():\n",
    "    #속성추가 - 생성자\n",
    "    def __init__(self,color,wheelsize='20인치'):\n",
    "        self.color = color\n",
    "        self.wheelsize = wheelsize\n",
    "    # 오버로딩 - 파이썬에서는 마지막꺼만 작동\n",
    "    # def __init__(self,color):\n",
    "    #     self.color = color\n",
    "        \n",
    "    def move(self):\n",
    "        print(f'{self.color}의 휠 {self.wheelsize} 자전거가 움직입니다')"
   ]
  },
  {
   "cell_type": "code",
   "execution_count": 43,
   "id": "7e9e79ed-c463-4666-9afc-83f4d65c0758",
   "metadata": {},
   "outputs": [
    {
     "name": "stdout",
     "output_type": "stream",
     "text": [
      "빨간색의 휠 20인치 자전거가 움직입니다\n"
     ]
    }
   ],
   "source": [
    "bi = Bicycle('빨간색') #객체 생성\n",
    "bi.move() #객체의 메소드를 생성"
   ]
  },
  {
   "cell_type": "code",
   "execution_count": 44,
   "id": "ef2821ea-d1fe-491a-a91e-6a5dd727878a",
   "metadata": {},
   "outputs": [
    {
     "name": "stdout",
     "output_type": "stream",
     "text": [
      "파랑색의 휠 30인치 자전거가 움직입니다\n"
     ]
    }
   ],
   "source": [
    "bi1 = Bicycle('파랑색','30인치')\n",
    "bi1.move()"
   ]
  },
  {
   "cell_type": "code",
   "execution_count": 32,
   "id": "fe04d13c-eb03-4801-8328-7f417e199e2d",
   "metadata": {},
   "outputs": [
    {
     "data": {
      "text/plain": [
       "__main__.Bicycle"
      ]
     },
     "execution_count": 32,
     "metadata": {},
     "output_type": "execute_result"
    }
   ],
   "source": [
    "type(bi)"
   ]
  },
  {
   "cell_type": "code",
   "execution_count": 33,
   "id": "77f2aebf-0a5b-4e88-9296-0c9ec732ac93",
   "metadata": {
    "collapsed": true,
    "jupyter": {
     "outputs_hidden": true
    }
   },
   "outputs": [
    {
     "data": {
      "text/plain": [
       "['__class__',\n",
       " '__delattr__',\n",
       " '__dict__',\n",
       " '__dir__',\n",
       " '__doc__',\n",
       " '__eq__',\n",
       " '__format__',\n",
       " '__ge__',\n",
       " '__getattribute__',\n",
       " '__getstate__',\n",
       " '__gt__',\n",
       " '__hash__',\n",
       " '__init__',\n",
       " '__init_subclass__',\n",
       " '__le__',\n",
       " '__lt__',\n",
       " '__module__',\n",
       " '__ne__',\n",
       " '__new__',\n",
       " '__reduce__',\n",
       " '__reduce_ex__',\n",
       " '__repr__',\n",
       " '__setattr__',\n",
       " '__sizeof__',\n",
       " '__str__',\n",
       " '__subclasshook__',\n",
       " '__weakref__',\n",
       " 'move']"
      ]
     },
     "execution_count": 33,
     "metadata": {},
     "output_type": "execute_result"
    }
   ],
   "source": [
    "dir(Bicycle)"
   ]
  },
  {
   "cell_type": "code",
   "execution_count": 45,
   "id": "e252112b-6e54-4144-8983-f926341cb599",
   "metadata": {},
   "outputs": [
    {
     "name": "stdout",
     "output_type": "stream",
     "text": [
      "제 이름은 민수이고 12살 입니다\n"
     ]
    }
   ],
   "source": [
    "class student:\n",
    "    def __init__(self,name,age):\n",
    "        self.name  = name\n",
    "        self.age = age\n",
    "    def introduce(self):\n",
    "        print(f'제 이름은 {self.name}이고 {self.age}살 입니다')\n",
    "\n",
    "s1 = student('민수','12')\n",
    "s1.introduce()"
   ]
  },
  {
   "cell_type": "markdown",
   "id": "2f84a3b6-8086-462e-bcd2-c785da36e995",
   "metadata": {},
   "source": [
    "# 클래스의 속성 - 변수\n",
    "\n",
    "1. 인스턴스 변수\n",
    "2. 클래스 변수"
   ]
  },
  {
   "cell_type": "code",
   "execution_count": 37,
   "id": "7bf31aab-0031-478b-9a97-e5c13c4bac9d",
   "metadata": {},
   "outputs": [
    {
     "name": "stdout",
     "output_type": "stream",
     "text": [
      "why not camp\n",
      "Alice\n",
      "Bob\n"
     ]
    }
   ],
   "source": [
    "class Student:\n",
    "    def __init__(self, name):\n",
    "        self.name = name  \n",
    "    \n",
    "    school = \"why not camp\"  \n",
    "\n",
    "s1 = Student(\"Alice\")\n",
    "s2 = Student(\"Bob\")\n",
    "\n",
    "print(Student.school)  \n",
    "print(s1.name)  \n",
    "print(s2.name)   "
   ]
  },
  {
   "cell_type": "code",
   "execution_count": 54,
   "id": "27a75779-ac4a-42cf-9a75-0f2f7564dea4",
   "metadata": {},
   "outputs": [],
   "source": [
    "class Car():\n",
    "    instance_cnt=0\n",
    "\n",
    "    def __init__(self,size):\n",
    "        self.size = size\n",
    "        Car.instance_cnt += 1\n",
    "        print(f\"자동차가 {Car.instance_cnt}대 생성되었습니다\")\n",
    "\n",
    "    def move(self):\n",
    "        print(f\"{self.size}의 자동차가 움직입니다\")"
   ]
  },
  {
   "cell_type": "code",
   "execution_count": 56,
   "id": "6c8fdffb-5dec-4d3a-9120-13f1324fde2e",
   "metadata": {},
   "outputs": [
    {
     "name": "stdout",
     "output_type": "stream",
     "text": [
      "자동차가 2대 생성되었습니다\n",
      "5000cc의 자동차가 움직입니다\n"
     ]
    }
   ],
   "source": [
    "c1 = Car('5000cc')\n",
    "c1.move()"
   ]
  },
  {
   "cell_type": "markdown",
   "id": "db551cb7-5b82-4846-9f9a-96a12ab25e95",
   "metadata": {},
   "source": [
    "# 메소드\n",
    "1. 인스턴스 메소드 : self\n",
    "2. (스태틱)정적 메소드 : @staticmethod\n",
    "3. 클래스 메소드 : @classmethod"
   ]
  },
  {
   "cell_type": "code",
   "execution_count": 60,
   "id": "fb612929-7986-4206-8dee-a33ed7c4f763",
   "metadata": {},
   "outputs": [],
   "source": [
    "class Calculator:\n",
    "    def __init__(self, x, y): #instance method\n",
    "        self.x = x\n",
    "        self.y = y\n",
    "\n",
    "    def add(self): #instance method\n",
    "        return self.x + self.y\n",
    "\n",
    "    def multiply(self): #instance method\n",
    "        return self.x * self.y\n",
    "\n"
   ]
  },
  {
   "cell_type": "code",
   "execution_count": 66,
   "id": "d3b4e29f-076b-4f4d-9b1c-b128bfe351f6",
   "metadata": {},
   "outputs": [
    {
     "data": {
      "text/plain": [
       "7"
      ]
     },
     "execution_count": 66,
     "metadata": {},
     "output_type": "execute_result"
    }
   ],
   "source": [
    "calc=Calculator(3,4)# __init__함수를 자동으로 호출\n",
    "calc.add() # self가 위의 값을 참조하게 해줌\n",
    "# instance method의 호출 > 객체의 참조.메소드()"
   ]
  },
  {
   "cell_type": "code",
   "execution_count": 65,
   "id": "6999dcf1-e886-43b1-a213-119b6ffa673a",
   "metadata": {},
   "outputs": [
    {
     "data": {
      "text/plain": [
       "12"
      ]
     },
     "execution_count": 65,
     "metadata": {},
     "output_type": "execute_result"
    }
   ],
   "source": [
    "calc.multiply()"
   ]
  },
  {
   "cell_type": "code",
   "execution_count": 9,
   "id": "d133f75b-8aaf-42fa-8b6b-cf065fc309a8",
   "metadata": {},
   "outputs": [],
   "source": [
    "class Car():\n",
    "    instance_cnt=0\n",
    "    \n",
    "    def __init__(self,size):\n",
    "        self.size = size\n",
    "        Car.instance_cnt += 1\n",
    "        print(f\"자동차가 {Car.instance_cnt}대 생성되었습니다\")\n",
    "\n",
    "    def auto_cruise(self):\n",
    "        print('자율주행중')\n",
    "\n",
    "    def check_type(code): #static method\n",
    "        if code>=20:\n",
    "            print('전기자동차')\n",
    "        elif 10<code<20:\n",
    "            print('가솔린 자동차')\n",
    "        else:\n",
    "            print('디젤 자동차')\n",
    "\n",
    "    # def count_instance(): # class method\n",
    "    #     print(f'자동차 대수 : {Car.instance_cnt}')\n",
    "            \n",
    "    @classmethod\n",
    "    def count_instance(cls): # class method\n",
    "        print(f'자동차 대수 : {cls.instance_cnt}')"
   ]
  },
  {
   "cell_type": "code",
   "execution_count": 13,
   "id": "331b08dc-0f47-42a9-aa0c-9db76b496490",
   "metadata": {},
   "outputs": [
    {
     "name": "stdout",
     "output_type": "stream",
     "text": [
      "자동차가 3대 생성되었습니다\n",
      "전기자동차\n"
     ]
    }
   ],
   "source": [
    "\n",
    "c1 =Car('2500cc')\n",
    "Car.check_type(20)\n"
   ]
  },
  {
   "cell_type": "code",
   "execution_count": 14,
   "id": "5c5edb91-0192-42b3-8f6a-7841f68254f2",
   "metadata": {},
   "outputs": [
    {
     "name": "stdout",
     "output_type": "stream",
     "text": [
      "자동차가 4대 생성되었습니다\n",
      "전기자동차\n"
     ]
    }
   ],
   "source": [
    "c2 = Car('5000cc')\n",
    "Car.check_type(20)"
   ]
  },
  {
   "cell_type": "code",
   "execution_count": 15,
   "id": "d7c26119-1be4-4fd4-aacd-04ba50d50549",
   "metadata": {},
   "outputs": [
    {
     "name": "stdout",
     "output_type": "stream",
     "text": [
      "자동차 대수 : 4\n"
     ]
    }
   ],
   "source": [
    "Car.count_instance()"
   ]
  },
  {
   "cell_type": "markdown",
   "id": "436add2f-ee3e-4b09-8086-6322e7d5ab60",
   "metadata": {},
   "source": [
    "# 성적처리 class 정의"
   ]
  },
  {
   "cell_type": "code",
   "execution_count": 2,
   "id": "5338a382-b24d-4adf-a004-5c3eb474ca51",
   "metadata": {},
   "outputs": [],
   "source": [
    "class Student():\n",
    "    def __init__(self, num, name, kor, eng, math):\n",
    "        self.num=num\n",
    "        self.name=name\n",
    "        self.kor=kor\n",
    "        self.eng=eng\n",
    "        self.math=math\n",
    "        self.total=0\n",
    "        self.avg=0\n",
    "        self.order=0\n",
    "\n",
    "        # 학생 객체의 총점\n",
    "    def calc_total(self):\n",
    "        self.total = self.kor + self.eng + self.math\n",
    "        \n",
    "    def calc_avg(self):    \n",
    "        self.avg = self.total/3\n",
    "\n",
    "    # 학생 객체의 정보 출력\n",
    "    def s_info(self):\n",
    "        print(f'{self.num},{self.name},{self.kor},{self.eng},{self.math}, {self.total}, {self.avg},{self.order}')\n",
    "\n",
    "    def set_order(self,order):\n",
    "        self.order = order\n",
    "    #오브젝트 상속받은 메소드 재정의 overriding\n",
    "    def __str__(self):\n",
    "        return f'{self.num}, {self.name}, {self.order}등'\n",
    "\n",
    "    # 학생의 성적표 / 번호 이름 평균 등수\n",
    "    def print_score(self):\n",
    "        print(f'{self.num} 이름:{self.name} 평균{self.avg:.2f}점 ')\n"
   ]
  },
  {
   "cell_type": "code",
   "execution_count": 3,
   "id": "9bdc8492-65c1-498f-9647-07df9368c732",
   "metadata": {},
   "outputs": [],
   "source": [
    "import random\n",
    "class Classroom():\n",
    "    #클래스 이름\n",
    "    def __init__(self, student_list):\n",
    "        self.students = self.gen_student_data(student_list)\n",
    "        self.name = ''\n",
    "\n",
    "    def set_name(self, class_name):\n",
    "        self.name = class_name\n",
    "        \n",
    "    #클래스의 학생 목록의 생성하는 인스턴스 메소드\n",
    "    def gen_student_data(self, stu_list): # stullist는 이름만 담긴 리스트\n",
    "        students = []\n",
    "        for i, s_name in enumerate(stu_list, start=1):\n",
    "            #print(i,s_name)\n",
    "            s = Student(i,s_name, \n",
    "                        random.randint(50,100),\n",
    "                        random.randint(50,100),\n",
    "                        random.randint(50,100)\n",
    "                               )\n",
    "\n",
    "            s.calc_total()\n",
    "            #s.s_info()\n",
    "            s.calc_avg()\n",
    "            students.append(s)\n",
    "        \n",
    "        return students\n",
    "    \n",
    "    #학급의 학생 순위를 계산해서 학생 객체에 설정\n",
    "    def calc_order(self):\n",
    "        for s in self.students:\n",
    "            rank = 1\n",
    "            for other in self.students:\n",
    "                if other.total > s.total:\n",
    "                    rank += 1\n",
    "            #s.s_info()\n",
    "            \n",
    "    def print_student_score(self):\n",
    "        for student in self.students:\n",
    "            print(student)\n",
    "\n",
    "    #학급정보 리턴함수 __str__\n",
    "    def __str__(self):\n",
    "        return f'학급명 : {self.name}'\n",
    "\n",
    "    #학급 성적표\n",
    "    #국어 평균, 수학 평균, 영어 평균, 전체 평균, 학생수 \n",
    "    def print_class_score(self):\n",
    "        print(f' 우리 학급은 {self.name} 입니다.')\n",
    "        print(f'이번 우리 클래스의 전체 평균은 {sum(s.total for s in self.students)/len(self.students):.2f} 입니다.')\n",
    "        print(f'우리 학급은 총 {len(self.students)}명입니다.\\n')\n",
    "\n",
    "    def print_ordered_class_member(self):\n",
    "        s_students = sorted(self.students, key=lambda s:s.order)\n",
    "        #print(len(s_students))\n",
    "        \n",
    "        for s in s_students:\n",
    "            s.print_score()\n",
    "\n",
    "    #instance method + 1"
   ]
  },
  {
   "cell_type": "code",
   "execution_count": 16,
   "id": "13fa4310-c7ce-431d-ba3f-2294ed272d2b",
   "metadata": {},
   "outputs": [
    {
     "name": "stdout",
     "output_type": "stream",
     "text": [
      "학급명 : WN7\n",
      "1, 홍길동, 2등\n",
      "2, 박제동, 3등\n",
      "3, 김영희, 1등\n",
      "4, 한사랑, 4등\n",
      "3 이름:김영희 평균78.33점 \n",
      "1 이름:홍길동 평균71.33점 \n",
      "2 이름:박제동 평균67.67점 \n",
      "4 이름:한사랑 평균65.67점 \n"
     ]
    }
   ],
   "source": [
    "#MAIN process\n",
    "a_class_stu=['홍길동','박제동','김영희','한사랑']\n",
    "b_class_stu=['김길동','이제동','한영희','김사랑','아이유']\n",
    "\n",
    "a_class = Classroom(a_class_stu)\n",
    "b_class = Classroom(b_class_stu)\n",
    "\n",
    "a_class.set_name('WN7')\n",
    "print(a_class)\n",
    "a_class.calc_order()\n",
    "a_class.print_student_score()\n",
    "a_class.print_ordered_class_member()\n",
    "\n"
   ]
  },
  {
   "cell_type": "markdown",
   "id": "d6600e0d-89fe-4203-bdd5-2fc7a485c4ea",
   "metadata": {},
   "source": [
    "# 객체와 클래스를 사용하는 이유\n",
    "\n",
    "1. 코드작성과 관리가 편하다\n",
    "2. 규모가 큰 프로그램(라이브러리)에서 사용한다\n",
    "3. 유사한 객체가 많은 프로그램에서 사용한다(예: 게임)"
   ]
  },
  {
   "cell_type": "markdown",
   "id": "218b9b7a-003b-4b6b-9165-2f4348ed7723",
   "metadata": {},
   "source": [
    "# 객체지향의 특징\n",
    "\n",
    "- 캡슐화\n",
    "- 상속\n",
    "- 다형성"
   ]
  },
  {
   "cell_type": "markdown",
   "id": "c286004c-9480-43b5-99b9-793b8a52988a",
   "metadata": {},
   "source": [
    "## 캡슐화"
   ]
  },
  {
   "cell_type": "code",
   "execution_count": 74,
   "id": "93fae93f-a429-4aea-a0ef-eb4f6da8e220",
   "metadata": {},
   "outputs": [],
   "source": [
    "class MyClass():\n",
    "    def __init__(self):\n",
    "        self.var1 = 10 #public\n",
    "        self._var2 = 20 #protected\n",
    "        self.__var3 = 30 #private\n",
    "\n",
    "c1=MyClass()"
   ]
  },
  {
   "cell_type": "code",
   "execution_count": 75,
   "id": "2307fd01-7af4-4418-8817-894f3600072d",
   "metadata": {},
   "outputs": [
    {
     "ename": "AttributeError",
     "evalue": "'MyClass' object has no attribute '__var3'",
     "output_type": "error",
     "traceback": [
      "\u001b[31m---------------------------------------------------------------------------\u001b[39m",
      "\u001b[31mAttributeError\u001b[39m                            Traceback (most recent call last)",
      "\u001b[36mCell\u001b[39m\u001b[36m \u001b[39m\u001b[32mIn[75]\u001b[39m\u001b[32m, line 1\u001b[39m\n\u001b[32m----> \u001b[39m\u001b[32m1\u001b[39m c1.__var3\n",
      "\u001b[31mAttributeError\u001b[39m: 'MyClass' object has no attribute '__var3'"
     ]
    }
   ],
   "source": [
    "c1.__var3 #언더바 두개는 참조 불가능"
   ]
  },
  {
   "cell_type": "code",
   "execution_count": 76,
   "id": "5a352569-64de-45db-89c2-1cd85da1f75a",
   "metadata": {},
   "outputs": [
    {
     "data": {
      "text/plain": [
       "30"
      ]
     },
     "execution_count": 76,
     "metadata": {},
     "output_type": "execute_result"
    }
   ],
   "source": [
    "c1._MyClass__var3 # 이렇게 하면 가능"
   ]
  },
  {
   "cell_type": "markdown",
   "id": "b0035ba3-07fe-497c-9b8d-6d09280b0434",
   "metadata": {},
   "source": [
    "## 클래스의 상속"
   ]
  },
  {
   "cell_type": "code",
   "execution_count": 64,
   "id": "fa8ab23b-8187-4dec-9e7f-d43b75ccdcee",
   "metadata": {},
   "outputs": [],
   "source": [
    "# 부모 클래스\n",
    "class Calculator():\n",
    "    def __init__(self,x,y):\n",
    "        self.x = x\n",
    "        self.y = y\n",
    "\n",
    "    def add(self):\n",
    "        return self.x + self.y\n",
    "\n",
    "    def multi(self):\n",
    "        return self.x * self.y\n",
    "\n",
    "    def minus(self):\n",
    "        return self.x - self.y"
   ]
  },
  {
   "cell_type": "code",
   "execution_count": 71,
   "id": "5f648f52-aaa0-441b-abfb-132619550b50",
   "metadata": {},
   "outputs": [],
   "source": [
    "# 자식 클래스\n",
    "class AdvCalculator(Calculator):#상속\n",
    "    # 상속받은 기능 재사용 (init)\n",
    "    # 자식이 추가한 기능\n",
    "    def divide(self):\n",
    "        if self.y==0:\n",
    "            return '0으로 나누기 금지'\n",
    "        return self.x/self.y\n",
    "        \n",
    "    def add(self): # 부모-자식에 같은 함수 있으면 자식 우선 = Overriding\n",
    "        print('가나다라마바사')\n",
    "        return super().add() #수퍼는 부모에 있는 add가져옴\n",
    "\n",
    "    def multi(self):\n",
    "        print('곱하기 하는중?')\n",
    "        return super().multi()\n",
    "\n",
    "    def square(self):\n",
    "        return self.x**self.y"
   ]
  },
  {
   "cell_type": "code",
   "execution_count": 72,
   "id": "e341e757-5b93-4dd4-9abb-93f2a9d8dec0",
   "metadata": {},
   "outputs": [
    {
     "data": {
      "text/plain": [
       "10.0"
      ]
     },
     "execution_count": 72,
     "metadata": {},
     "output_type": "execute_result"
    }
   ],
   "source": [
    "acalc=AdvCalculator(30,3)\n",
    "acalc.divide()"
   ]
  },
  {
   "cell_type": "code",
   "execution_count": 57,
   "id": "3ca36eb6-217f-46ec-80ee-b2407eab161b",
   "metadata": {},
   "outputs": [
    {
     "name": "stdout",
     "output_type": "stream",
     "text": [
      "가나다라마바사\n"
     ]
    },
    {
     "data": {
      "text/plain": [
       "33"
      ]
     },
     "execution_count": 57,
     "metadata": {},
     "output_type": "execute_result"
    }
   ],
   "source": [
    "acalc.add()"
   ]
  },
  {
   "cell_type": "code",
   "execution_count": 70,
   "id": "5df60493-2d3d-4803-8b13-020b114d433b",
   "metadata": {},
   "outputs": [
    {
     "name": "stdout",
     "output_type": "stream",
     "text": [
      "곱하기 하는중?\n"
     ]
    },
    {
     "data": {
      "text/plain": [
       "90"
      ]
     },
     "execution_count": 70,
     "metadata": {},
     "output_type": "execute_result"
    }
   ],
   "source": [
    "acalc.multi()"
   ]
  },
  {
   "cell_type": "code",
   "execution_count": 67,
   "id": "046f4d84-0073-4eee-a3c9-a5272e244d49",
   "metadata": {},
   "outputs": [
    {
     "data": {
      "text/plain": [
       "27"
      ]
     },
     "execution_count": 67,
     "metadata": {},
     "output_type": "execute_result"
    }
   ],
   "source": [
    "acalc.minus()"
   ]
  },
  {
   "cell_type": "code",
   "execution_count": 73,
   "id": "62305f4f-ac3d-49cd-a793-87c5e449b0e9",
   "metadata": {},
   "outputs": [
    {
     "data": {
      "text/plain": [
       "27000"
      ]
     },
     "execution_count": 73,
     "metadata": {},
     "output_type": "execute_result"
    }
   ],
   "source": [
    "acalc.square()"
   ]
  },
  {
   "cell_type": "markdown",
   "id": "5c04d5f7-eec7-420a-aef2-c226fa91c186",
   "metadata": {},
   "source": [
    "## 다형성"
   ]
  },
  {
   "cell_type": "code",
   "execution_count": 18,
   "id": "2b7786f2-0721-4b47-b589-89dd47991ba8",
   "metadata": {},
   "outputs": [],
   "source": [
    "class Animal:\n",
    "    def make_sound(self):\n",
    "        pass\n",
    "\n",
    "class Dog(Animal):\n",
    "    def make_sound(self):# Animal 에서 상속 받았지만 OverRiding함\n",
    "        return \"멍멍!\"\n",
    "\n",
    "class Cat(Animal):\n",
    "    def make_sound(self):\n",
    "        return \"야옹!\""
   ]
  },
  {
   "cell_type": "code",
   "execution_count": 17,
   "id": "03d1b87d-7265-405f-bef2-fba00de50df6",
   "metadata": {},
   "outputs": [
    {
     "name": "stdout",
     "output_type": "stream",
     "text": [
      "멍멍!\n",
      "야옹!\n"
     ]
    }
   ],
   "source": [
    "animals = [Dog(), Cat()]\n",
    "for animal in animals:\n",
    "    print(animal.make_sound())  # \"멍멍!\", \"야옹!\" 출력"
   ]
  },
  {
   "cell_type": "code",
   "execution_count": 19,
   "id": "df5aeb49-2298-4dc1-948a-de6c74ea461d",
   "metadata": {},
   "outputs": [],
   "source": [
    "dog1=Dog()\n",
    "dog2=Dog()\n",
    "cat1=Cat()\n",
    "cat2=Cat()"
   ]
  },
  {
   "cell_type": "code",
   "execution_count": 24,
   "id": "65945f16-a3c7-4f60-bc72-9be7b706c136",
   "metadata": {},
   "outputs": [
    {
     "name": "stdout",
     "output_type": "stream",
     "text": [
      "멍멍!\n",
      "야옹!\n",
      "멍멍!\n",
      "야옹!\n"
     ]
    }
   ],
   "source": [
    "animals =[dog1, cat1, dog2, cat2] #객체리스트\n",
    "for animal in animals:\n",
    "    print(animal.make_sound())"
   ]
  },
  {
   "cell_type": "code",
   "execution_count": 7,
   "id": "5626e85d-3b1b-4093-8af2-b164a4178ba5",
   "metadata": {},
   "outputs": [
    {
     "data": {
      "text/plain": [
       "[1]"
      ]
     },
     "execution_count": 7,
     "metadata": {},
     "output_type": "execute_result"
    }
   ],
   "source": [
    "class Classroom():\n",
    "    #클래스 이름\n",
    "    def __init__(self, student_list):\n",
    "        self.stlist=student_list\n",
    "a_class_stu=['홍길동','박제동','김영희','한사랑']\n",
    "a_class = Classroom(a_class_stu)\n",
    "getattr(a_class, 'student_list',[1])"
   ]
  },
  {
   "cell_type": "code",
   "execution_count": null,
   "id": "11ccddcb-151b-423c-b56a-e96c795fdfc5",
   "metadata": {},
   "outputs": [],
   "source": []
  },
  {
   "cell_type": "code",
   "execution_count": null,
   "id": "4fe22af7-922a-4301-9630-6568bcca8996",
   "metadata": {},
   "outputs": [],
   "source": []
  },
  {
   "cell_type": "code",
   "execution_count": null,
   "id": "21a2284c-adc8-4411-b183-81af3908e70a",
   "metadata": {},
   "outputs": [],
   "source": []
  },
  {
   "cell_type": "code",
   "execution_count": null,
   "id": "a3a09b33-ad1b-40c0-9814-a25c025de9cd",
   "metadata": {},
   "outputs": [],
   "source": []
  },
  {
   "cell_type": "code",
   "execution_count": null,
   "id": "7be9ff5b-76c5-463f-b7b5-675a2106f375",
   "metadata": {},
   "outputs": [],
   "source": []
  },
  {
   "cell_type": "code",
   "execution_count": null,
   "id": "e222a316-417d-43fc-b7c8-341bf7e327cc",
   "metadata": {},
   "outputs": [],
   "source": []
  },
  {
   "cell_type": "code",
   "execution_count": null,
   "id": "758d2f76-4d83-4d52-840b-0f7625aa8c41",
   "metadata": {},
   "outputs": [],
   "source": []
  }
 ],
 "metadata": {
  "kernelspec": {
   "display_name": "Python 3 (ipykernel)",
   "language": "python",
   "name": "python3"
  },
  "language_info": {
   "codemirror_mode": {
    "name": "ipython",
    "version": 3
   },
   "file_extension": ".py",
   "mimetype": "text/x-python",
   "name": "python",
   "nbconvert_exporter": "python",
   "pygments_lexer": "ipython3",
   "version": "3.12.9"
  }
 },
 "nbformat": 4,
 "nbformat_minor": 5
}
