{
 "cells": [
  {
   "cell_type": "markdown",
   "id": "5a0af749",
   "metadata": {},
   "source": [
    "# 1. 데이터 수집\n",
    "- 출처: 서울 열린 데이터 광장\n",
    "- 데이터: 서울시 지하철 승하차 인원수 정보"
   ]
  },
  {
   "cell_type": "code",
   "execution_count": 4,
   "id": "4b56d21d",
   "metadata": {},
   "outputs": [
    {
     "data": {
      "text/html": [
       "<div>\n",
       "<style scoped>\n",
       "    .dataframe tbody tr th:only-of-type {\n",
       "        vertical-align: middle;\n",
       "    }\n",
       "\n",
       "    .dataframe tbody tr th {\n",
       "        vertical-align: top;\n",
       "    }\n",
       "\n",
       "    .dataframe thead th {\n",
       "        text-align: right;\n",
       "    }\n",
       "</style>\n",
       "<table border=\"1\" class=\"dataframe\">\n",
       "  <thead>\n",
       "    <tr style=\"text-align: right;\">\n",
       "      <th></th>\n",
       "      <th>사용일자</th>\n",
       "      <th>노선명</th>\n",
       "      <th>역명</th>\n",
       "      <th>승차총승객수</th>\n",
       "      <th>하차총승객수</th>\n",
       "      <th>등록일자</th>\n",
       "    </tr>\n",
       "  </thead>\n",
       "  <tbody>\n",
       "    <tr>\n",
       "      <th>0</th>\n",
       "      <td>20250101</td>\n",
       "      <td>수인선</td>\n",
       "      <td>송도</td>\n",
       "      <td>1453</td>\n",
       "      <td>1321</td>\n",
       "      <td>20250104</td>\n",
       "    </tr>\n",
       "    <tr>\n",
       "      <th>1</th>\n",
       "      <td>20250101</td>\n",
       "      <td>4호선</td>\n",
       "      <td>창동</td>\n",
       "      <td>12477</td>\n",
       "      <td>13408</td>\n",
       "      <td>20250104</td>\n",
       "    </tr>\n",
       "    <tr>\n",
       "      <th>2</th>\n",
       "      <td>20250101</td>\n",
       "      <td>4호선</td>\n",
       "      <td>쌍문</td>\n",
       "      <td>12792</td>\n",
       "      <td>12199</td>\n",
       "      <td>20250104</td>\n",
       "    </tr>\n",
       "    <tr>\n",
       "      <th>3</th>\n",
       "      <td>20250101</td>\n",
       "      <td>4호선</td>\n",
       "      <td>수유(강북구청)</td>\n",
       "      <td>17606</td>\n",
       "      <td>17442</td>\n",
       "      <td>20250104</td>\n",
       "    </tr>\n",
       "    <tr>\n",
       "      <th>4</th>\n",
       "      <td>20250101</td>\n",
       "      <td>4호선</td>\n",
       "      <td>미아(서울사이버대학)</td>\n",
       "      <td>6819</td>\n",
       "      <td>6532</td>\n",
       "      <td>20250104</td>\n",
       "    </tr>\n",
       "    <tr>\n",
       "      <th>...</th>\n",
       "      <td>...</td>\n",
       "      <td>...</td>\n",
       "      <td>...</td>\n",
       "      <td>...</td>\n",
       "      <td>...</td>\n",
       "      <td>...</td>\n",
       "    </tr>\n",
       "    <tr>\n",
       "      <th>19124</th>\n",
       "      <td>20250131</td>\n",
       "      <td>수인선</td>\n",
       "      <td>남동인더스파크</td>\n",
       "      <td>1622</td>\n",
       "      <td>1748</td>\n",
       "      <td>20250203</td>\n",
       "    </tr>\n",
       "    <tr>\n",
       "      <th>19125</th>\n",
       "      <td>20250131</td>\n",
       "      <td>수인선</td>\n",
       "      <td>원인재</td>\n",
       "      <td>3834</td>\n",
       "      <td>3942</td>\n",
       "      <td>20250203</td>\n",
       "    </tr>\n",
       "    <tr>\n",
       "      <th>19126</th>\n",
       "      <td>20250131</td>\n",
       "      <td>수인선</td>\n",
       "      <td>연수</td>\n",
       "      <td>4170</td>\n",
       "      <td>4016</td>\n",
       "      <td>20250203</td>\n",
       "    </tr>\n",
       "    <tr>\n",
       "      <th>19127</th>\n",
       "      <td>20250131</td>\n",
       "      <td>수인선</td>\n",
       "      <td>송도</td>\n",
       "      <td>2076</td>\n",
       "      <td>1848</td>\n",
       "      <td>20250203</td>\n",
       "    </tr>\n",
       "    <tr>\n",
       "      <th>19128</th>\n",
       "      <td>20250131</td>\n",
       "      <td>수인선</td>\n",
       "      <td>인하대</td>\n",
       "      <td>5245</td>\n",
       "      <td>4854</td>\n",
       "      <td>20250203</td>\n",
       "    </tr>\n",
       "  </tbody>\n",
       "</table>\n",
       "<p>19129 rows × 6 columns</p>\n",
       "</div>"
      ],
      "text/plain": [
       "           사용일자  노선명           역명  승차총승객수  하차총승객수      등록일자\n",
       "0      20250101  수인선           송도    1453    1321  20250104\n",
       "1      20250101  4호선           창동   12477   13408  20250104\n",
       "2      20250101  4호선           쌍문   12792   12199  20250104\n",
       "3      20250101  4호선     수유(강북구청)   17606   17442  20250104\n",
       "4      20250101  4호선  미아(서울사이버대학)    6819    6532  20250104\n",
       "...         ...  ...          ...     ...     ...       ...\n",
       "19124  20250131  수인선      남동인더스파크    1622    1748  20250203\n",
       "19125  20250131  수인선          원인재    3834    3942  20250203\n",
       "19126  20250131  수인선           연수    4170    4016  20250203\n",
       "19127  20250131  수인선           송도    2076    1848  20250203\n",
       "19128  20250131  수인선          인하대    5245    4854  20250203\n",
       "\n",
       "[19129 rows x 6 columns]"
      ]
     },
     "execution_count": 4,
     "metadata": {},
     "output_type": "execute_result"
    }
   ],
   "source": [
    "import pandas as pd\n",
    "df=pd.read_csv('./data/CARD_SUBWAY_MONTH_202501.csv',index_col=False)\n",
    "df"
   ]
  },
  {
   "cell_type": "code",
   "execution_count": 9,
   "id": "a51c9570",
   "metadata": {},
   "outputs": [],
   "source": [
    "import warnings\n",
    "warnings.filterwarnings('ignore')"
   ]
  },
  {
   "cell_type": "markdown",
   "id": "4fb34845",
   "metadata": {},
   "source": [
    "# 2. EDA \n",
    "- 1. 월중 평균 이용자수 최다 역 top10\n",
    "- 2. 요일별 이용자수 분석\n"
   ]
  },
  {
   "cell_type": "markdown",
   "id": "673dd875",
   "metadata": {},
   "source": [
    "## 2-1. 월중 평균이용자수 최다, 최저 역 "
   ]
  },
  {
   "cell_type": "markdown",
   "id": "f98956d1",
   "metadata": {},
   "source": [
    "### 데이터 추출"
   ]
  },
  {
   "cell_type": "code",
   "execution_count": null,
   "id": "708a52af",
   "metadata": {},
   "outputs": [],
   "source": [
    "df['총승하차'] = df['승차총승객수'] + df['하차총승객수']\n",
    "# 호선과 역 기준 평균값\n",
    "station_avg = df.groupby(['노선명', '역명'])['총승하차'].mean().reset_index()\n",
    "\n",
    "# 가장 붐비는 상위 10개 역\n",
    "top10 = station_avg.sort_values(by='총승하차', ascending=False).head(10)\n",
    "low10 = station_avg.sort_values(by='총승하차', ascending=True).head(10)"
   ]
  },
  {
   "cell_type": "code",
   "execution_count": 18,
   "id": "20591a05",
   "metadata": {},
   "outputs": [
    {
     "data": {
      "text/html": [
       "<div>\n",
       "<style scoped>\n",
       "    .dataframe tbody tr th:only-of-type {\n",
       "        vertical-align: middle;\n",
       "    }\n",
       "\n",
       "    .dataframe tbody tr th {\n",
       "        vertical-align: top;\n",
       "    }\n",
       "\n",
       "    .dataframe thead th {\n",
       "        text-align: right;\n",
       "    }\n",
       "</style>\n",
       "<table border=\"1\" class=\"dataframe\">\n",
       "  <thead>\n",
       "    <tr style=\"text-align: right;\">\n",
       "      <th></th>\n",
       "      <th>노선명</th>\n",
       "      <th>역명</th>\n",
       "      <th>총승하차</th>\n",
       "    </tr>\n",
       "  </thead>\n",
       "  <tbody>\n",
       "    <tr>\n",
       "      <th>10</th>\n",
       "      <td>2호선</td>\n",
       "      <td>강남</td>\n",
       "      <td>137566.322581</td>\n",
       "    </tr>\n",
       "    <tr>\n",
       "      <th>59</th>\n",
       "      <td>2호선</td>\n",
       "      <td>홍대입구</td>\n",
       "      <td>137253.096774</td>\n",
       "    </tr>\n",
       "    <tr>\n",
       "      <th>52</th>\n",
       "      <td>2호선</td>\n",
       "      <td>잠실(송파구청)</td>\n",
       "      <td>135842.064516</td>\n",
       "    </tr>\n",
       "    <tr>\n",
       "      <th>2</th>\n",
       "      <td>1호선</td>\n",
       "      <td>서울역</td>\n",
       "      <td>117474.225806</td>\n",
       "    </tr>\n",
       "    <tr>\n",
       "      <th>14</th>\n",
       "      <td>2호선</td>\n",
       "      <td>구로디지털단지</td>\n",
       "      <td>95353.387097</td>\n",
       "    </tr>\n",
       "    <tr>\n",
       "      <th>37</th>\n",
       "      <td>2호선</td>\n",
       "      <td>신림</td>\n",
       "      <td>95244.064516</td>\n",
       "    </tr>\n",
       "    <tr>\n",
       "      <th>63</th>\n",
       "      <td>3호선</td>\n",
       "      <td>고속터미널</td>\n",
       "      <td>90438.774194</td>\n",
       "    </tr>\n",
       "    <tr>\n",
       "      <th>26</th>\n",
       "      <td>2호선</td>\n",
       "      <td>삼성(무역센터)</td>\n",
       "      <td>88373.451613</td>\n",
       "    </tr>\n",
       "    <tr>\n",
       "      <th>36</th>\n",
       "      <td>2호선</td>\n",
       "      <td>신도림</td>\n",
       "      <td>87192.516129</td>\n",
       "    </tr>\n",
       "    <tr>\n",
       "      <th>30</th>\n",
       "      <td>2호선</td>\n",
       "      <td>선릉</td>\n",
       "      <td>84943.451613</td>\n",
       "    </tr>\n",
       "  </tbody>\n",
       "</table>\n",
       "</div>"
      ],
      "text/plain": [
       "    노선명        역명           총승하차\n",
       "10  2호선        강남  137566.322581\n",
       "59  2호선      홍대입구  137253.096774\n",
       "52  2호선  잠실(송파구청)  135842.064516\n",
       "2   1호선       서울역  117474.225806\n",
       "14  2호선   구로디지털단지   95353.387097\n",
       "37  2호선        신림   95244.064516\n",
       "63  3호선     고속터미널   90438.774194\n",
       "26  2호선  삼성(무역센터)   88373.451613\n",
       "36  2호선       신도림   87192.516129\n",
       "30  2호선        선릉   84943.451613"
      ]
     },
     "execution_count": 18,
     "metadata": {},
     "output_type": "execute_result"
    }
   ],
   "source": [
    "# 평균 이용자수 최다 역\n",
    "top10"
   ]
  },
  {
   "cell_type": "code",
   "execution_count": 22,
   "id": "1ce15d14",
   "metadata": {},
   "outputs": [
    {
     "data": {
      "text/html": [
       "<div>\n",
       "<style scoped>\n",
       "    .dataframe tbody tr th:only-of-type {\n",
       "        vertical-align: middle;\n",
       "    }\n",
       "\n",
       "    .dataframe tbody tr th {\n",
       "        vertical-align: top;\n",
       "    }\n",
       "\n",
       "    .dataframe thead th {\n",
       "        text-align: right;\n",
       "    }\n",
       "</style>\n",
       "<table border=\"1\" class=\"dataframe\">\n",
       "  <thead>\n",
       "    <tr style=\"text-align: right;\">\n",
       "      <th></th>\n",
       "      <th>노선명</th>\n",
       "      <th>역명</th>\n",
       "      <th>총승하차</th>\n",
       "    </tr>\n",
       "  </thead>\n",
       "  <tbody>\n",
       "    <tr>\n",
       "      <th>400</th>\n",
       "      <td>경의선</td>\n",
       "      <td>검암</td>\n",
       "      <td>1.000000</td>\n",
       "    </tr>\n",
       "    <tr>\n",
       "      <th>406</th>\n",
       "      <td>경의선</td>\n",
       "      <td>김포공항</td>\n",
       "      <td>1.000000</td>\n",
       "    </tr>\n",
       "    <tr>\n",
       "      <th>401</th>\n",
       "      <td>경의선</td>\n",
       "      <td>계양</td>\n",
       "      <td>1.000000</td>\n",
       "    </tr>\n",
       "    <tr>\n",
       "      <th>197</th>\n",
       "      <td>6호선</td>\n",
       "      <td>신내</td>\n",
       "      <td>1.153846</td>\n",
       "    </tr>\n",
       "    <tr>\n",
       "      <th>591</th>\n",
       "      <td>일산선</td>\n",
       "      <td>지축</td>\n",
       "      <td>1.300000</td>\n",
       "    </tr>\n",
       "    <tr>\n",
       "      <th>202</th>\n",
       "      <td>6호선</td>\n",
       "      <td>연신내</td>\n",
       "      <td>2.259259</td>\n",
       "    </tr>\n",
       "    <tr>\n",
       "      <th>91</th>\n",
       "      <td>3호선</td>\n",
       "      <td>충무로</td>\n",
       "      <td>3.178571</td>\n",
       "    </tr>\n",
       "    <tr>\n",
       "      <th>503</th>\n",
       "      <td>분당선</td>\n",
       "      <td>복정</td>\n",
       "      <td>3.200000</td>\n",
       "    </tr>\n",
       "    <tr>\n",
       "      <th>393</th>\n",
       "      <td>경원선</td>\n",
       "      <td>창동</td>\n",
       "      <td>3.413793</td>\n",
       "    </tr>\n",
       "    <tr>\n",
       "      <th>417</th>\n",
       "      <td>경의선</td>\n",
       "      <td>운천</td>\n",
       "      <td>7.900000</td>\n",
       "    </tr>\n",
       "  </tbody>\n",
       "</table>\n",
       "</div>"
      ],
      "text/plain": [
       "     노선명    역명      총승하차\n",
       "400  경의선    검암  1.000000\n",
       "406  경의선  김포공항  1.000000\n",
       "401  경의선    계양  1.000000\n",
       "197  6호선    신내  1.153846\n",
       "591  일산선    지축  1.300000\n",
       "202  6호선   연신내  2.259259\n",
       "91   3호선   충무로  3.178571\n",
       "503  분당선    복정  3.200000\n",
       "393  경원선    창동  3.413793\n",
       "417  경의선    운천  7.900000"
      ]
     },
     "execution_count": 22,
     "metadata": {},
     "output_type": "execute_result"
    }
   ],
   "source": [
    "low10"
   ]
  },
  {
   "cell_type": "markdown",
   "id": "91af930d",
   "metadata": {},
   "source": [
    "### 데이터 시각화"
   ]
  },
  {
   "cell_type": "code",
   "execution_count": 10,
   "id": "65bf0da8",
   "metadata": {},
   "outputs": [],
   "source": [
    "from matplotlib import rcParams\n",
    "rcParams['font.family'] = 'Gulim'\n",
    "rcParams['axes.unicode_minus'] = False"
   ]
  },
  {
   "cell_type": "code",
   "execution_count": 17,
   "id": "6f56a32d",
   "metadata": {},
   "outputs": [
    {
     "data": {
      "image/png": "[encoded data removed]",
      "text/plain": [
       "<Figure size 1000x600 with 1 Axes>"
      ]
     },
     "metadata": {},
     "output_type": "display_data"
    }
   ],
   "source": [
    "import matplotlib.pyplot as plt\n",
    "\n",
    "plt.figure(figsize=(10,6))\n",
    "plt.barh(top10['역명'], top10['총승하차'], color='m')\n",
    "plt.gca().invert_yaxis()\n",
    "plt.title('평균 승하차 인원 상위 10개 역')\n",
    "plt.xlabel('평균 이용자 수')\n",
    "plt.show()\n"
   ]
  },
  {
   "cell_type": "markdown",
   "id": "120caaa0",
   "metadata": {},
   "source": [
    "25년 한달간 하루 평균 이용자수 상위 10개 역을 뽑아보았는데 모든 역이 환승역이었다   \n",
    "또한 회사가 많이 몰려있는 역이기도 하다"
   ]
  },
  {
   "cell_type": "code",
   "execution_count": 25,
   "id": "28748254",
   "metadata": {},
   "outputs": [
    {
     "data": {
      "image/png": "[encoded data removed]",
      "text/plain": [
       "<Figure size 1000x600 with 1 Axes>"
      ]
     },
     "metadata": {},
     "output_type": "display_data"
    }
   ],
   "source": [
    "plt.figure(figsize=(10,6))\n",
    "plt.barh(low10['역명'], low10['총승하차'], color='m')\n",
    "plt.gca().invert_yaxis()\n",
    "plt.title('평균 승하차 인원 하위 10개 역')\n",
    "plt.xlabel('평균 이용자 수')\n",
    "plt.show()"
   ]
  },
  {
   "cell_type": "markdown",
   "id": "cb5a0ee1",
   "metadata": {},
   "source": [
    "반대로 하위 10개 역도 뽑아보았는데 하루평균 1명이라는 값이 좀 비정상적인 수치라고 생각이 든다   \n",
    "평균을 낼 때 비정상적인 데이터가 포함되어있는거 같은데 확인을 해봐야겠다"
   ]
  },
  {
   "cell_type": "markdown",
   "id": "c9bf1d13",
   "metadata": {},
   "source": [
    "## 2-2. 요일별 이용자수 "
   ]
  },
  {
   "cell_type": "markdown",
   "id": "ab4cddc4",
   "metadata": {},
   "source": [
    "### 데이터 추출 - 전체역 평균"
   ]
  },
  {
   "cell_type": "code",
   "execution_count": 27,
   "id": "55adc46b",
   "metadata": {},
   "outputs": [],
   "source": [
    "df['등록일자'] = pd.to_datetime(df['등록일자'], format='%Y%m%d')\n",
    "df['요일'] = df['등록일자'].dt.dayofweek  # 월(0)~일(6)\n",
    "df['주말여부'] = df['요일'].apply(lambda x: '주말' if x >= 5 else '평일')\n"
   ]
  },
  {
   "cell_type": "code",
   "execution_count": 32,
   "id": "30ca5bfb",
   "metadata": {},
   "outputs": [
    {
     "data": {
      "text/html": [
       "<div>\n",
       "<style scoped>\n",
       "    .dataframe tbody tr th:only-of-type {\n",
       "        vertical-align: middle;\n",
       "    }\n",
       "\n",
       "    .dataframe tbody tr th {\n",
       "        vertical-align: top;\n",
       "    }\n",
       "\n",
       "    .dataframe thead th {\n",
       "        text-align: right;\n",
       "    }\n",
       "</style>\n",
       "<table border=\"1\" class=\"dataframe\">\n",
       "  <thead>\n",
       "    <tr style=\"text-align: right;\">\n",
       "      <th></th>\n",
       "      <th>요일</th>\n",
       "      <th>총승하차</th>\n",
       "      <th>요일명</th>\n",
       "    </tr>\n",
       "  </thead>\n",
       "  <tbody>\n",
       "    <tr>\n",
       "      <th>0</th>\n",
       "      <td>0</td>\n",
       "      <td>24024.377879</td>\n",
       "      <td>월</td>\n",
       "    </tr>\n",
       "    <tr>\n",
       "      <th>1</th>\n",
       "      <td>1</td>\n",
       "      <td>18086.721862</td>\n",
       "      <td>화</td>\n",
       "    </tr>\n",
       "    <tr>\n",
       "      <th>2</th>\n",
       "      <td>2</td>\n",
       "      <td>13132.207287</td>\n",
       "      <td>수</td>\n",
       "    </tr>\n",
       "    <tr>\n",
       "      <th>3</th>\n",
       "      <td>3</td>\n",
       "      <td>21053.668152</td>\n",
       "      <td>목</td>\n",
       "    </tr>\n",
       "    <tr>\n",
       "      <th>4</th>\n",
       "      <td>4</td>\n",
       "      <td>20489.964720</td>\n",
       "      <td>금</td>\n",
       "    </tr>\n",
       "    <tr>\n",
       "      <th>5</th>\n",
       "      <td>5</td>\n",
       "      <td>18235.298121</td>\n",
       "      <td>토</td>\n",
       "    </tr>\n",
       "    <tr>\n",
       "      <th>6</th>\n",
       "      <td>6</td>\n",
       "      <td>21020.370382</td>\n",
       "      <td>일</td>\n",
       "    </tr>\n",
       "  </tbody>\n",
       "</table>\n",
       "</div>"
      ],
      "text/plain": [
       "   요일          총승하차 요일명\n",
       "0   0  24024.377879   월\n",
       "1   1  18086.721862   화\n",
       "2   2  13132.207287   수\n",
       "3   3  21053.668152   목\n",
       "4   4  20489.964720   금\n",
       "5   5  18235.298121   토\n",
       "6   6  21020.370382   일"
      ]
     },
     "execution_count": 32,
     "metadata": {},
     "output_type": "execute_result"
    }
   ],
   "source": [
    "dayp = df.groupby('요일')['총승하차'].mean().reset_index()\n",
    "dayp['요일명'] = ['월', '화', '수', '목', '금', '토', '일']\n",
    "dayp"
   ]
  },
  {
   "cell_type": "markdown",
   "id": "80097394",
   "metadata": {},
   "source": [
    "### 데이터 시각화 - 전체역 평균"
   ]
  },
  {
   "cell_type": "code",
   "execution_count": 50,
   "id": "1b2997ff",
   "metadata": {},
   "outputs": [
    {
     "data": {
      "image/png": "[encoded data removed]",
      "text/plain": [
       "<Figure size 800x500 with 1 Axes>"
      ]
     },
     "metadata": {},
     "output_type": "display_data"
    }
   ],
   "source": [
    "plt.figure(figsize=(8,5))\n",
    "plt.plot(dayp['요일명'], dayp['총승하차'], marker='o')\n",
    "plt.title('요일별 전체역 평균 승하차 인원')\n",
    "plt.ylabel('평균 이용자 수')\n",
    "plt.grid(True)\n",
    "plt.show()\n"
   ]
  },
  {
   "cell_type": "markdown",
   "id": "96674e79",
   "metadata": {},
   "source": [
    "위 그래프를 살펴보면 월~수까지 계속 하향세를 그리다가 목요일에 급격하게 다시 증가함을 보인다    \n",
    "다시 주말로 가면서 이용자수가 감소하지만 일요일에 다시 증가함을 보여준다    \n",
    "-> 왜 수요일에 내려가는가? / 역 전체 평균이니 특정 역을 다시 뽑아보겠다"
   ]
  },
  {
   "cell_type": "markdown",
   "id": "810fa287",
   "metadata": {},
   "source": [
    "### 데이터 추출 - 강남역 평균"
   ]
  },
  {
   "cell_type": "code",
   "execution_count": 44,
   "id": "f50b3f64",
   "metadata": {},
   "outputs": [
    {
     "data": {
      "text/html": [
       "<div>\n",
       "<style scoped>\n",
       "    .dataframe tbody tr th:only-of-type {\n",
       "        vertical-align: middle;\n",
       "    }\n",
       "\n",
       "    .dataframe tbody tr th {\n",
       "        vertical-align: top;\n",
       "    }\n",
       "\n",
       "    .dataframe thead th {\n",
       "        text-align: right;\n",
       "    }\n",
       "</style>\n",
       "<table border=\"1\" class=\"dataframe\">\n",
       "  <thead>\n",
       "    <tr style=\"text-align: right;\">\n",
       "      <th></th>\n",
       "      <th>요일</th>\n",
       "      <th>역명</th>\n",
       "      <th>총승하차</th>\n",
       "    </tr>\n",
       "  </thead>\n",
       "  <tbody>\n",
       "    <tr>\n",
       "      <th>0</th>\n",
       "      <td>0</td>\n",
       "      <td>4.19민주묘지</td>\n",
       "      <td>5775.8</td>\n",
       "    </tr>\n",
       "    <tr>\n",
       "      <th>1</th>\n",
       "      <td>0</td>\n",
       "      <td>가능</td>\n",
       "      <td>12409.2</td>\n",
       "    </tr>\n",
       "    <tr>\n",
       "      <th>2</th>\n",
       "      <td>0</td>\n",
       "      <td>가락시장</td>\n",
       "      <td>19940.8</td>\n",
       "    </tr>\n",
       "    <tr>\n",
       "      <th>3</th>\n",
       "      <td>0</td>\n",
       "      <td>가산디지털단지</td>\n",
       "      <td>66821.3</td>\n",
       "    </tr>\n",
       "    <tr>\n",
       "      <th>4</th>\n",
       "      <td>0</td>\n",
       "      <td>가양</td>\n",
       "      <td>46451.8</td>\n",
       "    </tr>\n",
       "    <tr>\n",
       "      <th>...</th>\n",
       "      <td>...</td>\n",
       "      <td>...</td>\n",
       "      <td>...</td>\n",
       "    </tr>\n",
       "    <tr>\n",
       "      <th>3691</th>\n",
       "      <td>6</td>\n",
       "      <td>회기</td>\n",
       "      <td>42109.6</td>\n",
       "    </tr>\n",
       "    <tr>\n",
       "      <th>3692</th>\n",
       "      <td>6</td>\n",
       "      <td>회룡</td>\n",
       "      <td>22840.4</td>\n",
       "    </tr>\n",
       "    <tr>\n",
       "      <th>3693</th>\n",
       "      <td>6</td>\n",
       "      <td>회현(남대문시장)</td>\n",
       "      <td>48369.0</td>\n",
       "    </tr>\n",
       "    <tr>\n",
       "      <th>3694</th>\n",
       "      <td>6</td>\n",
       "      <td>효창공원앞</td>\n",
       "      <td>9407.0</td>\n",
       "    </tr>\n",
       "    <tr>\n",
       "      <th>3695</th>\n",
       "      <td>6</td>\n",
       "      <td>흑석(중앙대입구)</td>\n",
       "      <td>16120.8</td>\n",
       "    </tr>\n",
       "  </tbody>\n",
       "</table>\n",
       "<p>3696 rows × 3 columns</p>\n",
       "</div>"
      ],
      "text/plain": [
       "      요일         역명     총승하차\n",
       "0      0   4.19민주묘지   5775.8\n",
       "1      0         가능  12409.2\n",
       "2      0       가락시장  19940.8\n",
       "3      0    가산디지털단지  66821.3\n",
       "4      0         가양  46451.8\n",
       "...   ..        ...      ...\n",
       "3691   6         회기  42109.6\n",
       "3692   6         회룡  22840.4\n",
       "3693   6  회현(남대문시장)  48369.0\n",
       "3694   6      효창공원앞   9407.0\n",
       "3695   6  흑석(중앙대입구)  16120.8\n",
       "\n",
       "[3696 rows x 3 columns]"
      ]
     },
     "execution_count": 44,
     "metadata": {},
     "output_type": "execute_result"
    }
   ],
   "source": [
    "dayp1 = df.groupby(['요일','역명'])['총승하차'].mean().reset_index()\n",
    "dayp1"
   ]
  },
  {
   "cell_type": "code",
   "execution_count": 58,
   "id": "f7bcadd1",
   "metadata": {},
   "outputs": [
    {
     "data": {
      "text/html": [
       "<div>\n",
       "<style scoped>\n",
       "    .dataframe tbody tr th:only-of-type {\n",
       "        vertical-align: middle;\n",
       "    }\n",
       "\n",
       "    .dataframe tbody tr th {\n",
       "        vertical-align: top;\n",
       "    }\n",
       "\n",
       "    .dataframe thead th {\n",
       "        text-align: right;\n",
       "    }\n",
       "</style>\n",
       "<table border=\"1\" class=\"dataframe\">\n",
       "  <thead>\n",
       "    <tr style=\"text-align: right;\">\n",
       "      <th></th>\n",
       "      <th>요일</th>\n",
       "      <th>역명</th>\n",
       "      <th>총승하차</th>\n",
       "      <th>요일명</th>\n",
       "    </tr>\n",
       "  </thead>\n",
       "  <tbody>\n",
       "    <tr>\n",
       "      <th>11</th>\n",
       "      <td>0</td>\n",
       "      <td>강남</td>\n",
       "      <td>183313.2</td>\n",
       "      <td>월</td>\n",
       "    </tr>\n",
       "    <tr>\n",
       "      <th>539</th>\n",
       "      <td>1</td>\n",
       "      <td>강남</td>\n",
       "      <td>123233.0</td>\n",
       "      <td>화</td>\n",
       "    </tr>\n",
       "    <tr>\n",
       "      <th>1067</th>\n",
       "      <td>2</td>\n",
       "      <td>강남</td>\n",
       "      <td>68575.5</td>\n",
       "      <td>수</td>\n",
       "    </tr>\n",
       "    <tr>\n",
       "      <th>1595</th>\n",
       "      <td>3</td>\n",
       "      <td>강남</td>\n",
       "      <td>154775.0</td>\n",
       "      <td>목</td>\n",
       "    </tr>\n",
       "    <tr>\n",
       "      <th>2123</th>\n",
       "      <td>4</td>\n",
       "      <td>강남</td>\n",
       "      <td>146247.0</td>\n",
       "      <td>금</td>\n",
       "    </tr>\n",
       "    <tr>\n",
       "      <th>2651</th>\n",
       "      <td>5</td>\n",
       "      <td>강남</td>\n",
       "      <td>123723.6</td>\n",
       "      <td>토</td>\n",
       "    </tr>\n",
       "    <tr>\n",
       "      <th>3179</th>\n",
       "      <td>6</td>\n",
       "      <td>강남</td>\n",
       "      <td>151610.0</td>\n",
       "      <td>일</td>\n",
       "    </tr>\n",
       "  </tbody>\n",
       "</table>\n",
       "</div>"
      ],
      "text/plain": [
       "      요일  역명      총승하차 요일명\n",
       "11     0  강남  183313.2   월\n",
       "539    1  강남  123233.0   화\n",
       "1067   2  강남   68575.5   수\n",
       "1595   3  강남  154775.0   목\n",
       "2123   4  강남  146247.0   금\n",
       "2651   5  강남  123723.6   토\n",
       "3179   6  강남  151610.0   일"
      ]
     },
     "execution_count": 58,
     "metadata": {},
     "output_type": "execute_result"
    }
   ],
   "source": [
    "dayp2=dayp1.sort_values(['역명','요일'])\n",
    "dayp3= dayp2[dayp2['역명']=='강남']\n",
    "dayp3['요일명'] = ['월', '화', '수', '목', '금', '토', '일']\n",
    "dayp3"
   ]
  },
  {
   "cell_type": "markdown",
   "id": "9212040a",
   "metadata": {},
   "source": [
    "### 데이터 시각화 - 강남역 평균"
   ]
  },
  {
   "cell_type": "code",
   "execution_count": 49,
   "id": "87118f74",
   "metadata": {},
   "outputs": [
    {
     "data": {
      "image/png": "[encoded data removed]",
      "text/plain": [
       "<Figure size 800x500 with 1 Axes>"
      ]
     },
     "metadata": {},
     "output_type": "display_data"
    }
   ],
   "source": [
    "plt.figure(figsize=(8,5))\n",
    "plt.plot(dayp3['요일명'], dayp3['총승하차'], marker='o')\n",
    "plt.title('강남역 요일별 평균 승하차 인원')\n",
    "plt.ylabel('평균 이용자 수')\n",
    "plt.grid(True)\n",
    "plt.show()\n"
   ]
  },
  {
   "cell_type": "markdown",
   "id": "71675fbf",
   "metadata": {},
   "source": [
    "강남역을 다시 뽑아보았는데 정말 비슷한 모양의 그래프가 결과로 도출되었다    \n",
    "아마도 이용자수가 가장 많은 역이기에 위의 전체평균 그래프에 가장 큰 영향을 끼쳐 서로 비슷한 모양의 그래프를 가지고 있는것 같다"
   ]
  },
  {
   "cell_type": "markdown",
   "id": "f354f4a8",
   "metadata": {},
   "source": [
    "### 데이터 추출 - 전체역 평균 리뉴얼 버전"
   ]
  },
  {
   "cell_type": "code",
   "execution_count": 72,
   "id": "343cf662",
   "metadata": {},
   "outputs": [],
   "source": [
    "df['사용일자'] = pd.to_datetime(df['사용일자'], format='%Y%m%d')\n",
    "start_date = '2025-01-04'\n",
    "end_date = '2025-01-31'\n",
    "\n",
    "df_cut = df[(df['사용일자'] >= start_date) & (df['사용일자'] <= end_date)]\n",
    "df_cut['요일'] = df_cut['사용일자'].dt.day_name()\n",
    "\n",
    "# 한글로 변환 (선택)\n",
    "요일_매핑 = {\n",
    "    'Monday': '월', 'Tuesday': '화', 'Wednesday': '수',\n",
    "    'Thursday': '목', 'Friday': '금', 'Saturday': '토', 'Sunday': '일'\n",
    "}\n",
    "df_cut['요일'] = df_cut['요일'].map(요일_매핑)"
   ]
  },
  {
   "cell_type": "code",
   "execution_count": 73,
   "id": "d9fea056",
   "metadata": {},
   "outputs": [
    {
     "name": "stdout",
     "output_type": "stream",
     "text": [
      "요일\n",
      "월    42107.336305\n",
      "화    40979.929440\n",
      "수    40411.151073\n",
      "목    40863.172134\n",
      "금    47697.890600\n",
      "토    36173.443725\n",
      "일    26264.414575\n",
      "Name: 총이용자수, dtype: float64\n"
     ]
    }
   ],
   "source": [
    "승차_열 = [col for col in df.columns if '승차' in col]\n",
    "하차_열 = [col for col in df.columns if '하차' in col]\n",
    "\n",
    "# 문자열 숫자 → 정수\n",
    "for col in 승차_열 + 하차_열:\n",
    "    df_cut[col] = df_cut[col].astype(str).str.replace(',', '').astype(float)\n",
    "\n",
    "df_cut['총이용자수'] = df_cut[승차_열].sum(axis=1) + df_cut[하차_열].sum(axis=1)\n",
    "\n",
    "요일평균 = df_cut.groupby('요일')['총이용자수'].mean().reindex(['월','화','수','목','금','토','일'])\n",
    "print(요일평균)\n"
   ]
  },
  {
   "cell_type": "markdown",
   "id": "d250149d",
   "metadata": {},
   "source": [
    "### 데이터 시각화 - 전체역 평균 리뉴얼 버전"
   ]
  },
  {
   "cell_type": "code",
   "execution_count": 74,
   "id": "d0e3a5b6",
   "metadata": {},
   "outputs": [
    {
     "data": {
      "image/png": "[encoded data removed]",
      "text/plain": [
       "<Figure size 640x480 with 1 Axes>"
      ]
     },
     "metadata": {},
     "output_type": "display_data"
    }
   ],
   "source": [
    "import matplotlib.pyplot as plt\n",
    "\n",
    "요일평균.plot(kind='bar', color='skyblue')\n",
    "plt.title(f\"{start_date} ~ {end_date} 기간 요일별 평균 이용자 수\")\n",
    "plt.ylabel('평균 이용자 수')\n",
    "plt.xlabel('요일')\n",
    "plt.xticks(rotation=0)\n",
    "plt.grid(axis='y')\n",
    "plt.tight_layout()\n",
    "plt.show()\n"
   ]
  },
  {
   "cell_type": "markdown",
   "id": "e1ae9995",
   "metadata": {},
   "source": [
    "-> 원인을 찾았다: 데이터가 25년 1월 4일부터 2월3일까지인데 화요일부터 금요일까지 한주가 덜 포함된다             \n",
    "화~금은 4번, 그외는 5번이 데이터에 포함된다 \n",
    "따라서 1월4일부터 31일까지로 잘라서 다시 분석을 해보니 정상적인 그래프가 나왔다     "
   ]
  },
  {
   "cell_type": "markdown",
   "id": "c63598fc",
   "metadata": {},
   "source": [
    "## 2-3. 호선별 이용자수 "
   ]
  },
  {
   "cell_type": "markdown",
   "id": "38971be2",
   "metadata": {},
   "source": [
    "### 데이터 추출"
   ]
  },
  {
   "cell_type": "code",
   "execution_count": 67,
   "id": "f09b4399",
   "metadata": {},
   "outputs": [],
   "source": [
    "# 호선별 + 날짜별로 하루 총 이용자 수 집계\n",
    "lined = df.groupby(['노선명', '사용일자'])['총승하차'].sum().reset_index()\n",
    "\n",
    "# 호선별 하루 평균 이용자 수 계산\n",
    "linem = lined.groupby('노선명')['총승하차'].mean().sort_values(ascending=False)\n"
   ]
  },
  {
   "cell_type": "markdown",
   "id": "85b9b634",
   "metadata": {},
   "source": [
    "### 데이터 시각화"
   ]
  },
  {
   "cell_type": "code",
   "execution_count": 68,
   "id": "3d5c61b3",
   "metadata": {},
   "outputs": [
    {
     "data": {
      "image/png": "[encoded data removed]",
      "text/plain": [
       "<Figure size 1000x600 with 1 Axes>"
      ]
     },
     "metadata": {},
     "output_type": "display_data"
    }
   ],
   "source": [
    "import matplotlib.pyplot as plt\n",
    "\n",
    "plt.figure(figsize=(10,6))\n",
    "linem.plot(kind='bar')\n",
    "plt.title('호선별 하루 평균 이용자 수')\n",
    "plt.ylabel('이용자 수')\n",
    "plt.xlabel('호선')\n",
    "plt.xticks(rotation=45)\n",
    "plt.grid(axis='y')\n",
    "plt.tight_layout()\n",
    "plt.show()\n"
   ]
  },
  {
   "cell_type": "markdown",
   "id": "21a3d571",
   "metadata": {},
   "source": [
    "위 그래프는 2호선이 가장 많은 평균 이용자수를 보유하고 있다는 것을 보여준다"
   ]
  },
  {
   "cell_type": "markdown",
   "id": "598cc9a0",
   "metadata": {},
   "source": [
    "# 3. 결론\n",
    "- 첫번째로 25년 1월 한달간 가장 많은 하루평균 이용자수를 가진 역을 10개 뽑아보았고 강남역이 가장 이용자수가 많았음을 알 수 있었다   \n",
    "\n",
    "- 다음으로 요일별 이용자수를 분석 해보았는데 평일은 금요일을 제외하고는 이용자수가 비슷함을 알 수 있었다    \n",
    "또한 주말에는 토요일이 이용자수가 높은 편이고 일요일은 이용자수가 상대적으로 적다는 결과를 얻었습니다   \n",
    "\n",
    "- 마지막으로 호선별 이용자수 평균을 살펴보았는데 이용자수가 많은 역들이 몰린 2호선이 압도적으로 가장 많은 이용자수를 보유함을 알 수 있었다"
   ]
  },
  {
   "cell_type": "markdown",
   "id": "e5c88572",
   "metadata": {},
   "source": [
    "# 4. 추후 분석 계획\n",
    "- 한달간의 데이터를 가지고 여러가지 분석을 해보았는데 1년간의 데이터를 병합하여 분기별로(계절별) 이용자수를 비교해보는 것과 년도별로 비교(특히 코로나 전후)를 해보는 것도 좋을거 같다는 생각을 하였습니다."
   ]
  },
  {
   "cell_type": "markdown",
   "id": "a706f85f",
   "metadata": {},
   "source": []
  }
 ],
 "metadata": {
  "kernelspec": {
   "display_name": "hipython",
   "language": "python",
   "name": "python3"
  },
  "language_info": {
   "codemirror_mode": {
    "name": "ipython",
    "version": 3
   },
   "file_extension": ".py",
   "mimetype": "text/x-python",
   "name": "python",
   "nbconvert_exporter": "python",
   "pygments_lexer": "ipython3",
   "version": "3.12.9"
  }
 },
 "nbformat": 4,
 "nbformat_minor": 5
}
