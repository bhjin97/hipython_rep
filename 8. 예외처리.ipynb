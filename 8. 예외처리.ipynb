{
 "cells": [
  {
   "cell_type": "markdown",
   "id": "93b46686-8128-4dab-840f-f7a40044e6f3",
   "metadata": {},
   "source": [
    "# 예외처리"
   ]
  },
  {
   "cell_type": "code",
   "execution_count": 1,
   "id": "e5b7ba3f-5349-450c-aebb-a6b3841a7685",
   "metadata": {},
   "outputs": [
    {
     "name": "stdin",
     "output_type": "stream",
     "text": [
      "숫자를 입력하세요:  0\n"
     ]
    },
    {
     "name": "stdout",
     "output_type": "stream",
     "text": [
      "0으로 나눌 수 없습니다.\n"
     ]
    }
   ],
   "source": [
    "try:\n",
    "    num = int(input(\"숫자를 입력하세요: \"))\n",
    "    result = 10 / num\n",
    "    print(result)\n",
    "except ZeroDivisionError:\n",
    "    print(\"0으로 나눌 수 없습니다.\")\n"
   ]
  },
  {
   "cell_type": "code",
   "execution_count": 2,
   "id": "48989299-4a8e-4d3c-9e15-077aed3f1cbf",
   "metadata": {},
   "outputs": [
    {
     "name": "stdout",
     "output_type": "stream",
     "text": [
      "정수로 변환할 수 없습니다.\n"
     ]
    }
   ],
   "source": [
    "try:\n",
    "    n = int(\"abc\")\n",
    "except ValueError:\n",
    "    print(\"정수로 변환할 수 없습니다.\")\n"
   ]
  },
  {
   "cell_type": "markdown",
   "id": "17370d09-e211-4e9e-99d4-e278b1f254cc",
   "metadata": {},
   "source": [
    "# 예외의 종류\n",
    "1. 문법오류: SyntaxError, NameError, TypeError\n",
    "2. 논리오류\n",
    "3. 예외상황"
   ]
  },
  {
   "cell_type": "code",
   "execution_count": 4,
   "id": "009f92fd-7606-414c-99c6-23e827f35e15",
   "metadata": {},
   "outputs": [
    {
     "ename": "NameError",
     "evalue": "name 'hello' is not defined",
     "output_type": "error",
     "traceback": [
      "\u001b[31m---------------------------------------------------------------------------\u001b[39m",
      "\u001b[31mNameError\u001b[39m                                 Traceback (most recent call last)",
      "\u001b[36mCell\u001b[39m\u001b[36m \u001b[39m\u001b[32mIn[4]\u001b[39m\u001b[32m, line 2\u001b[39m\n\u001b[32m      1\u001b[39m \u001b[38;5;28;01mwhile\u001b[39;00m \u001b[38;5;28;01mTrue\u001b[39;00m:\n\u001b[32m----> \u001b[39m\u001b[32m2\u001b[39m     \u001b[38;5;28mprint\u001b[39m(hello)\n",
      "\u001b[31mNameError\u001b[39m: name 'hello' is not defined"
     ]
    }
   ],
   "source": [
    "while True:\n",
    "    print(hello)"
   ]
  },
  {
   "cell_type": "markdown",
   "id": "40bf983a-d8df-49ae-b3e6-f8ff342b9feb",
   "metadata": {},
   "source": [
    "# try:"
   ]
  },
  {
   "cell_type": "code",
   "execution_count": 18,
   "id": "d0fe9271-b13a-4831-a4dd-86417f677035",
   "metadata": {},
   "outputs": [
    {
     "name": "stdout",
     "output_type": "stream",
     "text": [
      "다른 에러가 발생함\n",
      "정상 작동중\n"
     ]
    }
   ],
   "source": [
    "def divide(m,n, s):\n",
    "    try:\n",
    "        result = m/n\n",
    "        result += int(s)\n",
    "        return result\n",
    "    except (ValueError, ZeroDivisionError):\n",
    "        print('0으로 나눌 수 없다')\n",
    "        return\n",
    "    except : #나머지 모든에러\n",
    "        print('다른 에러가 발생함')\n",
    "        return \n",
    "    finally:\n",
    "        print('정상 작동중')\n",
    "divide(None,0,'a')"
   ]
  },
  {
   "cell_type": "markdown",
   "id": "d3a26cb6-4a4e-4933-b948-5d7620b21b0f",
   "metadata": {},
   "source": [
    "# 예외 발생시키기"
   ]
  },
  {
   "cell_type": "code",
   "execution_count": 20,
   "id": "9f0c4115-2920-4138-95f6-dd2100c5a5b0",
   "metadata": {},
   "outputs": [
    {
     "ename": "TypeError",
     "evalue": "입력값 오류",
     "output_type": "error",
     "traceback": [
      "\u001b[31m---------------------------------------------------------------------------\u001b[39m",
      "\u001b[31mTypeError\u001b[39m                                 Traceback (most recent call last)",
      "\u001b[36mCell\u001b[39m\u001b[36m \u001b[39m\u001b[32mIn[20]\u001b[39m\u001b[32m, line 1\u001b[39m\n\u001b[32m----> \u001b[39m\u001b[32m1\u001b[39m \u001b[38;5;28;01mraise\u001b[39;00m \u001b[38;5;167;01mTypeError\u001b[39;00m(\u001b[33m'\u001b[39m\u001b[33m입력값 오류\u001b[39m\u001b[33m'\u001b[39m)\n",
      "\u001b[31mTypeError\u001b[39m: 입력값 오류"
     ]
    }
   ],
   "source": [
    "raise TypeError('입력값 오류')"
   ]
  },
  {
   "cell_type": "code",
   "execution_count": 21,
   "id": "9184157e-bd8d-4be2-a84c-1450f6c97cda",
   "metadata": {},
   "outputs": [
    {
     "name": "stdout",
     "output_type": "stream",
     "text": [
      "('입력값 오류',)\n"
     ]
    }
   ],
   "source": [
    "try: \n",
    "    raise TypeError('입력값 오류')\n",
    "except TypeError as e: \n",
    "    #TypeError 예외를 잡아서 변수 e에 저장\n",
    "    print(e.args) \n",
    "    #예외 객체 e에 전달된 인자들을 튜플 형태로 출력('입력값 오류')"
   ]
  },
  {
   "cell_type": "markdown",
   "id": "7664c4a4-2ed4-40c4-b882-68ef04e3a2cf",
   "metadata": {},
   "source": [
    "# 내가 정의하는 예외\n",
    "\n",
    "1. 예외 클래스 작성: 각 예외상황에 맞는 메시지를 작성\n",
    "2. 호출할 때 try: except로 받아줍니다"
   ]
  },
  {
   "cell_type": "code",
   "execution_count": 27,
   "id": "8023cfc8-2bfb-4712-8327-03c1d26b2483",
   "metadata": {},
   "outputs": [
    {
     "data": {
      "text/plain": [
       "__main__.AgeException(155)"
      ]
     },
     "execution_count": 27,
     "metadata": {},
     "output_type": "execute_result"
    }
   ],
   "source": [
    "class AgeException(Exception):\n",
    "    def __init__(self,msg):\n",
    "        self._message = msg\n",
    "\n",
    "    def input_age():\n",
    "        age = int(input('나이를 입력하세요'))\n",
    "        if age <0:\n",
    "            raise AgeException('나이는 양수임')\n",
    "        elif age >150:\n",
    "            raise AgeException('장수했다')\n",
    "        else:\n",
    "            return age\n",
    "AgeException(155)"
   ]
  },
  {
   "cell_type": "code",
   "execution_count": null,
   "id": "99ce60e2-9523-48d0-a5b5-8119a9a104c2",
   "metadata": {},
   "outputs": [],
   "source": [
    "class AgeException(Exception):\n",
    "    def init(self, msg):\n",
    "        self._message = msg\n",
    "\n",
    "def input_age():\n",
    "    age = int(input('나이를 입력하세요 : '))\n",
    "\n",
    "    if age < 0 :\n",
    "        raise AgeException('나이는 양수입니다.')\n",
    "    elif age > 150:\n",
    "        raise AgeException('150세 이상??')\n",
    "    else :\n",
    "        return age\n",
    "    "
   ]
  },
  {
   "cell_type": "code",
   "execution_count": null,
   "id": "6d93783c-1394-4275-93ab-ef565a16826c",
   "metadata": {
    "collapsed": true,
    "jupyter": {
     "outputs_hidden": true,
     "source_hidden": true
    }
   },
   "outputs": [
    {
     "name": "stdout",
     "output_type": "stream",
     "text": [
      "\n",
      "        .================ooooooo\n",
      " ___   ,'    \\_________________________________\n",
      "/   /-/       /                   ////////////  ''--..._\n",
      "\\___\\-\\       \\                   \\\\\\\\\\\\\\\\\\\\\\\\  __..--'\n",
      "       `--------------------------''''''''''''''\n",
      "\n",
      "⠈⠀⠈⠀⠁⠈⠀⠁⠈⠀⠁⠈⠀⠁⠈⠀⠁⠈⠀⠁⠈⠀⠁⠈⠀⠁⠈⠀⠁⠈⠀⠁⠈⠀⠁⠈⠀⠁⠈⠀⠁⠈⠀⠁⠈\n",
      "⠀⠂⠁⠀⠁⡀⠈⠀⠐⠈⠀⠐⣈⠿⠽⠯⠷⠿⠷⠿⠷⠿⠷⢟⠯⢿⣯⣠⠀⠁⢀⠈⠀⠐⠈⠀⠐⠈⠀⢀⠁⢀⠈⠀⠐\n",
      "⠀⠄⠐⠈⠀⠀⡀⠁⠠⠐⠀⣶⠹⡈⡪⠨⢊⠌⠢⡑⠨⡂⡑⠄⢕⠡⡋⡿⣶⠈⠀⠀⠈⠀⡀⠂⢶⣶⠈⠀⠀⡀⠀⠈⢀\n",
      "⠀⡀⠄⠀⠄⠁⠀⠀⠄⠀⠄⣿⢷⢶⠾⠾⢶⢾⠾⡶⢷⢶⢾⠾⡶⡷⡷⣟⣿⠈⠀⠈⠀⠁⢀⣰⡿⢿⣾⢀⠀⡀⠄⠁⠀\n",
      "⠀⠀⢀⠠⠀⠀⠂⠁⠀⠠⠀⣿⢰⠡⡅⢕⢨⢢⢑⢌⢆⢕⢰⢑⢼⡸⣜⡵⣿⠁⠈⠀⠈⠀⢐⣿⠁⡪⢻⡧⠀⠀⢀⠀⠈\n",
      "⠈⠀⢀⠀⢀⠈⠀⠠⠈⠀⢀⣿⠛⠛⠛⠛⠛⠛⠛⡛⠛⠛⠛⢛⠛⠛⡋⡛⣿⠐⠈⠀⠈⢀⢐⣿⣬⣼⣼⡧⠀⠈⠀⠀⠈\n",
      "⠂⠈⠀⠀⡀⠠⠐⠀⠠⠐⠀⣿⠠⠁⠅⡁⠅⠡⠡⠠⠁⠅⡡⠂⠅⠅⡐⡐⣿⠁⢀⠀⠁⠀⠠⣿⡢⣗⡇⡀⠀⠁⠀⢁⠀\n",
      "⠀⠂⠀⠁⠀⠀⡀⠠⠀⠀⠄⣿⠠⢁⠂⡚⢿⡇⠡⠨⠈⠔⢘⠻⣿⠐⡀⡊⣿⠠⠀⢀⠈⠀⠨⣿⢜⣺⡇⠀⡀⠁⠈⠀⠀\n",
      "⠁⢀⠈⠀⠄⠁⠀⢀⠀⠂⠀⣿⠈⠄⢂⢲⢾⢇⠡⠨⠈⠌⢰⠾⡿⢐⢀⢊⣿⠀⠄⠀⢠⢸⢾⢟⣷⢷⡿⡖⠀⠀⠂⠈⠀\n",
      "⠈⠀⠀⠄⠀⠄⠂⠀⡀⠄⠁⣿⠨⡐⢔⠡⡂⣖⡆⠅⠡⢱⣦⠊⡌⢆⠢⡂⣿⠄⠂⠈⣸⡯⣳⡯⣫⢳⢽⣏⠀⠐⠀⠂⠁\n",
      "⠀⠂⠀⠄⠂⠀⠠⠀⠠⣴⡻⣿⢀⠂⠌⢂⢐⠠⢘⠛⡛⠓⡀⠢⢘⠐⡁⠢⣿⣤⣤⣽⡟⣏⢞⣯⣮⢳⢽⡧⠀⠂⠀⠄⠂\n",
      "⠀⠂⠀⠄⠀⠐⢠⣜⢟⣵⣿⣿⠠⠨⠐⡀⡂⠌⠠⠂⡂⡁⢂⠡⠡⠂⠄⠕⣿⢮⡺⣜⢞⡞⢛⣿⢝⡟⢃⠀⠠⠐⠀⠀⠄\n",
      "⠐⠈⠀⢀⠈⠀⠘⠯⣮⢳⠷⣿⠠⠨⠐⠠⠐⠨⠐⡁⡐⢐⠐⠨⠨⡈⠄⡃⣿⠻⠽⠺⠃⠁⠠⣿⢝⡧⠀⠀⠄⠀⠐⠀⠠\n",
      "⠀⠠⠐⠀⠀⠈⠀⢈⣩⢾⡹⣿⠀⡊⠄⠡⠨⠈⠔⡀⡂⢂⠌⠌⢌⠐⡐⠨⣿⠀⠄⠀⠠⠐⢈⣿⢝⣇⠀⠂⠀⡈⠀⠐⠀\n",
      "⠈⠀⠀⠠⠈⠀⠈⠨⢟⣮⣞⣿⢀⣂⠼⠶⣃⡡⢁⢐⠐⣀⡢⠷⣖⡡⠠⢑⣿⠠⠀⠂⢀⠠⠀⠉⠿⠁⠀⠀⠂⠀⠀⠂⠈\n",
      "⠄⠂⠁⠀⡀⠂⠁⠀⠠⠉⠉⡉⡶⡩⠡⡁⡙⡲⡆⣂⢢⢮⠋⢌⠰⣙⣮⢶⠉⠠⠀⠠⠀⠀⡀⠄⠂⠀⠄⠁⢀⠈⠀⠐⠀\n",
      "⢀⠀⠄⠀⡀⠀⠄⠈⠀⠀⠂⠀⠀⠛⣴⡐⡐⢐⠘⡋⡓⡐⠨⢐⢰⣵⠛⠀⠀⡀⠄⠂⠀⠄⠀⠀⡀⠄⠀⠄⠀⡀⠈⠀⠄\n",
      "⠀⡀⠠⠀⠀⠄⠀⠂⠈⠀⠐⠀⠐⠀⠀⠛⣣⣦⢥⣢⡴⣤⣥⣵⠻⠀⠀⠀⠄⠀⠀⡀⠄⠀⠂⠁⠀⠀⠠⠀⠂⠀⢀⠁⠀\n",
      "⠁⠀⢀⠀⠂⠀⠂⠀⠂⠁⢀⠈⠀⠐⠀⢀⠈⠺⢿⣽⢽⡯⠯⠉⠀⠀⡀⠁⢀⠀⠁⠀⠀⠠⠀⠂⠀⡈⠀⠀⠄⠂⠀⠀⠄\n",
      "⢀⠈⠀⠀⠐⠀⠂⠐⠀⠐⠀⠀⠌⡐⠐⠄⡂⡂⠌⢝⠯⡑⠠⢂⠂⠅⠄⠢⠐⠀⠐⠈⠀⠠⠀⠐⠀⢀⠀⠂⠀⡀⠂⠁⠀\n",
      "⠀⠀⠄⠁⠀⠂⠀⠐⠀⠐⠀⠐⠀⢀⠀⠁⠐⠀⠁⠂⠁⠠⠁⠂⠈⠀⡀⠠⠐⠈⠀⠀⠂⠀⠐⠀⠐⠀⠀⠐⠀⠀⡀⠄⠈\n",
      "⠐⠀⠠⠐⠀⠂⠁⢀⠈⠀⠐⠀⠈⠀⠀⠈⢀⠀⠁⠀⠂⠀⠄⠐⠈⠀⠀⢀⠀⠠⠀⠁⠀⠁⡀⠈⠀⠐⠈⠀⠀⠁⠀⠀⠠\n",
      "╔════════════════════════════════════════╗\n",
      "             빵꾸똥꾸 문구야             \n",
      "         에 오신 것을 환영합니다!💥          \n",
      "╚════════════════════════════════════════╝\n",
      "번호\t\t제품명\t\t가격\n",
      "--------------------------------------------\n",
      "1\t\t샤프\t\t6,000원\n",
      "2\t\t볼펜\t\t3,000원\n",
      "3\t\t지우개\t\t1,000원\n",
      "4\t\t화이트\t\t3,000원\n",
      "5\t\t공책\t\t3,500원\n",
      "--------------------------------------------\n"
     ]
    },
    {
     "name": "stdin",
     "output_type": "stream",
     "text": [
      "주문하실 제품 번호를 선택하세요:  5\n"
     ]
    },
    {
     "name": "stdout",
     "output_type": "stream",
     "text": [
      "============================================\n",
      "          고객님이 선택하신 제품은          \n",
      "             공책 입니다.             \n",
      "           몇 개를 드릴까요?            \n"
     ]
    },
    {
     "name": "stdin",
     "output_type": "stream",
     "text": [
      "\t수량을 입력하세요(취소: x):  1\n",
      "더 주문하시겠습니까?(y/n): n\n"
     ]
    },
    {
     "name": "stdout",
     "output_type": "stream",
     "text": [
      "============================================\n",
      "\t\t주문 내역\n",
      "--------------------------------------------\n",
      "공책\t1개\t-\t3,500원\n",
      "--------------------------------------------\n",
      "총 결제 금액: 3,500원\n",
      "============================================\n"
     ]
    },
    {
     "name": "stdin",
     "output_type": "stream",
     "text": [
      "포인트를 적립하시겠습니까? (y/n):  n\n"
     ]
    },
    {
     "name": "stdout",
     "output_type": "stream",
     "text": [
      "            결제가 완료되었습니다.             \n",
      "            잠시만 기다려주세요. 😊            \n",
      "============================================\n",
      "       3초 뒤에 시작화면으로 돌아갑니다.        \n",
      "============================================\n",
      "       2초 뒤에 시작화면으로 돌아갑니다.        \n",
      "============================================\n",
      "       1초 뒤에 시작화면으로 돌아갑니다.        \n",
      "⠈⠀⠈⠀⠁⠈⠀⠁⠈⠀⠁⠈⠀⠁⠈⠀⠁⠈⠀⠁⠈⠀⠁⠈⠀⠁⠈⠀⠁⠈⠀⠁⠈⠀⠁⠈⠀⠁⠈⠀⠁⠈⠀⠁⠈\n",
      "⠀⠂⠁⠀⠁⡀⠈⠀⠐⠈⠀⠐⣈⠿⠽⠯⠷⠿⠷⠿⠷⠿⠷⢟⠯⢿⣯⣠⠀⠁⢀⠈⠀⠐⠈⠀⠐⠈⠀⢀⠁⢀⠈⠀⠐\n",
      "⠀⠄⠐⠈⠀⠀⡀⠁⠠⠐⠀⣶⠹⡈⡪⠨⢊⠌⠢⡑⠨⡂⡑⠄⢕⠡⡋⡿⣶⠈⠀⠀⠈⠀⡀⠂⢶⣶⠈⠀⠀⡀⠀⠈⢀\n",
      "⠀⡀⠄⠀⠄⠁⠀⠀⠄⠀⠄⣿⢷⢶⠾⠾⢶⢾⠾⡶⢷⢶⢾⠾⡶⡷⡷⣟⣿⠈⠀⠈⠀⠁⢀⣰⡿⢿⣾⢀⠀⡀⠄⠁⠀\n",
      "⠀⠀⢀⠠⠀⠀⠂⠁⠀⠠⠀⣿⢰⠡⡅⢕⢨⢢⢑⢌⢆⢕⢰⢑⢼⡸⣜⡵⣿⠁⠈⠀⠈⠀⢐⣿⠁⡪⢻⡧⠀⠀⢀⠀⠈\n",
      "⠈⠀⢀⠀⢀⠈⠀⠠⠈⠀⢀⣿⠛⠛⠛⠛⠛⠛⠛⡛⠛⠛⠛⢛⠛⠛⡋⡛⣿⠐⠈⠀⠈⢀⢐⣿⣬⣼⣼⡧⠀⠈⠀⠀⠈\n",
      "⠂⠈⠀⠀⡀⠠⠐⠀⠠⠐⠀⣿⠠⠁⠅⡁⠅⠡⠡⠠⠁⠅⡡⠂⠅⠅⡐⡐⣿⠁⢀⠀⠁⠀⠠⣿⡢⣗⡇⡀⠀⠁⠀⢁⠀\n",
      "⠀⠂⠀⠁⠀⠀⡀⠠⠀⠀⠄⣿⠠⢁⠂⡚⢿⡇⠡⠨⠈⠔⢘⠻⣿⠐⡀⡊⣿⠠⠀⢀⠈⠀⠨⣿⢜⣺⡇⠀⡀⠁⠈⠀⠀\n",
      "⠁⢀⠈⠀⠄⠁⠀⢀⠀⠂⠀⣿⠈⠄⢂⢲⢾⢇⠡⠨⠈⠌⢰⠾⡿⢐⢀⢊⣿⠀⠄⠀⢠⢸⢾⢟⣷⢷⡿⡖⠀⠀⠂⠈⠀\n",
      "⠈⠀⠀⠄⠀⠄⠂⠀⡀⠄⠁⣿⠨⡐⢔⠡⡂⣖⡆⠅⠡⢱⣦⠊⡌⢆⠢⡂⣿⠄⠂⠈⣸⡯⣳⡯⣫⢳⢽⣏⠀⠐⠀⠂⠁\n",
      "⠀⠂⠀⠄⠂⠀⠠⠀⠠⣴⡻⣿⢀⠂⠌⢂⢐⠠⢘⠛⡛⠓⡀⠢⢘⠐⡁⠢⣿⣤⣤⣽⡟⣏⢞⣯⣮⢳⢽⡧⠀⠂⠀⠄⠂\n",
      "⠀⠂⠀⠄⠀⠐⢠⣜⢟⣵⣿⣿⠠⠨⠐⡀⡂⠌⠠⠂⡂⡁⢂⠡⠡⠂⠄⠕⣿⢮⡺⣜⢞⡞⢛⣿⢝⡟⢃⠀⠠⠐⠀⠀⠄\n",
      "⠐⠈⠀⢀⠈⠀⠘⠯⣮⢳⠷⣿⠠⠨⠐⠠⠐⠨⠐⡁⡐⢐⠐⠨⠨⡈⠄⡃⣿⠻⠽⠺⠃⠁⠠⣿⢝⡧⠀⠀⠄⠀⠐⠀⠠\n",
      "⠀⠠⠐⠀⠀⠈⠀⢈⣩⢾⡹⣿⠀⡊⠄⠡⠨⠈⠔⡀⡂⢂⠌⠌⢌⠐⡐⠨⣿⠀⠄⠀⠠⠐⢈⣿⢝⣇⠀⠂⠀⡈⠀⠐⠀\n",
      "⠈⠀⠀⠠⠈⠀⠈⠨⢟⣮⣞⣿⢀⣂⠼⠶⣃⡡⢁⢐⠐⣀⡢⠷⣖⡡⠠⢑⣿⠠⠀⠂⢀⠠⠀⠉⠿⠁⠀⠀⠂⠀⠀⠂⠈\n",
      "⠄⠂⠁⠀⡀⠂⠁⠀⠠⠉⠉⡉⡶⡩⠡⡁⡙⡲⡆⣂⢢⢮⠋⢌⠰⣙⣮⢶⠉⠠⠀⠠⠀⠀⡀⠄⠂⠀⠄⠁⢀⠈⠀⠐⠀\n",
      "⢀⠀⠄⠀⡀⠀⠄⠈⠀⠀⠂⠀⠀⠛⣴⡐⡐⢐⠘⡋⡓⡐⠨⢐⢰⣵⠛⠀⠀⡀⠄⠂⠀⠄⠀⠀⡀⠄⠀⠄⠀⡀⠈⠀⠄\n",
      "⠀⡀⠠⠀⠀⠄⠀⠂⠈⠀⠐⠀⠐⠀⠀⠛⣣⣦⢥⣢⡴⣤⣥⣵⠻⠀⠀⠀⠄⠀⠀⡀⠄⠀⠂⠁⠀⠀⠠⠀⠂⠀⢀⠁⠀\n",
      "⠁⠀⢀⠀⠂⠀⠂⠀⠂⠁⢀⠈⠀⠐⠀⢀⠈⠺⢿⣽⢽⡯⠯⠉⠀⠀⡀⠁⢀⠀⠁⠀⠀⠠⠀⠂⠀⡈⠀⠀⠄⠂⠀⠀⠄\n",
      "⢀⠈⠀⠀⠐⠀⠂⠐⠀⠐⠀⠀⠌⡐⠐⠄⡂⡂⠌⢝⠯⡑⠠⢂⠂⠅⠄⠢⠐⠀⠐⠈⠀⠠⠀⠐⠀⢀⠀⠂⠀⡀⠂⠁⠀\n",
      "⠀⠀⠄⠁⠀⠂⠀⠐⠀⠐⠀⠐⠀⢀⠀⠁⠐⠀⠁⠂⠁⠠⠁⠂⠈⠀⡀⠠⠐⠈⠀⠀⠂⠀⠐⠀⠐⠀⠀⠐⠀⠀⡀⠄⠈\n",
      "⠐⠀⠠⠐⠀⠂⠁⢀⠈⠀⠐⠀⠈⠀⠀⠈⢀⠀⠁⠀⠂⠀⠄⠐⠈⠀⠀⢀⠀⠠⠀⠁⠀⠁⡀⠈⠀⠐⠈⠀⠀⠁⠀⠀⠠\n",
      "╔════════════════════════════════════════╗\n",
      "             빵꾸똥꾸 문구야             \n",
      "         에 오신 것을 환영합니다!💥          \n",
      "╚════════════════════════════════════════╝\n",
      "번호\t\t제품명\t\t가격\n",
      "--------------------------------------------\n",
      "1\t\t샤프\t\t6,000원\n",
      "2\t\t볼펜\t\t3,000원\n",
      "3\t\t지우개\t\t1,000원\n",
      "4\t\t화이트\t\t3,000원\n",
      "5\t\t공책\t\t3,500원\n",
      "--------------------------------------------\n"
     ]
    }
   ],
   "source": [
    "import time\n",
    "points = {}\n",
    "# # 메뉴 저장 리스트 -> 메뉴 추가 시 여기서.\n",
    "menu = [\n",
    "    {'name':'샤프', 'price': 6000},\n",
    "    {'name':'볼펜', 'price': 3000},\n",
    "    {'name':'지우개', 'price': 1000},\n",
    "    {'name':'화이트', 'price': 3000},\n",
    "    {'name':'공책', 'price': 3500}\n",
    "]\n",
    "\n",
    "def prt_menu(menu):\n",
    "    print('╔' + '═' * 40 + '╗')\n",
    "    print(f'빵꾸똥꾸 문구야'.center(34))\n",
    "    print(f\"에 오신 것을 환영합니다!💥\".center(34))\n",
    "    print('╚' + '═' * 40 + '╝') \n",
    "    print(f'{\"번호\"}\\t\\t{\"제품명\"}\\t\\t{\"가격\"}')\n",
    "    print('-'*44)\n",
    "\n",
    "    for i, m in enumerate(menu):\n",
    "        print(f'{i+1}\\t\\t{m[\"name\"]}\\t\\t{m[\"price\"]:,}원')\n",
    "    print('-'*44)\n",
    "\n",
    "def prt_alarm():\n",
    "    print('='*44)\n",
    "    print(f'{\"[알림]❌ 잘못된 입력입니다.\":^35}')\n",
    "    print(f'{\"[알림]✅ 다시 입력해주세요.\":^35}')\n",
    "    print('='*44)\n",
    "\n",
    "def prt_time():\n",
    "    for i in range(3, 0, -1):\n",
    "        print('=' * 44)\n",
    "        print(f'{i}초 뒤에 시작화면으로 돌아갑니다.'.center(34))\n",
    "        time.sleep(1)\n",
    "        \n",
    "def add_ord():\n",
    "    while True:        \n",
    "        try:\n",
    "            ord_num = int(input('주문하실 제품 번호를 선택하세요: ')) -1\n",
    "            if not (0 <= ord_num < len(menu)):\n",
    "                prt_alarm()\n",
    "                continue\n",
    "            return ord_num\n",
    "        except ValueError:\n",
    "            prt_alarm()\n",
    "            continue\n",
    "        \n",
    "def add_qty():\n",
    "    while True:\n",
    "        qty = input('\\t수량을 입력하세요(취소: x): ')\n",
    "        if qty.lower() ==\"x\":\n",
    "            return qty\n",
    "        try:\n",
    "            qty = int(qty)\n",
    "            if qty > 0:\n",
    "                return qty\n",
    "            prt_alarm()\n",
    "        except ValueError:\n",
    "            prt_alarm()\n",
    "\n",
    "def add_lst(order_list, ord_num, qty):\n",
    "    item = menu[ord_num]\n",
    "    for i in order_list:\n",
    "        if i['name'] == item['name']:\n",
    "            i['qty'] += qty\n",
    "            return order_list \n",
    "    order_list.append({\n",
    "        'name': item['name'],\n",
    "        'qty': qty,\n",
    "        'price': item['price']\n",
    "    })\n",
    "    return order_list\n",
    "    \n",
    "def yesno():\n",
    "    while True:\n",
    "        a=input('더 주문하시겠습니까?(y/n):')\n",
    "        if a.lower() not in ['y','n']:\n",
    "            prt_alarm()\n",
    "            continue\n",
    "        else:\n",
    "            return a\n",
    "            \n",
    "def calc_cost():\n",
    "    total = 0   \n",
    "    print('='*44)\n",
    "    print(f'\\t\\t{\"주문 내역\"}')\n",
    "    print('-'*44)\n",
    "\n",
    "    for order in order_list:\n",
    "        item_total = order['qty'] * order['price']\n",
    "        total += item_total\n",
    "\n",
    "        print(f'{order[\"name\"]}\\t{order[\"qty\"]}개\\t-\\t{item_total:,}원')\n",
    "\n",
    "    print('-'*44)\n",
    "    print(f'총 결제 금액: {total:,}원')\n",
    "    print('='*44)\n",
    "    return total\n",
    "\n",
    "def prt_points():\n",
    "    while True:\n",
    "        ab = input('포인트를 적립하시겠습니까? (y/n): ')\n",
    "        if ab.lower() not in ['y', 'n']:\n",
    "            prt_alarm()\n",
    "            continue\n",
    "        elif ab.lower()=='n':\n",
    "            return        \n",
    "        else:\n",
    "            while True:\n",
    "                phone = input('전화번호를 입력해 주세요: ')\n",
    "                if not phone.isdigit() or len(phone) < 11 or phone == \"x\":\n",
    "                    prt_alarm()\n",
    "                    continue                       \n",
    "                user_id = f'user_{phone[-4:]}'\n",
    "                point = int(total * 0.05)                 \n",
    "                if user_id in points :\n",
    "                    points[user_id] += point\n",
    "                else :\n",
    "                    points[user_id] = point\n",
    "                print('='*44)\n",
    "                print(f'🎁{user_id}고객님, {point}점 적립 되었습니다!🎁')\n",
    "                print(f' 고객님의 총 적립포인트는 {points[user_id]:,}점 입니다!')\n",
    "                print('='*44)\n",
    "                return\n",
    "     \n",
    "######################################################################################################################################################\n",
    "\n",
    "\n",
    "def draw_pencil_ascii():\n",
    "    pencil_art = r\"\"\"\n",
    "        .================ooooooo\n",
    " ___   ,'    \\_________________________________\n",
    "/   /-/       /                   ////////////  ''--..._\n",
    "\\___\\-\\       \\                   \\\\\\\\\\\\\\\\\\\\\\\\  __..--'\n",
    "       `--------------------------''''''''''''''\n",
    "\"\"\"\n",
    "    print(pencil_art)\n",
    "\n",
    "draw_pencil_ascii()\n",
    "while True:\n",
    "    print(\"\"\"⠈⠀⠈⠀⠁⠈⠀⠁⠈⠀⠁⠈⠀⠁⠈⠀⠁⠈⠀⠁⠈⠀⠁⠈⠀⠁⠈⠀⠁⠈⠀⠁⠈⠀⠁⠈⠀⠁⠈⠀⠁⠈⠀⠁⠈\n",
    "⠀⠂⠁⠀⠁⡀⠈⠀⠐⠈⠀⠐⣈⠿⠽⠯⠷⠿⠷⠿⠷⠿⠷⢟⠯⢿⣯⣠⠀⠁⢀⠈⠀⠐⠈⠀⠐⠈⠀⢀⠁⢀⠈⠀⠐\n",
    "⠀⠄⠐⠈⠀⠀⡀⠁⠠⠐⠀⣶⠹⡈⡪⠨⢊⠌⠢⡑⠨⡂⡑⠄⢕⠡⡋⡿⣶⠈⠀⠀⠈⠀⡀⠂⢶⣶⠈⠀⠀⡀⠀⠈⢀\n",
    "⠀⡀⠄⠀⠄⠁⠀⠀⠄⠀⠄⣿⢷⢶⠾⠾⢶⢾⠾⡶⢷⢶⢾⠾⡶⡷⡷⣟⣿⠈⠀⠈⠀⠁⢀⣰⡿⢿⣾⢀⠀⡀⠄⠁⠀\n",
    "⠀⠀⢀⠠⠀⠀⠂⠁⠀⠠⠀⣿⢰⠡⡅⢕⢨⢢⢑⢌⢆⢕⢰⢑⢼⡸⣜⡵⣿⠁⠈⠀⠈⠀⢐⣿⠁⡪⢻⡧⠀⠀⢀⠀⠈\n",
    "⠈⠀⢀⠀⢀⠈⠀⠠⠈⠀⢀⣿⠛⠛⠛⠛⠛⠛⠛⡛⠛⠛⠛⢛⠛⠛⡋⡛⣿⠐⠈⠀⠈⢀⢐⣿⣬⣼⣼⡧⠀⠈⠀⠀⠈\n",
    "⠂⠈⠀⠀⡀⠠⠐⠀⠠⠐⠀⣿⠠⠁⠅⡁⠅⠡⠡⠠⠁⠅⡡⠂⠅⠅⡐⡐⣿⠁⢀⠀⠁⠀⠠⣿⡢⣗⡇⡀⠀⠁⠀⢁⠀\n",
    "⠀⠂⠀⠁⠀⠀⡀⠠⠀⠀⠄⣿⠠⢁⠂⡚⢿⡇⠡⠨⠈⠔⢘⠻⣿⠐⡀⡊⣿⠠⠀⢀⠈⠀⠨⣿⢜⣺⡇⠀⡀⠁⠈⠀⠀\n",
    "⠁⢀⠈⠀⠄⠁⠀⢀⠀⠂⠀⣿⠈⠄⢂⢲⢾⢇⠡⠨⠈⠌⢰⠾⡿⢐⢀⢊⣿⠀⠄⠀⢠⢸⢾⢟⣷⢷⡿⡖⠀⠀⠂⠈⠀\n",
    "⠈⠀⠀⠄⠀⠄⠂⠀⡀⠄⠁⣿⠨⡐⢔⠡⡂⣖⡆⠅⠡⢱⣦⠊⡌⢆⠢⡂⣿⠄⠂⠈⣸⡯⣳⡯⣫⢳⢽⣏⠀⠐⠀⠂⠁\n",
    "⠀⠂⠀⠄⠂⠀⠠⠀⠠⣴⡻⣿⢀⠂⠌⢂⢐⠠⢘⠛⡛⠓⡀⠢⢘⠐⡁⠢⣿⣤⣤⣽⡟⣏⢞⣯⣮⢳⢽⡧⠀⠂⠀⠄⠂\n",
    "⠀⠂⠀⠄⠀⠐⢠⣜⢟⣵⣿⣿⠠⠨⠐⡀⡂⠌⠠⠂⡂⡁⢂⠡⠡⠂⠄⠕⣿⢮⡺⣜⢞⡞⢛⣿⢝⡟⢃⠀⠠⠐⠀⠀⠄\n",
    "⠐⠈⠀⢀⠈⠀⠘⠯⣮⢳⠷⣿⠠⠨⠐⠠⠐⠨⠐⡁⡐⢐⠐⠨⠨⡈⠄⡃⣿⠻⠽⠺⠃⠁⠠⣿⢝⡧⠀⠀⠄⠀⠐⠀⠠\n",
    "⠀⠠⠐⠀⠀⠈⠀⢈⣩⢾⡹⣿⠀⡊⠄⠡⠨⠈⠔⡀⡂⢂⠌⠌⢌⠐⡐⠨⣿⠀⠄⠀⠠⠐⢈⣿⢝⣇⠀⠂⠀⡈⠀⠐⠀\n",
    "⠈⠀⠀⠠⠈⠀⠈⠨⢟⣮⣞⣿⢀⣂⠼⠶⣃⡡⢁⢐⠐⣀⡢⠷⣖⡡⠠⢑⣿⠠⠀⠂⢀⠠⠀⠉⠿⠁⠀⠀⠂⠀⠀⠂⠈\n",
    "⠄⠂⠁⠀⡀⠂⠁⠀⠠⠉⠉⡉⡶⡩⠡⡁⡙⡲⡆⣂⢢⢮⠋⢌⠰⣙⣮⢶⠉⠠⠀⠠⠀⠀⡀⠄⠂⠀⠄⠁⢀⠈⠀⠐⠀\n",
    "⢀⠀⠄⠀⡀⠀⠄⠈⠀⠀⠂⠀⠀⠛⣴⡐⡐⢐⠘⡋⡓⡐⠨⢐⢰⣵⠛⠀⠀⡀⠄⠂⠀⠄⠀⠀⡀⠄⠀⠄⠀⡀⠈⠀⠄\n",
    "⠀⡀⠠⠀⠀⠄⠀⠂⠈⠀⠐⠀⠐⠀⠀⠛⣣⣦⢥⣢⡴⣤⣥⣵⠻⠀⠀⠀⠄⠀⠀⡀⠄⠀⠂⠁⠀⠀⠠⠀⠂⠀⢀⠁⠀\n",
    "⠁⠀⢀⠀⠂⠀⠂⠀⠂⠁⢀⠈⠀⠐⠀⢀⠈⠺⢿⣽⢽⡯⠯⠉⠀⠀⡀⠁⢀⠀⠁⠀⠀⠠⠀⠂⠀⡈⠀⠀⠄⠂⠀⠀⠄\n",
    "⢀⠈⠀⠀⠐⠀⠂⠐⠀⠐⠀⠀⠌⡐⠐⠄⡂⡂⠌⢝⠯⡑⠠⢂⠂⠅⠄⠢⠐⠀⠐⠈⠀⠠⠀⠐⠀⢀⠀⠂⠀⡀⠂⠁⠀\n",
    "⠀⠀⠄⠁⠀⠂⠀⠐⠀⠐⠀⠐⠀⢀⠀⠁⠐⠀⠁⠂⠁⠠⠁⠂⠈⠀⡀⠠⠐⠈⠀⠀⠂⠀⠐⠀⠐⠀⠀⠐⠀⠀⡀⠄⠈\n",
    "⠐⠀⠠⠐⠀⠂⠁⢀⠈⠀⠐⠀⠈⠀⠀⠈⢀⠀⠁⠀⠂⠀⠄⠐⠈⠀⠀⢀⠀⠠⠀⠁⠀⠁⡀⠈⠀⠐⠈⠀⠀⠁⠀⠀⠠\"\"\")\n",
    "    prt_menu(menu)\n",
    "    # 다중 주문 저장 리스트\n",
    "    order_list = []\n",
    "\n",
    "    while True: \n",
    "        \n",
    "        ord_num = add_ord()         \n",
    "        menut = menu[ord_num]['name']\n",
    "        \n",
    "        print('='*44)\n",
    "        print(f'{\"고객님이 선택하신 제품은\":^33}')\n",
    "        print(f'{menut + \" 입니다.\":^33}')\n",
    "        print(f'{\"몇 개를 드릴까요?\":^33}')\n",
    "        \n",
    "        \n",
    "        qty = add_qty()\n",
    "        if qty in ('x','X'):\n",
    "            break\n",
    "             \n",
    "        add_lst(order_list, ord_num, qty)\n",
    "        \n",
    "        answer = yesno()\n",
    "        if answer == 'n':\n",
    "            break\n",
    "        print('-'*44)\n",
    "\n",
    "    if qty not in ('x','X'):\n",
    "        \n",
    "        total = calc_cost()\n",
    "        \n",
    "        prt_points()\n",
    "        \n",
    "        print(f'{\"결제가 완료되었습니다.\":^37}')\n",
    "        print(f'{\"잠시만 기다려주세요. 😊\":^37}')\n",
    "\n",
    "        prt_time()"
   ]
  },
  {
   "cell_type": "code",
   "execution_count": null,
   "id": "3da7f180-1317-47f4-97ba-f7f901b52cbe",
   "metadata": {},
   "outputs": [
    {
     "name": "stdin",
     "output_type": "stream",
     "text": [
      "더 주문하시겠습니까?(y/n): f\n"
     ]
    },
    {
     "name": "stdout",
     "output_type": "stream",
     "text": [
      "============================================\n",
      "         [알림]❌ 잘못된 입력입니다.          \n",
      "         [알림]✅ 다시 입력해주세요.          \n",
      "============================================\n"
     ]
    }
   ],
   "source": [
    "def prt_alarm():\n",
    "    print('='*44)\n",
    "    print(f'{\"[알림]❌ 잘못된 입력입니다.\":^35}')\n",
    "    print(f'{\"[알림]✅ 다시 입력해주세요.\":^35}')\n",
    "    print('='*44)\n",
    "\n",
    "def yesno():\n",
    "    while True:\n",
    "        a=input('더 주문하시겠습니까?(y/n):')\n",
    "        try:\n",
    "            if int(a):\n",
    "                return a\n",
    "  \n",
    "        except ValueError:\n",
    "            prt_alarm()\n",
    "yesno()"
   ]
  },
  {
   "cell_type": "code",
   "execution_count": 4,
   "id": "1e40d031-001c-449e-862c-6a94f39fb189",
   "metadata": {
    "collapsed": true,
    "jupyter": {
     "outputs_hidden": true,
     "source_hidden": true
    },
    "scrolled": true
   },
   "outputs": [
    {
     "name": "stdin",
     "output_type": "stream",
     "text": [
      "포인트를 적립하시겠습니까? (y/n):  6\n"
     ]
    },
    {
     "name": "stdout",
     "output_type": "stream",
     "text": [
      "============================================\n",
      "         [알림]❌ 잘못된 입력입니다.          \n",
      "         [알림]✅ 다시 입력해주세요.          \n",
      "============================================\n"
     ]
    },
    {
     "name": "stdin",
     "output_type": "stream",
     "text": [
      "포인트를 적립하시겠습니까? (y/n):  s\n"
     ]
    },
    {
     "name": "stdout",
     "output_type": "stream",
     "text": [
      "============================================\n",
      "         [알림]❌ 잘못된 입력입니다.          \n",
      "         [알림]✅ 다시 입력해주세요.          \n",
      "============================================\n"
     ]
    },
    {
     "name": "stdin",
     "output_type": "stream",
     "text": [
      "포인트를 적립하시겠습니까? (y/n):  y\n",
      "전화번호를 입력해 주세요:  01054621234\n"
     ]
    },
    {
     "ename": "NameError",
     "evalue": "name 'total' is not defined",
     "output_type": "error",
     "traceback": [
      "\u001b[31m---------------------------------------------------------------------------\u001b[39m",
      "\u001b[31mNameError\u001b[39m                                 Traceback (most recent call last)",
      "\u001b[36mCell\u001b[39m\u001b[36m \u001b[39m\u001b[32mIn[4]\u001b[39m\u001b[32m, line 33\u001b[39m\n\u001b[32m     31\u001b[39m         \u001b[38;5;28;01mexcept\u001b[39;00m \u001b[38;5;167;01mValueError\u001b[39;00m:\n\u001b[32m     32\u001b[39m             prt_alarm()\n\u001b[32m---> \u001b[39m\u001b[32m33\u001b[39m prt_points()\n",
      "\u001b[36mCell\u001b[39m\u001b[36m \u001b[39m\u001b[32mIn[4]\u001b[39m\u001b[32m, line 21\u001b[39m, in \u001b[36mprt_points\u001b[39m\u001b[34m()\u001b[39m\n\u001b[32m     19\u001b[39m     \u001b[38;5;28;01mcontinue\u001b[39;00m                       \n\u001b[32m     20\u001b[39m user_id = \u001b[33mf\u001b[39m\u001b[33m'\u001b[39m\u001b[33muser_\u001b[39m\u001b[38;5;132;01m{\u001b[39;00mphone[-\u001b[32m4\u001b[39m:]\u001b[38;5;132;01m}\u001b[39;00m\u001b[33m'\u001b[39m\n\u001b[32m---> \u001b[39m\u001b[32m21\u001b[39m point = \u001b[38;5;28mint\u001b[39m(total * \u001b[32m0.05\u001b[39m)                 \n\u001b[32m     22\u001b[39m \u001b[38;5;28;01mif\u001b[39;00m user_id \u001b[38;5;129;01min\u001b[39;00m points :\n\u001b[32m     23\u001b[39m     points[user_id] += point\n",
      "\u001b[31mNameError\u001b[39m: name 'total' is not defined"
     ]
    }
   ],
   "source": [
    "def prt_alarm():\n",
    "    print('='*44)\n",
    "    print(f'{\"[알림]❌ 잘못된 입력입니다.\":^35}')\n",
    "    print(f'{\"[알림]✅ 다시 입력해주세요.\":^35}')\n",
    "    print('='*44)\n",
    "def prt_points():\n",
    "    while True:\n",
    "        ab = input('포인트를 적립하시겠습니까? (y/n): ')\n",
    "        try:\n",
    "            if ab.lower() not in ['y', 'n']:\n",
    "                prt_alarm()\n",
    "            elif ab.lower()=='n':\n",
    "                return         \n",
    "            else:\n",
    "                while True:\n",
    "                    phone = input('전화번호를 입력해 주세요: ')\n",
    "                    if not phone.isdigit() or len(phone) < 11 or phone == \"x\":\n",
    "                        prt_alarm()\n",
    "                        continue                       \n",
    "                    user_id = f'user_{phone[-4:]}'\n",
    "                    point = int(total * 0.05)                 \n",
    "                    if user_id in points :\n",
    "                        points[user_id] += point\n",
    "                    else :\n",
    "                        points[user_id] = point\n",
    "                    print('='*44)\n",
    "                    print(f'🎁{user_id}고객님, {point}점 적립 되었습니다!🎁')\n",
    "                    print(f' 고객님의 총 적립포인트는 {points[user_id]:,}점 입니다!')\n",
    "                    print('='*44)\n",
    "                    return\n",
    "        except ValueError:\n",
    "            prt_alarm()\n",
    "prt_points()"
   ]
  },
  {
   "cell_type": "code",
   "execution_count": 4,
   "id": "d5d57687-df2f-427e-828a-fc6544201bbc",
   "metadata": {},
   "outputs": [
    {
     "name": "stdin",
     "output_type": "stream",
     "text": [
      "더 주문하시겠습니까?(y/n): ㅓ\n"
     ]
    },
    {
     "name": "stdout",
     "output_type": "stream",
     "text": [
      "============================================\n",
      "         [알림]❌ 잘못된 입력입니다.          \n",
      "         [알림]✅ 다시 입력해주세요.          \n",
      "============================================\n"
     ]
    },
    {
     "name": "stdin",
     "output_type": "stream",
     "text": [
      "더 주문하시겠습니까?(y/n): i\n"
     ]
    },
    {
     "name": "stdout",
     "output_type": "stream",
     "text": [
      "============================================\n",
      "         [알림]❌ 잘못된 입력입니다.          \n",
      "         [알림]✅ 다시 입력해주세요.          \n",
      "============================================\n"
     ]
    },
    {
     "name": "stdin",
     "output_type": "stream",
     "text": [
      "더 주문하시겠습니까?(y/n): 5\n"
     ]
    },
    {
     "name": "stdout",
     "output_type": "stream",
     "text": [
      "============================================\n",
      "         [알림]❌ 잘못된 입력입니다.          \n",
      "         [알림]✅ 다시 입력해주세요.          \n",
      "============================================\n"
     ]
    },
    {
     "name": "stdin",
     "output_type": "stream",
     "text": [
      "더 주문하시겠습니까?(y/n): y\n"
     ]
    }
   ],
   "source": [
    "def prt_alarm():\n",
    "    print('='*44)\n",
    "    print(f'{\"[알림]❌ 잘못된 입력입니다.\":^35}')\n",
    "    print(f'{\"[알림]✅ 다시 입력해주세요.\":^35}')\n",
    "    print('='*44)\n",
    "class YnException(Exception):\n",
    "    def __init__(self,msg):\n",
    "        self._message=msg\n",
    "def chk_yn(s):\n",
    "    if s in ['y','n','Y','N']:\n",
    "        return s\n",
    "    else:\n",
    "        raise YnException(prt_alarm())\n",
    "def yesno():\n",
    "    while True:\n",
    "        a=input('더 주문하시겠습니까?(y/n):')\n",
    "        try:\n",
    "            chk_yn(a)\n",
    "        except YnException as e:\n",
    "            pass\n",
    "        else:\n",
    "            break\n",
    "\n",
    "yesno()"
   ]
  },
  {
   "cell_type": "code",
   "execution_count": null,
   "id": "0c27fef4-a577-4a0b-9786-f8aeca0714d4",
   "metadata": {},
   "outputs": [],
   "source": []
  }
 ],
 "metadata": {
  "kernelspec": {
   "display_name": "Python 3 (ipykernel)",
   "language": "python",
   "name": "python3"
  },
  "language_info": {
   "codemirror_mode": {
    "name": "ipython",
    "version": 3
   },
   "file_extension": ".py",
   "mimetype": "text/x-python",
   "name": "python",
   "nbconvert_exporter": "python",
   "pygments_lexer": "ipython3",
   "version": "3.12.9"
  }
 },
 "nbformat": 4,
 "nbformat_minor": 5
}
