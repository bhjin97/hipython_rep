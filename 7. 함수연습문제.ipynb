{
 "cells": [
  {
   "cell_type": "code",
   "execution_count": 2,
   "id": "9d7c4022-9762-4d61-991d-cf2bda17e0e5",
   "metadata": {},
   "outputs": [
    {
     "data": {
      "text/plain": [
       "15"
      ]
     },
     "execution_count": 2,
     "metadata": {},
     "output_type": "execute_result"
    }
   ],
   "source": [
    "# 1번\n",
    "def multifly_num(a,b):\n",
    "    return a*b\n",
    "multifly_num(3,5)"
   ]
  },
  {
   "cell_type": "code",
   "execution_count": 1,
   "id": "9f14e500-2dc1-4a50-9c4f-0574f5222dc1",
   "metadata": {},
   "outputs": [
    {
     "data": {
      "text/plain": [
       "15"
      ]
     },
     "execution_count": 1,
     "metadata": {},
     "output_type": "execute_result"
    }
   ],
   "source": [
    "# 2번\n",
    "def calc_average(numbers):\n",
    "    total = 0\n",
    "    for i in numbers:\n",
    "        total+=i\n",
    "    return total\n",
    "numbers=[1,2,3,4,5]\n",
    "calc_average(numbers)"
   ]
  },
  {
   "cell_type": "code",
   "execution_count": 2,
   "id": "acaa2fff-27b6-4977-b42c-dc7a07b702fa",
   "metadata": {},
   "outputs": [
    {
     "name": "stdin",
     "output_type": "stream",
     "text": [
      "숫자 입력 5\n"
     ]
    },
    {
     "name": "stdout",
     "output_type": "stream",
     "text": [
      "odd\n"
     ]
    }
   ],
   "source": [
    "# 3번\n",
    "def is_even():\n",
    "    a=int(input('숫자 입력'))\n",
    "    if a%2 != 0:\n",
    "        print('odd')\n",
    "    else:\n",
    "        print('even')\n",
    "    return\n",
    "is_even()"
   ]
  },
  {
   "cell_type": "code",
   "execution_count": 55,
   "id": "16b70206-de0f-4d3b-abec-e6a084fa8d7f",
   "metadata": {},
   "outputs": [
    {
     "data": {
      "text/plain": [
       "['a', 'g', '1']"
      ]
     },
     "execution_count": 55,
     "metadata": {},
     "output_type": "execute_result"
    }
   ],
   "source": [
    "# 4번\n",
    "def to_string_list(lst):\n",
    "    result=[]\n",
    "    for i in lst:\n",
    "        result.append(str(i))\n",
    "    return result\n",
    "\n",
    "lst=['a','g','1']\n",
    "to_string_list(lst)"
   ]
  },
  {
   "cell_type": "code",
   "execution_count": 1,
   "id": "9d1494b8-95ae-4c73-94de-1317aa3a6ead",
   "metadata": {},
   "outputs": [
    {
     "data": {
      "text/plain": [
       "['a', 'g', '1']"
      ]
     },
     "execution_count": 1,
     "metadata": {},
     "output_type": "execute_result"
    }
   ],
   "source": [
    "# 4번 람다로\n",
    "to_string_list=lambda lst: list(map(str,lst))\n",
    "to_string_list(['a','g','1'])"
   ]
  },
  {
   "cell_type": "code",
   "execution_count": 2,
   "id": "44eff26d-1a9e-496f-9f61-8637d88cfe71",
   "metadata": {},
   "outputs": [
    {
     "data": {
      "text/plain": [
       "'Hello, World!'"
      ]
     },
     "execution_count": 2,
     "metadata": {},
     "output_type": "execute_result"
    }
   ],
   "source": [
    "# 5번\n",
    "def concat_strings(s1, s2):\n",
    "    return s1+s2\n",
    "\n",
    "concat_strings(\"Hello, \", \"World!\")"
   ]
  },
  {
   "cell_type": "code",
   "execution_count": 3,
   "id": "2b7ab0c7-257c-40b6-a6d0-55aa71460e0b",
   "metadata": {},
   "outputs": [],
   "source": [
    "(lambda s1,s2: s1+s2)(\"Hello, \", \"World!\")\n",
    "concat_strings1=lambda s1,s2: s1+s2"
   ]
  },
  {
   "cell_type": "code",
   "execution_count": 4,
   "id": "cb45a67d-7e07-447c-a5a6-ebfb5ceeee0f",
   "metadata": {},
   "outputs": [
    {
     "data": {
      "text/plain": [
       "\"['b', 'c', 'd', 'f', 'g', 'h', 'j', 'k', 'l', 'm', 'n', 'p', 'q', 'r', 's', 't', 'v', 'w', 'x', 'y', 'z']\""
      ]
     },
     "execution_count": 4,
     "metadata": {},
     "output_type": "execute_result"
    }
   ],
   "source": [
    "# 6번\n",
    "def remove_vowels(s):\n",
    "    lista=[]\n",
    "    aeiou = ['a','e','i','o','u']\n",
    "    for i in s:\n",
    "        if i not in aeiou:\n",
    "            lista.append(i)\n",
    "    return lista\n",
    "\n",
    "str(remove_vowels('abcdefghijklmnopqrstuvwxyz'))"
   ]
  },
  {
   "cell_type": "code",
   "execution_count": 4,
   "id": "d5c398df-0f4a-4569-9a5e-a5769a8eb3a9",
   "metadata": {},
   "outputs": [
    {
     "data": {
      "text/plain": [
       "\"['b', 'c', 'd', 'f', 'g', 'h', 'j', 'k', 'l', 'm', 'n', 'p', 'q', 'r', 's', 't', 'v', 'w', 'x', 'y', 'z']\""
      ]
     },
     "execution_count": 4,
     "metadata": {},
     "output_type": "execute_result"
    }
   ],
   "source": [
    "# 6번\n",
    "def remove_vowels(s):\n",
    "    result=''\n",
    "    for i in s:\n",
    "        if i not in aeiou:\n",
    "            +=\n",
    "    return lista\n",
    "\n",
    "str(remove_vowels('abcdefghijklmnopqrstuvwxyz'))"
   ]
  },
  {
   "cell_type": "code",
   "execution_count": null,
   "id": "e369fdcb-3ed3-4d69-9f11-39eb35697392",
   "metadata": {},
   "outputs": [],
   "source": [
    "# 6번 한줄로 \n",
    "def remove_vowels1(s):\n",
    "    return ''.join([ch for ch in s if not in 'aeiou'])\n"
   ]
  },
  {
   "cell_type": "code",
   "execution_count": null,
   "id": "0b535108-3a3b-4f77-a51e-55c6b55fbd27",
   "metadata": {},
   "outputs": [],
   "source": [
    "# 6번 한줄로 \n",
    "remove_vowels2 = lambda s:''.join([ch for ch in s if not in 'aeiou'])"
   ]
  },
  {
   "cell_type": "code",
   "execution_count": 5,
   "id": "e2f75367-7f60-4dfb-a469-f93195410a60",
   "metadata": {},
   "outputs": [
    {
     "data": {
      "text/plain": [
       "(10, 'generation')"
      ]
     },
     "execution_count": 5,
     "metadata": {},
     "output_type": "execute_result"
    }
   ],
   "source": [
    "# 7번\n",
    "def find_longest_word(words):\n",
    "    lista = words.split()\n",
    "    listb=sorted(lista, key=len, reverse=True)\n",
    "    return len(listb[0]),listb[0]\n",
    "find_longest_word('Life is for one generation a good name is forever')\n"
   ]
  },
  {
   "cell_type": "code",
   "execution_count": null,
   "id": "5d13ada2-5aa6-4545-9586-5e9917d49916",
   "metadata": {},
   "outputs": [],
   "source": [
    "def find_longest_word(s):\n",
    "    words = s.split()\n",
    "    longest = words[0]\n",
    "    max_len = len(longest)\n",
    "\n",
    "    for w in words[1:] :\n",
    "        if len(w) > max_len:\n",
    "            longest = w\n",
    "            max_len = len(w)\n",
    "\n",
    "    return longest, max_len"
   ]
  },
  {
   "cell_type": "code",
   "execution_count": null,
   "id": "96b61536-fb51-4286-a66c-66bfae99096a",
   "metadata": {},
   "outputs": [],
   "source": [
    "#7번 람다로\n",
    "def find_longest_word1(s):\n",
    "    words = s.split()\n",
    "    longest = max(words, key=len)\n",
    "    return longest, len(longest)"
   ]
  },
  {
   "cell_type": "code",
   "execution_count": 2,
   "id": "5157fcf1-b086-4d01-9563-96b9f5bf37dd",
   "metadata": {},
   "outputs": [
    {
     "data": {
      "text/plain": [
       "('generation', 10)"
      ]
     },
     "execution_count": 2,
     "metadata": {},
     "output_type": "execute_result"
    }
   ],
   "source": [
    "#7번 람다로\n",
    "find_longest_word2=lambda s : max([(w, len(w)) for w in s.split()],key =lambda x:x[1])\n",
    "find_longest_word2('Life is for one generation a good name is forever')"
   ]
  },
  {
   "cell_type": "code",
   "execution_count": 3,
   "id": "311a9863-4008-4aee-8aab-d53c6e025806",
   "metadata": {},
   "outputs": [
    {
     "data": {
      "text/plain": [
       "(['a', 'b', 'c', 'd'], ['1', '2', '3', '4'])"
      ]
     },
     "execution_count": 3,
     "metadata": {},
     "output_type": "execute_result"
    }
   ],
   "source": [
    "# 8번\n",
    "def split_numbers_letters(s):\n",
    "    a=list(s)\n",
    "    list1=[]\n",
    "    list2=[]\n",
    "    for i in a:\n",
    "        try:\n",
    "            if int(i):\n",
    "                list2.append(i)\n",
    "        except ValueError:\n",
    "            list1.append(i)\n",
    "    return list1, list2\n",
    "split_numbers_letters(\"a1b2c3d4\")"
   ]
  },
  {
   "cell_type": "code",
   "execution_count": 6,
   "id": "c582523e-2630-4b35-8383-debdf3de6660",
   "metadata": {},
   "outputs": [
    {
     "data": {
      "text/plain": [
       "([1, 2, 3, 5], ['a', 's', 'd', 'f'])"
      ]
     },
     "execution_count": 6,
     "metadata": {},
     "output_type": "execute_result"
    }
   ],
   "source": [
    "# 8번 다른방법\n",
    "def split_numbers_letters(s):\n",
    "    numbers = []\n",
    "    letters = []\n",
    "    for ch in s:\n",
    "        if ch.isdigit():\n",
    "            numbers.append(int(ch))\n",
    "        elif ch.isalpha():\n",
    "            letters.append(ch)\n",
    "        \n",
    "    return numbers, letters\n",
    "split_numbers_letters('a1s2d3f5')"
   ]
  },
  {
   "cell_type": "code",
   "execution_count": 8,
   "id": "894327b9-5da7-403f-93ac-9a757f59e8cd",
   "metadata": {},
   "outputs": [
    {
     "data": {
      "text/plain": [
       "([1, 2, 3, 5], ['a', 's', 'd', 'f'])"
      ]
     },
     "execution_count": 8,
     "metadata": {},
     "output_type": "execute_result"
    }
   ],
   "source": [
    "#8번 한줄로\n",
    "def split_numbers_letters1(s):\n",
    "    numbers = [int(ch) for ch in s if ch.isdigit()]\n",
    "    letters = [ch for ch in s if ch.isalpha()]\n",
    "    return numbers, letters\n",
    "split_numbers_letters1('a1s2d3f5')"
   ]
  },
  {
   "cell_type": "code",
   "execution_count": 11,
   "id": "4fde92cd-61f8-4a68-a8b1-072c406f947e",
   "metadata": {},
   "outputs": [
    {
     "data": {
      "text/plain": [
       "([1, 2, 3, 5], ['a', 's', 'd', 'f'])"
      ]
     },
     "execution_count": 11,
     "metadata": {},
     "output_type": "execute_result"
    }
   ],
   "source": [
    "abc='a1s2d3f5'\n",
    "numbers = list(map(int, filter( lambda ch: ch.isdigit() ,abc)))\n",
    "letters= list(filter(lambda ch : ch.isalpha(),abc)) \n",
    "numbers, letters"
   ]
  },
  {
   "cell_type": "code",
   "execution_count": 13,
   "id": "8a60851e-5346-4438-b128-18b2018d6591",
   "metadata": {},
   "outputs": [
    {
     "data": {
      "text/plain": [
       "{'h': 1, 'e': 1, 'l': 2, 'o': 1}"
      ]
     },
     "execution_count": 13,
     "metadata": {},
     "output_type": "execute_result"
    }
   ],
   "source": [
    "# 9번\n",
    "def count_alphabets(s):\n",
    "    dict={}\n",
    "    a=list(s)\n",
    "    for i in a:\n",
    "        qty=0\n",
    "        for j in a:\n",
    "            if j ==i:\n",
    "                qty+=1\n",
    "                dict[i]=qty\n",
    "    return dict\n",
    "    \n",
    "count_alphabets(\"hello\")   "
   ]
  },
  {
   "cell_type": "code",
   "execution_count": null,
   "id": "74159712-3c72-4ef6-b87c-a2beb0ec2c4b",
   "metadata": {},
   "outputs": [],
   "source": []
  },
  {
   "cell_type": "code",
   "execution_count": 14,
   "id": "dacadd56-b79d-4cc6-bca4-45ecd412b532",
   "metadata": {},
   "outputs": [
    {
     "name": "stdout",
     "output_type": "stream",
     "text": [
      "{'a': 1, 'j': 4, 'f': 4, 'k': 4, 'd': 2, 'g': 2, 's': 3, 'i': 2, 'o': 2, 'e': 1, 'w': 1, 'p': 2, 'l': 1, 'z': 1, 'n': 1, 'b': 1, 'h': 1, 'u': 2, 'r': 1, 'y': 1}\n"
     ]
    }
   ],
   "source": [
    "def count_alphabets1(s):\n",
    "# 딕셔너리 컴프\n",
    "    return {ch: s.count(ch) for ch in s}\n",
    "print(count_alphabets1('ajfkdgsioewjpflksfzdnbjkhuroiuyspgjkf'))"
   ]
  }
 ],
 "metadata": {
  "kernelspec": {
   "display_name": "Python 3 (ipykernel)",
   "language": "python",
   "name": "python3"
  },
  "language_info": {
   "codemirror_mode": {
    "name": "ipython",
    "version": 3
   },
   "file_extension": ".py",
   "mimetype": "text/x-python",
   "name": "python",
   "nbconvert_exporter": "python",
   "pygments_lexer": "ipython3",
   "version": "3.12.9"
  }
 },
 "nbformat": 4,
 "nbformat_minor": 5
}
