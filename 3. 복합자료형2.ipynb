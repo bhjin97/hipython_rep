{
 "cells": [
  {
   "cell_type": "markdown",
   "id": "c2a8c5a3-cd9f-4836-86d6-d82b9ff72653",
   "metadata": {},
   "source": [
    "# 튜플\n",
    "\n",
    "튜플은 괄호 생략 가능\n",
    "숫자요소 하나만 있으면 ',' 필수\n"
   ]
  },
  {
   "cell_type": "code",
   "execution_count": 1,
   "id": "ffdf231e-9189-4b7e-826d-4e4e26958a53",
   "metadata": {},
   "outputs": [
    {
     "data": {
      "text/plain": [
       "((), tuple)"
      ]
     },
     "execution_count": 1,
     "metadata": {},
     "output_type": "execute_result"
    }
   ],
   "source": [
    "a = tuple()\n",
    "a, type(a)"
   ]
  },
  {
   "cell_type": "code",
   "execution_count": 3,
   "id": "e4cc51d3-33c5-4b34-bd80-d8c86d279dc9",
   "metadata": {},
   "outputs": [
    {
     "data": {
      "text/plain": [
       "((2,), tuple)"
      ]
     },
     "execution_count": 3,
     "metadata": {},
     "output_type": "execute_result"
    }
   ],
   "source": [
    "b=(2,)\n",
    "b, type(b)"
   ]
  },
  {
   "cell_type": "code",
   "execution_count": 4,
   "id": "93a11595-e317-49bf-8313-2f912b0006b9",
   "metadata": {},
   "outputs": [
    {
     "data": {
      "text/plain": [
       "((1, 2, (3, 4), '5', [1, 2, 3]), tuple)"
      ]
     },
     "execution_count": 4,
     "metadata": {},
     "output_type": "execute_result"
    }
   ],
   "source": [
    "c =(1,2,(3,4),'5',[1,2,3])\n",
    "c, type(c)"
   ]
  },
  {
   "cell_type": "code",
   "execution_count": 15,
   "id": "34b05405-86ee-4a82-9db2-8e115eb61336",
   "metadata": {},
   "outputs": [
    {
     "data": {
      "text/plain": [
       "('h', 'i')"
      ]
     },
     "execution_count": 15,
     "metadata": {},
     "output_type": "execute_result"
    }
   ],
   "source": [
    "#s = 'hello'\n",
    "s = 'hi'\n",
    "a,b = s\n",
    "a,b"
   ]
  },
  {
   "cell_type": "code",
   "execution_count": 17,
   "id": "42a31635-3e81-4d89-b12f-98af60bda3e7",
   "metadata": {},
   "outputs": [
    {
     "data": {
      "text/plain": [
       "('h', ['e', 'l', 'l'], 'o')"
      ]
     },
     "execution_count": 17,
     "metadata": {},
     "output_type": "execute_result"
    }
   ],
   "source": [
    "s = 'hello'\n",
    "a,*b, c= s #unpacking * -rest(나머지 다 가짐)\n",
    "a,b,c"
   ]
  },
  {
   "cell_type": "code",
   "execution_count": 18,
   "id": "44e66eaa-1fe7-4dfc-bb9e-8765cd631588",
   "metadata": {},
   "outputs": [
    {
     "data": {
      "text/plain": [
       "('Bob', 20, 'freshman')"
      ]
     },
     "execution_count": 18,
     "metadata": {},
     "output_type": "execute_result"
    }
   ],
   "source": [
    "student = ('Bob', 20, 'freshman') #packing\n",
    "student"
   ]
  },
  {
   "cell_type": "code",
   "execution_count": 21,
   "id": "cfb62e37-86eb-4c67-9f80-62c41f4e6b15",
   "metadata": {},
   "outputs": [
    {
     "data": {
      "text/plain": [
       "' name is Bob, age is 20, grade is freshman'"
      ]
     },
     "execution_count": 21,
     "metadata": {},
     "output_type": "execute_result"
    }
   ],
   "source": [
    "name, age, grade = student  #unpacking\n",
    "f' name is {name}, age is {age}, grade is {grade}'"
   ]
  },
  {
   "cell_type": "code",
   "execution_count": 25,
   "id": "d2dccfa7-319e-4464-bb79-cfe6aafcd98b",
   "metadata": {},
   "outputs": [
    {
     "data": {
      "text/plain": [
       "(2, 1)"
      ]
     },
     "execution_count": 25,
     "metadata": {},
     "output_type": "execute_result"
    }
   ],
   "source": [
    "#mission\n",
    "\n",
    "x=1\n",
    "y=2\n",
    "\n",
    "c = (y,x)\n",
    "x,y = c\n",
    "x,y\n",
    "\n",
    "#x=2,y=1"
   ]
  },
  {
   "cell_type": "code",
   "execution_count": null,
   "id": "60c84139-ad7c-4066-8e40-d2d3e1bb1952",
   "metadata": {},
   "outputs": [],
   "source": [
    "x,y = y,x # packing, unpacking tuple "
   ]
  },
  {
   "cell_type": "code",
   "execution_count": 28,
   "id": "21858e0e-643a-4a6a-8724-44c1e50628e9",
   "metadata": {},
   "outputs": [
    {
     "name": "stdout",
     "output_type": "stream",
     "text": [
      "5 4 3\n"
     ]
    },
    {
     "data": {
      "text/plain": [
       "(3, 4, 5)"
      ]
     },
     "execution_count": 28,
     "metadata": {},
     "output_type": "execute_result"
    }
   ],
   "source": [
    "def func_a(a,b,c):\n",
    "    print(a,b,c)\n",
    "    return c,b,a\n",
    "\n",
    "result = func_a(5,4,3)\n",
    "result\n",
    "    "
   ]
  },
  {
   "cell_type": "code",
   "execution_count": 31,
   "id": "94ed085c-debe-4504-80ad-e29f7a9a34b9",
   "metadata": {},
   "outputs": [
    {
     "name": "stdout",
     "output_type": "stream",
     "text": [
      "1 2 3\n"
     ]
    },
    {
     "data": {
      "text/plain": [
       "3"
      ]
     },
     "execution_count": 31,
     "metadata": {},
     "output_type": "execute_result"
    }
   ],
   "source": [
    "d,c,b = func_a(1,2,3)\n",
    "d"
   ]
  },
  {
   "cell_type": "code",
   "execution_count": 32,
   "id": "a802ec00-6610-442d-9a29-6a9c50e96fbd",
   "metadata": {},
   "outputs": [
    {
     "data": {
      "text/plain": [
       "['가연', '지훈', '지희']"
      ]
     },
     "execution_count": 32,
     "metadata": {},
     "output_type": "execute_result"
    }
   ],
   "source": [
    "# tuple 값을 바꾸려면 리스트로 형변환\n",
    "\n",
    "name_tuple = ('가연','지훈','지희')\n",
    "a = list(name_tuple)"
   ]
  },
  {
   "cell_type": "code",
   "execution_count": 36,
   "id": "0e9d2e7e-ead2-495d-8041-e2322da4b581",
   "metadata": {},
   "outputs": [
    {
     "data": {
      "text/plain": [
       "['가연', '지훈', '지희', '유석']"
      ]
     },
     "execution_count": 36,
     "metadata": {},
     "output_type": "execute_result"
    }
   ],
   "source": [
    "name_tuple = ('가연','지훈','지희')\n",
    "a = list(name_tuple)\n",
    "a.append('유석')\n",
    "a"
   ]
  },
  {
   "cell_type": "code",
   "execution_count": 37,
   "id": "c160e744-310c-49a9-9d51-fa3519bce6ab",
   "metadata": {},
   "outputs": [
    {
     "data": {
      "text/plain": [
       "['__add__',\n",
       " '__class__',\n",
       " '__class_getitem__',\n",
       " '__contains__',\n",
       " '__delattr__',\n",
       " '__dir__',\n",
       " '__doc__',\n",
       " '__eq__',\n",
       " '__format__',\n",
       " '__ge__',\n",
       " '__getattribute__',\n",
       " '__getitem__',\n",
       " '__getnewargs__',\n",
       " '__getstate__',\n",
       " '__gt__',\n",
       " '__hash__',\n",
       " '__init__',\n",
       " '__init_subclass__',\n",
       " '__iter__',\n",
       " '__le__',\n",
       " '__len__',\n",
       " '__lt__',\n",
       " '__mul__',\n",
       " '__ne__',\n",
       " '__new__',\n",
       " '__reduce__',\n",
       " '__reduce_ex__',\n",
       " '__repr__',\n",
       " '__rmul__',\n",
       " '__setattr__',\n",
       " '__sizeof__',\n",
       " '__str__',\n",
       " '__subclasshook__',\n",
       " 'count',\n",
       " 'index']"
      ]
     },
     "execution_count": 37,
     "metadata": {},
     "output_type": "execute_result"
    }
   ],
   "source": [
    "dir(name_tuple)"
   ]
  },
  {
   "cell_type": "code",
   "execution_count": 39,
   "id": "735da037-6aa2-4741-a01b-b832854661bc",
   "metadata": {},
   "outputs": [
    {
     "data": {
      "text/plain": [
       "(('가연', '지훈', '지희', '가연', '지훈', '지희'), ('가연', '지훈', '지희', '가연', '지훈', '지희'))"
      ]
     },
     "execution_count": 39,
     "metadata": {},
     "output_type": "execute_result"
    }
   ],
   "source": [
    "# __add__ +\n",
    "# __mul__*\n",
    "\n",
    "name_tuple.__mul__(2), name_tuple.__add__(name_tuple)"
   ]
  },
  {
   "cell_type": "code",
   "execution_count": 44,
   "id": "1ebd3ba8-bb57-43b4-90f6-3b4bb0ac53cf",
   "metadata": {},
   "outputs": [
    {
     "data": {
      "text/plain": [
       "('가연', '지훈', '지희', '가연', '지훈', '지희')"
      ]
     },
     "execution_count": 44,
     "metadata": {},
     "output_type": "execute_result"
    }
   ],
   "source": [
    "\n",
    "name_tuple.__mul__(2)"
   ]
  },
  {
   "cell_type": "code",
   "execution_count": 48,
   "id": "d41f6920-409f-424d-9bce-f4ba1dbf6b14",
   "metadata": {},
   "outputs": [
    {
     "data": {
      "text/plain": [
       "('가연', '지훈', '지희', ['가연', '지훈', '지희', '유석'], 'b')"
      ]
     },
     "execution_count": 48,
     "metadata": {},
     "output_type": "execute_result"
    }
   ],
   "source": [
    "ab = a,\"b\"\n",
    "c = name_tuple.__add__(ab)\n",
    "c"
   ]
  },
  {
   "cell_type": "code",
   "execution_count": 49,
   "id": "49876577-982a-4d9f-85b6-e92ab41ff869",
   "metadata": {},
   "outputs": [
    {
     "data": {
      "text/plain": [
       "range(0, 5)"
      ]
     },
     "execution_count": 49,
     "metadata": {},
     "output_type": "execute_result"
    }
   ],
   "source": [
    "range(len(c))"
   ]
  },
  {
   "cell_type": "code",
   "execution_count": 50,
   "id": "25c9bfb3-1ef4-4353-bcb9-e0ba8ed69bf5",
   "metadata": {},
   "outputs": [
    {
     "data": {
      "text/plain": [
       "'b'"
      ]
     },
     "execution_count": 50,
     "metadata": {},
     "output_type": "execute_result"
    }
   ],
   "source": [
    "c[4]"
   ]
  },
  {
   "cell_type": "markdown",
   "id": "6429384f-387d-4cb9-aaf1-23415190aa8c",
   "metadata": {},
   "source": [
    "# 집합\n",
    "\n",
    "1. set([]), {}\n",
    "2. 중복이안된다, 순서도 없고 키도없다\n",
    "3. 속도가 빠르다, 해싱을 하는자료형"
   ]
  },
  {
   "cell_type": "code",
   "execution_count": 52,
   "id": "a404c8bd-9803-4131-aecf-aea7c7fcd3d2",
   "metadata": {},
   "outputs": [
    {
     "data": {
      "text/plain": [
       "{1, 2, 3}"
      ]
     },
     "execution_count": 52,
     "metadata": {},
     "output_type": "execute_result"
    }
   ],
   "source": [
    "s = set([1,2,3])\n",
    "s"
   ]
  },
  {
   "cell_type": "code",
   "execution_count": 55,
   "id": "c4d1dbd4-c3a0-4b16-9f7f-db80af088641",
   "metadata": {},
   "outputs": [
    {
     "data": {
      "text/plain": [
       "({1, 2, 3}, set)"
      ]
     },
     "execution_count": 55,
     "metadata": {},
     "output_type": "execute_result"
    }
   ],
   "source": [
    "s1 = {1,2,3}\n",
    "s1, type(s1)"
   ]
  },
  {
   "cell_type": "code",
   "execution_count": null,
   "id": "7123e9c2-a606-468b-b184-a7421c1f3158",
   "metadata": {},
   "outputs": [],
   "source": []
  },
  {
   "cell_type": "code",
   "execution_count": 59,
   "id": "2b1e5630-8405-471a-8374-fd7d516b358c",
   "metadata": {},
   "outputs": [
    {
     "data": {
      "text/plain": [
       "[1, 2, 3, 1, 2, 3, [4, 5, 6]]"
      ]
     },
     "execution_count": 59,
     "metadata": {},
     "output_type": "execute_result"
    }
   ],
   "source": [
    "L2 = [1,2,3,1,2,3]\n",
    "a = set(L2)\n",
    "L3 = L2 + [4,5,6]\n",
    "L3\n",
    "L2.append([4,5,6])\n",
    "L2"
   ]
  },
  {
   "cell_type": "code",
   "execution_count": 60,
   "id": "4450b993-14dd-40c5-bdc9-cec433148292",
   "metadata": {},
   "outputs": [
    {
     "data": {
      "text/plain": [
       "4745100072004033760"
      ]
     },
     "execution_count": 60,
     "metadata": {},
     "output_type": "execute_result"
    }
   ],
   "source": [
    "hash('hi') #해시코드"
   ]
  },
  {
   "cell_type": "code",
   "execution_count": 72,
   "id": "b2cdc723-45ef-43ed-964d-fd4fd3d3d597",
   "metadata": {},
   "outputs": [],
   "source": [
    "L1 = [1,2,3]\n",
    "# hash(L1)  ## 셋은 해싱 불가능하지만 요소는 가능해야함(안에 리스트X)"
   ]
  },
  {
   "cell_type": "code",
   "execution_count": 62,
   "id": "05db4f62-d345-4eda-9289-c6e0ca30794d",
   "metadata": {},
   "outputs": [
    {
     "data": {
      "text/plain": [
       "529344067295497451"
      ]
     },
     "execution_count": 62,
     "metadata": {},
     "output_type": "execute_result"
    }
   ],
   "source": [
    "hash((1,2,3))"
   ]
  },
  {
   "cell_type": "markdown",
   "id": "523e18d4-5075-4a69-a631-a8b33569db7e",
   "metadata": {},
   "source": [
    "# 집합연산\n",
    "\n",
    "1. 교집합 &, intersection()\n",
    "2. 합집합 |,union\n",
    "3. 차집합 -, difference"
   ]
  },
  {
   "cell_type": "code",
   "execution_count": 64,
   "id": "b636710c-32bb-429d-858a-07b66b041b5a",
   "metadata": {},
   "outputs": [
    {
     "data": {
      "text/plain": [
       "{3, 4}"
      ]
     },
     "execution_count": 64,
     "metadata": {},
     "output_type": "execute_result"
    }
   ],
   "source": [
    "s = set([1,2,3,4])\n",
    "x = {2,3,4}\n",
    "y = {3,4,5}\n",
    "\n",
    "x.intersection(y)"
   ]
  },
  {
   "cell_type": "code",
   "execution_count": 65,
   "id": "be347962-13c5-4240-9426-41d375e83b00",
   "metadata": {},
   "outputs": [
    {
     "data": {
      "text/plain": [
       "{2, 3, 4, 5}"
      ]
     },
     "execution_count": 65,
     "metadata": {},
     "output_type": "execute_result"
    }
   ],
   "source": [
    "x.union(y)"
   ]
  },
  {
   "cell_type": "code",
   "execution_count": 67,
   "id": "2478146f-750e-429e-96dc-ca75d594aac3",
   "metadata": {},
   "outputs": [
    {
     "data": {
      "text/plain": [
       "{5}"
      ]
     },
     "execution_count": 67,
     "metadata": {},
     "output_type": "execute_result"
    }
   ],
   "source": [
    "y.difference(x)"
   ]
  },
  {
   "cell_type": "code",
   "execution_count": 69,
   "id": "c919ebdf-774a-4d1c-b546-31acaa0b5c05",
   "metadata": {},
   "outputs": [
    {
     "data": {
      "text/plain": [
       "{1, 2}"
      ]
     },
     "execution_count": 69,
     "metadata": {},
     "output_type": "execute_result"
    }
   ],
   "source": [
    "s.difference(y)"
   ]
  },
  {
   "cell_type": "code",
   "execution_count": 71,
   "id": "d483dc70-f2fc-4183-9340-fd9c7d0d2b49",
   "metadata": {},
   "outputs": [
    {
     "data": {
      "text/plain": [
       "{1, 2, 3, 4, 5}"
      ]
     },
     "execution_count": 71,
     "metadata": {},
     "output_type": "execute_result"
    }
   ],
   "source": [
    "s|y"
   ]
  },
  {
   "cell_type": "code",
   "execution_count": 73,
   "id": "c6afb0aa-c0a5-49fb-a684-57cac8e0719f",
   "metadata": {},
   "outputs": [
    {
     "data": {
      "text/plain": [
       "110"
      ]
     },
     "execution_count": 73,
     "metadata": {},
     "output_type": "execute_result"
    }
   ],
   "source": [
    "numbers = [10, 20,  30,  40,  50,  60, 70, 80, 90, 100]\n",
    "a = numbers[0]\n",
    "b = numbers[-1]\n",
    "a+b"
   ]
  },
  {
   "cell_type": "code",
   "execution_count": 77,
   "id": "48ab7bd9-a8b6-4e1a-86ff-02a02eac3bf6",
   "metadata": {},
   "outputs": [
    {
     "data": {
      "text/plain": [
       "['yellow', 'purple']"
      ]
     },
     "execution_count": 77,
     "metadata": {},
     "output_type": "execute_result"
    }
   ],
   "source": [
    "colors = [\"red\", \"green\", \"blue\", \"yellow\", \"purple\", \"orange\", \"black\"]\n",
    "c2 = colors[3:-2]\n",
    "c2"
   ]
  },
  {
   "cell_type": "code",
   "execution_count": 79,
   "id": "8a5b71c6-11ca-40d3-a4ce-3d7cc60383ff",
   "metadata": {},
   "outputs": [
    {
     "data": {
      "text/plain": [
       "'korean'"
      ]
     },
     "execution_count": 79,
     "metadata": {},
     "output_type": "execute_result"
    }
   ],
   "source": [
    "list_a = [\n",
    "    [1, 2, 3],\n",
    "    [\"red\", \"green\", \"blue\"],\n",
    "    [False, \"korean\", True]\n",
    "]\n",
    "\n",
    "list_a[2][1]"
   ]
  },
  {
   "cell_type": "code",
   "execution_count": 109,
   "id": "2de37a9b-7dc3-4623-98d7-5698ed7edc48",
   "metadata": {},
   "outputs": [
    {
     "name": "stdout",
     "output_type": "stream",
     "text": [
      "korean\n"
     ]
    }
   ],
   "source": [
    "list_a = [\n",
    "    [1, 2, 3],\n",
    "    [\"red\", \"green\", \"blue\"],\n",
    "    [False, \"korean\", True]\n",
    "]\n",
    "\n",
    "for s in list_a:\n",
    "    for i in s:\n",
    "        if i == \"korean\": #코리안 나올때까지 돌림 - 루프이용\n",
    "            print(i)"
   ]
  },
  {
   "cell_type": "code",
   "execution_count": 82,
   "id": "178e0db0-ad6e-4a50-8df2-9170d6cd6a8d",
   "metadata": {},
   "outputs": [
    {
     "data": {
      "text/plain": [
       "[1, 2, 3, 4, 5, 6]"
      ]
     },
     "execution_count": 82,
     "metadata": {},
     "output_type": "execute_result"
    }
   ],
   "source": [
    "list_a = [1, 2, 3]\n",
    "list_b = [4, 5, 6]\n",
    "list_c = list_a+list_b\n",
    "list_c"
   ]
  },
  {
   "cell_type": "code",
   "execution_count": 83,
   "id": "411ecfd8-4c3a-4821-8c2c-990d4e61939d",
   "metadata": {},
   "outputs": [
    {
     "data": {
      "text/plain": [
       "['apple', 'blueberry', 'cherry']"
      ]
     },
     "execution_count": 83,
     "metadata": {},
     "output_type": "execute_result"
    }
   ],
   "source": [
    "tuple_a = (\"apple\", \"banana\", \"cherry\")\n",
    "a = list(tuple_a)\n",
    "a[1]=\"blueberry\"\n",
    "a"
   ]
  },
  {
   "cell_type": "code",
   "execution_count": 84,
   "id": "f5607916-b70e-4502-b4ff-06ff87ac2672",
   "metadata": {},
   "outputs": [
    {
     "data": {
      "text/plain": [
       "{5, 10, 15}"
      ]
     },
     "execution_count": 84,
     "metadata": {},
     "output_type": "execute_result"
    }
   ],
   "source": [
    "a = 5\n",
    "b = 10\n",
    "c = 15\n",
    "tuple_a= {a,b,c,}\n",
    "tuple_a"
   ]
  },
  {
   "cell_type": "code",
   "execution_count": 88,
   "id": "f9780e1b-612e-4e6e-90e5-0892612cf3c0",
   "metadata": {},
   "outputs": [
    {
     "data": {
      "text/plain": [
       "111"
      ]
     },
     "execution_count": 88,
     "metadata": {},
     "output_type": "execute_result"
    }
   ],
   "source": [
    "numbers = (92, 89, 72, 31, 71, 33, 19)\n",
    "m = list(numbers)\n",
    "mm = sorted(m)\n",
    "mm[0]+mm[-1]"
   ]
  },
  {
   "cell_type": "code",
   "execution_count": 103,
   "id": "cfa0b629-894d-4108-8044-5eb487df581b",
   "metadata": {},
   "outputs": [
    {
     "name": "stdout",
     "output_type": "stream",
     "text": [
      "키: name, 값: Alice\n",
      "키: age, 값: 24\n",
      "키: major, 값: Computer Science\n"
     ]
    }
   ],
   "source": [
    "name: \"Alice\"\n",
    "age: 24\n",
    "major: \"Computer Science\"\n",
    "student = {\"name\": \"Alice\", \"age\": 24, \"major\":\"Computer Science\"}\n",
    "\n",
    "for k, v in student.items():\n",
    "    print(f\"키: {k}, 값: {v}\")"
   ]
  },
  {
   "cell_type": "code",
   "execution_count": 99,
   "id": "194951ff-aeef-4e8e-aeae-21c13743b235",
   "metadata": {},
   "outputs": [
    {
     "data": {
      "text/plain": [
       "{'name': 'Alice', 'age': 26, 'major': 'Computer Science'}"
      ]
     },
     "execution_count": 99,
     "metadata": {},
     "output_type": "execute_result"
    }
   ],
   "source": [
    "student['age'] = 26\n",
    "student"
   ]
  },
  {
   "cell_type": "code",
   "execution_count": 106,
   "id": "8c229076-8566-45c4-a371-04b1f65f1a92",
   "metadata": {},
   "outputs": [
    {
     "name": "stdout",
     "output_type": "stream",
     "text": [
      "['Alice', 'Bob', 'Charlie']\n",
      "(24, 22, 23)\n"
     ]
    }
   ],
   "source": [
    "students = {\n",
    "    \"student1\": {\"name\": \"Alice\", \"age\": 24},\n",
    "    \"student2\": {\"name\": \"Bob\", \"age\": 22},\n",
    "    \"student3\": {\"name\": \"Charlie\", \"age\": 23}\n",
    "}\n",
    "name_list = []\n",
    "age_tuple = ()\n",
    "\n",
    "for i in range(len(students)):\n",
    "    abc=\"student\" + str(i+1)\n",
    "    name_list.append(students[abc][\"name\"])\n",
    "    age_tuple += (students[abc][\"age\"],)\n",
    "\n",
    "\n",
    "print(name_list)\n",
    "print(age_tuple)"
   ]
  },
  {
   "cell_type": "code",
   "execution_count": 112,
   "id": "8dbda92f-8e24-4fee-a40c-63c35184b07c",
   "metadata": {},
   "outputs": [
    {
     "ename": "TypeError",
     "evalue": "'builtin_function_or_method' object is not iterable",
     "output_type": "error",
     "traceback": [
      "\u001b[31m---------------------------------------------------------------------------\u001b[39m",
      "\u001b[31mTypeError\u001b[39m                                 Traceback (most recent call last)",
      "\u001b[36mCell\u001b[39m\u001b[36m \u001b[39m\u001b[32mIn[112]\u001b[39m\u001b[32m, line 10\u001b[39m\n\u001b[32m      2\u001b[39m age_list = []\n\u001b[32m      4\u001b[39m students = {\n\u001b[32m      5\u001b[39m     \u001b[33m\"\u001b[39m\u001b[33mstudent1\u001b[39m\u001b[33m\"\u001b[39m: {\u001b[33m\"\u001b[39m\u001b[33mname\u001b[39m\u001b[33m\"\u001b[39m: \u001b[33m\"\u001b[39m\u001b[33mAlice\u001b[39m\u001b[33m\"\u001b[39m, \u001b[33m\"\u001b[39m\u001b[33mage\u001b[39m\u001b[33m\"\u001b[39m: \u001b[32m24\u001b[39m},\n\u001b[32m      6\u001b[39m     \u001b[33m\"\u001b[39m\u001b[33mstudent2\u001b[39m\u001b[33m\"\u001b[39m: {\u001b[33m\"\u001b[39m\u001b[33mname\u001b[39m\u001b[33m\"\u001b[39m: \u001b[33m\"\u001b[39m\u001b[33mBob\u001b[39m\u001b[33m\"\u001b[39m, \u001b[33m\"\u001b[39m\u001b[33mage\u001b[39m\u001b[33m\"\u001b[39m: \u001b[32m22\u001b[39m},\n\u001b[32m      7\u001b[39m     \u001b[33m\"\u001b[39m\u001b[33mstudent3\u001b[39m\u001b[33m\"\u001b[39m: {\u001b[33m\"\u001b[39m\u001b[33mname\u001b[39m\u001b[33m\"\u001b[39m: \u001b[33m\"\u001b[39m\u001b[33mCharlie\u001b[39m\u001b[33m\"\u001b[39m, \u001b[33m\"\u001b[39m\u001b[33mage\u001b[39m\u001b[33m\"\u001b[39m: \u001b[32m23\u001b[39m}\n\u001b[32m      8\u001b[39m }\n\u001b[32m---> \u001b[39m\u001b[32m10\u001b[39m \u001b[38;5;28;01mfor\u001b[39;00m key \u001b[38;5;129;01min\u001b[39;00m students.keys:\n\u001b[32m     11\u001b[39m     sk = students[key]\n\u001b[32m     12\u001b[39m     name_list.append(sk[\u001b[33m\"\u001b[39m\u001b[33mname\u001b[39m\u001b[33m\"\u001b[39m])\n",
      "\u001b[31mTypeError\u001b[39m: 'builtin_function_or_method' object is not iterable"
     ]
    }
   ],
   "source": [
    "name_list = []\n",
    "age_list = []\n",
    "\n",
    "students = {\n",
    "    \"student1\": {\"name\": \"Alice\", \"age\": 24},\n",
    "    \"student2\": {\"name\": \"Bob\", \"age\": 22},\n",
    "    \"student3\": {\"name\": \"Charlie\", \"age\": 23}\n",
    "}\n",
    "\n",
    "for key in students.keys:\n",
    "    sk = students[key]\n",
    "    name_list.append(sk[\"name\"])\n",
    "    age_list.append(sk['age'])\n",
    "\n",
    "age_tuple=tuple(age_list )\n",
    "name_list  \n",
    "age_tuple"
   ]
  },
  {
   "cell_type": "code",
   "execution_count": null,
   "id": "ecd158b6-23dc-41c8-8c70-c8c0275f91c9",
   "metadata": {},
   "outputs": [],
   "source": []
  },
  {
   "cell_type": "code",
   "execution_count": null,
   "id": "6987fc3c-2d38-439f-8563-980ed271ece0",
   "metadata": {},
   "outputs": [],
   "source": []
  },
  {
   "cell_type": "code",
   "execution_count": null,
   "id": "f67963be-32c7-420f-a98e-6cb4cf9aa7c3",
   "metadata": {},
   "outputs": [],
   "source": []
  }
 ],
 "metadata": {
  "kernelspec": {
   "display_name": "Python 3 (ipykernel)",
   "language": "python",
   "name": "python3"
  },
  "language_info": {
   "codemirror_mode": {
    "name": "ipython",
    "version": 3
   },
   "file_extension": ".py",
   "mimetype": "text/x-python",
   "name": "python",
   "nbconvert_exporter": "python",
   "pygments_lexer": "ipython3",
   "version": "3.12.9"
  }
 },
 "nbformat": 4,
 "nbformat_minor": 5
}
