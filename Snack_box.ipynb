{
 "cells": [
  {
   "cell_type": "code",
   "execution_count": 2,
   "id": "ad0a0bdf-259e-496d-80ae-9ae593eafc42",
   "metadata": {
    "collapsed": true,
    "jupyter": {
     "outputs_hidden": true,
     "source_hidden": true
    }
   },
   "outputs": [
    {
     "name": "stdin",
     "output_type": "stream",
     "text": [
      "먹고 싶은 간식을 추가하세요 단, 쉼표로 연결 콜라,사이다\n"
     ]
    },
    {
     "name": "stdout",
     "output_type": "stream",
     "text": [
      "['초코파이', '홈런볼', '하리보', '콜라', '사이다']\n"
     ]
    },
    {
     "name": "stdin",
     "output_type": "stream",
     "text": [
      "간식박스 몇 세트로 포장할까요? 예 2-> 2box 1\n"
     ]
    },
    {
     "name": "stdout",
     "output_type": "stream",
     "text": [
      "['초코파이', '홈런볼', '하리보', '콜라', '사이다']\n",
      "주문하신 간식상자는 초코파이홈런볼하리보입니다\n"
     ]
    },
    {
     "name": "stdin",
     "output_type": "stream",
     "text": [
      "혹시 빼고 싶은 간식잇으면 번호 입력 (0~5) 0\n",
      "찾고싶은 간식 이름 입력:  홈런볼\n"
     ]
    },
    {
     "name": "stdout",
     "output_type": "stream",
     "text": [
      "있어요\n",
      "주문하신 간식상자는 뒤에서부터 다음과 같습니다\n",
      "['사이다', '콜라', '하리보', '홈런볼'], 총 4개 입니다\n"
     ]
    }
   ],
   "source": [
    "snack_box = ['초코파이', '홈런볼', '하리보']\n",
    "plus = input('먹고 싶은 간식을 추가하세요 단, 쉼표로 연결').split(',')\n",
    "snack_box += plus\n",
    "print(snack_box)\n",
    "\n",
    "qty=int(input('간식박스 몇 세트로 포장할까요? 예 2-> 2box'))\n",
    "snack_box *= qty\n",
    "print(snack_box)\n",
    "\n",
    "print(f'주문하신 간식상자는 {snack_box[0]}{snack_box[1]}{snack_box[2]}입니다')\n",
    "\n",
    "msg = f'혹시 빼고 싶은 간식잇으면 번호 입력 (0~{len(snack_box)})'\n",
    "snum=int(input (msg))\n",
    "del snack_box[snum]\n",
    "\n",
    "sd = input('찾고싶은 간식 이름 입력: ')\n",
    "if sd in snack_box:\n",
    "    print('있어요')\n",
    "else:\n",
    "    print('없어요')\n",
    "\n",
    "print('주문하신 간식상자는 뒤에서부터 다음과 같습니다')\n",
    "print(f'{str(snack_box[::-1])}, 총 {len(snack_box)}개 입니다')"
   ]
  },
  {
   "cell_type": "markdown",
   "id": "11a263a8-6faf-4952-887a-434ec7f1c5d3",
   "metadata": {
    "jp-MarkdownHeadingCollapsed": true
   },
   "source": [
    "# 관리프로그램 crud 처리\n",
    "1. 간식박스 생성\n",
    "2. 간식세트 포장\n",
    "3. 간식박스 미리보기\n",
    "4. 간식삭제\n",
    "5. 간식찾기\n",
    "6. 간식박스 전체보기"
   ]
  },
  {
   "cell_type": "markdown",
   "id": "1e9665d0-2e91-48e8-9e99-17be3c5a5c28",
   "metadata": {},
   "source": [
    "1. 함수 도출\n",
    "2. 함수 세분화\n",
    "3. 문제점찾기"
   ]
  },
  {
   "cell_type": "code",
   "execution_count": null,
   "id": "c75f9466-7296-44d6-af0a-690ed4b50399",
   "metadata": {},
   "outputs": [],
   "source": [
    "#간식박스 생성\n",
    "def make_sb():\n",
    "    snack_box=[]\n",
    "    new_snack = input('먹고싶은 간식 입력:').split(',')\n",
    "    snack_box+=new_snack\n",
    "    return snack_box"
   ]
  },
  {
   "cell_type": "code",
   "execution_count": null,
   "id": "41bf357c-31dd-4187-bc1b-b9b564758568",
   "metadata": {},
   "outputs": [],
   "source": [
    "#간식박스 전체보기\n",
    "def display_sb(snack_box):\n",
    "    print(f'{snack_box[::-1]}, 총 {len(snack_box)}개 입니다')"
   ]
  },
  {
   "cell_type": "code",
   "execution_count": null,
   "id": "64b5824c-0bc7-45be-820e-ae93c504235c",
   "metadata": {},
   "outputs": [],
   "source": [
    "# 간식세트 포장\n",
    "def multi_sb(snack_box):\n",
    "    qty = int(input('간식박스 몇세트로 포장?'))\n",
    "    return snack_box * qty\n",
    "    "
   ]
  },
  {
   "cell_type": "code",
   "execution_count": null,
   "id": "216f0555-04d5-4ab6-89c3-80cb3d1d415e",
   "metadata": {},
   "outputs": [],
   "source": [
    "#미리보기\n",
    "def preview_sb(box):\n",
    "    preview = ','.join(box[:3])\n",
    "    return"
   ]
  },
  {
   "cell_type": "code",
   "execution_count": null,
   "id": "02dca386-2dec-441c-8ffd-6b159223f617",
   "metadata": {},
   "outputs": [],
   "source": [
    "#간식삭제\n",
    "def remove_sb(box):\n",
    "    msg = f'혹시 빼고 싶은 간식잇으면 번호 입력 (0~{len(box)})'\n",
    "    snum=int(input (msg))\n",
    "    del box[snum]\n",
    "    return box\n"
   ]
  },
  {
   "cell_type": "code",
   "execution_count": null,
   "id": "35c38b49-9b31-4ef2-8678-9f4b4eab464f",
   "metadata": {},
   "outputs": [],
   "source": [
    "# 간식찾기\n",
    "def search_sb(box):\n",
    "    sd = input('찾고싶은 간식 이름 입력: ')\n",
    "    if sd in box:\n",
    "        print('있어요')\n",
    "    else:\n",
    "        print('없어요')"
   ]
  },
  {
   "cell_type": "code",
   "execution_count": null,
   "id": "7c3f56d2-d982-4614-be75-c8c136f669c0",
   "metadata": {},
   "outputs": [],
   "source": [
    "# 간식 요약\n",
    "def summarize_sb(box):\n",
    "    summary={}\n",
    "    for s in box:\n",
    "        summary[s]=summary.get(s,0)+1\n",
    "\n",
    "    print('간식박스 정리')\n",
    "    for s, qty in summary.items():\n",
    "        print(f'{s} : {qty}개 ')\n",
    "    return"
   ]
  },
  {
   "cell_type": "code",
   "execution_count": 5,
   "id": "543ebe2e-2784-473d-842d-b6f15be84e09",
   "metadata": {},
   "outputs": [
    {
     "name": "stdin",
     "output_type": "stream",
     "text": [
      "먹고싶은 간식 입력: 초코, 젤리, 사탕, 바나나\n"
     ]
    },
    {
     "name": "stdout",
     "output_type": "stream",
     "text": [
      "\n",
      "[' 바나나', ' 사탕', ' 젤리', '초코'], 총 4개 입니다\n"
     ]
    },
    {
     "name": "stdin",
     "output_type": "stream",
     "text": [
      "혹시 빼고 싶은 간식잇으면 번호 입력 (1~4) 4\n"
     ]
    },
    {
     "name": "stdout",
     "output_type": "stream",
     "text": [
      "[' 사탕', ' 젤리', '초코'], 총 3개 입니다\n"
     ]
    },
    {
     "name": "stdin",
     "output_type": "stream",
     "text": [
      "간식박스 몇세트로 포장? 3\n"
     ]
    },
    {
     "name": "stdout",
     "output_type": "stream",
     "text": [
      "[' 사탕', ' 젤리', '초코', ' 사탕', ' 젤리', '초코', ' 사탕', ' 젤리', '초코'], 총 9개 입니다\n"
     ]
    },
    {
     "name": "stdin",
     "output_type": "stream",
     "text": [
      "찾고싶은 간식 이름 입력:  바나나\n"
     ]
    },
    {
     "name": "stdout",
     "output_type": "stream",
     "text": [
      "없어요\n",
      "간식박스 정리\n",
      "초코 : 3개 \n",
      " 젤리 : 3개 \n",
      " 사탕 : 3개 \n"
     ]
    }
   ],
   "source": [
    "def make_sb():\n",
    "    snack_box=[]\n",
    "    new_snack = input('먹고싶은 간식 입력:').split(',')\n",
    "    snack_box+=new_snack\n",
    "    return snack_box\n",
    "\n",
    "def display_sb(snack_box):\n",
    "    print(f'{snack_box[::-1]}, 총 {len(snack_box)}개 입니다')\n",
    "    return snack_box\n",
    "\n",
    "def multi_sb(snack_box):\n",
    "    qty = int(input('간식박스 몇세트로 포장?'))\n",
    "    return snack_box * qty\n",
    "\n",
    "def preview_sb(box):\n",
    "    print(f'주문하신 간식상자는 {box[0]}, {box[1]}, {box[2]}입니다')\n",
    "    return\n",
    "\n",
    "def remove_sb(box):\n",
    "    msg = input(f'혹시 빼고 싶은 간식잇으면 번호 입력 (1~{len(box)})')\n",
    "    snum=int(msg)-1\n",
    "    del box[snum]\n",
    "    return box\n",
    "\n",
    "def search_sb(box):\n",
    "    sd = input('찾고싶은 간식 이름 입력: ')\n",
    "    if sd in box:\n",
    "        print('있어요')\n",
    "    else:\n",
    "        print('없어요')\n",
    "        \n",
    "def summarize_sb(box):\n",
    "    summary={}\n",
    "    for s in box:\n",
    "        summary[s]=summary.get(s,0)+1\n",
    "\n",
    "    print('간식박스 정리')\n",
    "    for s, qty in summary.items():\n",
    "        print(f'{s} : {qty}개 ')\n",
    "    return\n",
    "    \n",
    "box = make_sb()\n",
    "print('')\n",
    "display_sb(box)\n",
    "remove_sb(box)\n",
    "display_sb(box)\n",
    "box = multi_sb(box)\n",
    "display_sb(box)\n",
    "search_sb(box)\n",
    "summarize_sb(box)"
   ]
  },
  {
   "cell_type": "markdown",
   "id": "4ed4ac65-65df-4e92-b7a5-1a97d13c6df6",
   "metadata": {},
   "source": [
    "# 메뉴 형식으로 구조를 개편"
   ]
  },
  {
   "cell_type": "markdown",
   "id": "d8b8dd18-eda1-4f12-8574-1600a3660345",
   "metadata": {},
   "source": [
    "# 선택과 반복"
   ]
  },
  {
   "cell_type": "code",
   "execution_count": null,
   "id": "43494fde-f98c-4981-ad5a-1e3d412aad2f",
   "metadata": {},
   "outputs": [],
   "source": [
    "# 기본함수 정의"
   ]
  },
  {
   "cell_type": "code",
   "execution_count": 5,
   "id": "e8136439-1281-46f4-9f3e-3fb7a3c1beb5",
   "metadata": {},
   "outputs": [
    {
     "name": "stdin",
     "output_type": "stream",
     "text": [
      "원하는 간식 입력 초코,바나나,딸기\n"
     ]
    },
    {
     "name": "stdout",
     "output_type": "stream",
     "text": [
      "\n",
      "['딸기', '바나나', '초코'], 총 3개 입니다\n",
      "['딸기', '바나나', '초코'], 총 3개 중에서\n"
     ]
    },
    {
     "name": "stdin",
     "output_type": "stream",
     "text": [
      "혹시 빼고 싶은 간식잇으면 번호 입력 (1~3) 1\n"
     ]
    },
    {
     "name": "stdout",
     "output_type": "stream",
     "text": [
      "['딸기', '바나나'], 총 2개 입니다\n"
     ]
    },
    {
     "name": "stdin",
     "output_type": "stream",
     "text": [
      "원하는 세트량 입력 7\n"
     ]
    },
    {
     "name": "stdout",
     "output_type": "stream",
     "text": [
      "입력값을 확인하세요\n"
     ]
    },
    {
     "name": "stdin",
     "output_type": "stream",
     "text": [
      "원하는 세트량 입력 ㅇ\n"
     ]
    },
    {
     "name": "stdout",
     "output_type": "stream",
     "text": [
      "숫자로 입력\n"
     ]
    },
    {
     "name": "stdin",
     "output_type": "stream",
     "text": [
      "원하는 세트량 입력 2\n"
     ]
    },
    {
     "name": "stdout",
     "output_type": "stream",
     "text": [
      "['딸기', '바나나', '딸기', '바나나'], 총 4개 입니다\n"
     ]
    },
    {
     "name": "stdin",
     "output_type": "stream",
     "text": [
      "찾고싶은 간식 이름 입력:  초코\n"
     ]
    },
    {
     "name": "stdout",
     "output_type": "stream",
     "text": [
      "없어요\n",
      "간식박스 정리\n",
      "바나나 : 2개 \n",
      "딸기 : 2개 \n",
      "간식박스 관리 프로그램 메뉴\n",
      "1. 간식박스 생성\n",
      "2. 간식세트 생성\n",
      "3. 간식세트 미리보기\n",
      "4. 간식삭제\n",
      "5. 간식검색\n",
      "6. 간식요약\n",
      "7. 최종확인\n",
      "그 외 아무키나 누르시면 끝\n"
     ]
    },
    {
     "name": "stdin",
     "output_type": "stream",
     "text": [
      "원하는 메뉴 번호 입력: 8\n"
     ]
    }
   ],
   "source": [
    "msg = '원하는 간식 입력'\n",
    "def get_valid_input(msg):\n",
    "    user_input = input(msg).strip()\n",
    "    if not user_input:\n",
    "        print('입력값을 확인하세요')\n",
    "        return None\n",
    "    return user_input\n",
    "    \n",
    "def get_valid_num(num,min_no=1,max_no=5):\n",
    "    while True:\n",
    "        try:\n",
    "            number = int(input(num))\n",
    "            if number < min_no:\n",
    "                print('입력값을 확인하세요')\n",
    "                continue\n",
    "            elif number > max_no:\n",
    "                print('입력값을 확인하세요')\n",
    "                continue\n",
    "            else:\n",
    "                return number\n",
    "        except ValueError:\n",
    "            print('숫자로 입력')\n",
    "            continue\n",
    "        \n",
    "def make_sb():\n",
    "    snack_box=[]\n",
    "    msg = '원하는 간식 입력'\n",
    "    new_snack = get_valid_input(msg).split(',')\n",
    "    snack_box+=new_snack\n",
    "    return snack_box\n",
    "\n",
    "def display_sb(snack_box):\n",
    "    print(f'{snack_box[::-1]}, 총 {len(snack_box)}개 입니다')\n",
    "    return\n",
    "\n",
    "def multi_sb(snack_box):\n",
    "    num = '원하는 세트량 입력'\n",
    "    qty = get_valid_num(num,1,5)\n",
    "    return snack_box * qty\n",
    "\n",
    "def preview_sb(box):\n",
    "    print(f'주문하신 간식상자는 {box[0]}, {box[1]}, {box[2]}입니다')\n",
    "    return\n",
    "\n",
    "def remove_sb(box):\n",
    "    print(f'{box[::-1]}, 총 {len(box)}개 중에서')\n",
    "    msg = input(f'혹시 빼고 싶은 간식잇으면 번호 입력 (1~{len(box)})')\n",
    "    snum=int(msg)-1\n",
    "    del box[snum]\n",
    "    display_sb(box)\n",
    "    return box\n",
    "\n",
    "def search_sb(box):\n",
    "    sd = input('찾고싶은 간식 이름 입력: ')\n",
    "    if sd in box:\n",
    "        print('있어요')\n",
    "    else:\n",
    "        print('없어요')\n",
    "        \n",
    "def summarize_sb(box):\n",
    "    summary={}\n",
    "    for s in box:\n",
    "        summary[s]=summary.get(s,0)+1\n",
    "\n",
    "    print('간식박스 정리')\n",
    "    for s, qty in summary.items():\n",
    "        print(f'{s} : {qty}개 ')\n",
    "    return\n",
    "\n",
    "def run_menu():\n",
    "    snack_box=[]\n",
    "    while True:\n",
    "        print('간식박스 관리 프로그램 메뉴')\n",
    "        print('1. 간식박스 생성')\n",
    "        print('2. 간식세트 생성')\n",
    "        print('3. 간식세트 미리보기')\n",
    "        print('4. 간식삭제')\n",
    "        print('5. 간식검색')\n",
    "        print('6. 간식요약')\n",
    "        print('7. 최종확인')\n",
    "        print('그 외 아무키나 누르시면 끝')\n",
    "\n",
    "        choice = input('원하는 메뉴 번호 입력:')\n",
    "        \n",
    "        if choice == '1':\n",
    "            snack_box = make_sb()\n",
    "        elif choice == '2':\n",
    "            snack_box = multi_sb(box)\n",
    "        elif choice == '3':\n",
    "            snack_box = preview_sb(box)\n",
    "        elif choice == '4':\n",
    "            snack_box = remove_sb(box)\n",
    "        elif choice == '5':\n",
    "            snack_box = search_sb(box)\n",
    "        elif choice == '6':\n",
    "            snack_box = summarize_sb(box)\n",
    "        elif choice == '7':\n",
    "            snack_box = display_sb(box)\n",
    "        else :\n",
    "            break\n",
    "        \n",
    "####################################################\n",
    "\n",
    "box = make_sb()\n",
    "print('')\n",
    "display_sb(box)\n",
    "remove_sb(box)\n",
    "box = multi_sb(box)\n",
    "display_sb(box)\n",
    "search_sb(box)\n",
    "summarize_sb(box)\n",
    "run_menu()"
   ]
  },
  {
   "cell_type": "code",
   "execution_count": 6,
   "id": "baf67480-8ea0-4019-b4f5-c2978b4185c5",
   "metadata": {},
   "outputs": [
    {
     "name": "stdout",
     "output_type": "stream",
     "text": [
      "간식박스 관리 프로그램 메뉴\n",
      "1. 간식박스 생성\n",
      "2. 간식세트 생성\n",
      "3. 간식세트 미리보기\n",
      "4. 간식삭제\n",
      "5. 간식검색\n",
      "6. 간식요약\n",
      "7. 최종확인\n",
      "그 외 아무키나 누르시면 끝\n"
     ]
    },
    {
     "name": "stdin",
     "output_type": "stream",
     "text": [
      "원하는 메뉴 번호 입력: 1\n",
      "원하는 간식 입력 초코, 바나나\n"
     ]
    },
    {
     "name": "stdout",
     "output_type": "stream",
     "text": [
      "간식박스 관리 프로그램 메뉴\n",
      "1. 간식박스 생성\n",
      "2. 간식세트 생성\n",
      "3. 간식세트 미리보기\n",
      "4. 간식삭제\n",
      "5. 간식검색\n",
      "6. 간식요약\n",
      "7. 최종확인\n",
      "그 외 아무키나 누르시면 끝\n"
     ]
    },
    {
     "name": "stdin",
     "output_type": "stream",
     "text": [
      "원하는 메뉴 번호 입력: 2\n",
      "원하는 세트량 입력 7\n"
     ]
    },
    {
     "name": "stdout",
     "output_type": "stream",
     "text": [
      "입력값을 확인하세요\n"
     ]
    },
    {
     "name": "stdin",
     "output_type": "stream",
     "text": [
      "원하는 세트량 입력 3\n"
     ]
    },
    {
     "name": "stdout",
     "output_type": "stream",
     "text": [
      "간식박스 관리 프로그램 메뉴\n",
      "1. 간식박스 생성\n",
      "2. 간식세트 생성\n",
      "3. 간식세트 미리보기\n",
      "4. 간식삭제\n",
      "5. 간식검색\n",
      "6. 간식요약\n",
      "7. 최종확인\n",
      "그 외 아무키나 누르시면 끝\n"
     ]
    },
    {
     "name": "stdin",
     "output_type": "stream",
     "text": [
      "원하는 메뉴 번호 입력: 3\n"
     ]
    },
    {
     "name": "stdout",
     "output_type": "stream",
     "text": [
      "주문하신 간식상자는 바나나, 딸기, 바나나입니다\n",
      "간식박스 관리 프로그램 메뉴\n",
      "1. 간식박스 생성\n",
      "2. 간식세트 생성\n",
      "3. 간식세트 미리보기\n",
      "4. 간식삭제\n",
      "5. 간식검색\n",
      "6. 간식요약\n",
      "7. 최종확인\n",
      "그 외 아무키나 누르시면 끝\n"
     ]
    },
    {
     "name": "stdin",
     "output_type": "stream",
     "text": [
      "원하는 메뉴 번호 입력: 4\n"
     ]
    },
    {
     "name": "stdout",
     "output_type": "stream",
     "text": [
      "['딸기', '바나나', '딸기', '바나나'], 총 4개 중에서\n"
     ]
    },
    {
     "name": "stdin",
     "output_type": "stream",
     "text": [
      "혹시 빼고 싶은 간식잇으면 번호 입력 (1~4) 3\n"
     ]
    },
    {
     "name": "stdout",
     "output_type": "stream",
     "text": [
      "['딸기', '딸기', '바나나'], 총 3개 입니다\n",
      "간식박스 관리 프로그램 메뉴\n",
      "1. 간식박스 생성\n",
      "2. 간식세트 생성\n",
      "3. 간식세트 미리보기\n",
      "4. 간식삭제\n",
      "5. 간식검색\n",
      "6. 간식요약\n",
      "7. 최종확인\n",
      "그 외 아무키나 누르시면 끝\n"
     ]
    },
    {
     "name": "stdin",
     "output_type": "stream",
     "text": [
      "원하는 메뉴 번호 입력: 6\n"
     ]
    },
    {
     "name": "stdout",
     "output_type": "stream",
     "text": [
      "간식박스 정리\n",
      "바나나 : 1개 \n",
      "딸기 : 2개 \n",
      "간식박스 관리 프로그램 메뉴\n",
      "1. 간식박스 생성\n",
      "2. 간식세트 생성\n",
      "3. 간식세트 미리보기\n",
      "4. 간식삭제\n",
      "5. 간식검색\n",
      "6. 간식요약\n",
      "7. 최종확인\n",
      "그 외 아무키나 누르시면 끝\n"
     ]
    },
    {
     "name": "stdin",
     "output_type": "stream",
     "text": [
      "원하는 메뉴 번호 입력: 7\n"
     ]
    },
    {
     "name": "stdout",
     "output_type": "stream",
     "text": [
      "['딸기', '딸기', '바나나'], 총 3개 입니다\n",
      "간식박스 관리 프로그램 메뉴\n",
      "1. 간식박스 생성\n",
      "2. 간식세트 생성\n",
      "3. 간식세트 미리보기\n",
      "4. 간식삭제\n",
      "5. 간식검색\n",
      "6. 간식요약\n",
      "7. 최종확인\n",
      "그 외 아무키나 누르시면 끝\n"
     ]
    },
    {
     "name": "stdin",
     "output_type": "stream",
     "text": [
      "원하는 메뉴 번호 입력: 8\n"
     ]
    }
   ],
   "source": [
    "msg = '원하는 간식 입력'\n",
    "def get_valid_input(msg):\n",
    "    user_input = input(msg).strip()\n",
    "    if not user_input:\n",
    "        print('입력값을 확인하세요')\n",
    "        return None\n",
    "    return user_input\n",
    "    \n",
    "def get_valid_num(num,min_no=1,max_no=5):\n",
    "    while True:\n",
    "        try:\n",
    "            number = int(input(num))\n",
    "            if number < min_no:\n",
    "                print('입력값을 확인하세요')\n",
    "                continue\n",
    "            elif number > max_no:\n",
    "                print('입력값을 확인하세요')\n",
    "                continue\n",
    "            else:\n",
    "                return number\n",
    "        except ValueError:\n",
    "            print('숫자로 입력')\n",
    "            continue\n",
    "        \n",
    "def make_sb():\n",
    "    snack_box=[]\n",
    "    msg = '원하는 간식 입력'\n",
    "    new_snack = get_valid_input(msg).split(',')\n",
    "    snack_box+=new_snack\n",
    "    return snack_box\n",
    "\n",
    "def display_sb(snack_box):\n",
    "    print(f'{snack_box[::-1]}, 총 {len(snack_box)}개 입니다')\n",
    "    return\n",
    "\n",
    "def multi_sb(snack_box):\n",
    "    num = '원하는 세트량 입력'\n",
    "    qty = get_valid_num(num,1,5)\n",
    "    return snack_box * qty\n",
    "\n",
    "def preview_sb(box):\n",
    "    print(f'주문하신 간식상자는 {box[0]}, {box[1]}, {box[2]}입니다')\n",
    "    return\n",
    "\n",
    "def remove_sb(box):\n",
    "    print(f'{box[::-1]}, 총 {len(box)}개 중에서')\n",
    "    msg = input(f'혹시 빼고 싶은 간식잇으면 번호 입력 (1~{len(box)})')\n",
    "    snum=int(msg)-1\n",
    "    del box[snum]\n",
    "    display_sb(box)\n",
    "    return box\n",
    "\n",
    "def search_sb(box):\n",
    "    sd = input('찾고싶은 간식 이름 입력: ')\n",
    "    if sd in box:\n",
    "        print('있어요')\n",
    "    else:\n",
    "        print('없어요')\n",
    "        \n",
    "def summarize_sb(box):\n",
    "    summary={}\n",
    "    for s in box:\n",
    "        summary[s]=summary.get(s,0)+1\n",
    "\n",
    "    print('간식박스 정리')\n",
    "    for s, qty in summary.items():\n",
    "        print(f'{s} : {qty}개 ')\n",
    "    return\n",
    "\n",
    "def run_menu():\n",
    "    snack_box=[]\n",
    "    while True:\n",
    "        print('간식박스 관리 프로그램 메뉴')\n",
    "        print('1. 간식박스 생성')\n",
    "        print('2. 간식세트 생성')\n",
    "        print('3. 간식세트 미리보기')\n",
    "        print('4. 간식삭제')\n",
    "        print('5. 간식검색')\n",
    "        print('6. 간식요약')\n",
    "        print('7. 최종확인')\n",
    "        print('그 외 아무키나 누르시면 끝')\n",
    "\n",
    "        choice = input('원하는 메뉴 번호 입력:')\n",
    "        \n",
    "        if choice == '1':\n",
    "            snack_box = make_sb()\n",
    "        elif choice == '2':\n",
    "            snack_box = multi_sb(box)\n",
    "        elif choice == '3':\n",
    "            snack_box = preview_sb(box)\n",
    "        elif choice == '4':\n",
    "            snack_box = remove_sb(box)\n",
    "        elif choice == '5':\n",
    "            snack_box = search_sb(box)\n",
    "        elif choice == '6':\n",
    "            snack_box = summarize_sb(box)\n",
    "        elif choice == '7':\n",
    "            snack_box = display_sb(box)\n",
    "        else :\n",
    "            break\n",
    "\n",
    "run_menu()"
   ]
  },
  {
   "cell_type": "code",
   "execution_count": null,
   "id": "8f9d7ec1-24a7-4709-9f99-99e57517dd81",
   "metadata": {
    "jupyter": {
     "source_hidden": true
    }
   },
   "outputs": [],
   "source": [
    "# 공통 유틸리티 함수\n",
    "\n",
    "def get valid_input(msg):\n",
    "    user_input = input(msg).strip()\n",
    "    if not user_input:\n",
    "        print('입력값을 확인하세요')\n",
    "        return None\n",
    "    return user_input\n",
    "\n",
    "def get_valid_num(num,min_no=1,max_no=5):\n",
    "    try:\n",
    "        number = int(input(num))\n",
    "        if number < min_no:\n",
    "            print('입력값을 확인하세요')\n",
    "            return None\n",
    "        elif number > max_no:\n",
    "            print('입력값을 확인하세요')\n",
    "            return None\n",
    "        else:\n",
    "            return number\n",
    "    except ValueError:\n",
    "        print('숫자로 입력')\n",
    "        return None"
   ]
  }
 ],
 "metadata": {
  "kernelspec": {
   "display_name": "Python 3 (ipykernel)",
   "language": "python",
   "name": "python3"
  },
  "language_info": {
   "codemirror_mode": {
    "name": "ipython",
    "version": 3
   },
   "file_extension": ".py",
   "mimetype": "text/x-python",
   "name": "python",
   "nbconvert_exporter": "python",
   "pygments_lexer": "ipython3",
   "version": "3.12.9"
  }
 },
 "nbformat": 4,
 "nbformat_minor": 5
}
