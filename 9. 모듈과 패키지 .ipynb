{
 "cells": [
  {
   "cell_type": "markdown",
   "id": "3035ac50-ee74-4f56-9de9-a7625435ecf3",
   "metadata": {
    "jp-MarkdownHeadingCollapsed": true
   },
   "source": [
    "# 모듈화\n",
    "모듈은 파이썬 파일이다. 확장자가 .py이여야 한다"
   ]
  },
  {
   "cell_type": "code",
   "execution_count": 2,
   "id": "addfae25-b94e-4845-9261-fba29bcefe3c",
   "metadata": {},
   "outputs": [
    {
     "name": "stdout",
     "output_type": "stream",
     "text": [
      "hello\n",
      "2nd hello\n"
     ]
    }
   ],
   "source": [
    "import first\n",
    "\n",
    "first.my_func()\n",
    "first.my_func1()"
   ]
  },
  {
   "cell_type": "code",
   "execution_count": 5,
   "id": "445ea8ef-b9cb-43a1-bbe3-edd6b8772e45",
   "metadata": {},
   "outputs": [
    {
     "name": "stdout",
     "output_type": "stream",
     "text": [
      "3nd hello\n"
     ]
    }
   ],
   "source": [
    "import first as fr\n",
    "fr.my_func2()"
   ]
  },
  {
   "cell_type": "code",
   "execution_count": 2,
   "id": "0a6b43fe-a773-4bed-81e0-01e2e1c9f7a7",
   "metadata": {},
   "outputs": [
    {
     "name": "stdout",
     "output_type": "stream",
     "text": [
      "hello\n"
     ]
    }
   ],
   "source": [
    "import first\n",
    "first.my_func()"
   ]
  },
  {
   "cell_type": "code",
   "execution_count": 2,
   "id": "3209d302-8f15-4e65-82aa-ca9d708ca3b8",
   "metadata": {},
   "outputs": [
    {
     "data": {
      "text/plain": [
       "['__annotations__',\n",
       " '__builtins__',\n",
       " '__call__',\n",
       " '__class__',\n",
       " '__closure__',\n",
       " '__code__',\n",
       " '__defaults__',\n",
       " '__delattr__',\n",
       " '__dict__',\n",
       " '__dir__',\n",
       " '__doc__',\n",
       " '__eq__',\n",
       " '__format__',\n",
       " '__ge__',\n",
       " '__get__',\n",
       " '__getattribute__',\n",
       " '__getstate__',\n",
       " '__globals__',\n",
       " '__gt__',\n",
       " '__hash__',\n",
       " '__init__',\n",
       " '__init_subclass__',\n",
       " '__kwdefaults__',\n",
       " '__le__',\n",
       " '__lt__',\n",
       " '__module__',\n",
       " '__name__',\n",
       " '__ne__',\n",
       " '__new__',\n",
       " '__qualname__',\n",
       " '__reduce__',\n",
       " '__reduce_ex__',\n",
       " '__repr__',\n",
       " '__setattr__',\n",
       " '__sizeof__',\n",
       " '__str__',\n",
       " '__subclasshook__',\n",
       " '__type_params__']"
      ]
     },
     "execution_count": 2,
     "metadata": {},
     "output_type": "execute_result"
    }
   ],
   "source": [
    "import first\n",
    "dir(first.my_func)"
   ]
  },
  {
   "cell_type": "code",
   "execution_count": 1,
   "id": "b6182f40-f2f2-4052-af1f-2d6e6dc3858c",
   "metadata": {},
   "outputs": [
    {
     "ename": "ModuleNotFoundError",
     "evalue": "No module named 'my_first_pack.second'",
     "output_type": "error",
     "traceback": [
      "\u001b[31m---------------------------------------------------------------------------\u001b[39m",
      "\u001b[31mModuleNotFoundError\u001b[39m                       Traceback (most recent call last)",
      "\u001b[36mCell\u001b[39m\u001b[36m \u001b[39m\u001b[32mIn[1]\u001b[39m\u001b[32m, line 1\u001b[39m\n\u001b[32m----> \u001b[39m\u001b[32m1\u001b[39m \u001b[38;5;28;01mimport\u001b[39;00m\u001b[38;5;250m \u001b[39m\u001b[34;01mmy_first_pack\u001b[39;00m\u001b[34;01m.\u001b[39;00m\u001b[34;01msecond\u001b[39;00m\u001b[34;01m.\u001b[39;00m\u001b[34;01mpy\u001b[39;00m\n",
      "\u001b[31mModuleNotFoundError\u001b[39m: No module named 'my_first_pack.second'"
     ]
    }
   ],
   "source": [
    "import my_first_pack.second.py"
   ]
  },
  {
   "cell_type": "markdown",
   "id": "401ef895-3f41-4052-a446-771063594dfb",
   "metadata": {
    "jp-MarkdownHeadingCollapsed": true
   },
   "source": [
    "# 모듈의 실행 vs 모듈의 import 구분\n",
    "\n",
    "- 모듈 단독 실행 시에만 호출되는 코드<br>\n",
    "if __name__=='main':<br>\n",
    "    실행함수\n",
    "\n",
    "    else:<br>\n",
    "        변수설정\n",
    "\n",
    "- import 할 때는 실행되지 않는다"
   ]
  },
  {
   "cell_type": "markdown",
   "id": "6a4d218e-8d34-40c1-b878-ca7c815a7f88",
   "metadata": {
    "jp-MarkdownHeadingCollapsed": true
   },
   "source": [
    "# 패키지: 모듈의 묶음\n",
    "윈도우, 리눅스: 디렉터리/폴더\n",
    "\n",
    "import 폴더명, 모듈명\n",
    "import my_first_pack.second"
   ]
  },
  {
   "cell_type": "code",
   "execution_count": 2,
   "id": "90470e87-97d8-4228-8884-30ad847663ca",
   "metadata": {},
   "outputs": [
    {
     "name": "stdout",
     "output_type": "stream",
     "text": [
      "하이 first module입니다\n",
      "바이 first module입니다\n"
     ]
    }
   ],
   "source": [
    "import my_first_pack.second"
   ]
  },
  {
   "cell_type": "code",
   "execution_count": 1,
   "id": "ab4968a2-7369-49a8-b6df-5e2f800beff6",
   "metadata": {},
   "outputs": [
    {
     "name": "stderr",
     "output_type": "stream",
     "text": [
      "UsageError: %%writefile is a cell magic, but the cell body is empty.\n"
     ]
    }
   ],
   "source": [
    "%%writefile my_first_pack.magic_calc.basic_ops.py"
   ]
  },
  {
   "cell_type": "code",
   "execution_count": null,
   "id": "900b064d-f25f-4574-9b07-57f8264235e2",
   "metadata": {},
   "outputs": [],
   "source": []
  },
  {
   "cell_type": "code",
   "execution_count": null,
   "id": "c58a3bf8-08e4-41fb-a8e8-ecad0a1d0087",
   "metadata": {},
   "outputs": [],
   "source": []
  },
  {
   "cell_type": "code",
   "execution_count": null,
   "id": "e519cbd8-473f-4882-9856-db8e6d11a045",
   "metadata": {},
   "outputs": [],
   "source": []
  },
  {
   "cell_type": "code",
   "execution_count": null,
   "id": "619cb74b-e0c5-4ea5-a6e8-6b9d5b5bcb57",
   "metadata": {},
   "outputs": [],
   "source": []
  },
  {
   "cell_type": "code",
   "execution_count": null,
   "id": "ff1a6d33-26fb-4e56-b670-a8a60bd9c349",
   "metadata": {},
   "outputs": [],
   "source": []
  }
 ],
 "metadata": {
  "kernelspec": {
   "display_name": "Python 3 (ipykernel)",
   "language": "python",
   "name": "python3"
  },
  "language_info": {
   "codemirror_mode": {
    "name": "ipython",
    "version": 3
   },
   "file_extension": ".py",
   "mimetype": "text/x-python",
   "name": "python",
   "nbconvert_exporter": "python",
   "pygments_lexer": "ipython3",
   "version": "3.12.9"
  }
 },
 "nbformat": 4,
 "nbformat_minor": 5
}
