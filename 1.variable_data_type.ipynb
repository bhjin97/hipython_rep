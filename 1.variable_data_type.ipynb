{
 "cells": [
  {
   "cell_type": "code",
   "execution_count": 1,
   "id": "b721ad4f-ab43-4897-a03d-91c2e6076384",
   "metadata": {},
   "outputs": [
    {
     "name": "stdout",
     "output_type": "stream",
     "text": [
      "7\n"
     ]
    }
   ],
   "source": [
    "def calculate_sum(a, b):\n",
    "    result = a + b   \n",
    "    return result     \n",
    "print (calculate_sum(3,4))"
   ]
  },
  {
   "cell_type": "code",
   "execution_count": 2,
   "id": "124b01d3-3140-4c43-aba2-7dbffe277abe",
   "metadata": {},
   "outputs": [
    {
     "name": "stdin",
     "output_type": "stream",
     "text": [
      "두 수를 입력하세요(공백으로 구분):  4 5\n"
     ]
    },
    {
     "name": "stdout",
     "output_type": "stream",
     "text": [
      "두 수의 합: 9\n"
     ]
    }
   ],
   "source": [
    "# 여러 값 입력받기\n",
    "x, y = input(\"두 수를 입력하세요(공백으로 구분): \").split()\n",
    "x = int(x)\n",
    "y = int(y)\n",
    "print(\"두 수의 합:\", x + y)"
   ]
  },
  {
   "cell_type": "markdown",
   "id": "d90338b0-80bf-4ee3-a261-4b8a9a0905a6",
   "metadata": {},
   "source": [
    "# 들어가기: 주석"
   ]
  },
  {
   "cell_type": "markdown",
   "id": "80457bfa-f555-47f8-8c9a-2fbf0994dbdc",
   "metadata": {},
   "source": [
    "# 표준 입력과 표준 출력"
   ]
  },
  {
   "cell_type": "code",
   "execution_count": 3,
   "id": "a0731fbd-1e0d-4cc4-b13d-1b21f2781d64",
   "metadata": {},
   "outputs": [
    {
     "data": {
      "text/plain": [
       "10"
      ]
     },
     "execution_count": 3,
     "metadata": {},
     "output_type": "execute_result"
    }
   ],
   "source": [
    "12345\n",
    "10\n",
    "# ipython 라이브러리의 기본기능\n",
    "# print(12345) 표준출력기능을 내장하고 있다"
   ]
  },
  {
   "cell_type": "code",
   "execution_count": 4,
   "id": "a787fa24-187e-4c0f-92e9-2dacd0b6ecd0",
   "metadata": {},
   "outputs": [
    {
     "name": "stdout",
     "output_type": "stream",
     "text": [
      "12345\n"
     ]
    },
    {
     "data": {
      "text/plain": [
       "10"
      ]
     },
     "execution_count": 4,
     "metadata": {},
     "output_type": "execute_result"
    }
   ],
   "source": [
    "print(12345)\n",
    "10"
   ]
  },
  {
   "cell_type": "code",
   "execution_count": 5,
   "id": "524f5795-2a5f-4fee-83d6-4714932bf4f2",
   "metadata": {},
   "outputs": [
    {
     "data": {
      "text/plain": [
       "'12345'"
      ]
     },
     "execution_count": 5,
     "metadata": {},
     "output_type": "execute_result"
    }
   ],
   "source": [
    "'12345' #문자열\n"
   ]
  },
  {
   "cell_type": "code",
   "execution_count": 6,
   "id": "6c3a5efd-fa98-486a-b56a-f9e554748229",
   "metadata": {},
   "outputs": [
    {
     "data": {
      "text/plain": [
       "str"
      ]
     },
     "execution_count": 6,
     "metadata": {},
     "output_type": "execute_result"
    }
   ],
   "source": [
    "type('12345')"
   ]
  },
  {
   "cell_type": "code",
   "execution_count": 1,
   "id": "0c556f7b-fd85-4414-9288-864caf427ce9",
   "metadata": {},
   "outputs": [
    {
     "data": {
      "text/plain": [
       "int"
      ]
     },
     "execution_count": 1,
     "metadata": {},
     "output_type": "execute_result"
    }
   ],
   "source": [
    "type(12345)"
   ]
  },
  {
   "cell_type": "code",
   "execution_count": 2,
   "id": "74b0fa0d-943e-4a2f-8b33-bd481c9d0c2b",
   "metadata": {},
   "outputs": [
    {
     "data": {
      "text/plain": [
       "str"
      ]
     },
     "execution_count": 2,
     "metadata": {},
     "output_type": "execute_result"
    }
   ],
   "source": [
    "type(\"12345\")"
   ]
  },
  {
   "cell_type": "code",
   "execution_count": 4,
   "id": "55a8ac9a-cd08-4d92-be98-71a941fec678",
   "metadata": {},
   "outputs": [
    {
     "name": "stdin",
     "output_type": "stream",
     "text": [
      "이름을 입력하세요:  배형진\n"
     ]
    },
    {
     "data": {
      "text/plain": [
       "'배형진'"
      ]
     },
     "execution_count": 4,
     "metadata": {},
     "output_type": "execute_result"
    }
   ],
   "source": [
    "input(\"이름을 입력하세요: \")"
   ]
  },
  {
   "cell_type": "code",
   "execution_count": 5,
   "id": "9be8cd85-2b89-4310-a34b-f5a2de7911e7",
   "metadata": {},
   "outputs": [
    {
     "name": "stdin",
     "output_type": "stream",
     "text": [
      "나이를 입력하세요:  29\n"
     ]
    },
    {
     "data": {
      "text/plain": [
       "'29'"
      ]
     },
     "execution_count": 5,
     "metadata": {},
     "output_type": "execute_result"
    }
   ],
   "source": [
    "input(\"나이를 입력하세요: \")"
   ]
  },
  {
   "cell_type": "code",
   "execution_count": 6,
   "id": "8e80fb92-701d-4a84-837c-c14d536fcb81",
   "metadata": {},
   "outputs": [
    {
     "name": "stdin",
     "output_type": "stream",
     "text": [
      "나이를 입력하세요:  29\n"
     ]
    },
    {
     "data": {
      "text/plain": [
       "29"
      ]
     },
     "execution_count": 6,
     "metadata": {},
     "output_type": "execute_result"
    }
   ],
   "source": [
    "age = int(input(\"나이를 입력하세요: \"))\n",
    "age"
   ]
  },
  {
   "cell_type": "code",
   "execution_count": 7,
   "id": "962f3c7a-ccd6-4f07-833b-a13654085969",
   "metadata": {},
   "outputs": [
    {
     "data": {
      "text/plain": [
       "29"
      ]
     },
     "execution_count": 7,
     "metadata": {},
     "output_type": "execute_result"
    }
   ],
   "source": [
    "age"
   ]
  },
  {
   "cell_type": "code",
   "execution_count": 8,
   "id": "d8ac45c0-1f62-4423-8abb-691965af264e",
   "metadata": {},
   "outputs": [
    {
     "name": "stdin",
     "output_type": "stream",
     "text": [
      "이름을 입력하세요:  배형진\n"
     ]
    }
   ],
   "source": [
    "name = input(\"이름을 입력하세요: \")"
   ]
  },
  {
   "cell_type": "code",
   "execution_count": 9,
   "id": "dc95105c-85fd-4a44-bf91-5241b4640fa3",
   "metadata": {},
   "outputs": [
    {
     "data": {
      "text/plain": [
       "'배형진'"
      ]
     },
     "execution_count": 9,
     "metadata": {},
     "output_type": "execute_result"
    }
   ],
   "source": [
    "name\n"
   ]
  },
  {
   "cell_type": "code",
   "execution_count": 1,
   "id": "8b13a294-f571-4bd4-afc8-27345a839524",
   "metadata": {},
   "outputs": [
    {
     "name": "stdin",
     "output_type": "stream",
     "text": [
      "나이 입력 29\n"
     ]
    },
    {
     "data": {
      "text/plain": [
       "'29'"
      ]
     },
     "execution_count": 1,
     "metadata": {},
     "output_type": "execute_result"
    }
   ],
   "source": [
    "age = input('나이 입력')\n",
    "age"
   ]
  },
  {
   "cell_type": "code",
   "execution_count": 3,
   "id": "55cfaba9-e143-47cc-b468-8ddc17f19c00",
   "metadata": {},
   "outputs": [
    {
     "data": {
      "text/plain": [
       "'29'"
      ]
     },
     "execution_count": 3,
     "metadata": {},
     "output_type": "execute_result"
    }
   ],
   "source": [
    "age\n"
   ]
  },
  {
   "cell_type": "code",
   "execution_count": 4,
   "id": "8b4e9ccc-6e97-4151-97ac-319b181114b5",
   "metadata": {},
   "outputs": [
    {
     "name": "stdin",
     "output_type": "stream",
     "text": [
      " 배형진\n"
     ]
    },
    {
     "data": {
      "text/plain": [
       "'배형진'"
      ]
     },
     "execution_count": 4,
     "metadata": {},
     "output_type": "execute_result"
    }
   ],
   "source": [
    "name = input('')\n",
    "name"
   ]
  },
  {
   "cell_type": "code",
   "execution_count": 2,
   "id": "954f1366-3bc0-45dc-861e-738b8721fbe5",
   "metadata": {},
   "outputs": [
    {
     "data": {
      "text/plain": [
       "29"
      ]
     },
     "execution_count": 2,
     "metadata": {},
     "output_type": "execute_result"
    }
   ],
   "source": [
    "age"
   ]
  },
  {
   "cell_type": "code",
   "execution_count": 4,
   "id": "635fd328-878c-4229-96d2-365b682a2810",
   "metadata": {},
   "outputs": [
    {
     "data": {
      "text/plain": [
       "39"
      ]
     },
     "execution_count": 4,
     "metadata": {},
     "output_type": "execute_result"
    }
   ],
   "source": [
    "age = int(age)\n",
    "age + 10"
   ]
  },
  {
   "cell_type": "code",
   "execution_count": 6,
   "id": "eb65a6c4-2cd4-45aa-a43b-aafbb6a5334b",
   "metadata": {},
   "outputs": [
    {
     "name": "stdin",
     "output_type": "stream",
     "text": [
      "이름입력:  배형진\n",
      "나이입력:  29\n"
     ]
    },
    {
     "name": "stdout",
     "output_type": "stream",
     "text": [
      "나는 '+name+'이고 나이는 '+age+'입니다\n"
     ]
    }
   ],
   "source": [
    "name = input(\"이름입력: \")\n",
    "age = input(\"나이입력: \")\n",
    "print(\"나는 ' +name+ '이고 나이는 ' +age+ '입니다\")"
   ]
  },
  {
   "cell_type": "code",
   "execution_count": null,
   "id": "37bee32d-c9a3-409f-8c7e-6129594b3616",
   "metadata": {},
   "outputs": [],
   "source": []
  },
  {
   "cell_type": "markdown",
   "id": "e916e8ef-3fdf-4827-9da7-ff3354cb996f",
   "metadata": {},
   "source": [
    "# 연습"
   ]
  },
  {
   "cell_type": "code",
   "execution_count": null,
   "id": "00e9f5a4-edd3-4dcc-822c-baf130f8be49",
   "metadata": {},
   "outputs": [],
   "source": [
    "# 자기 이름으로 삼행시 짓기\n",
    "print(\"배:배 위에서\")\n",
    "print(\"형:형이랑 같이\")\n",
    "print(\"진:진라면 먹는다\")"
   ]
  },
  {
   "cell_type": "code",
   "execution_count": 4,
   "id": "092318ed-346d-411d-86d1-3612a0c388a1",
   "metadata": {},
   "outputs": [
    {
     "name": "stdin",
     "output_type": "stream",
     "text": [
      "배:  가나나\n",
      "형:  ㅇㄴ미ㅏㄹ\n",
      "진:  ㅁㄹㅇㄴㄴ\n"
     ]
    },
    {
     "name": "stdout",
     "output_type": "stream",
     "text": [
      "가나나\n",
      " ㅇㄴ미ㅏㄹ\n",
      " ㅁㄹㅇㄴㄴ\n"
     ]
    }
   ],
   "source": [
    "a = input(\"배: \")\n",
    "b = input(\"형: \")\n",
    "c = input(\"진: \")\n",
    "print(a,b,c, sep='\\n ')"
   ]
  },
  {
   "cell_type": "code",
   "execution_count": 8,
   "id": "4d375902-677b-41d7-b42b-d6833fb86fa2",
   "metadata": {},
   "outputs": [
    {
     "name": "stdout",
     "output_type": "stream",
     "text": [
      "가나나\n",
      " ㅇㄴ미ㅏㄹ\n",
      " ㅁㄹㅇㄴㄴ\n"
     ]
    }
   ],
   "source": [
    "삼행시 = a +'\\n '+ b +'\\n '+ c\n",
    "print(삼행시)"
   ]
  },
  {
   "cell_type": "code",
   "execution_count": null,
   "id": "0fce101f-4632-47e7-b3e5-e743d2b9698f",
   "metadata": {},
   "outputs": [],
   "source": []
  },
  {
   "cell_type": "code",
   "execution_count": null,
   "id": "0f7636c1-e474-463c-a8ff-f8284d11762c",
   "metadata": {},
   "outputs": [],
   "source": []
  },
  {
   "cell_type": "markdown",
   "id": "d037d367-28ab-48cb-b28f-ec8496da9a00",
   "metadata": {},
   "source": [
    "# 변수"
   ]
  },
  {
   "cell_type": "markdown",
   "id": "faeaae3b-18bb-4c4b-8187-35666822ecb6",
   "metadata": {},
   "source": [
    "변수는 type safe: 변수를 선언할 때 타입을 지정하지 않아도 되는 특성      \n",
    "변수명 = 값\n",
    "\n",
    "## 변수의 명령 규칙\n",
    "1. 문자, 숫자, 언더바를 가지고 만든다\n",
    "2. 숫자로 시작하면 안된다\n",
    "3. 대소문자를 구분한다\n",
    "4. 다른 특수기호, 공백, 예약어(def, 초록색언어) 쓸 수 없다\n"
   ]
  },
  {
   "cell_type": "code",
   "execution_count": 10,
   "id": "80b49c89-fe38-4941-bf2e-7ab921593c5a",
   "metadata": {},
   "outputs": [
    {
     "data": {
      "text/plain": [
       "(10, 'hello', 3.141592)"
      ]
     },
     "execution_count": 10,
     "metadata": {},
     "output_type": "execute_result"
    }
   ],
   "source": [
    "x = 10\n",
    "y = 'hello'\n",
    "z = 3.141592\n",
    "x,y,z"
   ]
  },
  {
   "cell_type": "code",
   "execution_count": 11,
   "id": "eeca4f48-4b86-4732-be64-280e86f1fb0c",
   "metadata": {},
   "outputs": [
    {
     "data": {
      "text/plain": [
       "(int, str, float)"
      ]
     },
     "execution_count": 11,
     "metadata": {},
     "output_type": "execute_result"
    }
   ],
   "source": [
    "type(x), type(y), type(z)"
   ]
  },
  {
   "cell_type": "code",
   "execution_count": 13,
   "id": "91f9fe65-7d30-4d2d-95a9-90fec70cebe6",
   "metadata": {},
   "outputs": [
    {
     "data": {
      "text/plain": [
       "(10, 20, 30)"
      ]
     },
     "execution_count": 13,
     "metadata": {},
     "output_type": "execute_result"
    }
   ],
   "source": [
    "a,b,c = 10,20,30\n",
    "a,b,c"
   ]
  },
  {
   "cell_type": "code",
   "execution_count": 14,
   "id": "dc0e4afb-02ab-4baa-a758-a78cb79859ce",
   "metadata": {},
   "outputs": [],
   "source": [
    "a=10; b=20; c=30;"
   ]
  },
  {
   "cell_type": "code",
   "execution_count": 15,
   "id": "b4445dc2-fcc4-4ffe-badc-7ef0bb19e261",
   "metadata": {},
   "outputs": [
    {
     "data": {
      "text/plain": [
       "(40, 40, 40)"
      ]
     },
     "execution_count": 15,
     "metadata": {},
     "output_type": "execute_result"
    }
   ],
   "source": [
    "a=b=c=40\n",
    "a,b,c"
   ]
  },
  {
   "cell_type": "code",
   "execution_count": 2,
   "id": "fd221e61-3f6a-4ac8-9145-af73eb224ecb",
   "metadata": {},
   "outputs": [
    {
     "data": {
      "text/plain": [
       "(True, None)"
      ]
     },
     "execution_count": 2,
     "metadata": {},
     "output_type": "execute_result"
    }
   ],
   "source": [
    "d = True #bool형\n",
    "e = None #타입이 없음 넌타입\n",
    "d,e"
   ]
  },
  {
   "cell_type": "code",
   "execution_count": 6,
   "id": "2b4c9a3e-4bcf-475d-8283-5f9b84dfee1f",
   "metadata": {},
   "outputs": [
    {
     "name": "stdout",
     "output_type": "stream",
     "text": [
      "30 20\n"
     ]
    },
    {
     "data": {
      "text/plain": [
       "(140709423230296, 140709423229976)"
      ]
     },
     "execution_count": 6,
     "metadata": {},
     "output_type": "execute_result"
    }
   ],
   "source": [
    "a = 1000\n",
    "print(a,b)\n",
    "id(a),id(b)"
   ]
  },
  {
   "cell_type": "code",
   "execution_count": 7,
   "id": "d9fa814e-1130-4f89-a731-4747d65bd5eb",
   "metadata": {},
   "outputs": [
    {
     "name": "stdout",
     "output_type": "stream",
     "text": [
      "2704427972688 2704427972688\n"
     ]
    }
   ],
   "source": [
    "a = 1000\n",
    "b = a\n",
    "\n",
    "print(id(a), id(b)) "
   ]
  },
  {
   "cell_type": "code",
   "execution_count": 8,
   "id": "2664f54c-b6a9-4990-8f6a-1931052ffd5f",
   "metadata": {},
   "outputs": [
    {
     "name": "stdout",
     "output_type": "stream",
     "text": [
      "2704427974032 2704427974032\n"
     ]
    }
   ],
   "source": [
    "a = 1255\n",
    "b = a\n",
    "\n",
    "print(id(a), id(b)) "
   ]
  },
  {
   "cell_type": "code",
   "execution_count": 9,
   "id": "ab1af9e3-75ec-4205-a5d9-3937e7ea84fa",
   "metadata": {},
   "outputs": [
    {
     "name": "stdout",
     "output_type": "stream",
     "text": [
      "2704419914240 2704429037952\n"
     ]
    }
   ],
   "source": [
    "import copy\n",
    "a = [30]\n",
    "b = copy.deepcopy(a)\n",
    "\n",
    "print(id(a), id(b))"
   ]
  },
  {
   "cell_type": "code",
   "execution_count": null,
   "id": "f36e499c-bb39-45a0-b285-af86c31f110b",
   "metadata": {},
   "outputs": [],
   "source": [
    "# 의미를 부여하기 어렵다 > 수식이 아닌 경우는 사용하지 않음\n",
    "x = 100\n",
    "y = 100\n",
    "\n",
    "# 의미있는 변수명\n",
    "age = 20\n",
    "name = \"이름\"\n",
    "user_name = 'Alic'\n",
    "admin_name = \"Bob\"\n",
    "\n",
    "#대문자 upper_case 상수에 사용\n",
    "PI = 3.14\n",
    "MAX_CONNECTION = \n",
    "MIN_VALUE = 0"
   ]
  },
  {
   "cell_type": "markdown",
   "id": "0f5c50e4-d90b-4a95-b523-f7cc47d824c4",
   "metadata": {},
   "source": [
    "## name-space\n",
    "\n",
    "변수가 최초로 정의된 영역에 따라 유효범위가 결정됩니다\n",
    "\n",
    "-지역변수 : 함수 영역 내에서 선언한 변수\n",
    "-전역변수 : 함수 영역 밖에서 선언한 변수, global키워드\n",
    "-정적변수 : "
   ]
  },
  {
   "cell_type": "code",
   "execution_count": 11,
   "id": "d5cc5031-92ad-4924-8abc-446fbf71221a",
   "metadata": {},
   "outputs": [
    {
     "name": "stdout",
     "output_type": "stream",
     "text": [
      "여기는 함수의 영역입니다 100\n"
     ]
    }
   ],
   "source": [
    "# 지역변수\n",
    "def local_example():\n",
    "    local_var = 100 # local_var은 함수내에서만 정의되어 있음\n",
    "    print('여기는 함수의 영역입니다', local_var)\n",
    "\n",
    "local_example()\n"
   ]
  },
  {
   "cell_type": "code",
   "execution_count": 23,
   "id": "1fc7806d-c090-40e2-b9c9-cc31741c86f3",
   "metadata": {},
   "outputs": [
    {
     "name": "stdout",
     "output_type": "stream",
     "text": [
      "나는 전역이다\n"
     ]
    },
    {
     "ename": "NameError",
     "evalue": "name 'local_var' is not defined",
     "output_type": "error",
     "traceback": [
      "\u001b[31m---------------------------------------------------------------------------\u001b[39m",
      "\u001b[31mNameError\u001b[39m                                 Traceback (most recent call last)",
      "\u001b[36mCell\u001b[39m\u001b[36m \u001b[39m\u001b[32mIn[23]\u001b[39m\u001b[32m, line 7\u001b[39m\n\u001b[32m      5\u001b[39m     global_var=\u001b[33m'\u001b[39m\u001b[33m나는 전역이다\u001b[39m\u001b[33m'\u001b[39m\n\u001b[32m      6\u001b[39m     \u001b[38;5;28mprint\u001b[39m(\u001b[33m'\u001b[39m\u001b[33mglobal_var\u001b[39m\u001b[33m'\u001b[39m)\n\u001b[32m----> \u001b[39m\u001b[32m7\u001b[39m \u001b[38;5;28mprint\u001b[39m(local_var, global_var)\n",
      "\u001b[31mNameError\u001b[39m: name 'local_var' is not defined"
     ]
    }
   ],
   "source": [
    "# 전역변수\n",
    "cc\n",
    "c\n",
    "def global_example():\n",
    "    global_var='나는 전역이다'\n",
    "    print('global_var')\n",
    "print(local_var, global_var)\n"
   ]
  },
  {
   "cell_type": "code",
   "execution_count": 22,
   "id": "f8410c74-c01e-4ccb-a29a-d21bf81a2f14",
   "metadata": {},
   "outputs": [
    {
     "name": "stdout",
     "output_type": "stream",
     "text": [
      "100 나는 전역이다\n"
     ]
    }
   ],
   "source": [
    "def global_example():\n",
    "    local_var='100'\n",
    "    print(local_var, global_var)\n",
    "global_example()\n"
   ]
  },
  {
   "cell_type": "code",
   "execution_count": 25,
   "id": "9a62a990-7b5b-4cce-9744-99997a273eef",
   "metadata": {},
   "outputs": [
    {
     "name": "stdout",
     "output_type": "stream",
     "text": [
      "테스트\n",
      "100\n"
     ]
    },
    {
     "data": {
      "text/plain": [
       "'테스트'"
      ]
     },
     "execution_count": 25,
     "metadata": {},
     "output_type": "execute_result"
    }
   ],
   "source": [
    "var_test='테스트'\n",
    "print(var_test)\n",
    "\n",
    "def global_example():\n",
    "    var_test='100'\n",
    "    print(var_test)\n",
    "global_example()\n",
    "\n",
    "var_test\n",
    "# 만약 var_test를 함수 안으로가져오고 싶으면 global을 사용"
   ]
  },
  {
   "cell_type": "code",
   "execution_count": null,
   "id": "a685ecd0-8d99-4905-9a35-56cb6e41b607",
   "metadata": {},
   "outputs": [],
   "source": [
    "var_test='테스트'\n",
    "print(var_test)\n",
    "\n",
    "def global_example():\n",
    "    global var_test # 만약 var_test를 함수 안으로가져오고 싶으면 global을 사용\n",
    "    var_test='100' # 다만 함수 내에서는 로컬이 우선이므로 로컬에 값이 지정되어 있으면 로컬값나옴\n",
    "    print(var_test)\n",
    "global_example()\n",
    "\n",
    "var_test"
   ]
  },
  {
   "cell_type": "code",
   "execution_count": 30,
   "id": "18c4a05f-9344-48cc-8b0c-831b8e5d28b8",
   "metadata": {},
   "outputs": [
    {
     "name": "stdout",
     "output_type": "stream",
     "text": [
      "카운터 :  3\n"
     ]
    }
   ],
   "source": [
    "# 변수영역 연습\n",
    "\n",
    "counter = 0 #global\n",
    "\n",
    "def increment_counter():\n",
    "    global counter\n",
    "    counter += 3\n",
    "    print('카운터 : ', counter)\n",
    "increment_counter()\n"
   ]
  },
  {
   "cell_type": "code",
   "execution_count": 31,
   "id": "0222202d-d766-4a57-a8d9-f918b4b27b74",
   "metadata": {},
   "outputs": [
    {
     "name": "stdout",
     "output_type": "stream",
     "text": [
      "카운터 :  1\n",
      "카운터 :  2\n",
      "카운터 :  3\n"
     ]
    }
   ],
   "source": [
    "# 변수영역 연습\n",
    "\n",
    "counter = 0 #global\n",
    "\n",
    "def increment_counter():\n",
    "    global counter\n",
    "    counter += 1\n",
    "    print('카운터 : ', counter)\n",
    "increment_counter()\n",
    "increment_counter()\n",
    "increment_counter()"
   ]
  },
  {
   "cell_type": "code",
   "execution_count": 33,
   "id": "9d7ec1ab-e81c-4a12-9898-7a3e9014f188",
   "metadata": {},
   "outputs": [
    {
     "name": "stdout",
     "output_type": "stream",
     "text": [
      "카운터 :  1\n",
      "카운터 :  2\n",
      "카운터 :  3\n"
     ]
    }
   ],
   "source": [
    "# 변수영역 연습\n",
    "\n",
    "counter = 0 #global\n",
    "\n",
    "def increment_counter():\n",
    "    global counter\n",
    "    counter += 1\n",
    "    print('카운터 : ', counter)\n",
    "\n",
    "while True:\n",
    "    increment_counter()\n",
    "    if counter == 3:\n",
    "            break"
   ]
  },
  {
   "cell_type": "markdown",
   "id": "b8f9e4b0-0c11-413d-9ff2-5c0982a30e43",
   "metadata": {},
   "source": [
    "# 교재 변수연습"
   ]
  },
  {
   "cell_type": "code",
   "execution_count": 34,
   "id": "4eaee0a5-4ede-45df-b0f8-cf405889f068",
   "metadata": {},
   "outputs": [
    {
     "data": {
      "text/plain": [
       "0"
      ]
     },
     "execution_count": 34,
     "metadata": {},
     "output_type": "execute_result"
    }
   ],
   "source": [
    "a = 123\n",
    "a=-179\n",
    "a=0\n",
    "a"
   ]
  },
  {
   "cell_type": "code",
   "execution_count": 35,
   "id": "38d8296a-3a04-47c3-9323-b44b17f250e5",
   "metadata": {},
   "outputs": [
    {
     "data": {
      "text/plain": [
       "2704428982784"
      ]
     },
     "execution_count": 35,
     "metadata": {},
     "output_type": "execute_result"
    }
   ],
   "source": [
    "a = [1, 2, 3]\n",
    ">>> id(a)\n"
   ]
  },
  {
   "cell_type": "code",
   "execution_count": 37,
   "id": "7c530fd6-4347-46c2-b02b-3a797cc006e8",
   "metadata": {},
   "outputs": [
    {
     "data": {
      "text/plain": [
       "[4, 2, 3]"
      ]
     },
     "execution_count": 37,
     "metadata": {},
     "output_type": "execute_result"
    }
   ],
   "source": [
    "a=[1,2,3]\n",
    "b = a[:]\n",
    "a[0]=4\n",
    "a"
   ]
  },
  {
   "cell_type": "code",
   "execution_count": 38,
   "id": "03d08c82-54db-46d0-9362-527b94b57307",
   "metadata": {},
   "outputs": [
    {
     "data": {
      "text/plain": [
       "[1, 2, 3]"
      ]
     },
     "execution_count": 38,
     "metadata": {},
     "output_type": "execute_result"
    }
   ],
   "source": [
    "b\n"
   ]
  },
  {
   "cell_type": "code",
   "execution_count": 39,
   "id": "652fb016-bf76-4dd7-afa9-314d58959068",
   "metadata": {},
   "outputs": [
    {
     "name": "stdout",
     "output_type": "stream",
     "text": [
      "안녕하세요.\n",
      "만나서\t\t반갑습니다.\n"
     ]
    }
   ],
   "source": [
    "print(\"안녕하세요.\\n만나서\\t\\t반갑습니다.\")\n"
   ]
  },
  {
   "cell_type": "code",
   "execution_count": 41,
   "id": "70a3af55-a51c-4201-b578-823136ddd438",
   "metadata": {},
   "outputs": [
    {
     "name": "stdout",
     "output_type": "stream",
     "text": [
      "naver;kakao;sk;samsung\n"
     ]
    }
   ],
   "source": [
    "print(\"naver;kakao;sk;samsung\")\n"
   ]
  },
  {
   "cell_type": "code",
   "execution_count": 44,
   "id": "ef8fabcf-a31f-48d1-9095-c5203f54b559",
   "metadata": {},
   "outputs": [
    {
     "data": {
      "text/plain": [
       "1.6666666666666667"
      ]
     },
     "execution_count": 44,
     "metadata": {},
     "output_type": "execute_result"
    }
   ],
   "source": [
    "5/3\n"
   ]
  },
  {
   "cell_type": "code",
   "execution_count": 50,
   "id": "6d94e74f-5cce-4b43-b904-4fa15ec1a3c6",
   "metadata": {},
   "outputs": [
    {
     "name": "stdout",
     "output_type": "stream",
     "text": [
      "hello! python\n"
     ]
    }
   ],
   "source": [
    "s = \"hello\"\n",
    "t = \"python\"\n",
    "print(s+\"!\", t)\n",
    "\n"
   ]
  },
  {
   "cell_type": "markdown",
   "id": "e33469eb-2ab2-4d22-b151-87888284858f",
   "metadata": {},
   "source": [
    "# 자료형\n",
    "\n",
    "-기본자료형 : 숫자형, 문자열형, 부울형, str\n",
    "-복합자료형 : 리스트, 셋, 사전형, 튜플\n"
   ]
  },
  {
   "cell_type": "markdown",
   "id": "b9b97f5f-4522-4e66-9142-753673b6794d",
   "metadata": {},
   "source": [
    "## 🧠 파이썬 주요 자료형 요약\n",
    "\n",
    "| `type`       | 설명                        | 예시 코드                          |\n",
    "|--------------|-----------------------------|------------------------------------|\n",
    "| `int`        | 정수형 (소수점 없음)        | `a = 10`                           |\n",
    "| `float`      | 실수형 (소수점 있음)        | `b = 3.14`                         |\n",
    "| `str`        | 문자열                      | `name = \"Alice\"`                  |\n",
    "| `bool`       | 불리언 (참/거짓)            | `flag = True`                     |\n",
    "| `list`       | 리스트 (여러 값의 집합)     | `nums = [1, 2, 3]`                |\n",
    "| `tuple`      | 튜플 (변경 불가 리스트)     | `info = (1, \"A\", True)`           |\n",
    "| `dict`       | 딕셔너리 (키-값 쌍)         | `user = {\"id\": 1, \"name\": \"Tom\"}` |\n",
    "| `set`        | 집합 (중복 없는 값들의 모임) | `s = {1, 2, 3}`                   |\n",
    "| `NoneType`   | 값이 없음                   | `x = None`                        |\n"
   ]
  },
  {
   "cell_type": "markdown",
   "id": "dc178c8f-3fd4-4c80-be02-ed47375269ec",
   "metadata": {},
   "source": [
    "-수정이 불가능한 데이터 타입: 튜플, 수치형, 문자열, 부울\n",
    "\n",
    "-수정이 가능한 데이터타입: 리스트, 사전, 셋"
   ]
  },
  {
   "cell_type": "code",
   "execution_count": 52,
   "id": "d3b3dab7-bf1a-4db4-b3a1-6083d9359816",
   "metadata": {},
   "outputs": [
    {
     "data": {
      "text/plain": [
       "(20, int)"
      ]
     },
     "execution_count": 52,
     "metadata": {},
     "output_type": "execute_result"
    }
   ],
   "source": [
    "# 수치형 - int\n",
    "20, type(20)"
   ]
  },
  {
   "cell_type": "code",
   "execution_count": 53,
   "id": "cf6af12e-a164-4d08-8c37-75927b2d7b7a",
   "metadata": {},
   "outputs": [
    {
     "data": {
      "text/plain": [
       "int"
      ]
     },
     "execution_count": 53,
     "metadata": {},
     "output_type": "execute_result"
    }
   ],
   "source": [
    "age = 20\n",
    "type(age)"
   ]
  },
  {
   "cell_type": "markdown",
   "id": "406b5601-bdf5-4576-a768-15ac9366c7f1",
   "metadata": {},
   "source": [
    "1. 진법: 10진수, 2진수 등\n",
    "2. 입력하는 방법은 다르지만 프린트 결과는 동등"
   ]
  },
  {
   "cell_type": "code",
   "execution_count": 54,
   "id": "e5be46a5-54a7-46c2-a5f5-874575902453",
   "metadata": {},
   "outputs": [
    {
     "data": {
      "text/plain": [
       "(10, 5)"
      ]
     },
     "execution_count": 54,
     "metadata": {},
     "output_type": "execute_result"
    }
   ],
   "source": [
    "a = 10\n",
    "b = 0b0101 #2진수, b는 binary\n",
    "a,b"
   ]
  },
  {
   "cell_type": "code",
   "execution_count": 60,
   "id": "81c23d13-ca78-4135-8cc8-8ec7d9cfe9e0",
   "metadata": {},
   "outputs": [
    {
     "data": {
      "text/plain": [
       "8"
      ]
     },
     "execution_count": 60,
     "metadata": {},
     "output_type": "execute_result"
    }
   ],
   "source": [
    "c = 0o10 # o= octal/8진수\n",
    "c"
   ]
  },
  {
   "cell_type": "code",
   "execution_count": 63,
   "id": "f7497b66-a12f-4e1d-95c2-ec8f96ee9497",
   "metadata": {},
   "outputs": [
    {
     "data": {
      "text/plain": [
       "365"
      ]
     },
     "execution_count": 63,
     "metadata": {},
     "output_type": "execute_result"
    }
   ],
   "source": [
    "e = 0x16d # > 1*16^2 + 6*16^1 + 13*16^0, 참고로 d는 13을 의미  \n",
    "e\n",
    "# 숫자옆 노란점은 수정된 커널"
   ]
  },
  {
   "cell_type": "code",
   "execution_count": 64,
   "id": "fe4f5b1b-f9de-4328-aee3-fc152c25dc35",
   "metadata": {},
   "outputs": [
    {
     "data": {
      "text/plain": [
       "(3.14, float)"
      ]
     },
     "execution_count": 64,
     "metadata": {},
     "output_type": "execute_result"
    }
   ],
   "source": [
    "# float\n",
    "b = 3.14\n",
    "b, type(b)"
   ]
  },
  {
   "cell_type": "markdown",
   "id": "8b8d3229-6343-4d1c-bd56-59d462e55893",
   "metadata": {},
   "source": [
    "지수의 표기\n",
    "\n",
    "숫자e1 = 10^2 = 10**2 #e가 0뒤로 가는 횟수 표시\n",
    "숫자e-2 = 10^-2 = 10**-2"
   ]
  },
  {
   "cell_type": "code",
   "execution_count": 65,
   "id": "ded16d3b-7d7a-40c1-887e-61c0bd7d7727",
   "metadata": {},
   "outputs": [
    {
     "data": {
      "text/plain": [
       "100.0"
      ]
     },
     "execution_count": 65,
     "metadata": {},
     "output_type": "execute_result"
    }
   ],
   "source": [
    "10e1"
   ]
  },
  {
   "cell_type": "markdown",
   "id": "828167ae-3749-41e5-8d8b-a2aac3b14db0",
   "metadata": {},
   "source": [
    "BOOLEAN - True, False\n",
    "논리연산, 비교연산에서 사용"
   ]
  },
  {
   "cell_type": "code",
   "execution_count": 69,
   "id": "5fb9864e-4093-4f1b-9963-625807c1fc34",
   "metadata": {},
   "outputs": [
    {
     "ename": "NameError",
     "evalue": "name 'true' is not defined",
     "output_type": "error",
     "traceback": [
      "\u001b[31m---------------------------------------------------------------------------\u001b[39m",
      "\u001b[31mNameError\u001b[39m                                 Traceback (most recent call last)",
      "\u001b[36mCell\u001b[39m\u001b[36m \u001b[39m\u001b[32mIn[69]\u001b[39m\u001b[32m, line 2\u001b[39m\n\u001b[32m      1\u001b[39m ba = \u001b[38;5;28;01mTrue\u001b[39;00m\n\u001b[32m----> \u001b[39m\u001b[32m2\u001b[39m bb = true\n\u001b[32m      3\u001b[39m \u001b[38;5;28mtype\u001b[39m(ba), \u001b[38;5;28mtype\u001b[39m(bb)\n",
      "\u001b[31mNameError\u001b[39m: name 'true' is not defined"
     ]
    }
   ],
   "source": [
    "ba = True\n",
    "bb = true\n",
    "type(ba), type(bb)"
   ]
  },
  {
   "cell_type": "code",
   "execution_count": null,
   "id": "2e11e235-42f6-4805-a968-cce022bab04e",
   "metadata": {},
   "outputs": [],
   "source": [
    "# True == 1, False == 0"
   ]
  },
  {
   "cell_type": "code",
   "execution_count": 70,
   "id": "2ffc1447-7425-464a-9629-80b93ebe5112",
   "metadata": {},
   "outputs": [
    {
     "data": {
      "text/plain": [
       "1"
      ]
     },
     "execution_count": 70,
     "metadata": {},
     "output_type": "execute_result"
    }
   ],
   "source": [
    "#논리연산자 - and or not\n",
    "\n",
    "bc = 1\n",
    "ba and bc"
   ]
  },
  {
   "cell_type": "code",
   "execution_count": 72,
   "id": "e3bcf155-9ca7-4218-b6ec-29e44d1dc9a8",
   "metadata": {},
   "outputs": [
    {
     "data": {
      "text/plain": [
       "0.0"
      ]
     },
     "execution_count": 72,
     "metadata": {},
     "output_type": "execute_result"
    }
   ],
   "source": [
    "# 사픽연산 +/*- /, // %\n",
    "a = 2.0\n",
    "b = 3.0\n",
    "a//b #몫\n"
   ]
  },
  {
   "cell_type": "code",
   "execution_count": 73,
   "id": "45ec96ce-8bd6-4b96-9573-bb50cd3a80a3",
   "metadata": {},
   "outputs": [
    {
     "data": {
      "text/plain": [
       "2.0"
      ]
     },
     "execution_count": 73,
     "metadata": {},
     "output_type": "execute_result"
    }
   ],
   "source": [
    "a%b #나머지"
   ]
  },
  {
   "cell_type": "code",
   "execution_count": 74,
   "id": "ddd4a1b6-7857-4365-adb2-b581e04950c3",
   "metadata": {},
   "outputs": [
    {
     "data": {
      "text/plain": [
       "True"
      ]
     },
     "execution_count": 74,
     "metadata": {},
     "output_type": "execute_result"
    }
   ],
   "source": [
    "# 비교연산자\n",
    "1+2==3"
   ]
  },
  {
   "cell_type": "code",
   "execution_count": 75,
   "id": "8289c517-8c12-4193-9078-0b9cf3be75f5",
   "metadata": {},
   "outputs": [
    {
     "data": {
      "text/plain": [
       "True"
      ]
     },
     "execution_count": 75,
     "metadata": {},
     "output_type": "execute_result"
    }
   ],
   "source": [
    "1+3 <= 5"
   ]
  },
  {
   "cell_type": "code",
   "execution_count": 77,
   "id": "cec21116-efe4-47be-aefb-9ebd893bbfd4",
   "metadata": {},
   "outputs": [
    {
     "data": {
      "text/plain": [
       "True"
      ]
     },
     "execution_count": 77,
     "metadata": {},
     "output_type": "execute_result"
    }
   ],
   "source": [
    "#논리연산자와 비교연산자 결합\n",
    "10%2==0 and 12%3==0"
   ]
  },
  {
   "cell_type": "code",
   "execution_count": 78,
   "id": "724600d9-4bb8-4424-926a-b45b5a5e519e",
   "metadata": {},
   "outputs": [
    {
     "data": {
      "text/plain": [
       "(10, 12)"
      ]
     },
     "execution_count": 78,
     "metadata": {},
     "output_type": "execute_result"
    }
   ],
   "source": [
    "# 대입 연산자\n",
    "a = 10\n",
    "b = a+2\n",
    "a,b"
   ]
  },
  {
   "cell_type": "code",
   "execution_count": 80,
   "id": "a1b8d0d8-b1aa-4a23-9de3-308edd042f98",
   "metadata": {},
   "outputs": [
    {
     "data": {
      "text/plain": [
       "21"
      ]
     },
     "execution_count": 80,
     "metadata": {},
     "output_type": "execute_result"
    }
   ],
   "source": [
    "a = 20\n",
    "a+=1\n",
    "a"
   ]
  },
  {
   "cell_type": "markdown",
   "id": "f8ddeb5c-6cde-4356-8306-e09691383fac",
   "metadata": {},
   "source": [
    "# 문자열 str\n",
    "',\",''',''' doctstring\n"
   ]
  },
  {
   "cell_type": "code",
   "execution_count": 81,
   "id": "452cd79c-1566-4947-9f8e-9f1e625bcd5d",
   "metadata": {},
   "outputs": [
    {
     "data": {
      "text/plain": [
       "'hellopython'"
      ]
     },
     "execution_count": 81,
     "metadata": {},
     "output_type": "execute_result"
    }
   ],
   "source": [
    "a = 'hello'\n",
    "b = 'python'\n",
    "a+b\n"
   ]
  },
  {
   "cell_type": "code",
   "execution_count": 82,
   "id": "cfed2ef9-9d2e-41f7-96d2-48f35008559a",
   "metadata": {},
   "outputs": [
    {
     "data": {
      "text/plain": [
       "'****'"
      ]
     },
     "execution_count": 82,
     "metadata": {},
     "output_type": "execute_result"
    }
   ],
   "source": [
    "c = '*'\n",
    "c*4"
   ]
  },
  {
   "cell_type": "code",
   "execution_count": 84,
   "id": "83b59a9c-075f-49de-a0d0-fbac2c3a89d7",
   "metadata": {},
   "outputs": [
    {
     "data": {
      "text/plain": [
       "\"Kim's family\""
      ]
     },
     "execution_count": 84,
     "metadata": {},
     "output_type": "execute_result"
    }
   ],
   "source": [
    "d = \"Kim's family\"\n",
    "d"
   ]
  },
  {
   "cell_type": "code",
   "execution_count": 85,
   "id": "420f09aa-476f-4b84-a4fe-042b233182fa",
   "metadata": {},
   "outputs": [
    {
     "data": {
      "text/plain": [
       "True"
      ]
     },
     "execution_count": 85,
     "metadata": {},
     "output_type": "execute_result"
    }
   ],
   "source": [
    "e = '1'\n",
    "e == '1'"
   ]
  },
  {
   "cell_type": "code",
   "execution_count": 87,
   "id": "f703f976-028a-455a-93a8-8e5908d7b60c",
   "metadata": {},
   "outputs": [
    {
     "name": "stdout",
     "output_type": "stream",
     "text": [
      "2\n"
     ]
    }
   ],
   "source": [
    "#문자열은 리스트, 열거형\n",
    "a='200rad'\n",
    "print(a[0])"
   ]
  },
  {
   "cell_type": "code",
   "execution_count": 89,
   "id": "a2d6523b-dc63-44a6-85ba-8ff6fc366c45",
   "metadata": {},
   "outputs": [
    {
     "data": {
      "text/plain": [
       "'200r'"
      ]
     },
     "execution_count": 89,
     "metadata": {},
     "output_type": "execute_result"
    }
   ],
   "source": [
    "a[0:4] #범위지정시 마지막은 포함 안하는거 기억하자"
   ]
  },
  {
   "cell_type": "code",
   "execution_count": 92,
   "id": "8e7dbe89-dcdb-446f-b810-87f2aa8b04b9",
   "metadata": {},
   "outputs": [
    {
     "data": {
      "text/plain": [
       "'rad'"
      ]
     },
     "execution_count": 92,
     "metadata": {},
     "output_type": "execute_result"
    }
   ],
   "source": [
    "a[3:]"
   ]
  },
  {
   "cell_type": "code",
   "execution_count": 96,
   "id": "f4d33eb2-5ec9-42e8-ba12-501a9eb67809",
   "metadata": {},
   "outputs": [
    {
     "data": {
      "text/plain": [
       "'dar002'"
      ]
     },
     "execution_count": 96,
     "metadata": {},
     "output_type": "execute_result"
    }
   ],
   "source": [
    "a[::-1]"
   ]
  },
  {
   "cell_type": "code",
   "execution_count": 98,
   "id": "f33e3a4e-81b8-448e-a218-f213979b8e13",
   "metadata": {},
   "outputs": [
    {
     "data": {
      "text/plain": [
       "True"
      ]
     },
     "execution_count": 98,
     "metadata": {},
     "output_type": "execute_result"
    }
   ],
   "source": [
    "s = 'abc'\n",
    "a=s\n",
    "a is s"
   ]
  },
  {
   "cell_type": "code",
   "execution_count": 99,
   "id": "540b4c22-5eeb-4250-92c1-508608fa18f3",
   "metadata": {},
   "outputs": [
    {
     "data": {
      "text/plain": [
       "True"
      ]
     },
     "execution_count": 99,
     "metadata": {},
     "output_type": "execute_result"
    }
   ],
   "source": [
    "b = s[:]\n",
    "a is b"
   ]
  },
  {
   "cell_type": "code",
   "execution_count": null,
   "id": "c53cebf9-e02a-4284-85f3-04bfae594869",
   "metadata": {},
   "outputs": [],
   "source": []
  },
  {
   "cell_type": "code",
   "execution_count": null,
   "id": "18cc339f-f6ad-4e58-81bd-97573c3e2252",
   "metadata": {},
   "outputs": [],
   "source": []
  },
  {
   "cell_type": "code",
   "execution_count": null,
   "id": "e6795ce0-6771-495a-8920-a11c72d8a75e",
   "metadata": {},
   "outputs": [],
   "source": []
  },
  {
   "cell_type": "code",
   "execution_count": null,
   "id": "9cc61e6b-d7b3-42a2-a8a1-a79629e3a822",
   "metadata": {},
   "outputs": [],
   "source": []
  }
 ],
 "metadata": {
  "kernelspec": {
   "display_name": "Python 3 (ipykernel)",
   "language": "python",
   "name": "python3"
  },
  "language_info": {
   "codemirror_mode": {
    "name": "ipython",
    "version": 3
   },
   "file_extension": ".py",
   "mimetype": "text/x-python",
   "name": "python",
   "nbconvert_exporter": "python",
   "pygments_lexer": "ipython3",
   "version": "3.12.9"
  }
 },
 "nbformat": 4,
 "nbformat_minor": 5
}
